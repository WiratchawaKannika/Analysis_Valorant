{
 "cells": [
  {
   "cell_type": "code",
   "execution_count": 1,
   "id": "662785a8",
   "metadata": {},
   "outputs": [],
   "source": [
    "import os\n",
    "import numpy as np\n",
    "import pandas as pd"
   ]
  },
  {
   "cell_type": "markdown",
   "id": "5a7d91ae",
   "metadata": {},
   "source": [
    "# Import Data"
   ]
  },
  {
   "cell_type": "code",
   "execution_count": 2,
   "id": "7c7eb510",
   "metadata": {},
   "outputs": [
    {
     "name": "stdout",
     "output_type": "stream",
     "text": [
      "(795, 201)\n"
     ]
    },
    {
     "data": {
      "text/html": [
       "<div>\n",
       "<style scoped>\n",
       "    .dataframe tbody tr th:only-of-type {\n",
       "        vertical-align: middle;\n",
       "    }\n",
       "\n",
       "    .dataframe tbody tr th {\n",
       "        vertical-align: top;\n",
       "    }\n",
       "\n",
       "    .dataframe thead th {\n",
       "        text-align: right;\n",
       "    }\n",
       "</style>\n",
       "<table border=\"1\" class=\"dataframe\">\n",
       "  <thead>\n",
       "    <tr style=\"text-align: right;\">\n",
       "      <th></th>\n",
       "      <th>Unnamed: 0</th>\n",
       "      <th>round</th>\n",
       "      <th>streamer</th>\n",
       "      <th>character</th>\n",
       "      <th>pro_player</th>\n",
       "      <th>result</th>\n",
       "      <th>dead</th>\n",
       "      <th>Map</th>\n",
       "      <th>sheet</th>\n",
       "      <th>138</th>\n",
       "      <th>...</th>\n",
       "      <th>567</th>\n",
       "      <th>568</th>\n",
       "      <th>570</th>\n",
       "      <th>574</th>\n",
       "      <th>575</th>\n",
       "      <th>576</th>\n",
       "      <th>578</th>\n",
       "      <th>582</th>\n",
       "      <th>583</th>\n",
       "      <th>584</th>\n",
       "    </tr>\n",
       "  </thead>\n",
       "  <tbody>\n",
       "    <tr>\n",
       "      <th>0</th>\n",
       "      <td>0</td>\n",
       "      <td>รอบ 1</td>\n",
       "      <td>boltyanskiyy</td>\n",
       "      <td>Yoru</td>\n",
       "      <td>Pro</td>\n",
       "      <td>win</td>\n",
       "      <td>survive</td>\n",
       "      <td>HAVEN</td>\n",
       "      <td>Yoru_Pro</td>\n",
       "      <td>0</td>\n",
       "      <td>...</td>\n",
       "      <td>0</td>\n",
       "      <td>0</td>\n",
       "      <td>0</td>\n",
       "      <td>0</td>\n",
       "      <td>0</td>\n",
       "      <td>0</td>\n",
       "      <td>0</td>\n",
       "      <td>0</td>\n",
       "      <td>0</td>\n",
       "      <td>0</td>\n",
       "    </tr>\n",
       "    <tr>\n",
       "      <th>1</th>\n",
       "      <td>1</td>\n",
       "      <td>รอบ 2</td>\n",
       "      <td>boltyanskiyy</td>\n",
       "      <td>Yoru</td>\n",
       "      <td>Pro</td>\n",
       "      <td>win</td>\n",
       "      <td>survive</td>\n",
       "      <td>HAVEN</td>\n",
       "      <td>Yoru_Pro</td>\n",
       "      <td>0</td>\n",
       "      <td>...</td>\n",
       "      <td>0</td>\n",
       "      <td>0</td>\n",
       "      <td>0</td>\n",
       "      <td>0</td>\n",
       "      <td>0</td>\n",
       "      <td>0</td>\n",
       "      <td>0</td>\n",
       "      <td>0</td>\n",
       "      <td>0</td>\n",
       "      <td>0</td>\n",
       "    </tr>\n",
       "    <tr>\n",
       "      <th>2</th>\n",
       "      <td>2</td>\n",
       "      <td>รอบ 3</td>\n",
       "      <td>boltyanskiyy</td>\n",
       "      <td>Yoru</td>\n",
       "      <td>Pro</td>\n",
       "      <td>win</td>\n",
       "      <td>dead</td>\n",
       "      <td>HAVEN</td>\n",
       "      <td>Yoru_Pro</td>\n",
       "      <td>0</td>\n",
       "      <td>...</td>\n",
       "      <td>0</td>\n",
       "      <td>0</td>\n",
       "      <td>0</td>\n",
       "      <td>0</td>\n",
       "      <td>0</td>\n",
       "      <td>0</td>\n",
       "      <td>0</td>\n",
       "      <td>0</td>\n",
       "      <td>0</td>\n",
       "      <td>0</td>\n",
       "    </tr>\n",
       "    <tr>\n",
       "      <th>3</th>\n",
       "      <td>3</td>\n",
       "      <td>รอบ 4</td>\n",
       "      <td>boltyanskiyy</td>\n",
       "      <td>Yoru</td>\n",
       "      <td>Pro</td>\n",
       "      <td>win</td>\n",
       "      <td>dead</td>\n",
       "      <td>HAVEN</td>\n",
       "      <td>Yoru_Pro</td>\n",
       "      <td>0</td>\n",
       "      <td>...</td>\n",
       "      <td>0</td>\n",
       "      <td>0</td>\n",
       "      <td>0</td>\n",
       "      <td>0</td>\n",
       "      <td>0</td>\n",
       "      <td>0</td>\n",
       "      <td>0</td>\n",
       "      <td>0</td>\n",
       "      <td>0</td>\n",
       "      <td>0</td>\n",
       "    </tr>\n",
       "    <tr>\n",
       "      <th>4</th>\n",
       "      <td>4</td>\n",
       "      <td>รอบ 5</td>\n",
       "      <td>boltyanskiyy</td>\n",
       "      <td>Yoru</td>\n",
       "      <td>Pro</td>\n",
       "      <td>win</td>\n",
       "      <td>survive</td>\n",
       "      <td>HAVEN</td>\n",
       "      <td>Yoru_Pro</td>\n",
       "      <td>0</td>\n",
       "      <td>...</td>\n",
       "      <td>0</td>\n",
       "      <td>0</td>\n",
       "      <td>0</td>\n",
       "      <td>0</td>\n",
       "      <td>0</td>\n",
       "      <td>0</td>\n",
       "      <td>0</td>\n",
       "      <td>0</td>\n",
       "      <td>0</td>\n",
       "      <td>0</td>\n",
       "    </tr>\n",
       "  </tbody>\n",
       "</table>\n",
       "<p>5 rows × 201 columns</p>\n",
       "</div>"
      ],
      "text/plain": [
       "   Unnamed: 0  round       streamer character pro_player result     dead  \\\n",
       "0           0  รอบ 1   boltyanskiyy      Yoru        Pro    win  survive   \n",
       "1           1  รอบ 2   boltyanskiyy      Yoru        Pro    win  survive   \n",
       "2           2  รอบ 3   boltyanskiyy      Yoru        Pro    win     dead   \n",
       "3           3  รอบ 4   boltyanskiyy      Yoru        Pro    win     dead   \n",
       "4           4  รอบ 5   boltyanskiyy      Yoru        Pro    win  survive   \n",
       "\n",
       "     Map     sheet  138  ...  567  568  570  574  575  576  578  582  583  584  \n",
       "0  HAVEN  Yoru_Pro    0  ...    0    0    0    0    0    0    0    0    0    0  \n",
       "1  HAVEN  Yoru_Pro    0  ...    0    0    0    0    0    0    0    0    0    0  \n",
       "2  HAVEN  Yoru_Pro    0  ...    0    0    0    0    0    0    0    0    0    0  \n",
       "3  HAVEN  Yoru_Pro    0  ...    0    0    0    0    0    0    0    0    0    0  \n",
       "4  HAVEN  Yoru_Pro    0  ...    0    0    0    0    0    0    0    0    0    0  \n",
       "\n",
       "[5 rows x 201 columns]"
      ]
     },
     "execution_count": 2,
     "metadata": {},
     "output_type": "execute_result"
    }
   ],
   "source": [
    "dfAll_Stream = pd.read_csv(\"/home/kannika/Analysis_Valorant/final_output_valorant_192Feature.csv\")\n",
    "print(dfAll_Stream.shape)\n",
    "dfAll_Stream.head()"
   ]
  },
  {
   "cell_type": "markdown",
   "id": "77ae7d5f",
   "metadata": {},
   "source": [
    "# PCA ==> 20 Component"
   ]
  },
  {
   "cell_type": "code",
   "execution_count": 3,
   "id": "11e59a44",
   "metadata": {},
   "outputs": [],
   "source": [
    "import matplotlib.pyplot as plt\n",
    "from sklearn.decomposition import PCA\n",
    "from sklearn.preprocessing import StandardScaler"
   ]
  },
  {
   "cell_type": "code",
   "execution_count": 4,
   "id": "5a98abf5",
   "metadata": {},
   "outputs": [
    {
     "name": "stdout",
     "output_type": "stream",
     "text": [
      "{'Yoru_Pro': 1, 'Yoru_Normal': 2, 'Sage_Pro': 3, 'Sage_Normal': 4, 'Jett_Pro': 5, 'Jett_Normal': 6, 'Harbor_Pro': 7, 'Harbor_Normal': 8}\n"
     ]
    }
   ],
   "source": [
    "my_taget = {'Yoru_Pro': 1 , 'Yoru_Normal': 2, 'Sage_Pro': 3, 'Sage_Normal':4, 'Jett_Pro':5, 'Jett_Normal':6,\n",
    "               'Harbor_Pro':7, 'Harbor_Normal':8}\n",
    "\n",
    "# streamer_taget = {'boltyanskiyy': 1 , 'prodyge': 2, 'reazrizz_sage': 3, 'Katheryn':4, 'axa_zinatraa':5, 'ilyNeris':6,\n",
    "#                        'Ludilue':7, 'bmgx93':8}\n",
    "print(my_taget)\n",
    "#print(streamer_taget)\n",
    "\n",
    "## Map \n",
    "dfAll_Stream['taget'] = dfAll_Stream['sheet'].replace(my_taget)\n",
    "#dfAll_Stream['streamer_taget'] = dfAll_Stream['streamer'].replace(streamer_taget)"
   ]
  },
  {
   "cell_type": "code",
   "execution_count": 5,
   "id": "7e15f395",
   "metadata": {},
   "outputs": [
    {
     "data": {
      "text/html": [
       "<div>\n",
       "<style scoped>\n",
       "    .dataframe tbody tr th:only-of-type {\n",
       "        vertical-align: middle;\n",
       "    }\n",
       "\n",
       "    .dataframe tbody tr th {\n",
       "        vertical-align: top;\n",
       "    }\n",
       "\n",
       "    .dataframe thead th {\n",
       "        text-align: right;\n",
       "    }\n",
       "</style>\n",
       "<table border=\"1\" class=\"dataframe\">\n",
       "  <thead>\n",
       "    <tr style=\"text-align: right;\">\n",
       "      <th></th>\n",
       "      <th>Unnamed: 0</th>\n",
       "      <th>round</th>\n",
       "      <th>streamer</th>\n",
       "      <th>character</th>\n",
       "      <th>pro_player</th>\n",
       "      <th>result</th>\n",
       "      <th>dead</th>\n",
       "      <th>Map</th>\n",
       "      <th>sheet</th>\n",
       "      <th>138</th>\n",
       "      <th>...</th>\n",
       "      <th>568</th>\n",
       "      <th>570</th>\n",
       "      <th>574</th>\n",
       "      <th>575</th>\n",
       "      <th>576</th>\n",
       "      <th>578</th>\n",
       "      <th>582</th>\n",
       "      <th>583</th>\n",
       "      <th>584</th>\n",
       "      <th>taget</th>\n",
       "    </tr>\n",
       "  </thead>\n",
       "  <tbody>\n",
       "    <tr>\n",
       "      <th>0</th>\n",
       "      <td>0</td>\n",
       "      <td>รอบ 1</td>\n",
       "      <td>boltyanskiyy</td>\n",
       "      <td>Yoru</td>\n",
       "      <td>Pro</td>\n",
       "      <td>win</td>\n",
       "      <td>survive</td>\n",
       "      <td>HAVEN</td>\n",
       "      <td>Yoru_Pro</td>\n",
       "      <td>0</td>\n",
       "      <td>...</td>\n",
       "      <td>0</td>\n",
       "      <td>0</td>\n",
       "      <td>0</td>\n",
       "      <td>0</td>\n",
       "      <td>0</td>\n",
       "      <td>0</td>\n",
       "      <td>0</td>\n",
       "      <td>0</td>\n",
       "      <td>0</td>\n",
       "      <td>1</td>\n",
       "    </tr>\n",
       "    <tr>\n",
       "      <th>1</th>\n",
       "      <td>1</td>\n",
       "      <td>รอบ 2</td>\n",
       "      <td>boltyanskiyy</td>\n",
       "      <td>Yoru</td>\n",
       "      <td>Pro</td>\n",
       "      <td>win</td>\n",
       "      <td>survive</td>\n",
       "      <td>HAVEN</td>\n",
       "      <td>Yoru_Pro</td>\n",
       "      <td>0</td>\n",
       "      <td>...</td>\n",
       "      <td>0</td>\n",
       "      <td>0</td>\n",
       "      <td>0</td>\n",
       "      <td>0</td>\n",
       "      <td>0</td>\n",
       "      <td>0</td>\n",
       "      <td>0</td>\n",
       "      <td>0</td>\n",
       "      <td>0</td>\n",
       "      <td>1</td>\n",
       "    </tr>\n",
       "    <tr>\n",
       "      <th>2</th>\n",
       "      <td>2</td>\n",
       "      <td>รอบ 3</td>\n",
       "      <td>boltyanskiyy</td>\n",
       "      <td>Yoru</td>\n",
       "      <td>Pro</td>\n",
       "      <td>win</td>\n",
       "      <td>dead</td>\n",
       "      <td>HAVEN</td>\n",
       "      <td>Yoru_Pro</td>\n",
       "      <td>0</td>\n",
       "      <td>...</td>\n",
       "      <td>0</td>\n",
       "      <td>0</td>\n",
       "      <td>0</td>\n",
       "      <td>0</td>\n",
       "      <td>0</td>\n",
       "      <td>0</td>\n",
       "      <td>0</td>\n",
       "      <td>0</td>\n",
       "      <td>0</td>\n",
       "      <td>1</td>\n",
       "    </tr>\n",
       "    <tr>\n",
       "      <th>3</th>\n",
       "      <td>3</td>\n",
       "      <td>รอบ 4</td>\n",
       "      <td>boltyanskiyy</td>\n",
       "      <td>Yoru</td>\n",
       "      <td>Pro</td>\n",
       "      <td>win</td>\n",
       "      <td>dead</td>\n",
       "      <td>HAVEN</td>\n",
       "      <td>Yoru_Pro</td>\n",
       "      <td>0</td>\n",
       "      <td>...</td>\n",
       "      <td>0</td>\n",
       "      <td>0</td>\n",
       "      <td>0</td>\n",
       "      <td>0</td>\n",
       "      <td>0</td>\n",
       "      <td>0</td>\n",
       "      <td>0</td>\n",
       "      <td>0</td>\n",
       "      <td>0</td>\n",
       "      <td>1</td>\n",
       "    </tr>\n",
       "    <tr>\n",
       "      <th>4</th>\n",
       "      <td>4</td>\n",
       "      <td>รอบ 5</td>\n",
       "      <td>boltyanskiyy</td>\n",
       "      <td>Yoru</td>\n",
       "      <td>Pro</td>\n",
       "      <td>win</td>\n",
       "      <td>survive</td>\n",
       "      <td>HAVEN</td>\n",
       "      <td>Yoru_Pro</td>\n",
       "      <td>0</td>\n",
       "      <td>...</td>\n",
       "      <td>0</td>\n",
       "      <td>0</td>\n",
       "      <td>0</td>\n",
       "      <td>0</td>\n",
       "      <td>0</td>\n",
       "      <td>0</td>\n",
       "      <td>0</td>\n",
       "      <td>0</td>\n",
       "      <td>0</td>\n",
       "      <td>1</td>\n",
       "    </tr>\n",
       "    <tr>\n",
       "      <th>...</th>\n",
       "      <td>...</td>\n",
       "      <td>...</td>\n",
       "      <td>...</td>\n",
       "      <td>...</td>\n",
       "      <td>...</td>\n",
       "      <td>...</td>\n",
       "      <td>...</td>\n",
       "      <td>...</td>\n",
       "      <td>...</td>\n",
       "      <td>...</td>\n",
       "      <td>...</td>\n",
       "      <td>...</td>\n",
       "      <td>...</td>\n",
       "      <td>...</td>\n",
       "      <td>...</td>\n",
       "      <td>...</td>\n",
       "      <td>...</td>\n",
       "      <td>...</td>\n",
       "      <td>...</td>\n",
       "      <td>...</td>\n",
       "      <td>...</td>\n",
       "    </tr>\n",
       "    <tr>\n",
       "      <th>790</th>\n",
       "      <td>790</td>\n",
       "      <td>20</td>\n",
       "      <td>Karretto</td>\n",
       "      <td>Harbor</td>\n",
       "      <td>Normal</td>\n",
       "      <td>win</td>\n",
       "      <td>dead</td>\n",
       "      <td>Split</td>\n",
       "      <td>Harbor_Normal</td>\n",
       "      <td>0</td>\n",
       "      <td>...</td>\n",
       "      <td>0</td>\n",
       "      <td>0</td>\n",
       "      <td>0</td>\n",
       "      <td>0</td>\n",
       "      <td>0</td>\n",
       "      <td>0</td>\n",
       "      <td>0</td>\n",
       "      <td>0</td>\n",
       "      <td>0</td>\n",
       "      <td>8</td>\n",
       "    </tr>\n",
       "    <tr>\n",
       "      <th>791</th>\n",
       "      <td>791</td>\n",
       "      <td>21</td>\n",
       "      <td>Karretto</td>\n",
       "      <td>Harbor</td>\n",
       "      <td>Normal</td>\n",
       "      <td>lose</td>\n",
       "      <td>dead</td>\n",
       "      <td>Split</td>\n",
       "      <td>Harbor_Normal</td>\n",
       "      <td>0</td>\n",
       "      <td>...</td>\n",
       "      <td>0</td>\n",
       "      <td>0</td>\n",
       "      <td>0</td>\n",
       "      <td>0</td>\n",
       "      <td>0</td>\n",
       "      <td>0</td>\n",
       "      <td>0</td>\n",
       "      <td>0</td>\n",
       "      <td>0</td>\n",
       "      <td>8</td>\n",
       "    </tr>\n",
       "    <tr>\n",
       "      <th>792</th>\n",
       "      <td>792</td>\n",
       "      <td>22</td>\n",
       "      <td>Karretto</td>\n",
       "      <td>Harbor</td>\n",
       "      <td>Normal</td>\n",
       "      <td>lose</td>\n",
       "      <td>dead</td>\n",
       "      <td>Split</td>\n",
       "      <td>Harbor_Normal</td>\n",
       "      <td>0</td>\n",
       "      <td>...</td>\n",
       "      <td>0</td>\n",
       "      <td>0</td>\n",
       "      <td>0</td>\n",
       "      <td>0</td>\n",
       "      <td>0</td>\n",
       "      <td>0</td>\n",
       "      <td>0</td>\n",
       "      <td>0</td>\n",
       "      <td>0</td>\n",
       "      <td>8</td>\n",
       "    </tr>\n",
       "    <tr>\n",
       "      <th>793</th>\n",
       "      <td>793</td>\n",
       "      <td>23</td>\n",
       "      <td>Karretto</td>\n",
       "      <td>Harbor</td>\n",
       "      <td>Normal</td>\n",
       "      <td>win</td>\n",
       "      <td>survive</td>\n",
       "      <td>Split</td>\n",
       "      <td>Harbor_Normal</td>\n",
       "      <td>0</td>\n",
       "      <td>...</td>\n",
       "      <td>0</td>\n",
       "      <td>0</td>\n",
       "      <td>0</td>\n",
       "      <td>0</td>\n",
       "      <td>0</td>\n",
       "      <td>0</td>\n",
       "      <td>0</td>\n",
       "      <td>0</td>\n",
       "      <td>0</td>\n",
       "      <td>8</td>\n",
       "    </tr>\n",
       "    <tr>\n",
       "      <th>794</th>\n",
       "      <td>794</td>\n",
       "      <td>24</td>\n",
       "      <td>Karretto</td>\n",
       "      <td>Harbor</td>\n",
       "      <td>Normal</td>\n",
       "      <td>win</td>\n",
       "      <td>dead</td>\n",
       "      <td>Split</td>\n",
       "      <td>Harbor_Normal</td>\n",
       "      <td>0</td>\n",
       "      <td>...</td>\n",
       "      <td>0</td>\n",
       "      <td>0</td>\n",
       "      <td>0</td>\n",
       "      <td>0</td>\n",
       "      <td>0</td>\n",
       "      <td>0</td>\n",
       "      <td>0</td>\n",
       "      <td>0</td>\n",
       "      <td>0</td>\n",
       "      <td>8</td>\n",
       "    </tr>\n",
       "  </tbody>\n",
       "</table>\n",
       "<p>795 rows × 202 columns</p>\n",
       "</div>"
      ],
      "text/plain": [
       "     Unnamed: 0  round       streamer character pro_player result     dead  \\\n",
       "0             0  รอบ 1   boltyanskiyy      Yoru        Pro    win  survive   \n",
       "1             1  รอบ 2   boltyanskiyy      Yoru        Pro    win  survive   \n",
       "2             2  รอบ 3   boltyanskiyy      Yoru        Pro    win     dead   \n",
       "3             3  รอบ 4   boltyanskiyy      Yoru        Pro    win     dead   \n",
       "4             4  รอบ 5   boltyanskiyy      Yoru        Pro    win  survive   \n",
       "..          ...    ...            ...       ...        ...    ...      ...   \n",
       "790         790     20       Karretto    Harbor     Normal    win     dead   \n",
       "791         791     21       Karretto    Harbor     Normal   lose     dead   \n",
       "792         792     22       Karretto    Harbor     Normal   lose     dead   \n",
       "793         793     23       Karretto    Harbor     Normal    win  survive   \n",
       "794         794     24       Karretto    Harbor     Normal    win     dead   \n",
       "\n",
       "       Map          sheet  138  ...  568  570  574  575  576  578  582  583  \\\n",
       "0    HAVEN       Yoru_Pro    0  ...    0    0    0    0    0    0    0    0   \n",
       "1    HAVEN       Yoru_Pro    0  ...    0    0    0    0    0    0    0    0   \n",
       "2    HAVEN       Yoru_Pro    0  ...    0    0    0    0    0    0    0    0   \n",
       "3    HAVEN       Yoru_Pro    0  ...    0    0    0    0    0    0    0    0   \n",
       "4    HAVEN       Yoru_Pro    0  ...    0    0    0    0    0    0    0    0   \n",
       "..     ...            ...  ...  ...  ...  ...  ...  ...  ...  ...  ...  ...   \n",
       "790  Split  Harbor_Normal    0  ...    0    0    0    0    0    0    0    0   \n",
       "791  Split  Harbor_Normal    0  ...    0    0    0    0    0    0    0    0   \n",
       "792  Split  Harbor_Normal    0  ...    0    0    0    0    0    0    0    0   \n",
       "793  Split  Harbor_Normal    0  ...    0    0    0    0    0    0    0    0   \n",
       "794  Split  Harbor_Normal    0  ...    0    0    0    0    0    0    0    0   \n",
       "\n",
       "     584  taget  \n",
       "0      0      1  \n",
       "1      0      1  \n",
       "2      0      1  \n",
       "3      0      1  \n",
       "4      0      1  \n",
       "..   ...    ...  \n",
       "790    0      8  \n",
       "791    0      8  \n",
       "792    0      8  \n",
       "793    0      8  \n",
       "794    0      8  \n",
       "\n",
       "[795 rows x 202 columns]"
      ]
     },
     "execution_count": 5,
     "metadata": {},
     "output_type": "execute_result"
    }
   ],
   "source": [
    "dfAll_Stream"
   ]
  },
  {
   "cell_type": "code",
   "execution_count": 6,
   "id": "4a4349b7",
   "metadata": {},
   "outputs": [
    {
     "name": "stdout",
     "output_type": "stream",
     "text": [
      "taget: [1, 2, 3, 4, 5, 6, 7, 8]\n"
     ]
    }
   ],
   "source": [
    "print(\"taget:\", list(set(dfAll_Stream[\"taget\"])))\n",
    "#print(\"Streamer:\", list(set(dfAll_Stream[\"streamer_taget\"])))"
   ]
  },
  {
   "cell_type": "code",
   "execution_count": 10,
   "id": "90c384eb",
   "metadata": {},
   "outputs": [
    {
     "name": "stdout",
     "output_type": "stream",
     "text": [
      "(795, 192)\n",
      "(795,)\n"
     ]
    }
   ],
   "source": [
    "X = dfAll_Stream.iloc[:,9:201]\n",
    "y = dfAll_Stream.iloc[:,201]\n",
    "\n",
    "print(X.shape)\n",
    "print(y.shape)"
   ]
  },
  {
   "cell_type": "code",
   "execution_count": 11,
   "id": "6343a654",
   "metadata": {},
   "outputs": [
    {
     "data": {
      "text/html": [
       "<div>\n",
       "<style scoped>\n",
       "    .dataframe tbody tr th:only-of-type {\n",
       "        vertical-align: middle;\n",
       "    }\n",
       "\n",
       "    .dataframe tbody tr th {\n",
       "        vertical-align: top;\n",
       "    }\n",
       "\n",
       "    .dataframe thead th {\n",
       "        text-align: right;\n",
       "    }\n",
       "</style>\n",
       "<table border=\"1\" class=\"dataframe\">\n",
       "  <thead>\n",
       "    <tr style=\"text-align: right;\">\n",
       "      <th></th>\n",
       "      <th>138</th>\n",
       "      <th>142</th>\n",
       "      <th>143</th>\n",
       "      <th>144</th>\n",
       "      <th>146</th>\n",
       "      <th>150</th>\n",
       "      <th>151</th>\n",
       "      <th>152</th>\n",
       "      <th>154</th>\n",
       "      <th>158</th>\n",
       "      <th>...</th>\n",
       "      <th>567</th>\n",
       "      <th>568</th>\n",
       "      <th>570</th>\n",
       "      <th>574</th>\n",
       "      <th>575</th>\n",
       "      <th>576</th>\n",
       "      <th>578</th>\n",
       "      <th>582</th>\n",
       "      <th>583</th>\n",
       "      <th>584</th>\n",
       "    </tr>\n",
       "  </thead>\n",
       "  <tbody>\n",
       "    <tr>\n",
       "      <th>0</th>\n",
       "      <td>0</td>\n",
       "      <td>0</td>\n",
       "      <td>0</td>\n",
       "      <td>0</td>\n",
       "      <td>0</td>\n",
       "      <td>0</td>\n",
       "      <td>0</td>\n",
       "      <td>0</td>\n",
       "      <td>0</td>\n",
       "      <td>0</td>\n",
       "      <td>...</td>\n",
       "      <td>0</td>\n",
       "      <td>0</td>\n",
       "      <td>0</td>\n",
       "      <td>0</td>\n",
       "      <td>0</td>\n",
       "      <td>0</td>\n",
       "      <td>0</td>\n",
       "      <td>0</td>\n",
       "      <td>0</td>\n",
       "      <td>0</td>\n",
       "    </tr>\n",
       "    <tr>\n",
       "      <th>1</th>\n",
       "      <td>0</td>\n",
       "      <td>0</td>\n",
       "      <td>0</td>\n",
       "      <td>0</td>\n",
       "      <td>0</td>\n",
       "      <td>0</td>\n",
       "      <td>0</td>\n",
       "      <td>0</td>\n",
       "      <td>0</td>\n",
       "      <td>0</td>\n",
       "      <td>...</td>\n",
       "      <td>0</td>\n",
       "      <td>0</td>\n",
       "      <td>0</td>\n",
       "      <td>0</td>\n",
       "      <td>0</td>\n",
       "      <td>0</td>\n",
       "      <td>0</td>\n",
       "      <td>0</td>\n",
       "      <td>0</td>\n",
       "      <td>0</td>\n",
       "    </tr>\n",
       "    <tr>\n",
       "      <th>2</th>\n",
       "      <td>0</td>\n",
       "      <td>0</td>\n",
       "      <td>0</td>\n",
       "      <td>0</td>\n",
       "      <td>0</td>\n",
       "      <td>0</td>\n",
       "      <td>0</td>\n",
       "      <td>0</td>\n",
       "      <td>0</td>\n",
       "      <td>0</td>\n",
       "      <td>...</td>\n",
       "      <td>0</td>\n",
       "      <td>0</td>\n",
       "      <td>0</td>\n",
       "      <td>0</td>\n",
       "      <td>0</td>\n",
       "      <td>0</td>\n",
       "      <td>0</td>\n",
       "      <td>0</td>\n",
       "      <td>0</td>\n",
       "      <td>0</td>\n",
       "    </tr>\n",
       "    <tr>\n",
       "      <th>3</th>\n",
       "      <td>0</td>\n",
       "      <td>0</td>\n",
       "      <td>0</td>\n",
       "      <td>0</td>\n",
       "      <td>0</td>\n",
       "      <td>0</td>\n",
       "      <td>0</td>\n",
       "      <td>0</td>\n",
       "      <td>0</td>\n",
       "      <td>0</td>\n",
       "      <td>...</td>\n",
       "      <td>0</td>\n",
       "      <td>0</td>\n",
       "      <td>0</td>\n",
       "      <td>0</td>\n",
       "      <td>0</td>\n",
       "      <td>0</td>\n",
       "      <td>0</td>\n",
       "      <td>0</td>\n",
       "      <td>0</td>\n",
       "      <td>0</td>\n",
       "    </tr>\n",
       "    <tr>\n",
       "      <th>4</th>\n",
       "      <td>0</td>\n",
       "      <td>0</td>\n",
       "      <td>0</td>\n",
       "      <td>0</td>\n",
       "      <td>0</td>\n",
       "      <td>0</td>\n",
       "      <td>0</td>\n",
       "      <td>0</td>\n",
       "      <td>0</td>\n",
       "      <td>0</td>\n",
       "      <td>...</td>\n",
       "      <td>0</td>\n",
       "      <td>0</td>\n",
       "      <td>0</td>\n",
       "      <td>0</td>\n",
       "      <td>0</td>\n",
       "      <td>0</td>\n",
       "      <td>0</td>\n",
       "      <td>0</td>\n",
       "      <td>0</td>\n",
       "      <td>0</td>\n",
       "    </tr>\n",
       "    <tr>\n",
       "      <th>...</th>\n",
       "      <td>...</td>\n",
       "      <td>...</td>\n",
       "      <td>...</td>\n",
       "      <td>...</td>\n",
       "      <td>...</td>\n",
       "      <td>...</td>\n",
       "      <td>...</td>\n",
       "      <td>...</td>\n",
       "      <td>...</td>\n",
       "      <td>...</td>\n",
       "      <td>...</td>\n",
       "      <td>...</td>\n",
       "      <td>...</td>\n",
       "      <td>...</td>\n",
       "      <td>...</td>\n",
       "      <td>...</td>\n",
       "      <td>...</td>\n",
       "      <td>...</td>\n",
       "      <td>...</td>\n",
       "      <td>...</td>\n",
       "      <td>...</td>\n",
       "    </tr>\n",
       "    <tr>\n",
       "      <th>790</th>\n",
       "      <td>0</td>\n",
       "      <td>0</td>\n",
       "      <td>0</td>\n",
       "      <td>0</td>\n",
       "      <td>0</td>\n",
       "      <td>0</td>\n",
       "      <td>0</td>\n",
       "      <td>0</td>\n",
       "      <td>0</td>\n",
       "      <td>0</td>\n",
       "      <td>...</td>\n",
       "      <td>0</td>\n",
       "      <td>0</td>\n",
       "      <td>0</td>\n",
       "      <td>0</td>\n",
       "      <td>0</td>\n",
       "      <td>0</td>\n",
       "      <td>0</td>\n",
       "      <td>0</td>\n",
       "      <td>0</td>\n",
       "      <td>0</td>\n",
       "    </tr>\n",
       "    <tr>\n",
       "      <th>791</th>\n",
       "      <td>0</td>\n",
       "      <td>0</td>\n",
       "      <td>0</td>\n",
       "      <td>0</td>\n",
       "      <td>0</td>\n",
       "      <td>0</td>\n",
       "      <td>0</td>\n",
       "      <td>0</td>\n",
       "      <td>0</td>\n",
       "      <td>0</td>\n",
       "      <td>...</td>\n",
       "      <td>0</td>\n",
       "      <td>0</td>\n",
       "      <td>0</td>\n",
       "      <td>0</td>\n",
       "      <td>0</td>\n",
       "      <td>0</td>\n",
       "      <td>0</td>\n",
       "      <td>0</td>\n",
       "      <td>0</td>\n",
       "      <td>0</td>\n",
       "    </tr>\n",
       "    <tr>\n",
       "      <th>792</th>\n",
       "      <td>0</td>\n",
       "      <td>0</td>\n",
       "      <td>0</td>\n",
       "      <td>0</td>\n",
       "      <td>0</td>\n",
       "      <td>0</td>\n",
       "      <td>0</td>\n",
       "      <td>0</td>\n",
       "      <td>0</td>\n",
       "      <td>0</td>\n",
       "      <td>...</td>\n",
       "      <td>0</td>\n",
       "      <td>0</td>\n",
       "      <td>0</td>\n",
       "      <td>0</td>\n",
       "      <td>0</td>\n",
       "      <td>0</td>\n",
       "      <td>0</td>\n",
       "      <td>0</td>\n",
       "      <td>0</td>\n",
       "      <td>0</td>\n",
       "    </tr>\n",
       "    <tr>\n",
       "      <th>793</th>\n",
       "      <td>0</td>\n",
       "      <td>0</td>\n",
       "      <td>0</td>\n",
       "      <td>0</td>\n",
       "      <td>0</td>\n",
       "      <td>0</td>\n",
       "      <td>0</td>\n",
       "      <td>0</td>\n",
       "      <td>0</td>\n",
       "      <td>0</td>\n",
       "      <td>...</td>\n",
       "      <td>0</td>\n",
       "      <td>0</td>\n",
       "      <td>0</td>\n",
       "      <td>0</td>\n",
       "      <td>0</td>\n",
       "      <td>0</td>\n",
       "      <td>0</td>\n",
       "      <td>0</td>\n",
       "      <td>0</td>\n",
       "      <td>0</td>\n",
       "    </tr>\n",
       "    <tr>\n",
       "      <th>794</th>\n",
       "      <td>0</td>\n",
       "      <td>0</td>\n",
       "      <td>0</td>\n",
       "      <td>0</td>\n",
       "      <td>0</td>\n",
       "      <td>0</td>\n",
       "      <td>0</td>\n",
       "      <td>0</td>\n",
       "      <td>0</td>\n",
       "      <td>0</td>\n",
       "      <td>...</td>\n",
       "      <td>0</td>\n",
       "      <td>0</td>\n",
       "      <td>0</td>\n",
       "      <td>0</td>\n",
       "      <td>0</td>\n",
       "      <td>0</td>\n",
       "      <td>0</td>\n",
       "      <td>0</td>\n",
       "      <td>0</td>\n",
       "      <td>0</td>\n",
       "    </tr>\n",
       "  </tbody>\n",
       "</table>\n",
       "<p>795 rows × 192 columns</p>\n",
       "</div>"
      ],
      "text/plain": [
       "     138  142  143  144  146  150  151  152  154  158  ...  567  568  570  \\\n",
       "0      0    0    0    0    0    0    0    0    0    0  ...    0    0    0   \n",
       "1      0    0    0    0    0    0    0    0    0    0  ...    0    0    0   \n",
       "2      0    0    0    0    0    0    0    0    0    0  ...    0    0    0   \n",
       "3      0    0    0    0    0    0    0    0    0    0  ...    0    0    0   \n",
       "4      0    0    0    0    0    0    0    0    0    0  ...    0    0    0   \n",
       "..   ...  ...  ...  ...  ...  ...  ...  ...  ...  ...  ...  ...  ...  ...   \n",
       "790    0    0    0    0    0    0    0    0    0    0  ...    0    0    0   \n",
       "791    0    0    0    0    0    0    0    0    0    0  ...    0    0    0   \n",
       "792    0    0    0    0    0    0    0    0    0    0  ...    0    0    0   \n",
       "793    0    0    0    0    0    0    0    0    0    0  ...    0    0    0   \n",
       "794    0    0    0    0    0    0    0    0    0    0  ...    0    0    0   \n",
       "\n",
       "     574  575  576  578  582  583  584  \n",
       "0      0    0    0    0    0    0    0  \n",
       "1      0    0    0    0    0    0    0  \n",
       "2      0    0    0    0    0    0    0  \n",
       "3      0    0    0    0    0    0    0  \n",
       "4      0    0    0    0    0    0    0  \n",
       "..   ...  ...  ...  ...  ...  ...  ...  \n",
       "790    0    0    0    0    0    0    0  \n",
       "791    0    0    0    0    0    0    0  \n",
       "792    0    0    0    0    0    0    0  \n",
       "793    0    0    0    0    0    0    0  \n",
       "794    0    0    0    0    0    0    0  \n",
       "\n",
       "[795 rows x 192 columns]"
      ]
     },
     "execution_count": 11,
     "metadata": {},
     "output_type": "execute_result"
    }
   ],
   "source": [
    "X"
   ]
  },
  {
   "cell_type": "code",
   "execution_count": 12,
   "id": "1b42f972",
   "metadata": {},
   "outputs": [
    {
     "data": {
      "text/plain": [
       "0      1\n",
       "1      1\n",
       "2      1\n",
       "3      1\n",
       "4      1\n",
       "      ..\n",
       "790    8\n",
       "791    8\n",
       "792    8\n",
       "793    8\n",
       "794    8\n",
       "Name: taget, Length: 795, dtype: int64"
      ]
     },
     "execution_count": 12,
     "metadata": {},
     "output_type": "execute_result"
    }
   ],
   "source": [
    "y"
   ]
  },
  {
   "cell_type": "code",
   "execution_count": 53,
   "id": "e0524b83",
   "metadata": {},
   "outputs": [
    {
     "name": "stdout",
     "output_type": "stream",
     "text": [
      "Shape before PCA:  (795, 192)\n",
      "Shape after PCA:  (795, 11)\n",
      "Cumulative variance explained by 2 principal components: 83.81%\n"
     ]
    }
   ],
   "source": [
    "# Dimention Reduction\n",
    "x_scaled = StandardScaler().fit_transform(X)\n",
    "pca = PCA(n_components=11)\n",
    "pca_features = pca.fit_transform(x_scaled)\n",
    " \n",
    "# Show PCA characteristics\n",
    "print('Shape before PCA: ', x_scaled.shape)\n",
    "print('Shape after PCA: ', pca_features.shape)\n",
    "\n",
    "print ('Cumulative variance explained by 2 principal components: {:.2%}'.format(np.sum(pca.explained_variance_ratio_)))"
   ]
  },
  {
   "cell_type": "code",
   "execution_count": 54,
   "id": "baa3b30c",
   "metadata": {},
   "outputs": [
    {
     "name": "stdout",
     "output_type": "stream",
     "text": [
      "(795, 12)\n"
     ]
    },
    {
     "data": {
      "text/html": [
       "<div>\n",
       "<style scoped>\n",
       "    .dataframe tbody tr th:only-of-type {\n",
       "        vertical-align: middle;\n",
       "    }\n",
       "\n",
       "    .dataframe tbody tr th {\n",
       "        vertical-align: top;\n",
       "    }\n",
       "\n",
       "    .dataframe thead th {\n",
       "        text-align: right;\n",
       "    }\n",
       "</style>\n",
       "<table border=\"1\" class=\"dataframe\">\n",
       "  <thead>\n",
       "    <tr style=\"text-align: right;\">\n",
       "      <th></th>\n",
       "      <th>PCA1</th>\n",
       "      <th>PCA2</th>\n",
       "      <th>PCA3</th>\n",
       "      <th>PCA4</th>\n",
       "      <th>PCA5</th>\n",
       "      <th>PCA6</th>\n",
       "      <th>PCA7</th>\n",
       "      <th>PCA8</th>\n",
       "      <th>PCA9</th>\n",
       "      <th>PCA10</th>\n",
       "      <th>PCA11</th>\n",
       "      <th>target</th>\n",
       "    </tr>\n",
       "  </thead>\n",
       "  <tbody>\n",
       "    <tr>\n",
       "      <th>0</th>\n",
       "      <td>-0.430585</td>\n",
       "      <td>0.318132</td>\n",
       "      <td>-0.492875</td>\n",
       "      <td>0.149383</td>\n",
       "      <td>-0.103563</td>\n",
       "      <td>-0.295013</td>\n",
       "      <td>-0.207814</td>\n",
       "      <td>-0.194265</td>\n",
       "      <td>-0.234416</td>\n",
       "      <td>-0.471234</td>\n",
       "      <td>0.175627</td>\n",
       "      <td>Yoru_Pro</td>\n",
       "    </tr>\n",
       "    <tr>\n",
       "      <th>1</th>\n",
       "      <td>-0.522199</td>\n",
       "      <td>0.136863</td>\n",
       "      <td>-0.288334</td>\n",
       "      <td>0.430592</td>\n",
       "      <td>-0.098536</td>\n",
       "      <td>0.169623</td>\n",
       "      <td>-0.252915</td>\n",
       "      <td>-0.712300</td>\n",
       "      <td>0.847338</td>\n",
       "      <td>0.752476</td>\n",
       "      <td>-0.405860</td>\n",
       "      <td>Yoru_Pro</td>\n",
       "    </tr>\n",
       "    <tr>\n",
       "      <th>2</th>\n",
       "      <td>-0.607993</td>\n",
       "      <td>0.375150</td>\n",
       "      <td>-0.705784</td>\n",
       "      <td>0.280405</td>\n",
       "      <td>-0.589046</td>\n",
       "      <td>0.369480</td>\n",
       "      <td>-0.419427</td>\n",
       "      <td>-0.243146</td>\n",
       "      <td>0.595988</td>\n",
       "      <td>0.085801</td>\n",
       "      <td>-0.911190</td>\n",
       "      <td>Yoru_Pro</td>\n",
       "    </tr>\n",
       "    <tr>\n",
       "      <th>3</th>\n",
       "      <td>-0.577988</td>\n",
       "      <td>-0.111179</td>\n",
       "      <td>-0.162975</td>\n",
       "      <td>-0.340042</td>\n",
       "      <td>0.159796</td>\n",
       "      <td>-0.709727</td>\n",
       "      <td>1.887231</td>\n",
       "      <td>1.797270</td>\n",
       "      <td>-0.758954</td>\n",
       "      <td>-0.100722</td>\n",
       "      <td>-1.019294</td>\n",
       "      <td>Yoru_Pro</td>\n",
       "    </tr>\n",
       "    <tr>\n",
       "      <th>4</th>\n",
       "      <td>-0.412371</td>\n",
       "      <td>0.265295</td>\n",
       "      <td>-0.428907</td>\n",
       "      <td>0.201666</td>\n",
       "      <td>-0.007235</td>\n",
       "      <td>-0.248806</td>\n",
       "      <td>-0.206673</td>\n",
       "      <td>-0.183275</td>\n",
       "      <td>-0.172382</td>\n",
       "      <td>-0.412713</td>\n",
       "      <td>0.153102</td>\n",
       "      <td>Yoru_Pro</td>\n",
       "    </tr>\n",
       "    <tr>\n",
       "      <th>...</th>\n",
       "      <td>...</td>\n",
       "      <td>...</td>\n",
       "      <td>...</td>\n",
       "      <td>...</td>\n",
       "      <td>...</td>\n",
       "      <td>...</td>\n",
       "      <td>...</td>\n",
       "      <td>...</td>\n",
       "      <td>...</td>\n",
       "      <td>...</td>\n",
       "      <td>...</td>\n",
       "      <td>...</td>\n",
       "    </tr>\n",
       "    <tr>\n",
       "      <th>790</th>\n",
       "      <td>-0.694329</td>\n",
       "      <td>0.167982</td>\n",
       "      <td>-0.598856</td>\n",
       "      <td>0.672847</td>\n",
       "      <td>-0.592887</td>\n",
       "      <td>1.265006</td>\n",
       "      <td>-0.625336</td>\n",
       "      <td>-0.237078</td>\n",
       "      <td>1.736561</td>\n",
       "      <td>0.935443</td>\n",
       "      <td>-2.110635</td>\n",
       "      <td>Harbor_Normal</td>\n",
       "    </tr>\n",
       "    <tr>\n",
       "      <th>791</th>\n",
       "      <td>-0.193798</td>\n",
       "      <td>-0.368750</td>\n",
       "      <td>0.338704</td>\n",
       "      <td>0.829073</td>\n",
       "      <td>1.148705</td>\n",
       "      <td>0.305673</td>\n",
       "      <td>-0.192983</td>\n",
       "      <td>-0.051400</td>\n",
       "      <td>0.572021</td>\n",
       "      <td>0.289543</td>\n",
       "      <td>-0.117206</td>\n",
       "      <td>Harbor_Normal</td>\n",
       "    </tr>\n",
       "    <tr>\n",
       "      <th>792</th>\n",
       "      <td>-0.425849</td>\n",
       "      <td>-0.153221</td>\n",
       "      <td>-0.066108</td>\n",
       "      <td>0.803244</td>\n",
       "      <td>0.374237</td>\n",
       "      <td>0.831546</td>\n",
       "      <td>-0.408018</td>\n",
       "      <td>-0.133249</td>\n",
       "      <td>1.216325</td>\n",
       "      <td>0.671014</td>\n",
       "      <td>-1.136446</td>\n",
       "      <td>Harbor_Normal</td>\n",
       "    </tr>\n",
       "    <tr>\n",
       "      <th>793</th>\n",
       "      <td>-0.400278</td>\n",
       "      <td>-0.187648</td>\n",
       "      <td>0.153494</td>\n",
       "      <td>0.107141</td>\n",
       "      <td>0.614955</td>\n",
       "      <td>-0.656020</td>\n",
       "      <td>1.007361</td>\n",
       "      <td>0.343338</td>\n",
       "      <td>-0.183301</td>\n",
       "      <td>0.439219</td>\n",
       "      <td>0.060971</td>\n",
       "      <td>Harbor_Normal</td>\n",
       "    </tr>\n",
       "    <tr>\n",
       "      <th>794</th>\n",
       "      <td>-0.303084</td>\n",
       "      <td>-0.051728</td>\n",
       "      <td>-0.045101</td>\n",
       "      <td>0.515370</td>\n",
       "      <td>0.570735</td>\n",
       "      <td>0.028433</td>\n",
       "      <td>-0.199828</td>\n",
       "      <td>-0.117338</td>\n",
       "      <td>0.199820</td>\n",
       "      <td>-0.061585</td>\n",
       "      <td>0.017948</td>\n",
       "      <td>Harbor_Normal</td>\n",
       "    </tr>\n",
       "  </tbody>\n",
       "</table>\n",
       "<p>795 rows × 12 columns</p>\n",
       "</div>"
      ],
      "text/plain": [
       "         PCA1      PCA2      PCA3      PCA4      PCA5      PCA6      PCA7  \\\n",
       "0   -0.430585  0.318132 -0.492875  0.149383 -0.103563 -0.295013 -0.207814   \n",
       "1   -0.522199  0.136863 -0.288334  0.430592 -0.098536  0.169623 -0.252915   \n",
       "2   -0.607993  0.375150 -0.705784  0.280405 -0.589046  0.369480 -0.419427   \n",
       "3   -0.577988 -0.111179 -0.162975 -0.340042  0.159796 -0.709727  1.887231   \n",
       "4   -0.412371  0.265295 -0.428907  0.201666 -0.007235 -0.248806 -0.206673   \n",
       "..        ...       ...       ...       ...       ...       ...       ...   \n",
       "790 -0.694329  0.167982 -0.598856  0.672847 -0.592887  1.265006 -0.625336   \n",
       "791 -0.193798 -0.368750  0.338704  0.829073  1.148705  0.305673 -0.192983   \n",
       "792 -0.425849 -0.153221 -0.066108  0.803244  0.374237  0.831546 -0.408018   \n",
       "793 -0.400278 -0.187648  0.153494  0.107141  0.614955 -0.656020  1.007361   \n",
       "794 -0.303084 -0.051728 -0.045101  0.515370  0.570735  0.028433 -0.199828   \n",
       "\n",
       "         PCA8      PCA9     PCA10     PCA11         target  \n",
       "0   -0.194265 -0.234416 -0.471234  0.175627       Yoru_Pro  \n",
       "1   -0.712300  0.847338  0.752476 -0.405860       Yoru_Pro  \n",
       "2   -0.243146  0.595988  0.085801 -0.911190       Yoru_Pro  \n",
       "3    1.797270 -0.758954 -0.100722 -1.019294       Yoru_Pro  \n",
       "4   -0.183275 -0.172382 -0.412713  0.153102       Yoru_Pro  \n",
       "..        ...       ...       ...       ...            ...  \n",
       "790 -0.237078  1.736561  0.935443 -2.110635  Harbor_Normal  \n",
       "791 -0.051400  0.572021  0.289543 -0.117206  Harbor_Normal  \n",
       "792 -0.133249  1.216325  0.671014 -1.136446  Harbor_Normal  \n",
       "793  0.343338 -0.183301  0.439219  0.060971  Harbor_Normal  \n",
       "794 -0.117338  0.199820 -0.061585  0.017948  Harbor_Normal  \n",
       "\n",
       "[795 rows x 12 columns]"
      ]
     },
     "execution_count": 54,
     "metadata": {},
     "output_type": "execute_result"
    }
   ],
   "source": [
    "list_pca = []\n",
    "for j in range(1, 12):\n",
    "    #print(j)\n",
    "    columnName = f\"PCA{j}\"\n",
    "    list_pca.append(columnName)\n",
    "\n",
    "pca_df = pd.DataFrame(data=pca_features, columns=list_pca)\n",
    "pca_df['target'] = dfAll_Stream['sheet']\n",
    "# pca_df['streamer_taget'] = dfAll_Stream['streamer_taget']\n",
    "print(pca_df.shape)\n",
    "pca_df"
   ]
  },
  {
   "cell_type": "markdown",
   "id": "1349dc6c",
   "metadata": {},
   "source": [
    "# Plot the 2D PCA Graph"
   ]
  },
  {
   "cell_type": "code",
   "execution_count": 55,
   "id": "9e8e1fb7",
   "metadata": {},
   "outputs": [],
   "source": [
    "dfYoru_Pro = pca_df[pca_df[\"target\"]=='Yoru_Pro']\n",
    "dfYoru_Normal = pca_df[pca_df[\"target\"]=='Yoru_Normal']\n",
    "dfSage_Pro = pca_df[pca_df[\"target\"]=='Sage_Pro']\n",
    "dfSage_Normal = pca_df[pca_df[\"target\"]=='Sage_Normal']\n",
    "dfJett_Pro = pca_df[pca_df[\"target\"]=='Jett_Pro']\n",
    "dfJett_Normal = pca_df[pca_df[\"target\"]=='Jett_Normal']\n",
    "dfHarbor_Pro = pca_df[pca_df[\"target\"]=='Harbor_Pro']\n",
    "dfHarbor_Normal = pca_df[pca_df[\"target\"]=='Harbor_Normal']"
   ]
  },
  {
   "cell_type": "code",
   "execution_count": 56,
   "id": "eda732ec",
   "metadata": {},
   "outputs": [
    {
     "data": {
      "image/png": "[encoded data removed]",
      "text/plain": [
       "<Figure size 900x600 with 1 Axes>"
      ]
     },
     "metadata": {},
     "output_type": "display_data"
    }
   ],
   "source": [
    "import matplotlib.pyplot as plt\n",
    "from numpy.random import random\n",
    "\n",
    "#fig = plt.figure(figsize=(8, 5))\n",
    "\n",
    "marker_ = [\"d\", \"o\",\"v\", \"^\", \"<\", \"D\", \"*\", \"+\"]\n",
    "\n",
    "Yoru_Pro = plt.scatter(dfYoru_Pro[\"PCA1\"], dfYoru_Pro[\"PCA2\"], marker=marker_[0], color='red')\n",
    "Yoru_Normal = plt.scatter(dfYoru_Normal[\"PCA1\"], dfYoru_Normal[\"PCA2\"], marker=marker_[0], color='blue')\n",
    "Sage_Pro = plt.scatter(dfSage_Pro[\"PCA1\"], dfSage_Pro[\"PCA2\"], marker=marker_[2], color='red')\n",
    "Sage_Normal = plt.scatter(dfSage_Normal[\"PCA1\"], dfSage_Normal[\"PCA2\"], marker=marker_[2], color='blue')\n",
    "Jett_Pro = plt.scatter(dfJett_Pro[\"PCA1\"], dfJett_Pro[\"PCA2\"], marker=marker_[4], color='red')\n",
    "Jett_Normal = plt.scatter(dfJett_Normal[\"PCA1\"], dfJett_Normal[\"PCA2\"], marker=marker_[4], color='blue')\n",
    "Harbor_Pro = plt.scatter(dfHarbor_Pro[\"PCA1\"], dfHarbor_Pro[\"PCA2\"], marker=marker_[6], color='red')\n",
    "Harbor_Normal = plt.scatter(dfHarbor_Normal[\"PCA1\"], dfHarbor_Normal[\"PCA2\"], marker=marker_[6], color='blue')\n",
    "\n",
    "\n",
    "plt.legend((Yoru_Pro, Yoru_Normal, Sage_Pro, Sage_Normal, Jett_Pro, Jett_Normal, Harbor_Pro, Harbor_Normal),\n",
    "           ('Yoru_Pro', 'Yoru_Normal', 'Sage_Pro', 'Sage_Normal', 'Jett_Pro', 'Jett_Normal', 'Harbor_Pro', 'Harbor_Normal'),\n",
    "           scatterpoints=1,\n",
    "           loc='upper left',\n",
    "           ncol=3,\n",
    "           fontsize=8)\n",
    "\n",
    "plt.xlabel(\"Principal Component 1\")\n",
    "plt.ylabel(\"Principal Component 2\")\n",
    "plt.title('2D PCA Graph of Valorant Dataset', fontsize=18)\n",
    "plt.show()"
   ]
  },
  {
   "cell_type": "code",
   "execution_count": null,
   "id": "c6ba989a",
   "metadata": {},
   "outputs": [],
   "source": []
  },
  {
   "cell_type": "markdown",
   "id": "cad3bcc2",
   "metadata": {},
   "source": [
    "# ⚙️CLUSTERING ANALYSIS"
   ]
  },
  {
   "cell_type": "code",
   "execution_count": 57,
   "id": "c29f8102",
   "metadata": {},
   "outputs": [],
   "source": [
    "from sklearn.cluster import KMeans\n",
    "from sklearn.datasets import make_blobs\n",
    "\n",
    "from yellowbrick.cluster import KElbowVisualizer\n",
    "from sklearn.preprocessing import LabelEncoder\n",
    "from sklearn.preprocessing import StandardScaler\n",
    "from sklearn.decomposition import PCA\n",
    "from sklearn.cluster import KMeans\n",
    "from mpl_toolkits.mplot3d import Axes3D\n",
    "from sklearn.cluster import AgglomerativeClustering\n",
    "from matplotlib.colors import ListedColormap\n",
    "from sklearn import metrics"
   ]
  },
  {
   "cell_type": "code",
   "execution_count": 61,
   "id": "f6197f69",
   "metadata": {},
   "outputs": [
    {
     "data": {
      "image/png": "[encoded data removed]",
      "text/plain": [
       "<Figure size 900x600 with 2 Axes>"
      ]
     },
     "metadata": {},
     "output_type": "display_data"
    },
    {
     "data": {
      "text/plain": [
       "<AxesSubplot:title={'center':'Distortion Score Elbow for KMeans Clustering'}, xlabel='k', ylabel='distortion score'>"
      ]
     },
     "execution_count": 61,
     "metadata": {},
     "output_type": "execute_result"
    }
   ],
   "source": [
    "pca_diabetes = pca_df.iloc[:,0:11]\n",
    "\n",
    "model = KMeans()\n",
    "visualizer = KElbowVisualizer(model, k=20)\n",
    "\n",
    "visualizer.fit(pca_diabetes)        # Fit the data to the visualizer\n",
    "visualizer.show()  "
   ]
  },
  {
   "cell_type": "markdown",
   "id": "651ee510",
   "metadata": {},
   "source": [
    "## #️⃣1. K=10"
   ]
  },
  {
   "cell_type": "code",
   "execution_count": 62,
   "id": "4ab9daa9",
   "metadata": {},
   "outputs": [],
   "source": [
    "kmeans_V1 = KMeans(n_clusters=10, init='k-means++', max_iter=30000,n_init=1000, random_state=42)\n",
    "clusters_V1 = kmeans_V1.fit_predict(pca_diabetes)"
   ]
  },
  {
   "cell_type": "code",
   "execution_count": 30,
   "id": "c5fb45d2",
   "metadata": {},
   "outputs": [],
   "source": [
    "#centers = np.array(model2.cluster_centers_)"
   ]
  },
  {
   "cell_type": "code",
   "execution_count": 63,
   "id": "03260358",
   "metadata": {
    "scrolled": true
   },
   "outputs": [],
   "source": [
    "centroids = kmeans_V1.cluster_centers_\n",
    "#centroids_pca = pca_2.transform(centroids)\n",
    "#centroids"
   ]
  },
  {
   "cell_type": "code",
   "execution_count": 64,
   "id": "1f0bce36",
   "metadata": {},
   "outputs": [
    {
     "name": "stdout",
     "output_type": "stream",
     "text": [
      "(795, 13)\n"
     ]
    },
    {
     "data": {
      "text/html": [
       "<div>\n",
       "<style scoped>\n",
       "    .dataframe tbody tr th:only-of-type {\n",
       "        vertical-align: middle;\n",
       "    }\n",
       "\n",
       "    .dataframe tbody tr th {\n",
       "        vertical-align: top;\n",
       "    }\n",
       "\n",
       "    .dataframe thead th {\n",
       "        text-align: right;\n",
       "    }\n",
       "</style>\n",
       "<table border=\"1\" class=\"dataframe\">\n",
       "  <thead>\n",
       "    <tr style=\"text-align: right;\">\n",
       "      <th></th>\n",
       "      <th>PCA1</th>\n",
       "      <th>PCA2</th>\n",
       "      <th>PCA3</th>\n",
       "      <th>PCA4</th>\n",
       "      <th>PCA5</th>\n",
       "      <th>PCA6</th>\n",
       "      <th>PCA7</th>\n",
       "      <th>PCA8</th>\n",
       "      <th>PCA9</th>\n",
       "      <th>PCA10</th>\n",
       "      <th>PCA11</th>\n",
       "      <th>target</th>\n",
       "      <th>Cluster_K10</th>\n",
       "    </tr>\n",
       "  </thead>\n",
       "  <tbody>\n",
       "    <tr>\n",
       "      <th>0</th>\n",
       "      <td>-0.430585</td>\n",
       "      <td>0.318132</td>\n",
       "      <td>-0.492875</td>\n",
       "      <td>0.149383</td>\n",
       "      <td>-0.103563</td>\n",
       "      <td>-0.295013</td>\n",
       "      <td>-0.207814</td>\n",
       "      <td>-0.194265</td>\n",
       "      <td>-0.234416</td>\n",
       "      <td>-0.471234</td>\n",
       "      <td>0.175627</td>\n",
       "      <td>Yoru_Pro</td>\n",
       "      <td>1</td>\n",
       "    </tr>\n",
       "    <tr>\n",
       "      <th>1</th>\n",
       "      <td>-0.522199</td>\n",
       "      <td>0.136863</td>\n",
       "      <td>-0.288334</td>\n",
       "      <td>0.430592</td>\n",
       "      <td>-0.098536</td>\n",
       "      <td>0.169623</td>\n",
       "      <td>-0.252915</td>\n",
       "      <td>-0.712300</td>\n",
       "      <td>0.847338</td>\n",
       "      <td>0.752476</td>\n",
       "      <td>-0.405860</td>\n",
       "      <td>Yoru_Pro</td>\n",
       "      <td>1</td>\n",
       "    </tr>\n",
       "    <tr>\n",
       "      <th>2</th>\n",
       "      <td>-0.607993</td>\n",
       "      <td>0.375150</td>\n",
       "      <td>-0.705784</td>\n",
       "      <td>0.280405</td>\n",
       "      <td>-0.589046</td>\n",
       "      <td>0.369480</td>\n",
       "      <td>-0.419427</td>\n",
       "      <td>-0.243146</td>\n",
       "      <td>0.595988</td>\n",
       "      <td>0.085801</td>\n",
       "      <td>-0.911190</td>\n",
       "      <td>Yoru_Pro</td>\n",
       "      <td>1</td>\n",
       "    </tr>\n",
       "    <tr>\n",
       "      <th>3</th>\n",
       "      <td>-0.577988</td>\n",
       "      <td>-0.111179</td>\n",
       "      <td>-0.162975</td>\n",
       "      <td>-0.340042</td>\n",
       "      <td>0.159796</td>\n",
       "      <td>-0.709727</td>\n",
       "      <td>1.887231</td>\n",
       "      <td>1.797270</td>\n",
       "      <td>-0.758954</td>\n",
       "      <td>-0.100722</td>\n",
       "      <td>-1.019294</td>\n",
       "      <td>Yoru_Pro</td>\n",
       "      <td>1</td>\n",
       "    </tr>\n",
       "    <tr>\n",
       "      <th>4</th>\n",
       "      <td>-0.412371</td>\n",
       "      <td>0.265295</td>\n",
       "      <td>-0.428907</td>\n",
       "      <td>0.201666</td>\n",
       "      <td>-0.007235</td>\n",
       "      <td>-0.248806</td>\n",
       "      <td>-0.206673</td>\n",
       "      <td>-0.183275</td>\n",
       "      <td>-0.172382</td>\n",
       "      <td>-0.412713</td>\n",
       "      <td>0.153102</td>\n",
       "      <td>Yoru_Pro</td>\n",
       "      <td>1</td>\n",
       "    </tr>\n",
       "  </tbody>\n",
       "</table>\n",
       "</div>"
      ],
      "text/plain": [
       "       PCA1      PCA2      PCA3      PCA4      PCA5      PCA6      PCA7  \\\n",
       "0 -0.430585  0.318132 -0.492875  0.149383 -0.103563 -0.295013 -0.207814   \n",
       "1 -0.522199  0.136863 -0.288334  0.430592 -0.098536  0.169623 -0.252915   \n",
       "2 -0.607993  0.375150 -0.705784  0.280405 -0.589046  0.369480 -0.419427   \n",
       "3 -0.577988 -0.111179 -0.162975 -0.340042  0.159796 -0.709727  1.887231   \n",
       "4 -0.412371  0.265295 -0.428907  0.201666 -0.007235 -0.248806 -0.206673   \n",
       "\n",
       "       PCA8      PCA9     PCA10     PCA11    target  Cluster_K10  \n",
       "0 -0.194265 -0.234416 -0.471234  0.175627  Yoru_Pro            1  \n",
       "1 -0.712300  0.847338  0.752476 -0.405860  Yoru_Pro            1  \n",
       "2 -0.243146  0.595988  0.085801 -0.911190  Yoru_Pro            1  \n",
       "3  1.797270 -0.758954 -0.100722 -1.019294  Yoru_Pro            1  \n",
       "4 -0.183275 -0.172382 -0.412713  0.153102  Yoru_Pro            1  "
      ]
     },
     "execution_count": 64,
     "metadata": {},
     "output_type": "execute_result"
    }
   ],
   "source": [
    "pca_df['Cluster_K10'] = clusters_V1\n",
    "print(pca_df.shape)\n",
    "pca_df.head()"
   ]
  },
  {
   "cell_type": "code",
   "execution_count": 65,
   "id": "0b508509",
   "metadata": {},
   "outputs": [
    {
     "data": {
      "image/png": "[encoded data removed]",
      "text/plain": [
       "<Figure size 900x600 with 1 Axes>"
      ]
     },
     "metadata": {},
     "output_type": "display_data"
    }
   ],
   "source": [
    "#Plotting countplot of clusters\n",
    "import seaborn as sns\n",
    "\n",
    "pl = sns.countplot(x=pca_df[\"Cluster_K10\"])\n",
    "pl.set_title(\"Distribution Of The Clusters K=10\")\n",
    "plt.show()"
   ]
  },
  {
   "cell_type": "code",
   "execution_count": 66,
   "id": "edb07cb8",
   "metadata": {},
   "outputs": [
    {
     "data": {
      "image/png": "[encoded data removed]",
      "text/plain": [
       "<Figure size 623.069x500 with 1 Axes>"
      ]
     },
     "metadata": {},
     "output_type": "display_data"
    }
   ],
   "source": [
    "import matplotlib.pyplot as plt \n",
    "import seaborn as sns\n",
    "\n",
    "sns.set(style='white', rc={'figure.figsize':(9,6)},font_scale=1.1)\n",
    "# Plot 2D PCA Graph\n",
    "sns.lmplot(\n",
    "    x='PCA1', \n",
    "    y='PCA2', \n",
    "    data=pca_df, \n",
    "    hue='Cluster_K10',\n",
    "    scatter_kws={\"s\": 100},\n",
    "    fit_reg=False, \n",
    "    legend=True\n",
    "    )\n",
    "plt.scatter(centroids[:,0], centroids[:,1], marker=\"x\", color='k', s=170)\n",
    "plt.title('Clustered Data (PCA visualization)')\n",
    "plt.show()"
   ]
  },
  {
   "cell_type": "code",
   "execution_count": 67,
   "id": "f720b8cf",
   "metadata": {},
   "outputs": [
    {
     "data": {
      "text/html": [
       "<div>\n",
       "<style scoped>\n",
       "    .dataframe tbody tr th:only-of-type {\n",
       "        vertical-align: middle;\n",
       "    }\n",
       "\n",
       "    .dataframe tbody tr th {\n",
       "        vertical-align: top;\n",
       "    }\n",
       "\n",
       "    .dataframe thead th {\n",
       "        text-align: right;\n",
       "    }\n",
       "</style>\n",
       "<table border=\"1\" class=\"dataframe\">\n",
       "  <thead>\n",
       "    <tr style=\"text-align: right;\">\n",
       "      <th></th>\n",
       "      <th></th>\n",
       "      <th></th>\n",
       "      <th></th>\n",
       "      <th></th>\n",
       "      <th>COUNTER</th>\n",
       "    </tr>\n",
       "    <tr>\n",
       "      <th>Cluster_K10</th>\n",
       "      <th>pro_player</th>\n",
       "      <th>character</th>\n",
       "      <th>result</th>\n",
       "      <th>dead</th>\n",
       "      <th></th>\n",
       "    </tr>\n",
       "  </thead>\n",
       "  <tbody>\n",
       "    <tr>\n",
       "      <th rowspan=\"5\" valign=\"top\">0</th>\n",
       "      <th rowspan=\"5\" valign=\"top\">Normal</th>\n",
       "      <th rowspan=\"3\" valign=\"top\">Harbor</th>\n",
       "      <th>lose</th>\n",
       "      <th>dead</th>\n",
       "      <td>4</td>\n",
       "    </tr>\n",
       "    <tr>\n",
       "      <th rowspan=\"2\" valign=\"top\">win</th>\n",
       "      <th>dead</th>\n",
       "      <td>1</td>\n",
       "    </tr>\n",
       "    <tr>\n",
       "      <th>survive</th>\n",
       "      <td>1</td>\n",
       "    </tr>\n",
       "    <tr>\n",
       "      <th>Jett</th>\n",
       "      <th>lose</th>\n",
       "      <th>dead</th>\n",
       "      <td>3</td>\n",
       "    </tr>\n",
       "    <tr>\n",
       "      <th>sage</th>\n",
       "      <th>lose</th>\n",
       "      <th>dead</th>\n",
       "      <td>1</td>\n",
       "    </tr>\n",
       "    <tr>\n",
       "      <th>...</th>\n",
       "      <th>...</th>\n",
       "      <th>...</th>\n",
       "      <th>...</th>\n",
       "      <th>...</th>\n",
       "      <td>...</td>\n",
       "    </tr>\n",
       "    <tr>\n",
       "      <th rowspan=\"2\" valign=\"top\">8</th>\n",
       "      <th rowspan=\"2\" valign=\"top\">Pro</th>\n",
       "      <th rowspan=\"2\" valign=\"top\">Harbor</th>\n",
       "      <th rowspan=\"2\" valign=\"top\">win</th>\n",
       "      <th>dead</th>\n",
       "      <td>5</td>\n",
       "    </tr>\n",
       "    <tr>\n",
       "      <th>survive</th>\n",
       "      <td>1</td>\n",
       "    </tr>\n",
       "    <tr>\n",
       "      <th rowspan=\"3\" valign=\"top\">9</th>\n",
       "      <th rowspan=\"3\" valign=\"top\">Pro</th>\n",
       "      <th rowspan=\"2\" valign=\"top\">Jett</th>\n",
       "      <th>lose</th>\n",
       "      <th>dead</th>\n",
       "      <td>1</td>\n",
       "    </tr>\n",
       "    <tr>\n",
       "      <th>win</th>\n",
       "      <th>dead</th>\n",
       "      <td>2</td>\n",
       "    </tr>\n",
       "    <tr>\n",
       "      <th>Yoru</th>\n",
       "      <th>win</th>\n",
       "      <th>dead</th>\n",
       "      <td>2</td>\n",
       "    </tr>\n",
       "  </tbody>\n",
       "</table>\n",
       "<p>129 rows × 1 columns</p>\n",
       "</div>"
      ],
      "text/plain": [
       "                                                 COUNTER\n",
       "Cluster_K10 pro_player character result dead            \n",
       "0           Normal     Harbor    lose   dead           4\n",
       "                                 win    dead           1\n",
       "                                        survive        1\n",
       "                       Jett      lose   dead           3\n",
       "                       sage      lose   dead           1\n",
       "...                                                  ...\n",
       "8           Pro        Harbor    win    dead           5\n",
       "                                        survive        1\n",
       "9           Pro        Jett      lose   dead           1\n",
       "                                 win    dead           2\n",
       "                       Yoru      win    dead           2\n",
       "\n",
       "[129 rows x 1 columns]"
      ]
     },
     "execution_count": 67,
     "metadata": {},
     "output_type": "execute_result"
    }
   ],
   "source": [
    "pca_df0 = pca_df[['PCA1', 'PCA2','Cluster_K10']]\n",
    "result = pd.concat([dfAll_Stream, pca_df0], axis=1)\n",
    "#print(result.shape)\n",
    "\n",
    "result['COUNTER'] =1       #initially, set that counter to 1.\n",
    "group_data = result.groupby(['Cluster_K10','pro_player','character', 'result', 'dead'])['COUNTER'].sum() #sum function\n",
    "#print(group_data)\n",
    "grouped_df = group_data.to_frame()\n",
    "grouped_df"
   ]
  },
  {
   "cell_type": "code",
   "execution_count": null,
   "id": "40c6e7aa",
   "metadata": {},
   "outputs": [],
   "source": []
  },
  {
   "cell_type": "markdown",
   "id": "04a8aed2",
   "metadata": {},
   "source": [
    "## #️⃣2. K=2"
   ]
  },
  {
   "cell_type": "code",
   "execution_count": 68,
   "id": "fab23f3f",
   "metadata": {},
   "outputs": [
    {
     "data": {
      "text/html": [
       "<div>\n",
       "<style scoped>\n",
       "    .dataframe tbody tr th:only-of-type {\n",
       "        vertical-align: middle;\n",
       "    }\n",
       "\n",
       "    .dataframe tbody tr th {\n",
       "        vertical-align: top;\n",
       "    }\n",
       "\n",
       "    .dataframe thead th {\n",
       "        text-align: right;\n",
       "    }\n",
       "</style>\n",
       "<table border=\"1\" class=\"dataframe\">\n",
       "  <thead>\n",
       "    <tr style=\"text-align: right;\">\n",
       "      <th></th>\n",
       "      <th>PCA1</th>\n",
       "      <th>PCA2</th>\n",
       "      <th>PCA3</th>\n",
       "      <th>PCA4</th>\n",
       "      <th>PCA5</th>\n",
       "      <th>PCA6</th>\n",
       "      <th>PCA7</th>\n",
       "      <th>PCA8</th>\n",
       "      <th>PCA9</th>\n",
       "      <th>PCA10</th>\n",
       "      <th>PCA11</th>\n",
       "    </tr>\n",
       "  </thead>\n",
       "  <tbody>\n",
       "    <tr>\n",
       "      <th>0</th>\n",
       "      <td>-0.430585</td>\n",
       "      <td>0.318132</td>\n",
       "      <td>-0.492875</td>\n",
       "      <td>0.149383</td>\n",
       "      <td>-0.103563</td>\n",
       "      <td>-0.295013</td>\n",
       "      <td>-0.207814</td>\n",
       "      <td>-0.194265</td>\n",
       "      <td>-0.234416</td>\n",
       "      <td>-0.471234</td>\n",
       "      <td>0.175627</td>\n",
       "    </tr>\n",
       "    <tr>\n",
       "      <th>1</th>\n",
       "      <td>-0.522199</td>\n",
       "      <td>0.136863</td>\n",
       "      <td>-0.288334</td>\n",
       "      <td>0.430592</td>\n",
       "      <td>-0.098536</td>\n",
       "      <td>0.169623</td>\n",
       "      <td>-0.252915</td>\n",
       "      <td>-0.712300</td>\n",
       "      <td>0.847338</td>\n",
       "      <td>0.752476</td>\n",
       "      <td>-0.405860</td>\n",
       "    </tr>\n",
       "    <tr>\n",
       "      <th>2</th>\n",
       "      <td>-0.607993</td>\n",
       "      <td>0.375150</td>\n",
       "      <td>-0.705784</td>\n",
       "      <td>0.280405</td>\n",
       "      <td>-0.589046</td>\n",
       "      <td>0.369480</td>\n",
       "      <td>-0.419427</td>\n",
       "      <td>-0.243146</td>\n",
       "      <td>0.595988</td>\n",
       "      <td>0.085801</td>\n",
       "      <td>-0.911190</td>\n",
       "    </tr>\n",
       "    <tr>\n",
       "      <th>3</th>\n",
       "      <td>-0.577988</td>\n",
       "      <td>-0.111179</td>\n",
       "      <td>-0.162975</td>\n",
       "      <td>-0.340042</td>\n",
       "      <td>0.159796</td>\n",
       "      <td>-0.709727</td>\n",
       "      <td>1.887231</td>\n",
       "      <td>1.797270</td>\n",
       "      <td>-0.758954</td>\n",
       "      <td>-0.100722</td>\n",
       "      <td>-1.019294</td>\n",
       "    </tr>\n",
       "    <tr>\n",
       "      <th>4</th>\n",
       "      <td>-0.412371</td>\n",
       "      <td>0.265295</td>\n",
       "      <td>-0.428907</td>\n",
       "      <td>0.201666</td>\n",
       "      <td>-0.007235</td>\n",
       "      <td>-0.248806</td>\n",
       "      <td>-0.206673</td>\n",
       "      <td>-0.183275</td>\n",
       "      <td>-0.172382</td>\n",
       "      <td>-0.412713</td>\n",
       "      <td>0.153102</td>\n",
       "    </tr>\n",
       "    <tr>\n",
       "      <th>...</th>\n",
       "      <td>...</td>\n",
       "      <td>...</td>\n",
       "      <td>...</td>\n",
       "      <td>...</td>\n",
       "      <td>...</td>\n",
       "      <td>...</td>\n",
       "      <td>...</td>\n",
       "      <td>...</td>\n",
       "      <td>...</td>\n",
       "      <td>...</td>\n",
       "      <td>...</td>\n",
       "    </tr>\n",
       "    <tr>\n",
       "      <th>790</th>\n",
       "      <td>-0.694329</td>\n",
       "      <td>0.167982</td>\n",
       "      <td>-0.598856</td>\n",
       "      <td>0.672847</td>\n",
       "      <td>-0.592887</td>\n",
       "      <td>1.265006</td>\n",
       "      <td>-0.625336</td>\n",
       "      <td>-0.237078</td>\n",
       "      <td>1.736561</td>\n",
       "      <td>0.935443</td>\n",
       "      <td>-2.110635</td>\n",
       "    </tr>\n",
       "    <tr>\n",
       "      <th>791</th>\n",
       "      <td>-0.193798</td>\n",
       "      <td>-0.368750</td>\n",
       "      <td>0.338704</td>\n",
       "      <td>0.829073</td>\n",
       "      <td>1.148705</td>\n",
       "      <td>0.305673</td>\n",
       "      <td>-0.192983</td>\n",
       "      <td>-0.051400</td>\n",
       "      <td>0.572021</td>\n",
       "      <td>0.289543</td>\n",
       "      <td>-0.117206</td>\n",
       "    </tr>\n",
       "    <tr>\n",
       "      <th>792</th>\n",
       "      <td>-0.425849</td>\n",
       "      <td>-0.153221</td>\n",
       "      <td>-0.066108</td>\n",
       "      <td>0.803244</td>\n",
       "      <td>0.374237</td>\n",
       "      <td>0.831546</td>\n",
       "      <td>-0.408018</td>\n",
       "      <td>-0.133249</td>\n",
       "      <td>1.216325</td>\n",
       "      <td>0.671014</td>\n",
       "      <td>-1.136446</td>\n",
       "    </tr>\n",
       "    <tr>\n",
       "      <th>793</th>\n",
       "      <td>-0.400278</td>\n",
       "      <td>-0.187648</td>\n",
       "      <td>0.153494</td>\n",
       "      <td>0.107141</td>\n",
       "      <td>0.614955</td>\n",
       "      <td>-0.656020</td>\n",
       "      <td>1.007361</td>\n",
       "      <td>0.343338</td>\n",
       "      <td>-0.183301</td>\n",
       "      <td>0.439219</td>\n",
       "      <td>0.060971</td>\n",
       "    </tr>\n",
       "    <tr>\n",
       "      <th>794</th>\n",
       "      <td>-0.303084</td>\n",
       "      <td>-0.051728</td>\n",
       "      <td>-0.045101</td>\n",
       "      <td>0.515370</td>\n",
       "      <td>0.570735</td>\n",
       "      <td>0.028433</td>\n",
       "      <td>-0.199828</td>\n",
       "      <td>-0.117338</td>\n",
       "      <td>0.199820</td>\n",
       "      <td>-0.061585</td>\n",
       "      <td>0.017948</td>\n",
       "    </tr>\n",
       "  </tbody>\n",
       "</table>\n",
       "<p>795 rows × 11 columns</p>\n",
       "</div>"
      ],
      "text/plain": [
       "         PCA1      PCA2      PCA3      PCA4      PCA5      PCA6      PCA7  \\\n",
       "0   -0.430585  0.318132 -0.492875  0.149383 -0.103563 -0.295013 -0.207814   \n",
       "1   -0.522199  0.136863 -0.288334  0.430592 -0.098536  0.169623 -0.252915   \n",
       "2   -0.607993  0.375150 -0.705784  0.280405 -0.589046  0.369480 -0.419427   \n",
       "3   -0.577988 -0.111179 -0.162975 -0.340042  0.159796 -0.709727  1.887231   \n",
       "4   -0.412371  0.265295 -0.428907  0.201666 -0.007235 -0.248806 -0.206673   \n",
       "..        ...       ...       ...       ...       ...       ...       ...   \n",
       "790 -0.694329  0.167982 -0.598856  0.672847 -0.592887  1.265006 -0.625336   \n",
       "791 -0.193798 -0.368750  0.338704  0.829073  1.148705  0.305673 -0.192983   \n",
       "792 -0.425849 -0.153221 -0.066108  0.803244  0.374237  0.831546 -0.408018   \n",
       "793 -0.400278 -0.187648  0.153494  0.107141  0.614955 -0.656020  1.007361   \n",
       "794 -0.303084 -0.051728 -0.045101  0.515370  0.570735  0.028433 -0.199828   \n",
       "\n",
       "         PCA8      PCA9     PCA10     PCA11  \n",
       "0   -0.194265 -0.234416 -0.471234  0.175627  \n",
       "1   -0.712300  0.847338  0.752476 -0.405860  \n",
       "2   -0.243146  0.595988  0.085801 -0.911190  \n",
       "3    1.797270 -0.758954 -0.100722 -1.019294  \n",
       "4   -0.183275 -0.172382 -0.412713  0.153102  \n",
       "..        ...       ...       ...       ...  \n",
       "790 -0.237078  1.736561  0.935443 -2.110635  \n",
       "791 -0.051400  0.572021  0.289543 -0.117206  \n",
       "792 -0.133249  1.216325  0.671014 -1.136446  \n",
       "793  0.343338 -0.183301  0.439219  0.060971  \n",
       "794 -0.117338  0.199820 -0.061585  0.017948  \n",
       "\n",
       "[795 rows x 11 columns]"
      ]
     },
     "execution_count": 68,
     "metadata": {},
     "output_type": "execute_result"
    }
   ],
   "source": [
    "pca_diabetes_ = pca_diabetes.iloc[:,0:11]\n",
    "pca_diabetes_"
   ]
  },
  {
   "cell_type": "code",
   "execution_count": 69,
   "id": "8263b0f7",
   "metadata": {},
   "outputs": [],
   "source": [
    "kmeans_V2 = KMeans(n_clusters=2, init='k-means++', max_iter=30000,n_init=1000, random_state=42)\n",
    "clusters_V2 = kmeans_V2.fit_predict(pca_diabetes_)"
   ]
  },
  {
   "cell_type": "code",
   "execution_count": 70,
   "id": "317061f5",
   "metadata": {},
   "outputs": [
    {
     "data": {
      "text/plain": [
       "array([[-3.61847673e-01, -3.64265168e-02,  2.64965048e-02,\n",
       "        -2.29682658e-03,  1.16088260e-02,  1.86616251e-02,\n",
       "         1.72008591e-04, -1.11359142e-02,  2.60106101e-03,\n",
       "        -1.19599724e-02,  3.04233735e-03],\n",
       "       [ 6.17608187e+00,  6.21734412e-01, -4.52247162e-01,\n",
       "         3.92026537e-02, -1.98141552e-01, -3.18520010e-01,\n",
       "        -2.93587391e-03,  1.90069808e-01, -4.43953822e-02,\n",
       "         2.04134984e-01, -5.19271671e-02]])"
      ]
     },
     "execution_count": 70,
     "metadata": {},
     "output_type": "execute_result"
    }
   ],
   "source": [
    "centroids_V2 = kmeans_V2.cluster_centers_\n",
    "#centroids_pca = pca_2.transform(centroids)\n",
    "centroids_V2"
   ]
  },
  {
   "cell_type": "code",
   "execution_count": 71,
   "id": "c183c4d0",
   "metadata": {},
   "outputs": [
    {
     "name": "stdout",
     "output_type": "stream",
     "text": [
      "(795, 14)\n"
     ]
    },
    {
     "data": {
      "text/html": [
       "<div>\n",
       "<style scoped>\n",
       "    .dataframe tbody tr th:only-of-type {\n",
       "        vertical-align: middle;\n",
       "    }\n",
       "\n",
       "    .dataframe tbody tr th {\n",
       "        vertical-align: top;\n",
       "    }\n",
       "\n",
       "    .dataframe thead th {\n",
       "        text-align: right;\n",
       "    }\n",
       "</style>\n",
       "<table border=\"1\" class=\"dataframe\">\n",
       "  <thead>\n",
       "    <tr style=\"text-align: right;\">\n",
       "      <th></th>\n",
       "      <th>PCA1</th>\n",
       "      <th>PCA2</th>\n",
       "      <th>PCA3</th>\n",
       "      <th>PCA4</th>\n",
       "      <th>PCA5</th>\n",
       "      <th>PCA6</th>\n",
       "      <th>PCA7</th>\n",
       "      <th>PCA8</th>\n",
       "      <th>PCA9</th>\n",
       "      <th>PCA10</th>\n",
       "      <th>PCA11</th>\n",
       "      <th>target</th>\n",
       "      <th>Cluster_K10</th>\n",
       "      <th>Cluster_K2</th>\n",
       "    </tr>\n",
       "  </thead>\n",
       "  <tbody>\n",
       "    <tr>\n",
       "      <th>0</th>\n",
       "      <td>-0.430585</td>\n",
       "      <td>0.318132</td>\n",
       "      <td>-0.492875</td>\n",
       "      <td>0.149383</td>\n",
       "      <td>-0.103563</td>\n",
       "      <td>-0.295013</td>\n",
       "      <td>-0.207814</td>\n",
       "      <td>-0.194265</td>\n",
       "      <td>-0.234416</td>\n",
       "      <td>-0.471234</td>\n",
       "      <td>0.175627</td>\n",
       "      <td>Yoru_Pro</td>\n",
       "      <td>1</td>\n",
       "      <td>0</td>\n",
       "    </tr>\n",
       "    <tr>\n",
       "      <th>1</th>\n",
       "      <td>-0.522199</td>\n",
       "      <td>0.136863</td>\n",
       "      <td>-0.288334</td>\n",
       "      <td>0.430592</td>\n",
       "      <td>-0.098536</td>\n",
       "      <td>0.169623</td>\n",
       "      <td>-0.252915</td>\n",
       "      <td>-0.712300</td>\n",
       "      <td>0.847338</td>\n",
       "      <td>0.752476</td>\n",
       "      <td>-0.405860</td>\n",
       "      <td>Yoru_Pro</td>\n",
       "      <td>1</td>\n",
       "      <td>0</td>\n",
       "    </tr>\n",
       "    <tr>\n",
       "      <th>2</th>\n",
       "      <td>-0.607993</td>\n",
       "      <td>0.375150</td>\n",
       "      <td>-0.705784</td>\n",
       "      <td>0.280405</td>\n",
       "      <td>-0.589046</td>\n",
       "      <td>0.369480</td>\n",
       "      <td>-0.419427</td>\n",
       "      <td>-0.243146</td>\n",
       "      <td>0.595988</td>\n",
       "      <td>0.085801</td>\n",
       "      <td>-0.911190</td>\n",
       "      <td>Yoru_Pro</td>\n",
       "      <td>1</td>\n",
       "      <td>0</td>\n",
       "    </tr>\n",
       "    <tr>\n",
       "      <th>3</th>\n",
       "      <td>-0.577988</td>\n",
       "      <td>-0.111179</td>\n",
       "      <td>-0.162975</td>\n",
       "      <td>-0.340042</td>\n",
       "      <td>0.159796</td>\n",
       "      <td>-0.709727</td>\n",
       "      <td>1.887231</td>\n",
       "      <td>1.797270</td>\n",
       "      <td>-0.758954</td>\n",
       "      <td>-0.100722</td>\n",
       "      <td>-1.019294</td>\n",
       "      <td>Yoru_Pro</td>\n",
       "      <td>1</td>\n",
       "      <td>0</td>\n",
       "    </tr>\n",
       "    <tr>\n",
       "      <th>4</th>\n",
       "      <td>-0.412371</td>\n",
       "      <td>0.265295</td>\n",
       "      <td>-0.428907</td>\n",
       "      <td>0.201666</td>\n",
       "      <td>-0.007235</td>\n",
       "      <td>-0.248806</td>\n",
       "      <td>-0.206673</td>\n",
       "      <td>-0.183275</td>\n",
       "      <td>-0.172382</td>\n",
       "      <td>-0.412713</td>\n",
       "      <td>0.153102</td>\n",
       "      <td>Yoru_Pro</td>\n",
       "      <td>1</td>\n",
       "      <td>0</td>\n",
       "    </tr>\n",
       "  </tbody>\n",
       "</table>\n",
       "</div>"
      ],
      "text/plain": [
       "       PCA1      PCA2      PCA3      PCA4      PCA5      PCA6      PCA7  \\\n",
       "0 -0.430585  0.318132 -0.492875  0.149383 -0.103563 -0.295013 -0.207814   \n",
       "1 -0.522199  0.136863 -0.288334  0.430592 -0.098536  0.169623 -0.252915   \n",
       "2 -0.607993  0.375150 -0.705784  0.280405 -0.589046  0.369480 -0.419427   \n",
       "3 -0.577988 -0.111179 -0.162975 -0.340042  0.159796 -0.709727  1.887231   \n",
       "4 -0.412371  0.265295 -0.428907  0.201666 -0.007235 -0.248806 -0.206673   \n",
       "\n",
       "       PCA8      PCA9     PCA10     PCA11    target  Cluster_K10  Cluster_K2  \n",
       "0 -0.194265 -0.234416 -0.471234  0.175627  Yoru_Pro            1           0  \n",
       "1 -0.712300  0.847338  0.752476 -0.405860  Yoru_Pro            1           0  \n",
       "2 -0.243146  0.595988  0.085801 -0.911190  Yoru_Pro            1           0  \n",
       "3  1.797270 -0.758954 -0.100722 -1.019294  Yoru_Pro            1           0  \n",
       "4 -0.183275 -0.172382 -0.412713  0.153102  Yoru_Pro            1           0  "
      ]
     },
     "execution_count": 71,
     "metadata": {},
     "output_type": "execute_result"
    }
   ],
   "source": [
    "pca_df['Cluster_K2'] = clusters_V2\n",
    "print(pca_df.shape)\n",
    "pca_df.head()"
   ]
  },
  {
   "cell_type": "code",
   "execution_count": 72,
   "id": "f9e28d98",
   "metadata": {},
   "outputs": [
    {
     "data": {
      "image/png": "[encoded data removed]",
      "text/plain": [
       "<Figure size 900x600 with 1 Axes>"
      ]
     },
     "metadata": {},
     "output_type": "display_data"
    }
   ],
   "source": [
    "#Plotting countplot of clusters\n",
    "import seaborn as sns\n",
    "\n",
    "pl = sns.countplot(x=pca_df[\"Cluster_K2\"])\n",
    "pl.set_title(\"Distribution Of The Clusters K=2\")\n",
    "plt.show()"
   ]
  },
  {
   "cell_type": "code",
   "execution_count": 148,
   "id": "878b713a",
   "metadata": {},
   "outputs": [
    {
     "name": "stdout",
     "output_type": "stream",
     "text": [
      "Cluster 0:  751\n",
      "Cluster 1:  44\n"
     ]
    }
   ],
   "source": [
    "print(\"Cluster 0: \", pca_df[pca_df[\"Cluster_K2\"]==0].shape[0])\n",
    "print(\"Cluster 1: \",pca_df[pca_df[\"Cluster_K2\"]==1].shape[0])"
   ]
  },
  {
   "cell_type": "code",
   "execution_count": 73,
   "id": "4ee13d8a",
   "metadata": {},
   "outputs": [
    {
     "data": {
      "image/png": "[encoded data removed]",
      "text/plain": [
       "<Figure size 611.319x500 with 1 Axes>"
      ]
     },
     "metadata": {},
     "output_type": "display_data"
    }
   ],
   "source": [
    "import matplotlib.pyplot as plt \n",
    "import seaborn as sns\n",
    "\n",
    "sns.set(style='white', rc={'figure.figsize':(9,6)},font_scale=1.1)\n",
    "# Plot 2D PCA Graph\n",
    "sns.lmplot(\n",
    "    x='PCA1', \n",
    "    y='PCA2', \n",
    "    data=pca_df, \n",
    "    hue='Cluster_K2',\n",
    "    scatter_kws={\"s\": 100},\n",
    "    fit_reg=False, \n",
    "    legend=True\n",
    "    )\n",
    "plt.scatter(centroids_V2[:,0], centroids_V2[:,1], marker=\"x\", color='k', s=170)\n",
    "plt.title('Clustered Data (PCA visualization)')\n",
    "plt.show()"
   ]
  },
  {
   "cell_type": "code",
   "execution_count": 74,
   "id": "6359df33",
   "metadata": {},
   "outputs": [
    {
     "data": {
      "text/html": [
       "<div>\n",
       "<style scoped>\n",
       "    .dataframe tbody tr th:only-of-type {\n",
       "        vertical-align: middle;\n",
       "    }\n",
       "\n",
       "    .dataframe tbody tr th {\n",
       "        vertical-align: top;\n",
       "    }\n",
       "\n",
       "    .dataframe thead th {\n",
       "        text-align: right;\n",
       "    }\n",
       "</style>\n",
       "<table border=\"1\" class=\"dataframe\">\n",
       "  <thead>\n",
       "    <tr style=\"text-align: right;\">\n",
       "      <th></th>\n",
       "      <th></th>\n",
       "      <th></th>\n",
       "      <th></th>\n",
       "      <th></th>\n",
       "      <th>COUNTER</th>\n",
       "    </tr>\n",
       "    <tr>\n",
       "      <th>Cluster_K2</th>\n",
       "      <th>pro_player</th>\n",
       "      <th>character</th>\n",
       "      <th>result</th>\n",
       "      <th>dead</th>\n",
       "      <th></th>\n",
       "    </tr>\n",
       "  </thead>\n",
       "  <tbody>\n",
       "    <tr>\n",
       "      <th rowspan=\"30\" valign=\"top\">0</th>\n",
       "      <th rowspan=\"15\" valign=\"top\">Normal</th>\n",
       "      <th rowspan=\"4\" valign=\"top\">Harbor</th>\n",
       "      <th rowspan=\"2\" valign=\"top\">lose</th>\n",
       "      <th>dead</th>\n",
       "      <td>59</td>\n",
       "    </tr>\n",
       "    <tr>\n",
       "      <th>survive</th>\n",
       "      <td>1</td>\n",
       "    </tr>\n",
       "    <tr>\n",
       "      <th rowspan=\"2\" valign=\"top\">win</th>\n",
       "      <th>dead</th>\n",
       "      <td>25</td>\n",
       "    </tr>\n",
       "    <tr>\n",
       "      <th>survive</th>\n",
       "      <td>23</td>\n",
       "    </tr>\n",
       "    <tr>\n",
       "      <th rowspan=\"3\" valign=\"top\">Jett</th>\n",
       "      <th>lose</th>\n",
       "      <th>dead</th>\n",
       "      <td>57</td>\n",
       "    </tr>\n",
       "    <tr>\n",
       "      <th rowspan=\"2\" valign=\"top\">win</th>\n",
       "      <th>dead</th>\n",
       "      <td>25</td>\n",
       "    </tr>\n",
       "    <tr>\n",
       "      <th>survive</th>\n",
       "      <td>17</td>\n",
       "    </tr>\n",
       "    <tr>\n",
       "      <th rowspan=\"4\" valign=\"top\">Yoru</th>\n",
       "      <th rowspan=\"2\" valign=\"top\">lose</th>\n",
       "      <th>dead</th>\n",
       "      <td>46</td>\n",
       "    </tr>\n",
       "    <tr>\n",
       "      <th>survive</th>\n",
       "      <td>3</td>\n",
       "    </tr>\n",
       "    <tr>\n",
       "      <th rowspan=\"2\" valign=\"top\">win</th>\n",
       "      <th>dead</th>\n",
       "      <td>24</td>\n",
       "    </tr>\n",
       "    <tr>\n",
       "      <th>survive</th>\n",
       "      <td>17</td>\n",
       "    </tr>\n",
       "    <tr>\n",
       "      <th rowspan=\"4\" valign=\"top\">sage</th>\n",
       "      <th rowspan=\"2\" valign=\"top\">lose</th>\n",
       "      <th>dead</th>\n",
       "      <td>32</td>\n",
       "    </tr>\n",
       "    <tr>\n",
       "      <th>survive</th>\n",
       "      <td>14</td>\n",
       "    </tr>\n",
       "    <tr>\n",
       "      <th rowspan=\"2\" valign=\"top\">win</th>\n",
       "      <th>dead</th>\n",
       "      <td>21</td>\n",
       "    </tr>\n",
       "    <tr>\n",
       "      <th>survive</th>\n",
       "      <td>17</td>\n",
       "    </tr>\n",
       "    <tr>\n",
       "      <th rowspan=\"15\" valign=\"top\">Pro</th>\n",
       "      <th rowspan=\"4\" valign=\"top\">Harbor</th>\n",
       "      <th>dead</th>\n",
       "      <th>lose</th>\n",
       "      <td>1</td>\n",
       "    </tr>\n",
       "    <tr>\n",
       "      <th>lose</th>\n",
       "      <th>dead</th>\n",
       "      <td>47</td>\n",
       "    </tr>\n",
       "    <tr>\n",
       "      <th rowspan=\"2\" valign=\"top\">win</th>\n",
       "      <th>dead</th>\n",
       "      <td>30</td>\n",
       "    </tr>\n",
       "    <tr>\n",
       "      <th>survive</th>\n",
       "      <td>19</td>\n",
       "    </tr>\n",
       "    <tr>\n",
       "      <th rowspan=\"3\" valign=\"top\">Jett</th>\n",
       "      <th>lose</th>\n",
       "      <th>dead</th>\n",
       "      <td>55</td>\n",
       "    </tr>\n",
       "    <tr>\n",
       "      <th rowspan=\"2\" valign=\"top\">win</th>\n",
       "      <th>dead</th>\n",
       "      <td>24</td>\n",
       "    </tr>\n",
       "    <tr>\n",
       "      <th>survive</th>\n",
       "      <td>28</td>\n",
       "    </tr>\n",
       "    <tr>\n",
       "      <th rowspan=\"4\" valign=\"top\">Yoru</th>\n",
       "      <th rowspan=\"2\" valign=\"top\">lose</th>\n",
       "      <th>dead</th>\n",
       "      <td>23</td>\n",
       "    </tr>\n",
       "    <tr>\n",
       "      <th>survive</th>\n",
       "      <td>4</td>\n",
       "    </tr>\n",
       "    <tr>\n",
       "      <th rowspan=\"2\" valign=\"top\">win</th>\n",
       "      <th>dead</th>\n",
       "      <td>47</td>\n",
       "    </tr>\n",
       "    <tr>\n",
       "      <th>survive</th>\n",
       "      <td>9</td>\n",
       "    </tr>\n",
       "    <tr>\n",
       "      <th rowspan=\"4\" valign=\"top\">sage</th>\n",
       "      <th rowspan=\"2\" valign=\"top\">lose</th>\n",
       "      <th>dead</th>\n",
       "      <td>41</td>\n",
       "    </tr>\n",
       "    <tr>\n",
       "      <th>survive</th>\n",
       "      <td>5</td>\n",
       "    </tr>\n",
       "    <tr>\n",
       "      <th rowspan=\"2\" valign=\"top\">win</th>\n",
       "      <th>dead</th>\n",
       "      <td>27</td>\n",
       "    </tr>\n",
       "    <tr>\n",
       "      <th>survive</th>\n",
       "      <td>10</td>\n",
       "    </tr>\n",
       "    <tr>\n",
       "      <th rowspan=\"21\" valign=\"top\">1</th>\n",
       "      <th rowspan=\"14\" valign=\"top\">Normal</th>\n",
       "      <th rowspan=\"3\" valign=\"top\">Harbor</th>\n",
       "      <th>lose</th>\n",
       "      <th>dead</th>\n",
       "      <td>1</td>\n",
       "    </tr>\n",
       "    <tr>\n",
       "      <th rowspan=\"2\" valign=\"top\">win</th>\n",
       "      <th>dead</th>\n",
       "      <td>1</td>\n",
       "    </tr>\n",
       "    <tr>\n",
       "      <th>survive</th>\n",
       "      <td>1</td>\n",
       "    </tr>\n",
       "    <tr>\n",
       "      <th rowspan=\"3\" valign=\"top\">Jett</th>\n",
       "      <th>lose</th>\n",
       "      <th>dead</th>\n",
       "      <td>2</td>\n",
       "    </tr>\n",
       "    <tr>\n",
       "      <th rowspan=\"2\" valign=\"top\">win</th>\n",
       "      <th>dead</th>\n",
       "      <td>2</td>\n",
       "    </tr>\n",
       "    <tr>\n",
       "      <th>survive</th>\n",
       "      <td>3</td>\n",
       "    </tr>\n",
       "    <tr>\n",
       "      <th rowspan=\"4\" valign=\"top\">Yoru</th>\n",
       "      <th rowspan=\"2\" valign=\"top\">lose</th>\n",
       "      <th>dead</th>\n",
       "      <td>4</td>\n",
       "    </tr>\n",
       "    <tr>\n",
       "      <th>survive</th>\n",
       "      <td>1</td>\n",
       "    </tr>\n",
       "    <tr>\n",
       "      <th rowspan=\"2\" valign=\"top\">win</th>\n",
       "      <th>dead</th>\n",
       "      <td>1</td>\n",
       "    </tr>\n",
       "    <tr>\n",
       "      <th>survive</th>\n",
       "      <td>2</td>\n",
       "    </tr>\n",
       "    <tr>\n",
       "      <th rowspan=\"4\" valign=\"top\">sage</th>\n",
       "      <th rowspan=\"2\" valign=\"top\">lose</th>\n",
       "      <th>dead</th>\n",
       "      <td>3</td>\n",
       "    </tr>\n",
       "    <tr>\n",
       "      <th>survive</th>\n",
       "      <td>1</td>\n",
       "    </tr>\n",
       "    <tr>\n",
       "      <th rowspan=\"2\" valign=\"top\">win</th>\n",
       "      <th>dead</th>\n",
       "      <td>5</td>\n",
       "    </tr>\n",
       "    <tr>\n",
       "      <th>survive</th>\n",
       "      <td>2</td>\n",
       "    </tr>\n",
       "    <tr>\n",
       "      <th rowspan=\"7\" valign=\"top\">Pro</th>\n",
       "      <th>Harbor</th>\n",
       "      <th>win</th>\n",
       "      <th>survive</th>\n",
       "      <td>2</td>\n",
       "    </tr>\n",
       "    <tr>\n",
       "      <th rowspan=\"2\" valign=\"top\">Jett</th>\n",
       "      <th>lose</th>\n",
       "      <th>dead</th>\n",
       "      <td>4</td>\n",
       "    </tr>\n",
       "    <tr>\n",
       "      <th>win</th>\n",
       "      <th>dead</th>\n",
       "      <td>1</td>\n",
       "    </tr>\n",
       "    <tr>\n",
       "      <th rowspan=\"2\" valign=\"top\">Yoru</th>\n",
       "      <th>lose</th>\n",
       "      <th>dead</th>\n",
       "      <td>1</td>\n",
       "    </tr>\n",
       "    <tr>\n",
       "      <th>win</th>\n",
       "      <th>dead</th>\n",
       "      <td>5</td>\n",
       "    </tr>\n",
       "    <tr>\n",
       "      <th rowspan=\"2\" valign=\"top\">sage</th>\n",
       "      <th>lose</th>\n",
       "      <th>survive</th>\n",
       "      <td>1</td>\n",
       "    </tr>\n",
       "    <tr>\n",
       "      <th>win</th>\n",
       "      <th>dead</th>\n",
       "      <td>1</td>\n",
       "    </tr>\n",
       "  </tbody>\n",
       "</table>\n",
       "</div>"
      ],
      "text/plain": [
       "                                                COUNTER\n",
       "Cluster_K2 pro_player character result dead            \n",
       "0          Normal     Harbor    lose   dead          59\n",
       "                                       survive        1\n",
       "                                win    dead          25\n",
       "                                       survive       23\n",
       "                      Jett      lose   dead          57\n",
       "                                win    dead          25\n",
       "                                       survive       17\n",
       "                      Yoru      lose   dead          46\n",
       "                                       survive        3\n",
       "                                win    dead          24\n",
       "                                       survive       17\n",
       "                      sage      lose   dead          32\n",
       "                                       survive       14\n",
       "                                win    dead          21\n",
       "                                       survive       17\n",
       "           Pro        Harbor    dead   lose           1\n",
       "                                lose   dead          47\n",
       "                                win    dead          30\n",
       "                                       survive       19\n",
       "                      Jett      lose   dead          55\n",
       "                                win    dead          24\n",
       "                                       survive       28\n",
       "                      Yoru      lose   dead          23\n",
       "                                       survive        4\n",
       "                                win    dead          47\n",
       "                                       survive        9\n",
       "                      sage      lose   dead          41\n",
       "                                       survive        5\n",
       "                                win    dead          27\n",
       "                                       survive       10\n",
       "1          Normal     Harbor    lose   dead           1\n",
       "                                win    dead           1\n",
       "                                       survive        1\n",
       "                      Jett      lose   dead           2\n",
       "                                win    dead           2\n",
       "                                       survive        3\n",
       "                      Yoru      lose   dead           4\n",
       "                                       survive        1\n",
       "                                win    dead           1\n",
       "                                       survive        2\n",
       "                      sage      lose   dead           3\n",
       "                                       survive        1\n",
       "                                win    dead           5\n",
       "                                       survive        2\n",
       "           Pro        Harbor    win    survive        2\n",
       "                      Jett      lose   dead           4\n",
       "                                win    dead           1\n",
       "                      Yoru      lose   dead           1\n",
       "                                win    dead           5\n",
       "                      sage      lose   survive        1\n",
       "                                win    dead           1"
      ]
     },
     "execution_count": 74,
     "metadata": {},
     "output_type": "execute_result"
    }
   ],
   "source": [
    "pca_df0 = pca_df[['PCA1', 'PCA2','Cluster_K2']]\n",
    "result = pd.concat([dfAll_Stream, pca_df0], axis=1)\n",
    "#print(result.shape)\n",
    "\n",
    "result['COUNTER'] =1       #initially, set that counter to 1.\n",
    "group_data = result.groupby(['Cluster_K2','pro_player','character', 'result', 'dead'])['COUNTER'].sum() #sum function\n",
    "#print(group_data)\n",
    "grouped_df = group_data.to_frame()\n",
    "grouped_df"
   ]
  },
  {
   "cell_type": "markdown",
   "id": "db9ffe62",
   "metadata": {},
   "source": [
    "## #️⃣3. K=3"
   ]
  },
  {
   "cell_type": "code",
   "execution_count": 75,
   "id": "26e7779e",
   "metadata": {},
   "outputs": [],
   "source": [
    "kmeans_V3 = KMeans(n_clusters=3, init='k-means++', max_iter=30000,n_init=1000, random_state=42)\n",
    "clusters_V3 = kmeans_V3.fit_predict(pca_diabetes_)"
   ]
  },
  {
   "cell_type": "code",
   "execution_count": 76,
   "id": "118fffd3",
   "metadata": {},
   "outputs": [
    {
     "data": {
      "text/plain": [
       "array([[-3.58089881e-01, -9.71104671e-02, -1.72685803e-02,\n",
       "         4.29109934e-03,  1.19391627e-02,  1.71542185e-02,\n",
       "        -2.06316664e-04, -1.22870319e-02,  2.18043819e-03,\n",
       "        -1.24632257e-02,  4.08489074e-03],\n",
       "       [-1.76914070e+00,  2.26897129e+01,  1.64165209e+01,\n",
       "        -2.46947508e+00, -1.12102301e-01,  5.83185397e-01,\n",
       "         1.41854817e-01,  4.19957658e-01,  1.60124306e-01,\n",
       "         1.76508393e-01, -3.87393906e-01],\n",
       "       [ 6.17608187e+00,  6.21734412e-01, -4.52247162e-01,\n",
       "         3.92026537e-02, -1.98141552e-01, -3.18520010e-01,\n",
       "        -2.93587391e-03,  1.90069808e-01, -4.43953822e-02,\n",
       "         2.04134984e-01, -5.19271671e-02]])"
      ]
     },
     "execution_count": 76,
     "metadata": {},
     "output_type": "execute_result"
    }
   ],
   "source": [
    "centroids_V3 = kmeans_V3.cluster_centers_\n",
    "#centroids_pca = pca_2.transform(centroids)\n",
    "centroids_V3"
   ]
  },
  {
   "cell_type": "code",
   "execution_count": 77,
   "id": "2b9f8059",
   "metadata": {},
   "outputs": [
    {
     "name": "stdout",
     "output_type": "stream",
     "text": [
      "(795, 15)\n"
     ]
    },
    {
     "data": {
      "text/html": [
       "<div>\n",
       "<style scoped>\n",
       "    .dataframe tbody tr th:only-of-type {\n",
       "        vertical-align: middle;\n",
       "    }\n",
       "\n",
       "    .dataframe tbody tr th {\n",
       "        vertical-align: top;\n",
       "    }\n",
       "\n",
       "    .dataframe thead th {\n",
       "        text-align: right;\n",
       "    }\n",
       "</style>\n",
       "<table border=\"1\" class=\"dataframe\">\n",
       "  <thead>\n",
       "    <tr style=\"text-align: right;\">\n",
       "      <th></th>\n",
       "      <th>PCA1</th>\n",
       "      <th>PCA2</th>\n",
       "      <th>PCA3</th>\n",
       "      <th>PCA4</th>\n",
       "      <th>PCA5</th>\n",
       "      <th>PCA6</th>\n",
       "      <th>PCA7</th>\n",
       "      <th>PCA8</th>\n",
       "      <th>PCA9</th>\n",
       "      <th>PCA10</th>\n",
       "      <th>PCA11</th>\n",
       "      <th>target</th>\n",
       "      <th>Cluster_K10</th>\n",
       "      <th>Cluster_K2</th>\n",
       "      <th>Cluster_K3</th>\n",
       "    </tr>\n",
       "  </thead>\n",
       "  <tbody>\n",
       "    <tr>\n",
       "      <th>0</th>\n",
       "      <td>-0.430585</td>\n",
       "      <td>0.318132</td>\n",
       "      <td>-0.492875</td>\n",
       "      <td>0.149383</td>\n",
       "      <td>-0.103563</td>\n",
       "      <td>-0.295013</td>\n",
       "      <td>-0.207814</td>\n",
       "      <td>-0.194265</td>\n",
       "      <td>-0.234416</td>\n",
       "      <td>-0.471234</td>\n",
       "      <td>0.175627</td>\n",
       "      <td>Yoru_Pro</td>\n",
       "      <td>1</td>\n",
       "      <td>0</td>\n",
       "      <td>0</td>\n",
       "    </tr>\n",
       "    <tr>\n",
       "      <th>1</th>\n",
       "      <td>-0.522199</td>\n",
       "      <td>0.136863</td>\n",
       "      <td>-0.288334</td>\n",
       "      <td>0.430592</td>\n",
       "      <td>-0.098536</td>\n",
       "      <td>0.169623</td>\n",
       "      <td>-0.252915</td>\n",
       "      <td>-0.712300</td>\n",
       "      <td>0.847338</td>\n",
       "      <td>0.752476</td>\n",
       "      <td>-0.405860</td>\n",
       "      <td>Yoru_Pro</td>\n",
       "      <td>1</td>\n",
       "      <td>0</td>\n",
       "      <td>0</td>\n",
       "    </tr>\n",
       "    <tr>\n",
       "      <th>2</th>\n",
       "      <td>-0.607993</td>\n",
       "      <td>0.375150</td>\n",
       "      <td>-0.705784</td>\n",
       "      <td>0.280405</td>\n",
       "      <td>-0.589046</td>\n",
       "      <td>0.369480</td>\n",
       "      <td>-0.419427</td>\n",
       "      <td>-0.243146</td>\n",
       "      <td>0.595988</td>\n",
       "      <td>0.085801</td>\n",
       "      <td>-0.911190</td>\n",
       "      <td>Yoru_Pro</td>\n",
       "      <td>1</td>\n",
       "      <td>0</td>\n",
       "      <td>0</td>\n",
       "    </tr>\n",
       "    <tr>\n",
       "      <th>3</th>\n",
       "      <td>-0.577988</td>\n",
       "      <td>-0.111179</td>\n",
       "      <td>-0.162975</td>\n",
       "      <td>-0.340042</td>\n",
       "      <td>0.159796</td>\n",
       "      <td>-0.709727</td>\n",
       "      <td>1.887231</td>\n",
       "      <td>1.797270</td>\n",
       "      <td>-0.758954</td>\n",
       "      <td>-0.100722</td>\n",
       "      <td>-1.019294</td>\n",
       "      <td>Yoru_Pro</td>\n",
       "      <td>1</td>\n",
       "      <td>0</td>\n",
       "      <td>0</td>\n",
       "    </tr>\n",
       "    <tr>\n",
       "      <th>4</th>\n",
       "      <td>-0.412371</td>\n",
       "      <td>0.265295</td>\n",
       "      <td>-0.428907</td>\n",
       "      <td>0.201666</td>\n",
       "      <td>-0.007235</td>\n",
       "      <td>-0.248806</td>\n",
       "      <td>-0.206673</td>\n",
       "      <td>-0.183275</td>\n",
       "      <td>-0.172382</td>\n",
       "      <td>-0.412713</td>\n",
       "      <td>0.153102</td>\n",
       "      <td>Yoru_Pro</td>\n",
       "      <td>1</td>\n",
       "      <td>0</td>\n",
       "      <td>0</td>\n",
       "    </tr>\n",
       "  </tbody>\n",
       "</table>\n",
       "</div>"
      ],
      "text/plain": [
       "       PCA1      PCA2      PCA3      PCA4      PCA5      PCA6      PCA7  \\\n",
       "0 -0.430585  0.318132 -0.492875  0.149383 -0.103563 -0.295013 -0.207814   \n",
       "1 -0.522199  0.136863 -0.288334  0.430592 -0.098536  0.169623 -0.252915   \n",
       "2 -0.607993  0.375150 -0.705784  0.280405 -0.589046  0.369480 -0.419427   \n",
       "3 -0.577988 -0.111179 -0.162975 -0.340042  0.159796 -0.709727  1.887231   \n",
       "4 -0.412371  0.265295 -0.428907  0.201666 -0.007235 -0.248806 -0.206673   \n",
       "\n",
       "       PCA8      PCA9     PCA10     PCA11    target  Cluster_K10  Cluster_K2  \\\n",
       "0 -0.194265 -0.234416 -0.471234  0.175627  Yoru_Pro            1           0   \n",
       "1 -0.712300  0.847338  0.752476 -0.405860  Yoru_Pro            1           0   \n",
       "2 -0.243146  0.595988  0.085801 -0.911190  Yoru_Pro            1           0   \n",
       "3  1.797270 -0.758954 -0.100722 -1.019294  Yoru_Pro            1           0   \n",
       "4 -0.183275 -0.172382 -0.412713  0.153102  Yoru_Pro            1           0   \n",
       "\n",
       "   Cluster_K3  \n",
       "0           0  \n",
       "1           0  \n",
       "2           0  \n",
       "3           0  \n",
       "4           0  "
      ]
     },
     "execution_count": 77,
     "metadata": {},
     "output_type": "execute_result"
    }
   ],
   "source": [
    "pca_df['Cluster_K3'] = clusters_V3\n",
    "print(pca_df.shape)\n",
    "pca_df.head()"
   ]
  },
  {
   "cell_type": "code",
   "execution_count": 78,
   "id": "fc3f645c",
   "metadata": {},
   "outputs": [
    {
     "data": {
      "image/png": "[encoded data removed]",
      "text/plain": [
       "<Figure size 900x600 with 1 Axes>"
      ]
     },
     "metadata": {},
     "output_type": "display_data"
    }
   ],
   "source": [
    "#Plotting countplot of clusters\n",
    "import seaborn as sns\n",
    "\n",
    "pl = sns.countplot(x=pca_df[\"Cluster_K3\"])\n",
    "pl.set_title(\"Distribution Of The Clusters K=3\")\n",
    "plt.show()"
   ]
  },
  {
   "cell_type": "code",
   "execution_count": 79,
   "id": "5fd9a67a",
   "metadata": {},
   "outputs": [
    {
     "data": {
      "image/png": "[encoded data removed]",
      "text/plain": [
       "<Figure size 611.319x500 with 1 Axes>"
      ]
     },
     "metadata": {},
     "output_type": "display_data"
    }
   ],
   "source": [
    "import matplotlib.pyplot as plt \n",
    "import seaborn as sns\n",
    "\n",
    "sns.set(style='white', rc={'figure.figsize':(9,6)},font_scale=1.1)\n",
    "# Plot 2D PCA Graph\n",
    "sns.lmplot(\n",
    "    x='PCA1', \n",
    "    y='PCA2', \n",
    "    data=pca_df, \n",
    "    hue='Cluster_K3',\n",
    "    scatter_kws={\"s\": 100},\n",
    "    fit_reg=False, \n",
    "    legend=True\n",
    "    )\n",
    "plt.scatter(centroids_V3[:,0], centroids_V3[:,1], marker=\"x\", color='k', s=170)\n",
    "plt.title('Clustered Data (PCA visualization)')\n",
    "plt.show()"
   ]
  },
  {
   "cell_type": "code",
   "execution_count": 80,
   "id": "9bf25307",
   "metadata": {},
   "outputs": [
    {
     "data": {
      "text/html": [
       "<div>\n",
       "<style scoped>\n",
       "    .dataframe tbody tr th:only-of-type {\n",
       "        vertical-align: middle;\n",
       "    }\n",
       "\n",
       "    .dataframe tbody tr th {\n",
       "        vertical-align: top;\n",
       "    }\n",
       "\n",
       "    .dataframe thead th {\n",
       "        text-align: right;\n",
       "    }\n",
       "</style>\n",
       "<table border=\"1\" class=\"dataframe\">\n",
       "  <thead>\n",
       "    <tr style=\"text-align: right;\">\n",
       "      <th></th>\n",
       "      <th></th>\n",
       "      <th></th>\n",
       "      <th></th>\n",
       "      <th></th>\n",
       "      <th>COUNTER</th>\n",
       "    </tr>\n",
       "    <tr>\n",
       "      <th>Cluster_K3</th>\n",
       "      <th>pro_player</th>\n",
       "      <th>character</th>\n",
       "      <th>result</th>\n",
       "      <th>dead</th>\n",
       "      <th></th>\n",
       "    </tr>\n",
       "  </thead>\n",
       "  <tbody>\n",
       "    <tr>\n",
       "      <th rowspan=\"30\" valign=\"top\">0</th>\n",
       "      <th rowspan=\"15\" valign=\"top\">Normal</th>\n",
       "      <th rowspan=\"4\" valign=\"top\">Harbor</th>\n",
       "      <th rowspan=\"2\" valign=\"top\">lose</th>\n",
       "      <th>dead</th>\n",
       "      <td>59</td>\n",
       "    </tr>\n",
       "    <tr>\n",
       "      <th>survive</th>\n",
       "      <td>1</td>\n",
       "    </tr>\n",
       "    <tr>\n",
       "      <th rowspan=\"2\" valign=\"top\">win</th>\n",
       "      <th>dead</th>\n",
       "      <td>25</td>\n",
       "    </tr>\n",
       "    <tr>\n",
       "      <th>survive</th>\n",
       "      <td>23</td>\n",
       "    </tr>\n",
       "    <tr>\n",
       "      <th rowspan=\"3\" valign=\"top\">Jett</th>\n",
       "      <th>lose</th>\n",
       "      <th>dead</th>\n",
       "      <td>57</td>\n",
       "    </tr>\n",
       "    <tr>\n",
       "      <th rowspan=\"2\" valign=\"top\">win</th>\n",
       "      <th>dead</th>\n",
       "      <td>25</td>\n",
       "    </tr>\n",
       "    <tr>\n",
       "      <th>survive</th>\n",
       "      <td>17</td>\n",
       "    </tr>\n",
       "    <tr>\n",
       "      <th rowspan=\"4\" valign=\"top\">Yoru</th>\n",
       "      <th rowspan=\"2\" valign=\"top\">lose</th>\n",
       "      <th>dead</th>\n",
       "      <td>45</td>\n",
       "    </tr>\n",
       "    <tr>\n",
       "      <th>survive</th>\n",
       "      <td>3</td>\n",
       "    </tr>\n",
       "    <tr>\n",
       "      <th rowspan=\"2\" valign=\"top\">win</th>\n",
       "      <th>dead</th>\n",
       "      <td>24</td>\n",
       "    </tr>\n",
       "    <tr>\n",
       "      <th>survive</th>\n",
       "      <td>17</td>\n",
       "    </tr>\n",
       "    <tr>\n",
       "      <th rowspan=\"4\" valign=\"top\">sage</th>\n",
       "      <th rowspan=\"2\" valign=\"top\">lose</th>\n",
       "      <th>dead</th>\n",
       "      <td>31</td>\n",
       "    </tr>\n",
       "    <tr>\n",
       "      <th>survive</th>\n",
       "      <td>14</td>\n",
       "    </tr>\n",
       "    <tr>\n",
       "      <th rowspan=\"2\" valign=\"top\">win</th>\n",
       "      <th>dead</th>\n",
       "      <td>21</td>\n",
       "    </tr>\n",
       "    <tr>\n",
       "      <th>survive</th>\n",
       "      <td>17</td>\n",
       "    </tr>\n",
       "    <tr>\n",
       "      <th rowspan=\"15\" valign=\"top\">Pro</th>\n",
       "      <th rowspan=\"4\" valign=\"top\">Harbor</th>\n",
       "      <th>dead</th>\n",
       "      <th>lose</th>\n",
       "      <td>1</td>\n",
       "    </tr>\n",
       "    <tr>\n",
       "      <th>lose</th>\n",
       "      <th>dead</th>\n",
       "      <td>47</td>\n",
       "    </tr>\n",
       "    <tr>\n",
       "      <th rowspan=\"2\" valign=\"top\">win</th>\n",
       "      <th>dead</th>\n",
       "      <td>30</td>\n",
       "    </tr>\n",
       "    <tr>\n",
       "      <th>survive</th>\n",
       "      <td>19</td>\n",
       "    </tr>\n",
       "    <tr>\n",
       "      <th rowspan=\"3\" valign=\"top\">Jett</th>\n",
       "      <th>lose</th>\n",
       "      <th>dead</th>\n",
       "      <td>55</td>\n",
       "    </tr>\n",
       "    <tr>\n",
       "      <th rowspan=\"2\" valign=\"top\">win</th>\n",
       "      <th>dead</th>\n",
       "      <td>24</td>\n",
       "    </tr>\n",
       "    <tr>\n",
       "      <th>survive</th>\n",
       "      <td>28</td>\n",
       "    </tr>\n",
       "    <tr>\n",
       "      <th rowspan=\"4\" valign=\"top\">Yoru</th>\n",
       "      <th rowspan=\"2\" valign=\"top\">lose</th>\n",
       "      <th>dead</th>\n",
       "      <td>23</td>\n",
       "    </tr>\n",
       "    <tr>\n",
       "      <th>survive</th>\n",
       "      <td>4</td>\n",
       "    </tr>\n",
       "    <tr>\n",
       "      <th rowspan=\"2\" valign=\"top\">win</th>\n",
       "      <th>dead</th>\n",
       "      <td>47</td>\n",
       "    </tr>\n",
       "    <tr>\n",
       "      <th>survive</th>\n",
       "      <td>9</td>\n",
       "    </tr>\n",
       "    <tr>\n",
       "      <th rowspan=\"4\" valign=\"top\">sage</th>\n",
       "      <th rowspan=\"2\" valign=\"top\">lose</th>\n",
       "      <th>dead</th>\n",
       "      <td>41</td>\n",
       "    </tr>\n",
       "    <tr>\n",
       "      <th>survive</th>\n",
       "      <td>5</td>\n",
       "    </tr>\n",
       "    <tr>\n",
       "      <th rowspan=\"2\" valign=\"top\">win</th>\n",
       "      <th>dead</th>\n",
       "      <td>27</td>\n",
       "    </tr>\n",
       "    <tr>\n",
       "      <th>survive</th>\n",
       "      <td>10</td>\n",
       "    </tr>\n",
       "    <tr>\n",
       "      <th rowspan=\"2\" valign=\"top\">1</th>\n",
       "      <th rowspan=\"2\" valign=\"top\">Normal</th>\n",
       "      <th>Yoru</th>\n",
       "      <th>lose</th>\n",
       "      <th>dead</th>\n",
       "      <td>1</td>\n",
       "    </tr>\n",
       "    <tr>\n",
       "      <th>sage</th>\n",
       "      <th>lose</th>\n",
       "      <th>dead</th>\n",
       "      <td>1</td>\n",
       "    </tr>\n",
       "    <tr>\n",
       "      <th rowspan=\"21\" valign=\"top\">2</th>\n",
       "      <th rowspan=\"14\" valign=\"top\">Normal</th>\n",
       "      <th rowspan=\"3\" valign=\"top\">Harbor</th>\n",
       "      <th>lose</th>\n",
       "      <th>dead</th>\n",
       "      <td>1</td>\n",
       "    </tr>\n",
       "    <tr>\n",
       "      <th rowspan=\"2\" valign=\"top\">win</th>\n",
       "      <th>dead</th>\n",
       "      <td>1</td>\n",
       "    </tr>\n",
       "    <tr>\n",
       "      <th>survive</th>\n",
       "      <td>1</td>\n",
       "    </tr>\n",
       "    <tr>\n",
       "      <th rowspan=\"3\" valign=\"top\">Jett</th>\n",
       "      <th>lose</th>\n",
       "      <th>dead</th>\n",
       "      <td>2</td>\n",
       "    </tr>\n",
       "    <tr>\n",
       "      <th rowspan=\"2\" valign=\"top\">win</th>\n",
       "      <th>dead</th>\n",
       "      <td>2</td>\n",
       "    </tr>\n",
       "    <tr>\n",
       "      <th>survive</th>\n",
       "      <td>3</td>\n",
       "    </tr>\n",
       "    <tr>\n",
       "      <th rowspan=\"4\" valign=\"top\">Yoru</th>\n",
       "      <th rowspan=\"2\" valign=\"top\">lose</th>\n",
       "      <th>dead</th>\n",
       "      <td>4</td>\n",
       "    </tr>\n",
       "    <tr>\n",
       "      <th>survive</th>\n",
       "      <td>1</td>\n",
       "    </tr>\n",
       "    <tr>\n",
       "      <th rowspan=\"2\" valign=\"top\">win</th>\n",
       "      <th>dead</th>\n",
       "      <td>1</td>\n",
       "    </tr>\n",
       "    <tr>\n",
       "      <th>survive</th>\n",
       "      <td>2</td>\n",
       "    </tr>\n",
       "    <tr>\n",
       "      <th rowspan=\"4\" valign=\"top\">sage</th>\n",
       "      <th rowspan=\"2\" valign=\"top\">lose</th>\n",
       "      <th>dead</th>\n",
       "      <td>3</td>\n",
       "    </tr>\n",
       "    <tr>\n",
       "      <th>survive</th>\n",
       "      <td>1</td>\n",
       "    </tr>\n",
       "    <tr>\n",
       "      <th rowspan=\"2\" valign=\"top\">win</th>\n",
       "      <th>dead</th>\n",
       "      <td>5</td>\n",
       "    </tr>\n",
       "    <tr>\n",
       "      <th>survive</th>\n",
       "      <td>2</td>\n",
       "    </tr>\n",
       "    <tr>\n",
       "      <th rowspan=\"7\" valign=\"top\">Pro</th>\n",
       "      <th>Harbor</th>\n",
       "      <th>win</th>\n",
       "      <th>survive</th>\n",
       "      <td>2</td>\n",
       "    </tr>\n",
       "    <tr>\n",
       "      <th rowspan=\"2\" valign=\"top\">Jett</th>\n",
       "      <th>lose</th>\n",
       "      <th>dead</th>\n",
       "      <td>4</td>\n",
       "    </tr>\n",
       "    <tr>\n",
       "      <th>win</th>\n",
       "      <th>dead</th>\n",
       "      <td>1</td>\n",
       "    </tr>\n",
       "    <tr>\n",
       "      <th rowspan=\"2\" valign=\"top\">Yoru</th>\n",
       "      <th>lose</th>\n",
       "      <th>dead</th>\n",
       "      <td>1</td>\n",
       "    </tr>\n",
       "    <tr>\n",
       "      <th>win</th>\n",
       "      <th>dead</th>\n",
       "      <td>5</td>\n",
       "    </tr>\n",
       "    <tr>\n",
       "      <th rowspan=\"2\" valign=\"top\">sage</th>\n",
       "      <th>lose</th>\n",
       "      <th>survive</th>\n",
       "      <td>1</td>\n",
       "    </tr>\n",
       "    <tr>\n",
       "      <th>win</th>\n",
       "      <th>dead</th>\n",
       "      <td>1</td>\n",
       "    </tr>\n",
       "  </tbody>\n",
       "</table>\n",
       "</div>"
      ],
      "text/plain": [
       "                                                COUNTER\n",
       "Cluster_K3 pro_player character result dead            \n",
       "0          Normal     Harbor    lose   dead          59\n",
       "                                       survive        1\n",
       "                                win    dead          25\n",
       "                                       survive       23\n",
       "                      Jett      lose   dead          57\n",
       "                                win    dead          25\n",
       "                                       survive       17\n",
       "                      Yoru      lose   dead          45\n",
       "                                       survive        3\n",
       "                                win    dead          24\n",
       "                                       survive       17\n",
       "                      sage      lose   dead          31\n",
       "                                       survive       14\n",
       "                                win    dead          21\n",
       "                                       survive       17\n",
       "           Pro        Harbor    dead   lose           1\n",
       "                                lose   dead          47\n",
       "                                win    dead          30\n",
       "                                       survive       19\n",
       "                      Jett      lose   dead          55\n",
       "                                win    dead          24\n",
       "                                       survive       28\n",
       "                      Yoru      lose   dead          23\n",
       "                                       survive        4\n",
       "                                win    dead          47\n",
       "                                       survive        9\n",
       "                      sage      lose   dead          41\n",
       "                                       survive        5\n",
       "                                win    dead          27\n",
       "                                       survive       10\n",
       "1          Normal     Yoru      lose   dead           1\n",
       "                      sage      lose   dead           1\n",
       "2          Normal     Harbor    lose   dead           1\n",
       "                                win    dead           1\n",
       "                                       survive        1\n",
       "                      Jett      lose   dead           2\n",
       "                                win    dead           2\n",
       "                                       survive        3\n",
       "                      Yoru      lose   dead           4\n",
       "                                       survive        1\n",
       "                                win    dead           1\n",
       "                                       survive        2\n",
       "                      sage      lose   dead           3\n",
       "                                       survive        1\n",
       "                                win    dead           5\n",
       "                                       survive        2\n",
       "           Pro        Harbor    win    survive        2\n",
       "                      Jett      lose   dead           4\n",
       "                                win    dead           1\n",
       "                      Yoru      lose   dead           1\n",
       "                                win    dead           5\n",
       "                      sage      lose   survive        1\n",
       "                                win    dead           1"
      ]
     },
     "execution_count": 80,
     "metadata": {},
     "output_type": "execute_result"
    }
   ],
   "source": [
    "pca_df0 = pca_df[['PCA1', 'PCA2','Cluster_K3']]\n",
    "result = pd.concat([dfAll_Stream, pca_df0], axis=1)\n",
    "#print(result.shape)\n",
    "\n",
    "result['COUNTER'] =1       #initially, set that counter to 1.\n",
    "group_data = result.groupby(['Cluster_K3','pro_player','character', 'result', 'dead'])['COUNTER'].sum() #sum function\n",
    "#print(group_data)\n",
    "grouped_df = group_data.to_frame()\n",
    "grouped_df"
   ]
  },
  {
   "cell_type": "code",
   "execution_count": null,
   "id": "5a679171",
   "metadata": {},
   "outputs": [],
   "source": []
  },
  {
   "cell_type": "markdown",
   "id": "7b8be965",
   "metadata": {},
   "source": [
    "## #️⃣4. K=4"
   ]
  },
  {
   "cell_type": "code",
   "execution_count": 81,
   "id": "8bd9c2b0",
   "metadata": {
    "scrolled": true
   },
   "outputs": [
    {
     "data": {
      "text/plain": [
       "array([[-3.58089881e-01, -9.71104671e-02, -1.72685803e-02,\n",
       "         4.29109934e-03,  1.19391627e-02,  1.71542185e-02,\n",
       "        -2.06316664e-04, -1.22870319e-02,  2.18043819e-03,\n",
       "        -1.24632257e-02,  4.08489074e-03],\n",
       "       [ 5.51277245e+00,  1.65221578e+00, -2.51532434e+00,\n",
       "        -3.89050085e+00,  1.76430940e+00,  6.52431895e-02,\n",
       "         5.18969694e-02, -8.01613536e-02, -1.84884044e-01,\n",
       "         5.95248776e-01, -4.07728760e-02],\n",
       "       [ 6.90256361e+00, -5.06888039e-01,  1.80731356e+00,\n",
       "         4.34316364e+00, -2.34749260e+00, -7.38832085e-01,\n",
       "        -6.29908927e-02,  4.86037271e-01,  1.09473152e-01,\n",
       "        -2.24227742e-01, -6.41437716e-02],\n",
       "       [-1.76914070e+00,  2.26897129e+01,  1.64165209e+01,\n",
       "        -2.46947508e+00, -1.12102301e-01,  5.83185397e-01,\n",
       "         1.41854817e-01,  4.19957658e-01,  1.60124306e-01,\n",
       "         1.76508393e-01, -3.87393906e-01]])"
      ]
     },
     "execution_count": 81,
     "metadata": {},
     "output_type": "execute_result"
    }
   ],
   "source": [
    "kmeans_V4 = KMeans(n_clusters=4, init='k-means++', max_iter=30000,n_init=1000, random_state=42)\n",
    "clusters_V4 = kmeans_V4.fit_predict(pca_diabetes_)\n",
    "\n",
    "centroids_V4 = kmeans_V4.cluster_centers_\n",
    "#centroids_pca = pca_2.transform(centroids)\n",
    "centroids_V4"
   ]
  },
  {
   "cell_type": "code",
   "execution_count": 82,
   "id": "3fbfbc9d",
   "metadata": {},
   "outputs": [
    {
     "name": "stdout",
     "output_type": "stream",
     "text": [
      "(795, 16)\n"
     ]
    },
    {
     "data": {
      "text/html": [
       "<div>\n",
       "<style scoped>\n",
       "    .dataframe tbody tr th:only-of-type {\n",
       "        vertical-align: middle;\n",
       "    }\n",
       "\n",
       "    .dataframe tbody tr th {\n",
       "        vertical-align: top;\n",
       "    }\n",
       "\n",
       "    .dataframe thead th {\n",
       "        text-align: right;\n",
       "    }\n",
       "</style>\n",
       "<table border=\"1\" class=\"dataframe\">\n",
       "  <thead>\n",
       "    <tr style=\"text-align: right;\">\n",
       "      <th></th>\n",
       "      <th>PCA1</th>\n",
       "      <th>PCA2</th>\n",
       "      <th>PCA3</th>\n",
       "      <th>PCA4</th>\n",
       "      <th>PCA5</th>\n",
       "      <th>PCA6</th>\n",
       "      <th>PCA7</th>\n",
       "      <th>PCA8</th>\n",
       "      <th>PCA9</th>\n",
       "      <th>PCA10</th>\n",
       "      <th>PCA11</th>\n",
       "      <th>target</th>\n",
       "      <th>Cluster_K10</th>\n",
       "      <th>Cluster_K2</th>\n",
       "      <th>Cluster_K3</th>\n",
       "      <th>Cluster_K4</th>\n",
       "    </tr>\n",
       "  </thead>\n",
       "  <tbody>\n",
       "    <tr>\n",
       "      <th>0</th>\n",
       "      <td>-0.430585</td>\n",
       "      <td>0.318132</td>\n",
       "      <td>-0.492875</td>\n",
       "      <td>0.149383</td>\n",
       "      <td>-0.103563</td>\n",
       "      <td>-0.295013</td>\n",
       "      <td>-0.207814</td>\n",
       "      <td>-0.194265</td>\n",
       "      <td>-0.234416</td>\n",
       "      <td>-0.471234</td>\n",
       "      <td>0.175627</td>\n",
       "      <td>Yoru_Pro</td>\n",
       "      <td>1</td>\n",
       "      <td>0</td>\n",
       "      <td>0</td>\n",
       "      <td>0</td>\n",
       "    </tr>\n",
       "    <tr>\n",
       "      <th>1</th>\n",
       "      <td>-0.522199</td>\n",
       "      <td>0.136863</td>\n",
       "      <td>-0.288334</td>\n",
       "      <td>0.430592</td>\n",
       "      <td>-0.098536</td>\n",
       "      <td>0.169623</td>\n",
       "      <td>-0.252915</td>\n",
       "      <td>-0.712300</td>\n",
       "      <td>0.847338</td>\n",
       "      <td>0.752476</td>\n",
       "      <td>-0.405860</td>\n",
       "      <td>Yoru_Pro</td>\n",
       "      <td>1</td>\n",
       "      <td>0</td>\n",
       "      <td>0</td>\n",
       "      <td>0</td>\n",
       "    </tr>\n",
       "    <tr>\n",
       "      <th>2</th>\n",
       "      <td>-0.607993</td>\n",
       "      <td>0.375150</td>\n",
       "      <td>-0.705784</td>\n",
       "      <td>0.280405</td>\n",
       "      <td>-0.589046</td>\n",
       "      <td>0.369480</td>\n",
       "      <td>-0.419427</td>\n",
       "      <td>-0.243146</td>\n",
       "      <td>0.595988</td>\n",
       "      <td>0.085801</td>\n",
       "      <td>-0.911190</td>\n",
       "      <td>Yoru_Pro</td>\n",
       "      <td>1</td>\n",
       "      <td>0</td>\n",
       "      <td>0</td>\n",
       "      <td>0</td>\n",
       "    </tr>\n",
       "    <tr>\n",
       "      <th>3</th>\n",
       "      <td>-0.577988</td>\n",
       "      <td>-0.111179</td>\n",
       "      <td>-0.162975</td>\n",
       "      <td>-0.340042</td>\n",
       "      <td>0.159796</td>\n",
       "      <td>-0.709727</td>\n",
       "      <td>1.887231</td>\n",
       "      <td>1.797270</td>\n",
       "      <td>-0.758954</td>\n",
       "      <td>-0.100722</td>\n",
       "      <td>-1.019294</td>\n",
       "      <td>Yoru_Pro</td>\n",
       "      <td>1</td>\n",
       "      <td>0</td>\n",
       "      <td>0</td>\n",
       "      <td>0</td>\n",
       "    </tr>\n",
       "    <tr>\n",
       "      <th>4</th>\n",
       "      <td>-0.412371</td>\n",
       "      <td>0.265295</td>\n",
       "      <td>-0.428907</td>\n",
       "      <td>0.201666</td>\n",
       "      <td>-0.007235</td>\n",
       "      <td>-0.248806</td>\n",
       "      <td>-0.206673</td>\n",
       "      <td>-0.183275</td>\n",
       "      <td>-0.172382</td>\n",
       "      <td>-0.412713</td>\n",
       "      <td>0.153102</td>\n",
       "      <td>Yoru_Pro</td>\n",
       "      <td>1</td>\n",
       "      <td>0</td>\n",
       "      <td>0</td>\n",
       "      <td>0</td>\n",
       "    </tr>\n",
       "  </tbody>\n",
       "</table>\n",
       "</div>"
      ],
      "text/plain": [
       "       PCA1      PCA2      PCA3      PCA4      PCA5      PCA6      PCA7  \\\n",
       "0 -0.430585  0.318132 -0.492875  0.149383 -0.103563 -0.295013 -0.207814   \n",
       "1 -0.522199  0.136863 -0.288334  0.430592 -0.098536  0.169623 -0.252915   \n",
       "2 -0.607993  0.375150 -0.705784  0.280405 -0.589046  0.369480 -0.419427   \n",
       "3 -0.577988 -0.111179 -0.162975 -0.340042  0.159796 -0.709727  1.887231   \n",
       "4 -0.412371  0.265295 -0.428907  0.201666 -0.007235 -0.248806 -0.206673   \n",
       "\n",
       "       PCA8      PCA9     PCA10     PCA11    target  Cluster_K10  Cluster_K2  \\\n",
       "0 -0.194265 -0.234416 -0.471234  0.175627  Yoru_Pro            1           0   \n",
       "1 -0.712300  0.847338  0.752476 -0.405860  Yoru_Pro            1           0   \n",
       "2 -0.243146  0.595988  0.085801 -0.911190  Yoru_Pro            1           0   \n",
       "3  1.797270 -0.758954 -0.100722 -1.019294  Yoru_Pro            1           0   \n",
       "4 -0.183275 -0.172382 -0.412713  0.153102  Yoru_Pro            1           0   \n",
       "\n",
       "   Cluster_K3  Cluster_K4  \n",
       "0           0           0  \n",
       "1           0           0  \n",
       "2           0           0  \n",
       "3           0           0  \n",
       "4           0           0  "
      ]
     },
     "execution_count": 82,
     "metadata": {},
     "output_type": "execute_result"
    }
   ],
   "source": [
    "pca_df['Cluster_K4'] = clusters_V4\n",
    "print(pca_df.shape)\n",
    "pca_df.head()"
   ]
  },
  {
   "cell_type": "code",
   "execution_count": 83,
   "id": "c2fbce9b",
   "metadata": {},
   "outputs": [
    {
     "data": {
      "image/png": "[encoded data removed]",
      "text/plain": [
       "<Figure size 900x600 with 1 Axes>"
      ]
     },
     "metadata": {},
     "output_type": "display_data"
    }
   ],
   "source": [
    "#Plotting countplot of clusters\n",
    "import seaborn as sns\n",
    "\n",
    "pl = sns.countplot(x=pca_df[\"Cluster_K4\"])\n",
    "pl.set_title(\"Distribution Of The Clusters K=4\")\n",
    "plt.show()"
   ]
  },
  {
   "cell_type": "code",
   "execution_count": 84,
   "id": "5bfa8658",
   "metadata": {},
   "outputs": [
    {
     "data": {
      "image/png": "[encoded data removed]",
      "text/plain": [
       "<Figure size 611.194x500 with 1 Axes>"
      ]
     },
     "metadata": {},
     "output_type": "display_data"
    }
   ],
   "source": [
    "import matplotlib.pyplot as plt \n",
    "import seaborn as sns\n",
    "\n",
    "sns.set(style='white', rc={'figure.figsize':(9,6)},font_scale=1.1)\n",
    "# Plot 2D PCA Graph\n",
    "sns.lmplot(\n",
    "    x='PCA1', \n",
    "    y='PCA2', \n",
    "    data=pca_df, \n",
    "    hue='Cluster_K4',\n",
    "    scatter_kws={\"s\": 100},\n",
    "    fit_reg=False, \n",
    "    legend=True\n",
    "    )\n",
    "plt.scatter(centroids_V4[:,0], centroids_V4[:,1], marker=\"x\", color='k', s=170)\n",
    "plt.title('Clustered Data (PCA visualization)')\n",
    "plt.show()"
   ]
  },
  {
   "cell_type": "code",
   "execution_count": 85,
   "id": "06c92c70",
   "metadata": {
    "scrolled": true
   },
   "outputs": [
    {
     "data": {
      "text/html": [
       "<div>\n",
       "<style scoped>\n",
       "    .dataframe tbody tr th:only-of-type {\n",
       "        vertical-align: middle;\n",
       "    }\n",
       "\n",
       "    .dataframe tbody tr th {\n",
       "        vertical-align: top;\n",
       "    }\n",
       "\n",
       "    .dataframe thead th {\n",
       "        text-align: right;\n",
       "    }\n",
       "</style>\n",
       "<table border=\"1\" class=\"dataframe\">\n",
       "  <thead>\n",
       "    <tr style=\"text-align: right;\">\n",
       "      <th></th>\n",
       "      <th></th>\n",
       "      <th></th>\n",
       "      <th></th>\n",
       "      <th></th>\n",
       "      <th>COUNTER</th>\n",
       "    </tr>\n",
       "    <tr>\n",
       "      <th>Cluster_K4</th>\n",
       "      <th>pro_player</th>\n",
       "      <th>character</th>\n",
       "      <th>result</th>\n",
       "      <th>dead</th>\n",
       "      <th></th>\n",
       "    </tr>\n",
       "  </thead>\n",
       "  <tbody>\n",
       "    <tr>\n",
       "      <th rowspan=\"30\" valign=\"top\">0</th>\n",
       "      <th rowspan=\"15\" valign=\"top\">Normal</th>\n",
       "      <th rowspan=\"4\" valign=\"top\">Harbor</th>\n",
       "      <th rowspan=\"2\" valign=\"top\">lose</th>\n",
       "      <th>dead</th>\n",
       "      <td>59</td>\n",
       "    </tr>\n",
       "    <tr>\n",
       "      <th>survive</th>\n",
       "      <td>1</td>\n",
       "    </tr>\n",
       "    <tr>\n",
       "      <th rowspan=\"2\" valign=\"top\">win</th>\n",
       "      <th>dead</th>\n",
       "      <td>25</td>\n",
       "    </tr>\n",
       "    <tr>\n",
       "      <th>survive</th>\n",
       "      <td>23</td>\n",
       "    </tr>\n",
       "    <tr>\n",
       "      <th rowspan=\"3\" valign=\"top\">Jett</th>\n",
       "      <th>lose</th>\n",
       "      <th>dead</th>\n",
       "      <td>57</td>\n",
       "    </tr>\n",
       "    <tr>\n",
       "      <th rowspan=\"2\" valign=\"top\">win</th>\n",
       "      <th>dead</th>\n",
       "      <td>25</td>\n",
       "    </tr>\n",
       "    <tr>\n",
       "      <th>survive</th>\n",
       "      <td>17</td>\n",
       "    </tr>\n",
       "    <tr>\n",
       "      <th rowspan=\"4\" valign=\"top\">Yoru</th>\n",
       "      <th rowspan=\"2\" valign=\"top\">lose</th>\n",
       "      <th>dead</th>\n",
       "      <td>45</td>\n",
       "    </tr>\n",
       "    <tr>\n",
       "      <th>survive</th>\n",
       "      <td>3</td>\n",
       "    </tr>\n",
       "    <tr>\n",
       "      <th rowspan=\"2\" valign=\"top\">win</th>\n",
       "      <th>dead</th>\n",
       "      <td>24</td>\n",
       "    </tr>\n",
       "    <tr>\n",
       "      <th>survive</th>\n",
       "      <td>17</td>\n",
       "    </tr>\n",
       "    <tr>\n",
       "      <th rowspan=\"4\" valign=\"top\">sage</th>\n",
       "      <th rowspan=\"2\" valign=\"top\">lose</th>\n",
       "      <th>dead</th>\n",
       "      <td>31</td>\n",
       "    </tr>\n",
       "    <tr>\n",
       "      <th>survive</th>\n",
       "      <td>14</td>\n",
       "    </tr>\n",
       "    <tr>\n",
       "      <th rowspan=\"2\" valign=\"top\">win</th>\n",
       "      <th>dead</th>\n",
       "      <td>21</td>\n",
       "    </tr>\n",
       "    <tr>\n",
       "      <th>survive</th>\n",
       "      <td>17</td>\n",
       "    </tr>\n",
       "    <tr>\n",
       "      <th rowspan=\"15\" valign=\"top\">Pro</th>\n",
       "      <th rowspan=\"4\" valign=\"top\">Harbor</th>\n",
       "      <th>dead</th>\n",
       "      <th>lose</th>\n",
       "      <td>1</td>\n",
       "    </tr>\n",
       "    <tr>\n",
       "      <th>lose</th>\n",
       "      <th>dead</th>\n",
       "      <td>47</td>\n",
       "    </tr>\n",
       "    <tr>\n",
       "      <th rowspan=\"2\" valign=\"top\">win</th>\n",
       "      <th>dead</th>\n",
       "      <td>30</td>\n",
       "    </tr>\n",
       "    <tr>\n",
       "      <th>survive</th>\n",
       "      <td>19</td>\n",
       "    </tr>\n",
       "    <tr>\n",
       "      <th rowspan=\"3\" valign=\"top\">Jett</th>\n",
       "      <th>lose</th>\n",
       "      <th>dead</th>\n",
       "      <td>55</td>\n",
       "    </tr>\n",
       "    <tr>\n",
       "      <th rowspan=\"2\" valign=\"top\">win</th>\n",
       "      <th>dead</th>\n",
       "      <td>24</td>\n",
       "    </tr>\n",
       "    <tr>\n",
       "      <th>survive</th>\n",
       "      <td>28</td>\n",
       "    </tr>\n",
       "    <tr>\n",
       "      <th rowspan=\"4\" valign=\"top\">Yoru</th>\n",
       "      <th rowspan=\"2\" valign=\"top\">lose</th>\n",
       "      <th>dead</th>\n",
       "      <td>23</td>\n",
       "    </tr>\n",
       "    <tr>\n",
       "      <th>survive</th>\n",
       "      <td>4</td>\n",
       "    </tr>\n",
       "    <tr>\n",
       "      <th rowspan=\"2\" valign=\"top\">win</th>\n",
       "      <th>dead</th>\n",
       "      <td>47</td>\n",
       "    </tr>\n",
       "    <tr>\n",
       "      <th>survive</th>\n",
       "      <td>9</td>\n",
       "    </tr>\n",
       "    <tr>\n",
       "      <th rowspan=\"4\" valign=\"top\">sage</th>\n",
       "      <th rowspan=\"2\" valign=\"top\">lose</th>\n",
       "      <th>dead</th>\n",
       "      <td>41</td>\n",
       "    </tr>\n",
       "    <tr>\n",
       "      <th>survive</th>\n",
       "      <td>5</td>\n",
       "    </tr>\n",
       "    <tr>\n",
       "      <th rowspan=\"2\" valign=\"top\">win</th>\n",
       "      <th>dead</th>\n",
       "      <td>27</td>\n",
       "    </tr>\n",
       "    <tr>\n",
       "      <th>survive</th>\n",
       "      <td>10</td>\n",
       "    </tr>\n",
       "    <tr>\n",
       "      <th rowspan=\"15\" valign=\"top\">1</th>\n",
       "      <th rowspan=\"10\" valign=\"top\">Normal</th>\n",
       "      <th>Harbor</th>\n",
       "      <th>win</th>\n",
       "      <th>survive</th>\n",
       "      <td>1</td>\n",
       "    </tr>\n",
       "    <tr>\n",
       "      <th rowspan=\"3\" valign=\"top\">Jett</th>\n",
       "      <th>lose</th>\n",
       "      <th>dead</th>\n",
       "      <td>1</td>\n",
       "    </tr>\n",
       "    <tr>\n",
       "      <th rowspan=\"2\" valign=\"top\">win</th>\n",
       "      <th>dead</th>\n",
       "      <td>1</td>\n",
       "    </tr>\n",
       "    <tr>\n",
       "      <th>survive</th>\n",
       "      <td>3</td>\n",
       "    </tr>\n",
       "    <tr>\n",
       "      <th rowspan=\"2\" valign=\"top\">Yoru</th>\n",
       "      <th>lose</th>\n",
       "      <th>survive</th>\n",
       "      <td>1</td>\n",
       "    </tr>\n",
       "    <tr>\n",
       "      <th>win</th>\n",
       "      <th>dead</th>\n",
       "      <td>1</td>\n",
       "    </tr>\n",
       "    <tr>\n",
       "      <th rowspan=\"4\" valign=\"top\">sage</th>\n",
       "      <th rowspan=\"2\" valign=\"top\">lose</th>\n",
       "      <th>dead</th>\n",
       "      <td>1</td>\n",
       "    </tr>\n",
       "    <tr>\n",
       "      <th>survive</th>\n",
       "      <td>1</td>\n",
       "    </tr>\n",
       "    <tr>\n",
       "      <th rowspan=\"2\" valign=\"top\">win</th>\n",
       "      <th>dead</th>\n",
       "      <td>4</td>\n",
       "    </tr>\n",
       "    <tr>\n",
       "      <th>survive</th>\n",
       "      <td>2</td>\n",
       "    </tr>\n",
       "    <tr>\n",
       "      <th rowspan=\"5\" valign=\"top\">Pro</th>\n",
       "      <th>Harbor</th>\n",
       "      <th>win</th>\n",
       "      <th>survive</th>\n",
       "      <td>1</td>\n",
       "    </tr>\n",
       "    <tr>\n",
       "      <th>Jett</th>\n",
       "      <th>lose</th>\n",
       "      <th>dead</th>\n",
       "      <td>2</td>\n",
       "    </tr>\n",
       "    <tr>\n",
       "      <th>Yoru</th>\n",
       "      <th>win</th>\n",
       "      <th>dead</th>\n",
       "      <td>2</td>\n",
       "    </tr>\n",
       "    <tr>\n",
       "      <th rowspan=\"2\" valign=\"top\">sage</th>\n",
       "      <th>lose</th>\n",
       "      <th>survive</th>\n",
       "      <td>1</td>\n",
       "    </tr>\n",
       "    <tr>\n",
       "      <th>win</th>\n",
       "      <th>dead</th>\n",
       "      <td>1</td>\n",
       "    </tr>\n",
       "    <tr>\n",
       "      <th rowspan=\"13\" valign=\"top\">2</th>\n",
       "      <th rowspan=\"8\" valign=\"top\">Normal</th>\n",
       "      <th rowspan=\"2\" valign=\"top\">Harbor</th>\n",
       "      <th>lose</th>\n",
       "      <th>dead</th>\n",
       "      <td>1</td>\n",
       "    </tr>\n",
       "    <tr>\n",
       "      <th>win</th>\n",
       "      <th>dead</th>\n",
       "      <td>1</td>\n",
       "    </tr>\n",
       "    <tr>\n",
       "      <th rowspan=\"2\" valign=\"top\">Jett</th>\n",
       "      <th>lose</th>\n",
       "      <th>dead</th>\n",
       "      <td>1</td>\n",
       "    </tr>\n",
       "    <tr>\n",
       "      <th>win</th>\n",
       "      <th>dead</th>\n",
       "      <td>1</td>\n",
       "    </tr>\n",
       "    <tr>\n",
       "      <th rowspan=\"2\" valign=\"top\">Yoru</th>\n",
       "      <th>lose</th>\n",
       "      <th>dead</th>\n",
       "      <td>4</td>\n",
       "    </tr>\n",
       "    <tr>\n",
       "      <th>win</th>\n",
       "      <th>survive</th>\n",
       "      <td>2</td>\n",
       "    </tr>\n",
       "    <tr>\n",
       "      <th rowspan=\"2\" valign=\"top\">sage</th>\n",
       "      <th>lose</th>\n",
       "      <th>dead</th>\n",
       "      <td>2</td>\n",
       "    </tr>\n",
       "    <tr>\n",
       "      <th>win</th>\n",
       "      <th>dead</th>\n",
       "      <td>1</td>\n",
       "    </tr>\n",
       "    <tr>\n",
       "      <th rowspan=\"5\" valign=\"top\">Pro</th>\n",
       "      <th>Harbor</th>\n",
       "      <th>win</th>\n",
       "      <th>survive</th>\n",
       "      <td>1</td>\n",
       "    </tr>\n",
       "    <tr>\n",
       "      <th rowspan=\"2\" valign=\"top\">Jett</th>\n",
       "      <th>lose</th>\n",
       "      <th>dead</th>\n",
       "      <td>2</td>\n",
       "    </tr>\n",
       "    <tr>\n",
       "      <th>win</th>\n",
       "      <th>dead</th>\n",
       "      <td>1</td>\n",
       "    </tr>\n",
       "    <tr>\n",
       "      <th rowspan=\"2\" valign=\"top\">Yoru</th>\n",
       "      <th>lose</th>\n",
       "      <th>dead</th>\n",
       "      <td>1</td>\n",
       "    </tr>\n",
       "    <tr>\n",
       "      <th>win</th>\n",
       "      <th>dead</th>\n",
       "      <td>3</td>\n",
       "    </tr>\n",
       "    <tr>\n",
       "      <th rowspan=\"2\" valign=\"top\">3</th>\n",
       "      <th rowspan=\"2\" valign=\"top\">Normal</th>\n",
       "      <th>Yoru</th>\n",
       "      <th>lose</th>\n",
       "      <th>dead</th>\n",
       "      <td>1</td>\n",
       "    </tr>\n",
       "    <tr>\n",
       "      <th>sage</th>\n",
       "      <th>lose</th>\n",
       "      <th>dead</th>\n",
       "      <td>1</td>\n",
       "    </tr>\n",
       "  </tbody>\n",
       "</table>\n",
       "</div>"
      ],
      "text/plain": [
       "                                                COUNTER\n",
       "Cluster_K4 pro_player character result dead            \n",
       "0          Normal     Harbor    lose   dead          59\n",
       "                                       survive        1\n",
       "                                win    dead          25\n",
       "                                       survive       23\n",
       "                      Jett      lose   dead          57\n",
       "                                win    dead          25\n",
       "                                       survive       17\n",
       "                      Yoru      lose   dead          45\n",
       "                                       survive        3\n",
       "                                win    dead          24\n",
       "                                       survive       17\n",
       "                      sage      lose   dead          31\n",
       "                                       survive       14\n",
       "                                win    dead          21\n",
       "                                       survive       17\n",
       "           Pro        Harbor    dead   lose           1\n",
       "                                lose   dead          47\n",
       "                                win    dead          30\n",
       "                                       survive       19\n",
       "                      Jett      lose   dead          55\n",
       "                                win    dead          24\n",
       "                                       survive       28\n",
       "                      Yoru      lose   dead          23\n",
       "                                       survive        4\n",
       "                                win    dead          47\n",
       "                                       survive        9\n",
       "                      sage      lose   dead          41\n",
       "                                       survive        5\n",
       "                                win    dead          27\n",
       "                                       survive       10\n",
       "1          Normal     Harbor    win    survive        1\n",
       "                      Jett      lose   dead           1\n",
       "                                win    dead           1\n",
       "                                       survive        3\n",
       "                      Yoru      lose   survive        1\n",
       "                                win    dead           1\n",
       "                      sage      lose   dead           1\n",
       "                                       survive        1\n",
       "                                win    dead           4\n",
       "                                       survive        2\n",
       "           Pro        Harbor    win    survive        1\n",
       "                      Jett      lose   dead           2\n",
       "                      Yoru      win    dead           2\n",
       "                      sage      lose   survive        1\n",
       "                                win    dead           1\n",
       "2          Normal     Harbor    lose   dead           1\n",
       "                                win    dead           1\n",
       "                      Jett      lose   dead           1\n",
       "                                win    dead           1\n",
       "                      Yoru      lose   dead           4\n",
       "                                win    survive        2\n",
       "                      sage      lose   dead           2\n",
       "                                win    dead           1\n",
       "           Pro        Harbor    win    survive        1\n",
       "                      Jett      lose   dead           2\n",
       "                                win    dead           1\n",
       "                      Yoru      lose   dead           1\n",
       "                                win    dead           3\n",
       "3          Normal     Yoru      lose   dead           1\n",
       "                      sage      lose   dead           1"
      ]
     },
     "execution_count": 85,
     "metadata": {},
     "output_type": "execute_result"
    }
   ],
   "source": [
    "pca_df0 = pca_df[['PCA1', 'PCA2','Cluster_K4']]\n",
    "result = pd.concat([dfAll_Stream, pca_df0], axis=1)\n",
    "#print(result.shape)\n",
    "\n",
    "result['COUNTER'] =1       #initially, set that counter to 1.\n",
    "group_data = result.groupby(['Cluster_K4','pro_player','character', 'result', 'dead'])['COUNTER'].sum() #sum function\n",
    "#print(group_data)\n",
    "grouped_df = group_data.to_frame()\n",
    "grouped_df"
   ]
  },
  {
   "cell_type": "code",
   "execution_count": null,
   "id": "ff1a28cc",
   "metadata": {},
   "outputs": [],
   "source": []
  },
  {
   "cell_type": "markdown",
   "id": "e27718aa",
   "metadata": {},
   "source": [
    "---------------------"
   ]
  },
  {
   "cell_type": "code",
   "execution_count": 86,
   "id": "5472c7f0",
   "metadata": {},
   "outputs": [
    {
     "name": "stdout",
     "output_type": "stream",
     "text": [
      "(795, 207)\n"
     ]
    },
    {
     "data": {
      "text/html": [
       "<div>\n",
       "<style scoped>\n",
       "    .dataframe tbody tr th:only-of-type {\n",
       "        vertical-align: middle;\n",
       "    }\n",
       "\n",
       "    .dataframe tbody tr th {\n",
       "        vertical-align: top;\n",
       "    }\n",
       "\n",
       "    .dataframe thead th {\n",
       "        text-align: right;\n",
       "    }\n",
       "</style>\n",
       "<table border=\"1\" class=\"dataframe\">\n",
       "  <thead>\n",
       "    <tr style=\"text-align: right;\">\n",
       "      <th></th>\n",
       "      <th>Unnamed: 0</th>\n",
       "      <th>round</th>\n",
       "      <th>streamer</th>\n",
       "      <th>character</th>\n",
       "      <th>pro_player</th>\n",
       "      <th>result</th>\n",
       "      <th>dead</th>\n",
       "      <th>Map</th>\n",
       "      <th>sheet</th>\n",
       "      <th>138</th>\n",
       "      <th>...</th>\n",
       "      <th>578</th>\n",
       "      <th>582</th>\n",
       "      <th>583</th>\n",
       "      <th>584</th>\n",
       "      <th>taget</th>\n",
       "      <th>PCA1</th>\n",
       "      <th>PCA2</th>\n",
       "      <th>Cluster_K2</th>\n",
       "      <th>Cluster_K3</th>\n",
       "      <th>Cluster_K4</th>\n",
       "    </tr>\n",
       "  </thead>\n",
       "  <tbody>\n",
       "    <tr>\n",
       "      <th>0</th>\n",
       "      <td>0</td>\n",
       "      <td>รอบ 1</td>\n",
       "      <td>boltyanskiyy</td>\n",
       "      <td>Yoru</td>\n",
       "      <td>Pro</td>\n",
       "      <td>win</td>\n",
       "      <td>survive</td>\n",
       "      <td>HAVEN</td>\n",
       "      <td>Yoru_Pro</td>\n",
       "      <td>0</td>\n",
       "      <td>...</td>\n",
       "      <td>0</td>\n",
       "      <td>0</td>\n",
       "      <td>0</td>\n",
       "      <td>0</td>\n",
       "      <td>1</td>\n",
       "      <td>-0.430585</td>\n",
       "      <td>0.318132</td>\n",
       "      <td>0</td>\n",
       "      <td>0</td>\n",
       "      <td>0</td>\n",
       "    </tr>\n",
       "    <tr>\n",
       "      <th>1</th>\n",
       "      <td>1</td>\n",
       "      <td>รอบ 2</td>\n",
       "      <td>boltyanskiyy</td>\n",
       "      <td>Yoru</td>\n",
       "      <td>Pro</td>\n",
       "      <td>win</td>\n",
       "      <td>survive</td>\n",
       "      <td>HAVEN</td>\n",
       "      <td>Yoru_Pro</td>\n",
       "      <td>0</td>\n",
       "      <td>...</td>\n",
       "      <td>0</td>\n",
       "      <td>0</td>\n",
       "      <td>0</td>\n",
       "      <td>0</td>\n",
       "      <td>1</td>\n",
       "      <td>-0.522199</td>\n",
       "      <td>0.136863</td>\n",
       "      <td>0</td>\n",
       "      <td>0</td>\n",
       "      <td>0</td>\n",
       "    </tr>\n",
       "    <tr>\n",
       "      <th>2</th>\n",
       "      <td>2</td>\n",
       "      <td>รอบ 3</td>\n",
       "      <td>boltyanskiyy</td>\n",
       "      <td>Yoru</td>\n",
       "      <td>Pro</td>\n",
       "      <td>win</td>\n",
       "      <td>dead</td>\n",
       "      <td>HAVEN</td>\n",
       "      <td>Yoru_Pro</td>\n",
       "      <td>0</td>\n",
       "      <td>...</td>\n",
       "      <td>0</td>\n",
       "      <td>0</td>\n",
       "      <td>0</td>\n",
       "      <td>0</td>\n",
       "      <td>1</td>\n",
       "      <td>-0.607993</td>\n",
       "      <td>0.375150</td>\n",
       "      <td>0</td>\n",
       "      <td>0</td>\n",
       "      <td>0</td>\n",
       "    </tr>\n",
       "    <tr>\n",
       "      <th>3</th>\n",
       "      <td>3</td>\n",
       "      <td>รอบ 4</td>\n",
       "      <td>boltyanskiyy</td>\n",
       "      <td>Yoru</td>\n",
       "      <td>Pro</td>\n",
       "      <td>win</td>\n",
       "      <td>dead</td>\n",
       "      <td>HAVEN</td>\n",
       "      <td>Yoru_Pro</td>\n",
       "      <td>0</td>\n",
       "      <td>...</td>\n",
       "      <td>0</td>\n",
       "      <td>0</td>\n",
       "      <td>0</td>\n",
       "      <td>0</td>\n",
       "      <td>1</td>\n",
       "      <td>-0.577988</td>\n",
       "      <td>-0.111179</td>\n",
       "      <td>0</td>\n",
       "      <td>0</td>\n",
       "      <td>0</td>\n",
       "    </tr>\n",
       "    <tr>\n",
       "      <th>4</th>\n",
       "      <td>4</td>\n",
       "      <td>รอบ 5</td>\n",
       "      <td>boltyanskiyy</td>\n",
       "      <td>Yoru</td>\n",
       "      <td>Pro</td>\n",
       "      <td>win</td>\n",
       "      <td>survive</td>\n",
       "      <td>HAVEN</td>\n",
       "      <td>Yoru_Pro</td>\n",
       "      <td>0</td>\n",
       "      <td>...</td>\n",
       "      <td>0</td>\n",
       "      <td>0</td>\n",
       "      <td>0</td>\n",
       "      <td>0</td>\n",
       "      <td>1</td>\n",
       "      <td>-0.412371</td>\n",
       "      <td>0.265295</td>\n",
       "      <td>0</td>\n",
       "      <td>0</td>\n",
       "      <td>0</td>\n",
       "    </tr>\n",
       "  </tbody>\n",
       "</table>\n",
       "<p>5 rows × 207 columns</p>\n",
       "</div>"
      ],
      "text/plain": [
       "   Unnamed: 0  round       streamer character pro_player result     dead  \\\n",
       "0           0  รอบ 1   boltyanskiyy      Yoru        Pro    win  survive   \n",
       "1           1  รอบ 2   boltyanskiyy      Yoru        Pro    win  survive   \n",
       "2           2  รอบ 3   boltyanskiyy      Yoru        Pro    win     dead   \n",
       "3           3  รอบ 4   boltyanskiyy      Yoru        Pro    win     dead   \n",
       "4           4  รอบ 5   boltyanskiyy      Yoru        Pro    win  survive   \n",
       "\n",
       "     Map     sheet  138  ...  578  582  583  584  taget      PCA1      PCA2  \\\n",
       "0  HAVEN  Yoru_Pro    0  ...    0    0    0    0      1 -0.430585  0.318132   \n",
       "1  HAVEN  Yoru_Pro    0  ...    0    0    0    0      1 -0.522199  0.136863   \n",
       "2  HAVEN  Yoru_Pro    0  ...    0    0    0    0      1 -0.607993  0.375150   \n",
       "3  HAVEN  Yoru_Pro    0  ...    0    0    0    0      1 -0.577988 -0.111179   \n",
       "4  HAVEN  Yoru_Pro    0  ...    0    0    0    0      1 -0.412371  0.265295   \n",
       "\n",
       "   Cluster_K2  Cluster_K3  Cluster_K4  \n",
       "0           0           0           0  \n",
       "1           0           0           0  \n",
       "2           0           0           0  \n",
       "3           0           0           0  \n",
       "4           0           0           0  \n",
       "\n",
       "[5 rows x 207 columns]"
      ]
     },
     "execution_count": 86,
     "metadata": {},
     "output_type": "execute_result"
    }
   ],
   "source": [
    "pca_df00 = pca_df[['PCA1', 'PCA2','Cluster_K2','Cluster_K3','Cluster_K4']]\n",
    "result00 = pd.concat([dfAll_Stream, pca_df00], axis=1)\n",
    "print(result00.shape)\n",
    "result00.head()"
   ]
  },
  {
   "cell_type": "code",
   "execution_count": 90,
   "id": "b7ca5955",
   "metadata": {},
   "outputs": [
    {
     "name": "stdout",
     "output_type": "stream",
     "text": [
      "192\n",
      "192\n"
     ]
    },
    {
     "data": {
      "text/plain": [
       "['Action-138',\n",
       " 'Action-142',\n",
       " 'Action-143',\n",
       " 'Action-144',\n",
       " 'Action-146',\n",
       " 'Action-150',\n",
       " 'Action-151',\n",
       " 'Action-152',\n",
       " 'Action-154',\n",
       " 'Action-158',\n",
       " 'Action-159',\n",
       " 'Action-160',\n",
       " 'Action-162',\n",
       " 'Action-166',\n",
       " 'Action-167',\n",
       " 'Action-168',\n",
       " 'Action-170',\n",
       " 'Action-174',\n",
       " 'Action-175',\n",
       " 'Action-176',\n",
       " 'Action-178',\n",
       " 'Action-182',\n",
       " 'Action-183',\n",
       " 'Action-184',\n",
       " 'Action-186',\n",
       " 'Action-190',\n",
       " 'Action-191',\n",
       " 'Action-192',\n",
       " 'Action-194',\n",
       " 'Action-198',\n",
       " 'Action-199',\n",
       " 'Action-200',\n",
       " 'Action-202',\n",
       " 'Action-206',\n",
       " 'Action-207',\n",
       " 'Action-208',\n",
       " 'Action-210',\n",
       " 'Action-214',\n",
       " 'Action-215',\n",
       " 'Action-216',\n",
       " 'Action-218',\n",
       " 'Action-222',\n",
       " 'Action-223',\n",
       " 'Action-224',\n",
       " 'Action-226',\n",
       " 'Action-230',\n",
       " 'Action-231',\n",
       " 'Action-232',\n",
       " 'Action-234',\n",
       " 'Action-238',\n",
       " 'Action-239',\n",
       " 'Action-240',\n",
       " 'Action-242',\n",
       " 'Action-246',\n",
       " 'Action-247',\n",
       " 'Action-248',\n",
       " 'Action-250',\n",
       " 'Action-254',\n",
       " 'Action-255',\n",
       " 'Action-256',\n",
       " 'Action-258',\n",
       " 'Action-262',\n",
       " 'Action-263',\n",
       " 'Action-264',\n",
       " 'Action-330',\n",
       " 'Action-334',\n",
       " 'Action-335',\n",
       " 'Action-336',\n",
       " 'Action-338',\n",
       " 'Action-342',\n",
       " 'Action-343',\n",
       " 'Action-344',\n",
       " 'Action-346',\n",
       " 'Action-350',\n",
       " 'Action-351',\n",
       " 'Action-352',\n",
       " 'Action-354',\n",
       " 'Action-358',\n",
       " 'Action-359',\n",
       " 'Action-360',\n",
       " 'Action-362',\n",
       " 'Action-366',\n",
       " 'Action-367',\n",
       " 'Action-368',\n",
       " 'Action-370',\n",
       " 'Action-374',\n",
       " 'Action-375',\n",
       " 'Action-376',\n",
       " 'Action-378',\n",
       " 'Action-382',\n",
       " 'Action-383',\n",
       " 'Action-384',\n",
       " 'Action-386',\n",
       " 'Action-390',\n",
       " 'Action-391',\n",
       " 'Action-392',\n",
       " 'Action-394',\n",
       " 'Action-398',\n",
       " 'Action-399',\n",
       " 'Action-400',\n",
       " 'Action-402',\n",
       " 'Action-406',\n",
       " 'Action-407',\n",
       " 'Action-408',\n",
       " 'Action-410',\n",
       " 'Action-414',\n",
       " 'Action-415',\n",
       " 'Action-416',\n",
       " 'Action-418',\n",
       " 'Action-422',\n",
       " 'Action-423',\n",
       " 'Action-424',\n",
       " 'Action-426',\n",
       " 'Action-430',\n",
       " 'Action-431',\n",
       " 'Action-432',\n",
       " 'Action-434',\n",
       " 'Action-438',\n",
       " 'Action-439',\n",
       " 'Action-440',\n",
       " 'Action-442',\n",
       " 'Action-446',\n",
       " 'Action-447',\n",
       " 'Action-448',\n",
       " 'Action-450',\n",
       " 'Action-454',\n",
       " 'Action-455',\n",
       " 'Action-456',\n",
       " 'Action-458',\n",
       " 'Action-462',\n",
       " 'Action-463',\n",
       " 'Action-464',\n",
       " 'Action-466',\n",
       " 'Action-470',\n",
       " 'Action-471',\n",
       " 'Action-472',\n",
       " 'Action-474',\n",
       " 'Action-478',\n",
       " 'Action-479',\n",
       " 'Action-480',\n",
       " 'Action-482',\n",
       " 'Action-486',\n",
       " 'Action-487',\n",
       " 'Action-488',\n",
       " 'Action-490',\n",
       " 'Action-494',\n",
       " 'Action-495',\n",
       " 'Action-496',\n",
       " 'Action-498',\n",
       " 'Action-502',\n",
       " 'Action-503',\n",
       " 'Action-504',\n",
       " 'Action-506',\n",
       " 'Action-510',\n",
       " 'Action-511',\n",
       " 'Action-512',\n",
       " 'Action-514',\n",
       " 'Action-518',\n",
       " 'Action-519',\n",
       " 'Action-520',\n",
       " 'Action-522',\n",
       " 'Action-526',\n",
       " 'Action-527',\n",
       " 'Action-528',\n",
       " 'Action-530',\n",
       " 'Action-534',\n",
       " 'Action-535',\n",
       " 'Action-536',\n",
       " 'Action-538',\n",
       " 'Action-542',\n",
       " 'Action-543',\n",
       " 'Action-544',\n",
       " 'Action-546',\n",
       " 'Action-550',\n",
       " 'Action-551',\n",
       " 'Action-552',\n",
       " 'Action-554',\n",
       " 'Action-558',\n",
       " 'Action-559',\n",
       " 'Action-560',\n",
       " 'Action-562',\n",
       " 'Action-566',\n",
       " 'Action-567',\n",
       " 'Action-568',\n",
       " 'Action-570',\n",
       " 'Action-574',\n",
       " 'Action-575',\n",
       " 'Action-576',\n",
       " 'Action-578',\n",
       " 'Action-582',\n",
       " 'Action-583',\n",
       " 'Action-584']"
      ]
     },
     "execution_count": 90,
     "metadata": {},
     "output_type": "execute_result"
    }
   ],
   "source": [
    "#my_list = list(range(1, 585))\n",
    "my_list = list(X.columns)\n",
    "print(len(my_list))\n",
    "#my_list\n",
    "action_number = []\n",
    "for i in range(len(my_list)):\n",
    "    action_number.append(\"Action-\"+my_list[i])\n",
    "print(len(action_number))\n",
    "action_number"
   ]
  },
  {
   "cell_type": "code",
   "execution_count": 98,
   "id": "e77389b7",
   "metadata": {},
   "outputs": [],
   "source": [
    "def sum_action(result00, Cluster_K):\n",
    "    cluster = list(set(result00[Cluster_K]))\n",
    "    action_listG = []\n",
    "    for c in cluster:\n",
    "        G1 = result00[result00[Cluster_K]==c].reset_index(drop=True)\n",
    "        print(G1.shape)\n",
    "\n",
    "        action_listG1 = []\n",
    "        for k in my_list:\n",
    "            action_listG1.append(sum(G1[f\"{k}\"]))\n",
    "        action_listG.append(action_listG1)\n",
    "\n",
    "        print(len(action_listG1))\n",
    "        element_maxG1 = max(action_listG1)\n",
    "        freq_actoion = action_listG1.index(element_maxG1)\n",
    "        print(f\"Group {c+1} : Action Order: {freq_actoion+1} ==> {element_maxG1} time\")\n",
    "        print(\"-\"*125)\n",
    "        \n",
    "    return action_listG"
   ]
  },
  {
   "cell_type": "code",
   "execution_count": 99,
   "id": "822889c5",
   "metadata": {},
   "outputs": [],
   "source": [
    "def gropby_cluster(pca_df, Cluster_K):\n",
    "\n",
    "    pca_df0 = pca_df[['PCA1', 'PCA2', Cluster_K]]\n",
    "    result = pd.concat([dfAll_Stream, pca_df0], axis=1)\n",
    "    #print(result.shape)\n",
    "\n",
    "    result['COUNTER'] =1       #initially, set that counter to 1.\n",
    "    group_data = result.groupby([Cluster_K,'pro_player','character', 'result', 'dead'])['COUNTER'].sum() #sum function\n",
    "    #print(group_data)\n",
    "    grouped_df = group_data.to_frame()\n",
    "    \n",
    "    return grouped_df"
   ]
  },
  {
   "cell_type": "code",
   "execution_count": 100,
   "id": "9d397fbc",
   "metadata": {},
   "outputs": [],
   "source": [
    "import matplotlib.pyplot as plt\n",
    "from numpy.random import random\n",
    "\n",
    "\n",
    "def plotXY_centroids(pca_df, centroids_V):\n",
    "    dfYoru_Pro = pca_df[pca_df[\"target\"]=='Yoru_Pro']\n",
    "    dfYoru_Normal = pca_df[pca_df[\"target\"]=='Yoru_Normal']\n",
    "    dfSage_Pro = pca_df[pca_df[\"target\"]=='Sage_Pro']\n",
    "    dfSage_Normal = pca_df[pca_df[\"target\"]=='Sage_Normal']\n",
    "    dfJett_Pro = pca_df[pca_df[\"target\"]=='Jett_Pro']\n",
    "    dfJett_Normal = pca_df[pca_df[\"target\"]=='Jett_Normal']\n",
    "    dfHarbor_Pro = pca_df[pca_df[\"target\"]=='Harbor_Pro']\n",
    "    dfHarbor_Normal = pca_df[pca_df[\"target\"]=='Harbor_Normal']\n",
    "\n",
    "\n",
    "    #fig = plt.figure(figsize=(8, 5))\n",
    "\n",
    "    marker_ = [\"d\", \"o\",\"v\", \"^\", \"<\", \"D\", \"*\", \"+\"]\n",
    "\n",
    "    Yoru_Pro = plt.scatter(dfYoru_Pro[\"PCA1\"], dfYoru_Pro[\"PCA2\"], marker=marker_[0], color='red')\n",
    "    Yoru_Normal = plt.scatter(dfYoru_Normal[\"PCA1\"], dfYoru_Normal[\"PCA2\"], marker=marker_[0], color='blue')\n",
    "    Sage_Pro = plt.scatter(dfSage_Pro[\"PCA1\"], dfSage_Pro[\"PCA2\"], marker=marker_[2], color='red')\n",
    "    Sage_Normal = plt.scatter(dfSage_Normal[\"PCA1\"], dfSage_Normal[\"PCA2\"], marker=marker_[2], color='blue')\n",
    "    Jett_Pro = plt.scatter(dfJett_Pro[\"PCA1\"], dfJett_Pro[\"PCA2\"], marker=marker_[4], color='red')\n",
    "    Jett_Normal = plt.scatter(dfJett_Normal[\"PCA1\"], dfJett_Normal[\"PCA2\"], marker=marker_[4], color='blue')\n",
    "    Harbor_Pro = plt.scatter(dfHarbor_Pro[\"PCA1\"], dfHarbor_Pro[\"PCA2\"], marker=marker_[6], color='red')\n",
    "    Harbor_Normal = plt.scatter(dfHarbor_Normal[\"PCA1\"], dfHarbor_Normal[\"PCA2\"], marker=marker_[6], color='blue')\n",
    "\n",
    "\n",
    "    plt.legend((Yoru_Pro, Yoru_Normal, Sage_Pro, Sage_Normal, Jett_Pro, Jett_Normal, Harbor_Pro, Harbor_Normal),\n",
    "               ('Yoru_Pro', 'Yoru_Normal', 'Sage_Pro', 'Sage_Normal', 'Jett_Pro', 'Jett_Normal', 'Harbor_Pro', 'Harbor_Normal'),\n",
    "               scatterpoints=1,\n",
    "               loc='upper left',\n",
    "               ncol=3,\n",
    "               fontsize=8)\n",
    "\n",
    "    #plt.scatter(centroids_V2[:,0], centroids_V2[:,1], marker=\"x\", color='k', s=300)\n",
    "    plt.scatter(centroids_V[:, 0], centroids_V[:, 1],\n",
    "                    marker='x', s=300, linewidths=3,\n",
    "                    color='cyan', zorder=10,lw=3)\n",
    "\n",
    "    plt.xlabel(\"Principal Component 1\")\n",
    "    plt.ylabel(\"Principal Component 2\")\n",
    "    plt.title('2D PCA Graph of Valorant Dataset', fontsize=18)\n",
    "    plt.show()"
   ]
  },
  {
   "cell_type": "markdown",
   "id": "474c7780",
   "metadata": {},
   "source": [
    "> ## K=2"
   ]
  },
  {
   "cell_type": "code",
   "execution_count": 149,
   "id": "0d2c876e",
   "metadata": {},
   "outputs": [],
   "source": [
    "## Set Cluster\n",
    "Cluster_K = 'Cluster_K2'"
   ]
  },
  {
   "cell_type": "code",
   "execution_count": 152,
   "id": "ea6072d2",
   "metadata": {},
   "outputs": [
    {
     "name": "stdout",
     "output_type": "stream",
     "text": [
      "(751, 207)\n",
      "192\n",
      "Group 1 : Action Order: 41 ==> 2781 time\n",
      "-----------------------------------------------------------------------------------------------------------------------------\n",
      "(44, 207)\n",
      "192\n",
      "Group 2 : Action Order: 41 ==> 197 time\n",
      "-----------------------------------------------------------------------------------------------------------------------------\n",
      "***Group A*** with 5 highest action:\n",
      "Keys: Values\n",
      "Action-218  : 2781  \n",
      "Action-362  : 253  \n",
      "Action-224  : 199  \n",
      "Action-368  : 162  \n",
      "Action-438  : 58  \n",
      "=============================================================================================================================\n",
      "***Group B*** with 5 highest action:\n",
      "Keys: Values\n",
      "Action-218  : 197  \n",
      "Action-511  : 31  \n",
      "Action-575  : 31  \n",
      "Action-506  : 22  \n",
      "Action-570  : 22  \n"
     ]
    }
   ],
   "source": [
    "from collections import Counter\n",
    "\n",
    "action_listG = sum_action(result00, Cluster_K)\n",
    "A = action_listG[0]\n",
    "B = action_listG[1]\n",
    "## Create Dictionary.\n",
    "dicA = {action_number[i]: A[i] for i in range(len(action_number))}\n",
    "dicB = {action_number[i]: B[i] for i in range(len(action_number))}\n",
    "\n",
    "\n",
    "# finding 3 highest values in a Dictionary \n",
    "'''\n",
    "Group 1\n",
    "'''\n",
    "k_dicA = Counter(dicA)\n",
    "highA = k_dicA.most_common(5) \n",
    "print(\"***Group A*** with 5 highest action:\")\n",
    "print(\"Keys: Values\")\n",
    " \n",
    "for i in highA:\n",
    "    print(i[0],\" :\",i[1],\" \")\n",
    "print(\"=\"*125)\n",
    "\n",
    "'''\n",
    "Group 2\n",
    "'''\n",
    "k_dicB = Counter(dicB)\n",
    "highB = k_dicB.most_common(5) \n",
    "print(\"***Group B*** with 5 highest action:\")\n",
    "print(\"Keys: Values\")\n",
    " \n",
    "for i in highB:\n",
    "    print(i[0],\" :\",i[1],\" \")"
   ]
  },
  {
   "cell_type": "markdown",
   "id": "f86edefd",
   "metadata": {},
   "source": [
    "> ## K=3"
   ]
  },
  {
   "cell_type": "code",
   "execution_count": 103,
   "id": "cbf707bc",
   "metadata": {},
   "outputs": [],
   "source": [
    "## Set Cluster\n",
    "Cluster_K = 'Cluster_K3'"
   ]
  },
  {
   "cell_type": "code",
   "execution_count": 104,
   "id": "a38122eb",
   "metadata": {},
   "outputs": [
    {
     "name": "stdout",
     "output_type": "stream",
     "text": [
      "(749, 207)\n",
      "192\n",
      "Group 1 : Action Order: 41 ==> 2779 time\n",
      "-----------------------------------------------------------------------------------------------------------------------------\n",
      "(2, 207)\n",
      "192\n",
      "Group 2 : Action Order: 41 ==> 2 time\n",
      "-----------------------------------------------------------------------------------------------------------------------------\n",
      "(44, 207)\n",
      "192\n",
      "Group 3 : Action Order: 41 ==> 197 time\n",
      "-----------------------------------------------------------------------------------------------------------------------------\n",
      "***Group A*** with 3 highest action:\n",
      "Keys: Values\n",
      "Action-218  : 2779  \n",
      "Action-362  : 252  \n",
      "Action-224  : 199  \n",
      "=============================================================================================================================\n",
      "***Group B*** with 3 highest action:\n",
      "Keys: Values\n",
      "Action-218  : 2  \n",
      "Action-512  : 2  \n",
      "Action-576  : 2  \n",
      "***Group C*** with 3 highest action:\n",
      "Keys: Values\n",
      "Action-218  : 197  \n",
      "Action-511  : 31  \n",
      "Action-575  : 31  \n"
     ]
    }
   ],
   "source": [
    "from collections import Counter\n",
    "\n",
    "action_listG = sum_action(result00, Cluster_K)\n",
    "A = action_listG[0]\n",
    "B = action_listG[1]\n",
    "C = action_listG[2]\n",
    "## Create Dictionary.\n",
    "dicA = {action_number[i]: A[i] for i in range(len(action_number))}\n",
    "dicB = {action_number[i]: B[i] for i in range(len(action_number))}\n",
    "dicC = {action_number[i]: C[i] for i in range(len(action_number))}\n",
    "\n",
    "# finding 3 highest values in a Dictionary \n",
    "'''\n",
    "Group 1 \n",
    "'''\n",
    "k_dicA = Counter(dicA)\n",
    "highA = k_dicA.most_common(3) \n",
    "print(\"***Group A*** with 3 highest action:\")\n",
    "print(\"Keys: Values\")\n",
    " \n",
    "for i in highA:\n",
    "    print(i[0],\" :\",i[1],\" \")\n",
    "print(\"=\"*125)\n",
    "\n",
    "'''\n",
    "Group 2\n",
    "'''\n",
    "\n",
    "k_dicB = Counter(dicB)\n",
    "highB = k_dicB.most_common(3) \n",
    "print(\"***Group B*** with 3 highest action:\")\n",
    "print(\"Keys: Values\")\n",
    " \n",
    "for i in highB:\n",
    "    print(i[0],\" :\",i[1],\" \")\n",
    "    \n",
    "'''\n",
    "Group 3 \n",
    "\n",
    "'''\n",
    "k_dicC = Counter(dicC)\n",
    "highC = k_dicC.most_common(3) \n",
    "print(\"***Group C*** with 3 highest action:\")\n",
    "print(\"Keys: Values\")\n",
    " \n",
    "for i in highC:\n",
    "    print(i[0],\" :\",i[1],\" \")"
   ]
  },
  {
   "cell_type": "markdown",
   "id": "2bc99fd8",
   "metadata": {},
   "source": [
    "> ## K=4"
   ]
  },
  {
   "cell_type": "code",
   "execution_count": 106,
   "id": "d31661c7",
   "metadata": {},
   "outputs": [],
   "source": [
    "## Set Cluster\n",
    "Cluster_K = 'Cluster_K4'"
   ]
  },
  {
   "cell_type": "code",
   "execution_count": 107,
   "id": "707ee073",
   "metadata": {},
   "outputs": [
    {
     "name": "stdout",
     "output_type": "stream",
     "text": [
      "(749, 207)\n",
      "192\n",
      "Group 1 : Action Order: 41 ==> 2779 time\n",
      "-----------------------------------------------------------------------------------------------------------------------------\n",
      "(23, 207)\n",
      "192\n",
      "Group 2 : Action Order: 41 ==> 56 time\n",
      "-----------------------------------------------------------------------------------------------------------------------------\n",
      "(21, 207)\n",
      "192\n",
      "Group 3 : Action Order: 41 ==> 141 time\n",
      "-----------------------------------------------------------------------------------------------------------------------------\n",
      "(2, 207)\n",
      "192\n",
      "Group 4 : Action Order: 41 ==> 2 time\n",
      "-----------------------------------------------------------------------------------------------------------------------------\n",
      "***Group A*** with 3 highest action:\n",
      "Keys: Values\n",
      "Action-218  : 2779  \n",
      "Action-362  : 252  \n",
      "Action-224  : 199  \n",
      "=============================================================================================================================\n",
      "***Group B*** with 3 highest action:\n",
      "Keys: Values\n",
      "Action-218  : 56  \n",
      "Action-511  : 26  \n",
      "Action-575  : 26  \n",
      "***Group C*** with 3 highest action:\n",
      "Keys: Values\n",
      "Action-218  : 141  \n",
      "Action-506  : 22  \n",
      "Action-570  : 22  \n",
      "***Group D*** with 3 highest action:\n",
      "Keys: Values\n",
      "Action-218  : 2  \n",
      "Action-512  : 2  \n",
      "Action-576  : 2  \n"
     ]
    }
   ],
   "source": [
    "from collections import Counter\n",
    "\n",
    "action_listG = sum_action(result00, Cluster_K)\n",
    "A = action_listG[0]\n",
    "B = action_listG[1]\n",
    "C = action_listG[2]\n",
    "D = action_listG[3]\n",
    "## Create Dictionary.\n",
    "dicA = {action_number[i]: A[i] for i in range(len(action_number))}\n",
    "dicB = {action_number[i]: B[i] for i in range(len(action_number))}\n",
    "dicC = {action_number[i]: C[i] for i in range(len(action_number))}\n",
    "dicD = {action_number[i]: D[i] for i in range(len(action_number))}\n",
    "\n",
    "# finding 3 highest values in a Dictionary \n",
    "'''\n",
    "Group 1 \n",
    "'''\n",
    "k_dicA = Counter(dicA)\n",
    "highA = k_dicA.most_common(3) \n",
    "print(\"***Group A*** with 3 highest action:\")\n",
    "print(\"Keys: Values\")\n",
    " \n",
    "for i in highA:\n",
    "    print(i[0],\" :\",i[1],\" \")\n",
    "print(\"=\"*125)\n",
    "\n",
    "'''\n",
    "Group 2\n",
    "'''\n",
    "\n",
    "k_dicB = Counter(dicB)\n",
    "highB = k_dicB.most_common(3) \n",
    "print(\"***Group B*** with 3 highest action:\")\n",
    "print(\"Keys: Values\")\n",
    " \n",
    "for i in highB:\n",
    "    print(i[0],\" :\",i[1],\" \")\n",
    "    \n",
    "'''\n",
    "Group 3 \n",
    "\n",
    "'''\n",
    "k_dicC = Counter(dicC)\n",
    "highC = k_dicC.most_common(3) \n",
    "print(\"***Group C*** with 3 highest action:\")\n",
    "print(\"Keys: Values\")\n",
    " \n",
    "for i in highC:\n",
    "    print(i[0],\" :\",i[1],\" \")\n",
    "    \n",
    "\n",
    "'''\n",
    "Group 4\n",
    "\n",
    "'''\n",
    "k_dicD = Counter(dicD)\n",
    "highD = k_dicD.most_common(3) \n",
    "print(\"***Group D*** with 3 highest action:\")\n",
    "print(\"Keys: Values\")\n",
    " \n",
    "for i in highD:\n",
    "    print(i[0],\" :\",i[1],\" \")"
   ]
  },
  {
   "cell_type": "markdown",
   "id": "3e5f4bed",
   "metadata": {},
   "source": [
    "-------------------------------"
   ]
  },
  {
   "cell_type": "code",
   "execution_count": 113,
   "id": "3ec336e9",
   "metadata": {},
   "outputs": [],
   "source": [
    "Cluster_K = 'Cluster_K2'"
   ]
  },
  {
   "cell_type": "code",
   "execution_count": 114,
   "id": "43cb7cf6",
   "metadata": {},
   "outputs": [
    {
     "data": {
      "text/html": [
       "<div>\n",
       "<style scoped>\n",
       "    .dataframe tbody tr th:only-of-type {\n",
       "        vertical-align: middle;\n",
       "    }\n",
       "\n",
       "    .dataframe tbody tr th {\n",
       "        vertical-align: top;\n",
       "    }\n",
       "\n",
       "    .dataframe thead th {\n",
       "        text-align: right;\n",
       "    }\n",
       "</style>\n",
       "<table border=\"1\" class=\"dataframe\">\n",
       "  <thead>\n",
       "    <tr style=\"text-align: right;\">\n",
       "      <th></th>\n",
       "      <th></th>\n",
       "      <th></th>\n",
       "      <th></th>\n",
       "      <th></th>\n",
       "      <th>COUNTER</th>\n",
       "    </tr>\n",
       "    <tr>\n",
       "      <th>Cluster_K2</th>\n",
       "      <th>pro_player</th>\n",
       "      <th>character</th>\n",
       "      <th>result</th>\n",
       "      <th>dead</th>\n",
       "      <th></th>\n",
       "    </tr>\n",
       "  </thead>\n",
       "  <tbody>\n",
       "    <tr>\n",
       "      <th rowspan=\"30\" valign=\"top\">0</th>\n",
       "      <th rowspan=\"15\" valign=\"top\">Normal</th>\n",
       "      <th rowspan=\"4\" valign=\"top\">Harbor</th>\n",
       "      <th rowspan=\"2\" valign=\"top\">lose</th>\n",
       "      <th>dead</th>\n",
       "      <td>59</td>\n",
       "    </tr>\n",
       "    <tr>\n",
       "      <th>survive</th>\n",
       "      <td>1</td>\n",
       "    </tr>\n",
       "    <tr>\n",
       "      <th rowspan=\"2\" valign=\"top\">win</th>\n",
       "      <th>dead</th>\n",
       "      <td>25</td>\n",
       "    </tr>\n",
       "    <tr>\n",
       "      <th>survive</th>\n",
       "      <td>23</td>\n",
       "    </tr>\n",
       "    <tr>\n",
       "      <th rowspan=\"3\" valign=\"top\">Jett</th>\n",
       "      <th>lose</th>\n",
       "      <th>dead</th>\n",
       "      <td>57</td>\n",
       "    </tr>\n",
       "    <tr>\n",
       "      <th rowspan=\"2\" valign=\"top\">win</th>\n",
       "      <th>dead</th>\n",
       "      <td>25</td>\n",
       "    </tr>\n",
       "    <tr>\n",
       "      <th>survive</th>\n",
       "      <td>17</td>\n",
       "    </tr>\n",
       "    <tr>\n",
       "      <th rowspan=\"4\" valign=\"top\">Yoru</th>\n",
       "      <th rowspan=\"2\" valign=\"top\">lose</th>\n",
       "      <th>dead</th>\n",
       "      <td>46</td>\n",
       "    </tr>\n",
       "    <tr>\n",
       "      <th>survive</th>\n",
       "      <td>3</td>\n",
       "    </tr>\n",
       "    <tr>\n",
       "      <th rowspan=\"2\" valign=\"top\">win</th>\n",
       "      <th>dead</th>\n",
       "      <td>24</td>\n",
       "    </tr>\n",
       "    <tr>\n",
       "      <th>survive</th>\n",
       "      <td>17</td>\n",
       "    </tr>\n",
       "    <tr>\n",
       "      <th rowspan=\"4\" valign=\"top\">sage</th>\n",
       "      <th rowspan=\"2\" valign=\"top\">lose</th>\n",
       "      <th>dead</th>\n",
       "      <td>32</td>\n",
       "    </tr>\n",
       "    <tr>\n",
       "      <th>survive</th>\n",
       "      <td>14</td>\n",
       "    </tr>\n",
       "    <tr>\n",
       "      <th rowspan=\"2\" valign=\"top\">win</th>\n",
       "      <th>dead</th>\n",
       "      <td>21</td>\n",
       "    </tr>\n",
       "    <tr>\n",
       "      <th>survive</th>\n",
       "      <td>17</td>\n",
       "    </tr>\n",
       "    <tr>\n",
       "      <th rowspan=\"15\" valign=\"top\">Pro</th>\n",
       "      <th rowspan=\"4\" valign=\"top\">Harbor</th>\n",
       "      <th>dead</th>\n",
       "      <th>lose</th>\n",
       "      <td>1</td>\n",
       "    </tr>\n",
       "    <tr>\n",
       "      <th>lose</th>\n",
       "      <th>dead</th>\n",
       "      <td>47</td>\n",
       "    </tr>\n",
       "    <tr>\n",
       "      <th rowspan=\"2\" valign=\"top\">win</th>\n",
       "      <th>dead</th>\n",
       "      <td>30</td>\n",
       "    </tr>\n",
       "    <tr>\n",
       "      <th>survive</th>\n",
       "      <td>19</td>\n",
       "    </tr>\n",
       "    <tr>\n",
       "      <th rowspan=\"3\" valign=\"top\">Jett</th>\n",
       "      <th>lose</th>\n",
       "      <th>dead</th>\n",
       "      <td>55</td>\n",
       "    </tr>\n",
       "    <tr>\n",
       "      <th rowspan=\"2\" valign=\"top\">win</th>\n",
       "      <th>dead</th>\n",
       "      <td>24</td>\n",
       "    </tr>\n",
       "    <tr>\n",
       "      <th>survive</th>\n",
       "      <td>28</td>\n",
       "    </tr>\n",
       "    <tr>\n",
       "      <th rowspan=\"4\" valign=\"top\">Yoru</th>\n",
       "      <th rowspan=\"2\" valign=\"top\">lose</th>\n",
       "      <th>dead</th>\n",
       "      <td>23</td>\n",
       "    </tr>\n",
       "    <tr>\n",
       "      <th>survive</th>\n",
       "      <td>4</td>\n",
       "    </tr>\n",
       "    <tr>\n",
       "      <th rowspan=\"2\" valign=\"top\">win</th>\n",
       "      <th>dead</th>\n",
       "      <td>47</td>\n",
       "    </tr>\n",
       "    <tr>\n",
       "      <th>survive</th>\n",
       "      <td>9</td>\n",
       "    </tr>\n",
       "    <tr>\n",
       "      <th rowspan=\"4\" valign=\"top\">sage</th>\n",
       "      <th rowspan=\"2\" valign=\"top\">lose</th>\n",
       "      <th>dead</th>\n",
       "      <td>41</td>\n",
       "    </tr>\n",
       "    <tr>\n",
       "      <th>survive</th>\n",
       "      <td>5</td>\n",
       "    </tr>\n",
       "    <tr>\n",
       "      <th rowspan=\"2\" valign=\"top\">win</th>\n",
       "      <th>dead</th>\n",
       "      <td>27</td>\n",
       "    </tr>\n",
       "    <tr>\n",
       "      <th>survive</th>\n",
       "      <td>10</td>\n",
       "    </tr>\n",
       "    <tr>\n",
       "      <th rowspan=\"21\" valign=\"top\">1</th>\n",
       "      <th rowspan=\"14\" valign=\"top\">Normal</th>\n",
       "      <th rowspan=\"3\" valign=\"top\">Harbor</th>\n",
       "      <th>lose</th>\n",
       "      <th>dead</th>\n",
       "      <td>1</td>\n",
       "    </tr>\n",
       "    <tr>\n",
       "      <th rowspan=\"2\" valign=\"top\">win</th>\n",
       "      <th>dead</th>\n",
       "      <td>1</td>\n",
       "    </tr>\n",
       "    <tr>\n",
       "      <th>survive</th>\n",
       "      <td>1</td>\n",
       "    </tr>\n",
       "    <tr>\n",
       "      <th rowspan=\"3\" valign=\"top\">Jett</th>\n",
       "      <th>lose</th>\n",
       "      <th>dead</th>\n",
       "      <td>2</td>\n",
       "    </tr>\n",
       "    <tr>\n",
       "      <th rowspan=\"2\" valign=\"top\">win</th>\n",
       "      <th>dead</th>\n",
       "      <td>2</td>\n",
       "    </tr>\n",
       "    <tr>\n",
       "      <th>survive</th>\n",
       "      <td>3</td>\n",
       "    </tr>\n",
       "    <tr>\n",
       "      <th rowspan=\"4\" valign=\"top\">Yoru</th>\n",
       "      <th rowspan=\"2\" valign=\"top\">lose</th>\n",
       "      <th>dead</th>\n",
       "      <td>4</td>\n",
       "    </tr>\n",
       "    <tr>\n",
       "      <th>survive</th>\n",
       "      <td>1</td>\n",
       "    </tr>\n",
       "    <tr>\n",
       "      <th rowspan=\"2\" valign=\"top\">win</th>\n",
       "      <th>dead</th>\n",
       "      <td>1</td>\n",
       "    </tr>\n",
       "    <tr>\n",
       "      <th>survive</th>\n",
       "      <td>2</td>\n",
       "    </tr>\n",
       "    <tr>\n",
       "      <th rowspan=\"4\" valign=\"top\">sage</th>\n",
       "      <th rowspan=\"2\" valign=\"top\">lose</th>\n",
       "      <th>dead</th>\n",
       "      <td>3</td>\n",
       "    </tr>\n",
       "    <tr>\n",
       "      <th>survive</th>\n",
       "      <td>1</td>\n",
       "    </tr>\n",
       "    <tr>\n",
       "      <th rowspan=\"2\" valign=\"top\">win</th>\n",
       "      <th>dead</th>\n",
       "      <td>5</td>\n",
       "    </tr>\n",
       "    <tr>\n",
       "      <th>survive</th>\n",
       "      <td>2</td>\n",
       "    </tr>\n",
       "    <tr>\n",
       "      <th rowspan=\"7\" valign=\"top\">Pro</th>\n",
       "      <th>Harbor</th>\n",
       "      <th>win</th>\n",
       "      <th>survive</th>\n",
       "      <td>2</td>\n",
       "    </tr>\n",
       "    <tr>\n",
       "      <th rowspan=\"2\" valign=\"top\">Jett</th>\n",
       "      <th>lose</th>\n",
       "      <th>dead</th>\n",
       "      <td>4</td>\n",
       "    </tr>\n",
       "    <tr>\n",
       "      <th>win</th>\n",
       "      <th>dead</th>\n",
       "      <td>1</td>\n",
       "    </tr>\n",
       "    <tr>\n",
       "      <th rowspan=\"2\" valign=\"top\">Yoru</th>\n",
       "      <th>lose</th>\n",
       "      <th>dead</th>\n",
       "      <td>1</td>\n",
       "    </tr>\n",
       "    <tr>\n",
       "      <th>win</th>\n",
       "      <th>dead</th>\n",
       "      <td>5</td>\n",
       "    </tr>\n",
       "    <tr>\n",
       "      <th rowspan=\"2\" valign=\"top\">sage</th>\n",
       "      <th>lose</th>\n",
       "      <th>survive</th>\n",
       "      <td>1</td>\n",
       "    </tr>\n",
       "    <tr>\n",
       "      <th>win</th>\n",
       "      <th>dead</th>\n",
       "      <td>1</td>\n",
       "    </tr>\n",
       "  </tbody>\n",
       "</table>\n",
       "</div>"
      ],
      "text/plain": [
       "                                                COUNTER\n",
       "Cluster_K2 pro_player character result dead            \n",
       "0          Normal     Harbor    lose   dead          59\n",
       "                                       survive        1\n",
       "                                win    dead          25\n",
       "                                       survive       23\n",
       "                      Jett      lose   dead          57\n",
       "                                win    dead          25\n",
       "                                       survive       17\n",
       "                      Yoru      lose   dead          46\n",
       "                                       survive        3\n",
       "                                win    dead          24\n",
       "                                       survive       17\n",
       "                      sage      lose   dead          32\n",
       "                                       survive       14\n",
       "                                win    dead          21\n",
       "                                       survive       17\n",
       "           Pro        Harbor    dead   lose           1\n",
       "                                lose   dead          47\n",
       "                                win    dead          30\n",
       "                                       survive       19\n",
       "                      Jett      lose   dead          55\n",
       "                                win    dead          24\n",
       "                                       survive       28\n",
       "                      Yoru      lose   dead          23\n",
       "                                       survive        4\n",
       "                                win    dead          47\n",
       "                                       survive        9\n",
       "                      sage      lose   dead          41\n",
       "                                       survive        5\n",
       "                                win    dead          27\n",
       "                                       survive       10\n",
       "1          Normal     Harbor    lose   dead           1\n",
       "                                win    dead           1\n",
       "                                       survive        1\n",
       "                      Jett      lose   dead           2\n",
       "                                win    dead           2\n",
       "                                       survive        3\n",
       "                      Yoru      lose   dead           4\n",
       "                                       survive        1\n",
       "                                win    dead           1\n",
       "                                       survive        2\n",
       "                      sage      lose   dead           3\n",
       "                                       survive        1\n",
       "                                win    dead           5\n",
       "                                       survive        2\n",
       "           Pro        Harbor    win    survive        2\n",
       "                      Jett      lose   dead           4\n",
       "                                win    dead           1\n",
       "                      Yoru      lose   dead           1\n",
       "                                win    dead           5\n",
       "                      sage      lose   survive        1\n",
       "                                win    dead           1"
      ]
     },
     "execution_count": 114,
     "metadata": {},
     "output_type": "execute_result"
    }
   ],
   "source": [
    "dfCluster = gropby_cluster(pca_df, Cluster_K)\n",
    "dfCluster"
   ]
  },
  {
   "cell_type": "code",
   "execution_count": 115,
   "id": "b8ee1358",
   "metadata": {},
   "outputs": [
    {
     "name": "stdout",
     "output_type": "stream",
     "text": [
      "Cluster Group: 1\n",
      "LEVEL: Normal\n",
      "Character : {'sage', 'Harbor', 'Yoru', 'Jett'}\n",
      "----------------------------------------------------------------------------------------------------\n",
      "LEVEL: Pro\n",
      "Character : {'sage', 'Harbor', 'Yoru', 'Jett'}\n",
      "----------------------------------------------------------------------------------------------------\n",
      "*****************************************************************************************************************************\n",
      "Cluster Group: 2\n",
      "LEVEL: Normal\n",
      "Character : {'sage', 'Harbor', 'Yoru', 'Jett'}\n",
      "----------------------------------------------------------------------------------------------------\n",
      "LEVEL: Pro\n",
      "Character : {'sage', 'Harbor', 'Yoru', 'Jett'}\n",
      "----------------------------------------------------------------------------------------------------\n",
      "*****************************************************************************************************************************\n"
     ]
    }
   ],
   "source": [
    "# Convert all multi indexes to columns\n",
    "dfCluster.reset_index(inplace=True)\n",
    "GroupK = list(set(dfCluster[Cluster_K]))\n",
    "for k in GroupK:\n",
    "    print(f\"Cluster Group: {k+1}\")\n",
    "    df_GroupK = dfCluster[dfCluster[Cluster_K]==k].reset_index(drop=True)\n",
    "    level = list(set(df_GroupK[\"pro_player\"]))\n",
    "    for L in level:\n",
    "        df_GroupKLevel = df_GroupK[df_GroupK['pro_player']==L].reset_index(drop=True)\n",
    "        print(f\"LEVEL: {L}\")\n",
    "        set_charec = set(df_GroupKLevel[\"character\"])\n",
    "        print(f\"Character : {set_charec}\")\n",
    "        print(\"-\"*100)\n",
    "    print(\"*\"*125)"
   ]
  },
  {
   "cell_type": "code",
   "execution_count": 116,
   "id": "9b39c370",
   "metadata": {},
   "outputs": [
    {
     "data": {
      "image/png": "[encoded data removed]",
      "text/plain": [
       "<Figure size 900x600 with 1 Axes>"
      ]
     },
     "metadata": {},
     "output_type": "display_data"
    }
   ],
   "source": [
    "plotXY_centroids(pca_df, centroids_V2)"
   ]
  },
  {
   "cell_type": "code",
   "execution_count": null,
   "id": "640fe5b0",
   "metadata": {},
   "outputs": [],
   "source": []
  },
  {
   "cell_type": "code",
   "execution_count": null,
   "id": "c3aba81c",
   "metadata": {},
   "outputs": [],
   "source": []
  },
  {
   "cell_type": "code",
   "execution_count": null,
   "id": "4eb29d34",
   "metadata": {},
   "outputs": [],
   "source": []
  },
  {
   "cell_type": "code",
   "execution_count": null,
   "id": "141684f5",
   "metadata": {},
   "outputs": [],
   "source": []
  },
  {
   "cell_type": "code",
   "execution_count": null,
   "id": "8a15a68c",
   "metadata": {},
   "outputs": [],
   "source": []
  },
  {
   "cell_type": "code",
   "execution_count": null,
   "id": "6d411eda",
   "metadata": {},
   "outputs": [],
   "source": []
  },
  {
   "cell_type": "code",
   "execution_count": null,
   "id": "c4ab6b12",
   "metadata": {},
   "outputs": [],
   "source": []
  },
  {
   "cell_type": "code",
   "execution_count": 117,
   "id": "981f46d4",
   "metadata": {},
   "outputs": [
    {
     "name": "stdout",
     "output_type": "stream",
     "text": [
      "(751, 207)\n",
      "192\n",
      "Group 1 : Action : 41 ==> 2781 time\n",
      "-----------------------------------------------------------------------------------------------------------------------------\n",
      "(44, 207)\n",
      "192\n",
      "Group 2 : Action : 41 ==> 197 time\n",
      "-----------------------------------------------------------------------------------------------------------------------------\n"
     ]
    }
   ],
   "source": [
    "cluster = [0,1]\n",
    "action_listG = []\n",
    "for c in cluster:\n",
    "    G1 = result00[result00[\"Cluster_K2\"]==c].reset_index(drop=True)\n",
    "    print(G1.shape)\n",
    "\n",
    "    action_listG1 = []\n",
    "    for k in my_list:\n",
    "        action_listG1.append(sum(G1[f\"{k}\"]))\n",
    "    action_listG.append(action_listG1)\n",
    "\n",
    "    print(len(action_listG1))\n",
    "    element_maxG1 = max(action_listG1)\n",
    "    freq_actoion = action_listG1.index(element_maxG1)\n",
    "    print(f\"Group {c+1} : Action : {freq_actoion+1} ==> {element_maxG1} time\")\n",
    "    print(\"-\"*125)"
   ]
  },
  {
   "cell_type": "code",
   "execution_count": 118,
   "id": "d70db44e",
   "metadata": {},
   "outputs": [
    {
     "data": {
      "text/plain": [
       "[0,\n",
       " 0,\n",
       " 0,\n",
       " 0,\n",
       " 5,\n",
       " 0,\n",
       " 0,\n",
       " 15,\n",
       " 0,\n",
       " 0,\n",
       " 0,\n",
       " 0,\n",
       " 0,\n",
       " 0,\n",
       " 0,\n",
       " 0,\n",
       " 0,\n",
       " 0,\n",
       " 0,\n",
       " 0,\n",
       " 0,\n",
       " 0,\n",
       " 0,\n",
       " 0,\n",
       " 0,\n",
       " 0,\n",
       " 0,\n",
       " 0,\n",
       " 0,\n",
       " 0,\n",
       " 0,\n",
       " 0,\n",
       " 0,\n",
       " 0,\n",
       " 0,\n",
       " 0,\n",
       " 0,\n",
       " 0,\n",
       " 0,\n",
       " 0,\n",
       " 2781,\n",
       " 53,\n",
       " 8,\n",
       " 199,\n",
       " 0,\n",
       " 0,\n",
       " 0,\n",
       " 0,\n",
       " 0,\n",
       " 0,\n",
       " 0,\n",
       " 0,\n",
       " 0,\n",
       " 0,\n",
       " 0,\n",
       " 0,\n",
       " 0,\n",
       " 0,\n",
       " 0,\n",
       " 0,\n",
       " 0,\n",
       " 0,\n",
       " 0,\n",
       " 0,\n",
       " 0,\n",
       " 0,\n",
       " 0,\n",
       " 0,\n",
       " 0,\n",
       " 0,\n",
       " 0,\n",
       " 0,\n",
       " 0,\n",
       " 0,\n",
       " 0,\n",
       " 0,\n",
       " 0,\n",
       " 0,\n",
       " 0,\n",
       " 0,\n",
       " 253,\n",
       " 2,\n",
       " 1,\n",
       " 162,\n",
       " 0,\n",
       " 0,\n",
       " 0,\n",
       " 0,\n",
       " 0,\n",
       " 0,\n",
       " 0,\n",
       " 0,\n",
       " 0,\n",
       " 0,\n",
       " 0,\n",
       " 0,\n",
       " 0,\n",
       " 0,\n",
       " 0,\n",
       " 0,\n",
       " 0,\n",
       " 0,\n",
       " 0,\n",
       " 0,\n",
       " 0,\n",
       " 0,\n",
       " 0,\n",
       " 0,\n",
       " 0,\n",
       " 0,\n",
       " 0,\n",
       " 0,\n",
       " 0,\n",
       " 0,\n",
       " 0,\n",
       " 0,\n",
       " 57,\n",
       " 58,\n",
       " 0,\n",
       " 16,\n",
       " 0,\n",
       " 0,\n",
       " 0,\n",
       " 0,\n",
       " 0,\n",
       " 0,\n",
       " 0,\n",
       " 0,\n",
       " 0,\n",
       " 0,\n",
       " 0,\n",
       " 0,\n",
       " 0,\n",
       " 0,\n",
       " 0,\n",
       " 0,\n",
       " 0,\n",
       " 0,\n",
       " 0,\n",
       " 0,\n",
       " 0,\n",
       " 0,\n",
       " 0,\n",
       " 0,\n",
       " 0,\n",
       " 0,\n",
       " 0,\n",
       " 0,\n",
       " 0,\n",
       " 0,\n",
       " 0,\n",
       " 0,\n",
       " 0,\n",
       " 0,\n",
       " 0,\n",
       " 2,\n",
       " 0,\n",
       " 0,\n",
       " 0,\n",
       " 0,\n",
       " 0,\n",
       " 0,\n",
       " 0,\n",
       " 0,\n",
       " 0,\n",
       " 0,\n",
       " 0,\n",
       " 0,\n",
       " 0,\n",
       " 0,\n",
       " 0,\n",
       " 0,\n",
       " 0,\n",
       " 0,\n",
       " 0,\n",
       " 0,\n",
       " 0,\n",
       " 0,\n",
       " 0,\n",
       " 0,\n",
       " 0,\n",
       " 0,\n",
       " 0,\n",
       " 0,\n",
       " 0,\n",
       " 0,\n",
       " 0,\n",
       " 2,\n",
       " 0,\n",
       " 0,\n",
       " 0,\n",
       " 0]"
      ]
     },
     "execution_count": 118,
     "metadata": {},
     "output_type": "execute_result"
    }
   ],
   "source": [
    "A = action_listG[0]\n",
    "B = action_listG[1]\n",
    "A"
   ]
  },
  {
   "cell_type": "code",
   "execution_count": 135,
   "id": "4a2f3d1c",
   "metadata": {},
   "outputs": [
    {
     "name": "stdout",
     "output_type": "stream",
     "text": [
      "19 19 19\n"
     ]
    }
   ],
   "source": [
    "A = action_listG[0]\n",
    "B = action_listG[1]\n",
    "re_action_number, re_A, re_B = [], [], [] \n",
    "for j in range(len(action_number)):\n",
    "    if A[j] != 0 and B[j] != 0:\n",
    "        re_A.append(A[j])\n",
    "        re_B.append(B[j])\n",
    "        re_action_number.append(action_number[j])\n",
    "    elif A[j] == 0 and B[j] != 0:\n",
    "        re_A.append(A[j])\n",
    "        re_B.append(B[j])\n",
    "        re_action_number.append(action_number[j])\n",
    "    elif A[j] != 0 and B[j] == 0:\n",
    "        re_A.append(A[j])\n",
    "        re_B.append(B[j])\n",
    "        re_action_number.append(action_number[j])\n",
    "        \n",
    "print(len(re_action_number), len(re_A), len(re_B))"
   ]
  },
  {
   "cell_type": "code",
   "execution_count": 136,
   "id": "5291b41b",
   "metadata": {
    "scrolled": true
   },
   "outputs": [
    {
     "data": {
      "text/plain": [
       "['Action-146',\n",
       " 'Action-152',\n",
       " 'Action-218',\n",
       " 'Action-222',\n",
       " 'Action-223',\n",
       " 'Action-224',\n",
       " 'Action-362',\n",
       " 'Action-366',\n",
       " 'Action-367',\n",
       " 'Action-368',\n",
       " 'Action-434',\n",
       " 'Action-438',\n",
       " 'Action-440',\n",
       " 'Action-506',\n",
       " 'Action-511',\n",
       " 'Action-512',\n",
       " 'Action-570',\n",
       " 'Action-575',\n",
       " 'Action-576']"
      ]
     },
     "execution_count": 136,
     "metadata": {},
     "output_type": "execute_result"
    }
   ],
   "source": [
    "re_action_number"
   ]
  },
  {
   "cell_type": "code",
   "execution_count": 137,
   "id": "5480020a",
   "metadata": {},
   "outputs": [
    {
     "data": {
      "text/plain": [
       "[5, 15, 2781, 53, 8, 199, 253, 2, 1, 162, 57, 58, 16, 0, 0, 2, 0, 0, 2]"
      ]
     },
     "execution_count": 137,
     "metadata": {},
     "output_type": "execute_result"
    }
   ],
   "source": [
    "re_A"
   ]
  },
  {
   "cell_type": "code",
   "execution_count": 138,
   "id": "2ecf1854",
   "metadata": {
    "scrolled": true
   },
   "outputs": [
    {
     "data": {
      "text/plain": [
       "[0, 0, 197, 4, 18, 6, 18, 2, 2, 1, 4, 5, 0, 22, 31, 0, 22, 31, 0]"
      ]
     },
     "execution_count": 138,
     "metadata": {},
     "output_type": "execute_result"
    }
   ],
   "source": [
    "re_B"
   ]
  },
  {
   "cell_type": "code",
   "execution_count": 139,
   "id": "b9fd6a3c",
   "metadata": {},
   "outputs": [],
   "source": [
    "# print(re_action_number)\n",
    "# print(re_A)\n",
    "# print(re_B)"
   ]
  },
  {
   "cell_type": "code",
   "execution_count": 144,
   "id": "7cd7e5eb",
   "metadata": {},
   "outputs": [
    {
     "data": {
      "application/vnd.plotly.v1+json": {
       "config": {
        "plotlyServerURL": "https://plot.ly"
       },
       "data": [
        {
         "fill": "toself",
         "name": "Group A",
         "r": [
          5,
          15,
          2781,
          53,
          8,
          199,
          253,
          2,
          1,
          162,
          57,
          58,
          16,
          0,
          0,
          2,
          0,
          0,
          2
         ],
         "theta": [
          "Action-146",
          "Action-152",
          "Action-218",
          "Action-222",
          "Action-223",
          "Action-224",
          "Action-362",
          "Action-366",
          "Action-367",
          "Action-368",
          "Action-434",
          "Action-438",
          "Action-440",
          "Action-506",
          "Action-511",
          "Action-512",
          "Action-570",
          "Action-575",
          "Action-576"
         ],
         "type": "scatterpolar"
        },
        {
         "fill": "toself",
         "name": "Group B",
         "r": [
          0,
          0,
          197,
          4,
          18,
          6,
          18,
          2,
          2,
          1,
          4,
          5,
          0,
          22,
          31,
          0,
          22,
          31,
          0
         ],
         "theta": [
          "Action-146",
          "Action-152",
          "Action-218",
          "Action-222",
          "Action-223",
          "Action-224",
          "Action-362",
          "Action-366",
          "Action-367",
          "Action-368",
          "Action-434",
          "Action-438",
          "Action-440",
          "Action-506",
          "Action-511",
          "Action-512",
          "Action-570",
          "Action-575",
          "Action-576"
         ],
         "type": "scatterpolar"
        }
       ],
       "layout": {
        "polar": {
         "radialaxis": {
          "range": [
           0,
           300
          ],
          "visible": true
         }
        },
        "showlegend": false,
        "template": {
         "data": {
          "bar": [
           {
            "error_x": {
             "color": "#2a3f5f"
            },
            "error_y": {
             "color": "#2a3f5f"
            },
            "marker": {
             "line": {
              "color": "#E5ECF6",
              "width": 0.5
             },
             "pattern": {
              "fillmode": "overlay",
              "size": 10,
              "solidity": 0.2
             }
            },
            "type": "bar"
           }
          ],
          "barpolar": [
           {
            "marker": {
             "line": {
              "color": "#E5ECF6",
              "width": 0.5
             },
             "pattern": {
              "fillmode": "overlay",
              "size": 10,
              "solidity": 0.2
             }
            },
            "type": "barpolar"
           }
          ],
          "carpet": [
           {
            "aaxis": {
             "endlinecolor": "#2a3f5f",
             "gridcolor": "white",
             "linecolor": "white",
             "minorgridcolor": "white",
             "startlinecolor": "#2a3f5f"
            },
            "baxis": {
             "endlinecolor": "#2a3f5f",
             "gridcolor": "white",
             "linecolor": "white",
             "minorgridcolor": "white",
             "startlinecolor": "#2a3f5f"
            },
            "type": "carpet"
           }
          ],
          "choropleth": [
           {
            "colorbar": {
             "outlinewidth": 0,
             "ticks": ""
            },
            "type": "choropleth"
           }
          ],
          "contour": [
           {
            "colorbar": {
             "outlinewidth": 0,
             "ticks": ""
            },
            "colorscale": [
             [
              0,
              "#0d0887"
             ],
             [
              0.1111111111111111,
              "#46039f"
             ],
             [
              0.2222222222222222,
              "#7201a8"
             ],
             [
              0.3333333333333333,
              "#9c179e"
             ],
             [
              0.4444444444444444,
              "#bd3786"
             ],
             [
              0.5555555555555556,
              "#d8576b"
             ],
             [
              0.6666666666666666,
              "#ed7953"
             ],
             [
              0.7777777777777778,
              "#fb9f3a"
             ],
             [
              0.8888888888888888,
              "#fdca26"
             ],
             [
              1,
              "#f0f921"
             ]
            ],
            "type": "contour"
           }
          ],
          "contourcarpet": [
           {
            "colorbar": {
             "outlinewidth": 0,
             "ticks": ""
            },
            "type": "contourcarpet"
           }
          ],
          "heatmap": [
           {
            "colorbar": {
             "outlinewidth": 0,
             "ticks": ""
            },
            "colorscale": [
             [
              0,
              "#0d0887"
             ],
             [
              0.1111111111111111,
              "#46039f"
             ],
             [
              0.2222222222222222,
              "#7201a8"
             ],
             [
              0.3333333333333333,
              "#9c179e"
             ],
             [
              0.4444444444444444,
              "#bd3786"
             ],
             [
              0.5555555555555556,
              "#d8576b"
             ],
             [
              0.6666666666666666,
              "#ed7953"
             ],
             [
              0.7777777777777778,
              "#fb9f3a"
             ],
             [
              0.8888888888888888,
              "#fdca26"
             ],
             [
              1,
              "#f0f921"
             ]
            ],
            "type": "heatmap"
           }
          ],
          "heatmapgl": [
           {
            "colorbar": {
             "outlinewidth": 0,
             "ticks": ""
            },
            "colorscale": [
             [
              0,
              "#0d0887"
             ],
             [
              0.1111111111111111,
              "#46039f"
             ],
             [
              0.2222222222222222,
              "#7201a8"
             ],
             [
              0.3333333333333333,
              "#9c179e"
             ],
             [
              0.4444444444444444,
              "#bd3786"
             ],
             [
              0.5555555555555556,
              "#d8576b"
             ],
             [
              0.6666666666666666,
              "#ed7953"
             ],
             [
              0.7777777777777778,
              "#fb9f3a"
             ],
             [
              0.8888888888888888,
              "#fdca26"
             ],
             [
              1,
              "#f0f921"
             ]
            ],
            "type": "heatmapgl"
           }
          ],
          "histogram": [
           {
            "marker": {
             "pattern": {
              "fillmode": "overlay",
              "size": 10,
              "solidity": 0.2
             }
            },
            "type": "histogram"
           }
          ],
          "histogram2d": [
           {
            "colorbar": {
             "outlinewidth": 0,
             "ticks": ""
            },
            "colorscale": [
             [
              0,
              "#0d0887"
             ],
             [
              0.1111111111111111,
              "#46039f"
             ],
             [
              0.2222222222222222,
              "#7201a8"
             ],
             [
              0.3333333333333333,
              "#9c179e"
             ],
             [
              0.4444444444444444,
              "#bd3786"
             ],
             [
              0.5555555555555556,
              "#d8576b"
             ],
             [
              0.6666666666666666,
              "#ed7953"
             ],
             [
              0.7777777777777778,
              "#fb9f3a"
             ],
             [
              0.8888888888888888,
              "#fdca26"
             ],
             [
              1,
              "#f0f921"
             ]
            ],
            "type": "histogram2d"
           }
          ],
          "histogram2dcontour": [
           {
            "colorbar": {
             "outlinewidth": 0,
             "ticks": ""
            },
            "colorscale": [
             [
              0,
              "#0d0887"
             ],
             [
              0.1111111111111111,
              "#46039f"
             ],
             [
              0.2222222222222222,
              "#7201a8"
             ],
             [
              0.3333333333333333,
              "#9c179e"
             ],
             [
              0.4444444444444444,
              "#bd3786"
             ],
             [
              0.5555555555555556,
              "#d8576b"
             ],
             [
              0.6666666666666666,
              "#ed7953"
             ],
             [
              0.7777777777777778,
              "#fb9f3a"
             ],
             [
              0.8888888888888888,
              "#fdca26"
             ],
             [
              1,
              "#f0f921"
             ]
            ],
            "type": "histogram2dcontour"
           }
          ],
          "mesh3d": [
           {
            "colorbar": {
             "outlinewidth": 0,
             "ticks": ""
            },
            "type": "mesh3d"
           }
          ],
          "parcoords": [
           {
            "line": {
             "colorbar": {
              "outlinewidth": 0,
              "ticks": ""
             }
            },
            "type": "parcoords"
           }
          ],
          "pie": [
           {
            "automargin": true,
            "type": "pie"
           }
          ],
          "scatter": [
           {
            "fillpattern": {
             "fillmode": "overlay",
             "size": 10,
             "solidity": 0.2
            },
            "type": "scatter"
           }
          ],
          "scatter3d": [
           {
            "line": {
             "colorbar": {
              "outlinewidth": 0,
              "ticks": ""
             }
            },
            "marker": {
             "colorbar": {
              "outlinewidth": 0,
              "ticks": ""
             }
            },
            "type": "scatter3d"
           }
          ],
          "scattercarpet": [
           {
            "marker": {
             "colorbar": {
              "outlinewidth": 0,
              "ticks": ""
             }
            },
            "type": "scattercarpet"
           }
          ],
          "scattergeo": [
           {
            "marker": {
             "colorbar": {
              "outlinewidth": 0,
              "ticks": ""
             }
            },
            "type": "scattergeo"
           }
          ],
          "scattergl": [
           {
            "marker": {
             "colorbar": {
              "outlinewidth": 0,
              "ticks": ""
             }
            },
            "type": "scattergl"
           }
          ],
          "scattermapbox": [
           {
            "marker": {
             "colorbar": {
              "outlinewidth": 0,
              "ticks": ""
             }
            },
            "type": "scattermapbox"
           }
          ],
          "scatterpolar": [
           {
            "marker": {
             "colorbar": {
              "outlinewidth": 0,
              "ticks": ""
             }
            },
            "type": "scatterpolar"
           }
          ],
          "scatterpolargl": [
           {
            "marker": {
             "colorbar": {
              "outlinewidth": 0,
              "ticks": ""
             }
            },
            "type": "scatterpolargl"
           }
          ],
          "scatterternary": [
           {
            "marker": {
             "colorbar": {
              "outlinewidth": 0,
              "ticks": ""
             }
            },
            "type": "scatterternary"
           }
          ],
          "surface": [
           {
            "colorbar": {
             "outlinewidth": 0,
             "ticks": ""
            },
            "colorscale": [
             [
              0,
              "#0d0887"
             ],
             [
              0.1111111111111111,
              "#46039f"
             ],
             [
              0.2222222222222222,
              "#7201a8"
             ],
             [
              0.3333333333333333,
              "#9c179e"
             ],
             [
              0.4444444444444444,
              "#bd3786"
             ],
             [
              0.5555555555555556,
              "#d8576b"
             ],
             [
              0.6666666666666666,
              "#ed7953"
             ],
             [
              0.7777777777777778,
              "#fb9f3a"
             ],
             [
              0.8888888888888888,
              "#fdca26"
             ],
             [
              1,
              "#f0f921"
             ]
            ],
            "type": "surface"
           }
          ],
          "table": [
           {
            "cells": {
             "fill": {
              "color": "#EBF0F8"
             },
             "line": {
              "color": "white"
             }
            },
            "header": {
             "fill": {
              "color": "#C8D4E3"
             },
             "line": {
              "color": "white"
             }
            },
            "type": "table"
           }
          ]
         },
         "layout": {
          "annotationdefaults": {
           "arrowcolor": "#2a3f5f",
           "arrowhead": 0,
           "arrowwidth": 1
          },
          "autotypenumbers": "strict",
          "coloraxis": {
           "colorbar": {
            "outlinewidth": 0,
            "ticks": ""
           }
          },
          "colorscale": {
           "diverging": [
            [
             0,
             "#8e0152"
            ],
            [
             0.1,
             "#c51b7d"
            ],
            [
             0.2,
             "#de77ae"
            ],
            [
             0.3,
             "#f1b6da"
            ],
            [
             0.4,
             "#fde0ef"
            ],
            [
             0.5,
             "#f7f7f7"
            ],
            [
             0.6,
             "#e6f5d0"
            ],
            [
             0.7,
             "#b8e186"
            ],
            [
             0.8,
             "#7fbc41"
            ],
            [
             0.9,
             "#4d9221"
            ],
            [
             1,
             "#276419"
            ]
           ],
           "sequential": [
            [
             0,
             "#0d0887"
            ],
            [
             0.1111111111111111,
             "#46039f"
            ],
            [
             0.2222222222222222,
             "#7201a8"
            ],
            [
             0.3333333333333333,
             "#9c179e"
            ],
            [
             0.4444444444444444,
             "#bd3786"
            ],
            [
             0.5555555555555556,
             "#d8576b"
            ],
            [
             0.6666666666666666,
             "#ed7953"
            ],
            [
             0.7777777777777778,
             "#fb9f3a"
            ],
            [
             0.8888888888888888,
             "#fdca26"
            ],
            [
             1,
             "#f0f921"
            ]
           ],
           "sequentialminus": [
            [
             0,
             "#0d0887"
            ],
            [
             0.1111111111111111,
             "#46039f"
            ],
            [
             0.2222222222222222,
             "#7201a8"
            ],
            [
             0.3333333333333333,
             "#9c179e"
            ],
            [
             0.4444444444444444,
             "#bd3786"
            ],
            [
             0.5555555555555556,
             "#d8576b"
            ],
            [
             0.6666666666666666,
             "#ed7953"
            ],
            [
             0.7777777777777778,
             "#fb9f3a"
            ],
            [
             0.8888888888888888,
             "#fdca26"
            ],
            [
             1,
             "#f0f921"
            ]
           ]
          },
          "colorway": [
           "#636efa",
           "#EF553B",
           "#00cc96",
           "#ab63fa",
           "#FFA15A",
           "#19d3f3",
           "#FF6692",
           "#B6E880",
           "#FF97FF",
           "#FECB52"
          ],
          "font": {
           "color": "#2a3f5f"
          },
          "geo": {
           "bgcolor": "white",
           "lakecolor": "white",
           "landcolor": "#E5ECF6",
           "showlakes": true,
           "showland": true,
           "subunitcolor": "white"
          },
          "hoverlabel": {
           "align": "left"
          },
          "hovermode": "closest",
          "mapbox": {
           "style": "light"
          },
          "paper_bgcolor": "white",
          "plot_bgcolor": "#E5ECF6",
          "polar": {
           "angularaxis": {
            "gridcolor": "white",
            "linecolor": "white",
            "ticks": ""
           },
           "bgcolor": "#E5ECF6",
           "radialaxis": {
            "gridcolor": "white",
            "linecolor": "white",
            "ticks": ""
           }
          },
          "scene": {
           "xaxis": {
            "backgroundcolor": "#E5ECF6",
            "gridcolor": "white",
            "gridwidth": 2,
            "linecolor": "white",
            "showbackground": true,
            "ticks": "",
            "zerolinecolor": "white"
           },
           "yaxis": {
            "backgroundcolor": "#E5ECF6",
            "gridcolor": "white",
            "gridwidth": 2,
            "linecolor": "white",
            "showbackground": true,
            "ticks": "",
            "zerolinecolor": "white"
           },
           "zaxis": {
            "backgroundcolor": "#E5ECF6",
            "gridcolor": "white",
            "gridwidth": 2,
            "linecolor": "white",
            "showbackground": true,
            "ticks": "",
            "zerolinecolor": "white"
           }
          },
          "shapedefaults": {
           "line": {
            "color": "#2a3f5f"
           }
          },
          "ternary": {
           "aaxis": {
            "gridcolor": "white",
            "linecolor": "white",
            "ticks": ""
           },
           "baxis": {
            "gridcolor": "white",
            "linecolor": "white",
            "ticks": ""
           },
           "bgcolor": "#E5ECF6",
           "caxis": {
            "gridcolor": "white",
            "linecolor": "white",
            "ticks": ""
           }
          },
          "title": {
           "x": 0.05
          },
          "xaxis": {
           "automargin": true,
           "gridcolor": "white",
           "linecolor": "white",
           "ticks": "",
           "title": {
            "standoff": 15
           },
           "zerolinecolor": "white",
           "zerolinewidth": 2
          },
          "yaxis": {
           "automargin": true,
           "gridcolor": "white",
           "linecolor": "white",
           "ticks": "",
           "title": {
            "standoff": 15
           },
           "zerolinecolor": "white",
           "zerolinewidth": 2
          }
         }
        }
       }
      },
      "text/html": [
       "<div>                            <div id=\"2d827274-212a-47b4-8f7f-a52b4595d7b5\" class=\"plotly-graph-div\" style=\"height:525px; width:100%;\"></div>            <script type=\"text/javascript\">                require([\"plotly\"], function(Plotly) {                    window.PLOTLYENV=window.PLOTLYENV || {};                                    if (document.getElementById(\"2d827274-212a-47b4-8f7f-a52b4595d7b5\")) {                    Plotly.newPlot(                        \"2d827274-212a-47b4-8f7f-a52b4595d7b5\",                        [{\"fill\":\"toself\",\"name\":\"Group A\",\"r\":[5,15,2781,53,8,199,253,2,1,162,57,58,16,0,0,2,0,0,2],\"theta\":[\"Action-146\",\"Action-152\",\"Action-218\",\"Action-222\",\"Action-223\",\"Action-224\",\"Action-362\",\"Action-366\",\"Action-367\",\"Action-368\",\"Action-434\",\"Action-438\",\"Action-440\",\"Action-506\",\"Action-511\",\"Action-512\",\"Action-570\",\"Action-575\",\"Action-576\"],\"type\":\"scatterpolar\"},{\"fill\":\"toself\",\"name\":\"Group B\",\"r\":[0,0,197,4,18,6,18,2,2,1,4,5,0,22,31,0,22,31,0],\"theta\":[\"Action-146\",\"Action-152\",\"Action-218\",\"Action-222\",\"Action-223\",\"Action-224\",\"Action-362\",\"Action-366\",\"Action-367\",\"Action-368\",\"Action-434\",\"Action-438\",\"Action-440\",\"Action-506\",\"Action-511\",\"Action-512\",\"Action-570\",\"Action-575\",\"Action-576\"],\"type\":\"scatterpolar\"}],                        {\"template\":{\"data\":{\"histogram2dcontour\":[{\"type\":\"histogram2dcontour\",\"colorbar\":{\"outlinewidth\":0,\"ticks\":\"\"},\"colorscale\":[[0.0,\"#0d0887\"],[0.1111111111111111,\"#46039f\"],[0.2222222222222222,\"#7201a8\"],[0.3333333333333333,\"#9c179e\"],[0.4444444444444444,\"#bd3786\"],[0.5555555555555556,\"#d8576b\"],[0.6666666666666666,\"#ed7953\"],[0.7777777777777778,\"#fb9f3a\"],[0.8888888888888888,\"#fdca26\"],[1.0,\"#f0f921\"]]}],\"choropleth\":[{\"type\":\"choropleth\",\"colorbar\":{\"outlinewidth\":0,\"ticks\":\"\"}}],\"histogram2d\":[{\"type\":\"histogram2d\",\"colorbar\":{\"outlinewidth\":0,\"ticks\":\"\"},\"colorscale\":[[0.0,\"#0d0887\"],[0.1111111111111111,\"#46039f\"],[0.2222222222222222,\"#7201a8\"],[0.3333333333333333,\"#9c179e\"],[0.4444444444444444,\"#bd3786\"],[0.5555555555555556,\"#d8576b\"],[0.6666666666666666,\"#ed7953\"],[0.7777777777777778,\"#fb9f3a\"],[0.8888888888888888,\"#fdca26\"],[1.0,\"#f0f921\"]]}],\"heatmap\":[{\"type\":\"heatmap\",\"colorbar\":{\"outlinewidth\":0,\"ticks\":\"\"},\"colorscale\":[[0.0,\"#0d0887\"],[0.1111111111111111,\"#46039f\"],[0.2222222222222222,\"#7201a8\"],[0.3333333333333333,\"#9c179e\"],[0.4444444444444444,\"#bd3786\"],[0.5555555555555556,\"#d8576b\"],[0.6666666666666666,\"#ed7953\"],[0.7777777777777778,\"#fb9f3a\"],[0.8888888888888888,\"#fdca26\"],[1.0,\"#f0f921\"]]}],\"heatmapgl\":[{\"type\":\"heatmapgl\",\"colorbar\":{\"outlinewidth\":0,\"ticks\":\"\"},\"colorscale\":[[0.0,\"#0d0887\"],[0.1111111111111111,\"#46039f\"],[0.2222222222222222,\"#7201a8\"],[0.3333333333333333,\"#9c179e\"],[0.4444444444444444,\"#bd3786\"],[0.5555555555555556,\"#d8576b\"],[0.6666666666666666,\"#ed7953\"],[0.7777777777777778,\"#fb9f3a\"],[0.8888888888888888,\"#fdca26\"],[1.0,\"#f0f921\"]]}],\"contourcarpet\":[{\"type\":\"contourcarpet\",\"colorbar\":{\"outlinewidth\":0,\"ticks\":\"\"}}],\"contour\":[{\"type\":\"contour\",\"colorbar\":{\"outlinewidth\":0,\"ticks\":\"\"},\"colorscale\":[[0.0,\"#0d0887\"],[0.1111111111111111,\"#46039f\"],[0.2222222222222222,\"#7201a8\"],[0.3333333333333333,\"#9c179e\"],[0.4444444444444444,\"#bd3786\"],[0.5555555555555556,\"#d8576b\"],[0.6666666666666666,\"#ed7953\"],[0.7777777777777778,\"#fb9f3a\"],[0.8888888888888888,\"#fdca26\"],[1.0,\"#f0f921\"]]}],\"surface\":[{\"type\":\"surface\",\"colorbar\":{\"outlinewidth\":0,\"ticks\":\"\"},\"colorscale\":[[0.0,\"#0d0887\"],[0.1111111111111111,\"#46039f\"],[0.2222222222222222,\"#7201a8\"],[0.3333333333333333,\"#9c179e\"],[0.4444444444444444,\"#bd3786\"],[0.5555555555555556,\"#d8576b\"],[0.6666666666666666,\"#ed7953\"],[0.7777777777777778,\"#fb9f3a\"],[0.8888888888888888,\"#fdca26\"],[1.0,\"#f0f921\"]]}],\"mesh3d\":[{\"type\":\"mesh3d\",\"colorbar\":{\"outlinewidth\":0,\"ticks\":\"\"}}],\"scatter\":[{\"fillpattern\":{\"fillmode\":\"overlay\",\"size\":10,\"solidity\":0.2},\"type\":\"scatter\"}],\"parcoords\":[{\"type\":\"parcoords\",\"line\":{\"colorbar\":{\"outlinewidth\":0,\"ticks\":\"\"}}}],\"scatterpolargl\":[{\"type\":\"scatterpolargl\",\"marker\":{\"colorbar\":{\"outlinewidth\":0,\"ticks\":\"\"}}}],\"bar\":[{\"error_x\":{\"color\":\"#2a3f5f\"},\"error_y\":{\"color\":\"#2a3f5f\"},\"marker\":{\"line\":{\"color\":\"#E5ECF6\",\"width\":0.5},\"pattern\":{\"fillmode\":\"overlay\",\"size\":10,\"solidity\":0.2}},\"type\":\"bar\"}],\"scattergeo\":[{\"type\":\"scattergeo\",\"marker\":{\"colorbar\":{\"outlinewidth\":0,\"ticks\":\"\"}}}],\"scatterpolar\":[{\"type\":\"scatterpolar\",\"marker\":{\"colorbar\":{\"outlinewidth\":0,\"ticks\":\"\"}}}],\"histogram\":[{\"marker\":{\"pattern\":{\"fillmode\":\"overlay\",\"size\":10,\"solidity\":0.2}},\"type\":\"histogram\"}],\"scattergl\":[{\"type\":\"scattergl\",\"marker\":{\"colorbar\":{\"outlinewidth\":0,\"ticks\":\"\"}}}],\"scatter3d\":[{\"type\":\"scatter3d\",\"line\":{\"colorbar\":{\"outlinewidth\":0,\"ticks\":\"\"}},\"marker\":{\"colorbar\":{\"outlinewidth\":0,\"ticks\":\"\"}}}],\"scattermapbox\":[{\"type\":\"scattermapbox\",\"marker\":{\"colorbar\":{\"outlinewidth\":0,\"ticks\":\"\"}}}],\"scatterternary\":[{\"type\":\"scatterternary\",\"marker\":{\"colorbar\":{\"outlinewidth\":0,\"ticks\":\"\"}}}],\"scattercarpet\":[{\"type\":\"scattercarpet\",\"marker\":{\"colorbar\":{\"outlinewidth\":0,\"ticks\":\"\"}}}],\"carpet\":[{\"aaxis\":{\"endlinecolor\":\"#2a3f5f\",\"gridcolor\":\"white\",\"linecolor\":\"white\",\"minorgridcolor\":\"white\",\"startlinecolor\":\"#2a3f5f\"},\"baxis\":{\"endlinecolor\":\"#2a3f5f\",\"gridcolor\":\"white\",\"linecolor\":\"white\",\"minorgridcolor\":\"white\",\"startlinecolor\":\"#2a3f5f\"},\"type\":\"carpet\"}],\"table\":[{\"cells\":{\"fill\":{\"color\":\"#EBF0F8\"},\"line\":{\"color\":\"white\"}},\"header\":{\"fill\":{\"color\":\"#C8D4E3\"},\"line\":{\"color\":\"white\"}},\"type\":\"table\"}],\"barpolar\":[{\"marker\":{\"line\":{\"color\":\"#E5ECF6\",\"width\":0.5},\"pattern\":{\"fillmode\":\"overlay\",\"size\":10,\"solidity\":0.2}},\"type\":\"barpolar\"}],\"pie\":[{\"automargin\":true,\"type\":\"pie\"}]},\"layout\":{\"autotypenumbers\":\"strict\",\"colorway\":[\"#636efa\",\"#EF553B\",\"#00cc96\",\"#ab63fa\",\"#FFA15A\",\"#19d3f3\",\"#FF6692\",\"#B6E880\",\"#FF97FF\",\"#FECB52\"],\"font\":{\"color\":\"#2a3f5f\"},\"hovermode\":\"closest\",\"hoverlabel\":{\"align\":\"left\"},\"paper_bgcolor\":\"white\",\"plot_bgcolor\":\"#E5ECF6\",\"polar\":{\"bgcolor\":\"#E5ECF6\",\"angularaxis\":{\"gridcolor\":\"white\",\"linecolor\":\"white\",\"ticks\":\"\"},\"radialaxis\":{\"gridcolor\":\"white\",\"linecolor\":\"white\",\"ticks\":\"\"}},\"ternary\":{\"bgcolor\":\"#E5ECF6\",\"aaxis\":{\"gridcolor\":\"white\",\"linecolor\":\"white\",\"ticks\":\"\"},\"baxis\":{\"gridcolor\":\"white\",\"linecolor\":\"white\",\"ticks\":\"\"},\"caxis\":{\"gridcolor\":\"white\",\"linecolor\":\"white\",\"ticks\":\"\"}},\"coloraxis\":{\"colorbar\":{\"outlinewidth\":0,\"ticks\":\"\"}},\"colorscale\":{\"sequential\":[[0.0,\"#0d0887\"],[0.1111111111111111,\"#46039f\"],[0.2222222222222222,\"#7201a8\"],[0.3333333333333333,\"#9c179e\"],[0.4444444444444444,\"#bd3786\"],[0.5555555555555556,\"#d8576b\"],[0.6666666666666666,\"#ed7953\"],[0.7777777777777778,\"#fb9f3a\"],[0.8888888888888888,\"#fdca26\"],[1.0,\"#f0f921\"]],\"sequentialminus\":[[0.0,\"#0d0887\"],[0.1111111111111111,\"#46039f\"],[0.2222222222222222,\"#7201a8\"],[0.3333333333333333,\"#9c179e\"],[0.4444444444444444,\"#bd3786\"],[0.5555555555555556,\"#d8576b\"],[0.6666666666666666,\"#ed7953\"],[0.7777777777777778,\"#fb9f3a\"],[0.8888888888888888,\"#fdca26\"],[1.0,\"#f0f921\"]],\"diverging\":[[0,\"#8e0152\"],[0.1,\"#c51b7d\"],[0.2,\"#de77ae\"],[0.3,\"#f1b6da\"],[0.4,\"#fde0ef\"],[0.5,\"#f7f7f7\"],[0.6,\"#e6f5d0\"],[0.7,\"#b8e186\"],[0.8,\"#7fbc41\"],[0.9,\"#4d9221\"],[1,\"#276419\"]]},\"xaxis\":{\"gridcolor\":\"white\",\"linecolor\":\"white\",\"ticks\":\"\",\"title\":{\"standoff\":15},\"zerolinecolor\":\"white\",\"automargin\":true,\"zerolinewidth\":2},\"yaxis\":{\"gridcolor\":\"white\",\"linecolor\":\"white\",\"ticks\":\"\",\"title\":{\"standoff\":15},\"zerolinecolor\":\"white\",\"automargin\":true,\"zerolinewidth\":2},\"scene\":{\"xaxis\":{\"backgroundcolor\":\"#E5ECF6\",\"gridcolor\":\"white\",\"linecolor\":\"white\",\"showbackground\":true,\"ticks\":\"\",\"zerolinecolor\":\"white\",\"gridwidth\":2},\"yaxis\":{\"backgroundcolor\":\"#E5ECF6\",\"gridcolor\":\"white\",\"linecolor\":\"white\",\"showbackground\":true,\"ticks\":\"\",\"zerolinecolor\":\"white\",\"gridwidth\":2},\"zaxis\":{\"backgroundcolor\":\"#E5ECF6\",\"gridcolor\":\"white\",\"linecolor\":\"white\",\"showbackground\":true,\"ticks\":\"\",\"zerolinecolor\":\"white\",\"gridwidth\":2}},\"shapedefaults\":{\"line\":{\"color\":\"#2a3f5f\"}},\"annotationdefaults\":{\"arrowcolor\":\"#2a3f5f\",\"arrowhead\":0,\"arrowwidth\":1},\"geo\":{\"bgcolor\":\"white\",\"landcolor\":\"#E5ECF6\",\"subunitcolor\":\"white\",\"showland\":true,\"showlakes\":true,\"lakecolor\":\"white\"},\"title\":{\"x\":0.05},\"mapbox\":{\"style\":\"light\"}}},\"polar\":{\"radialaxis\":{\"visible\":true,\"range\":[0,300]}},\"showlegend\":false},                        {\"responsive\": true}                    ).then(function(){\n",
       "                            \n",
       "var gd = document.getElementById('2d827274-212a-47b4-8f7f-a52b4595d7b5');\n",
       "var x = new MutationObserver(function (mutations, observer) {{\n",
       "        var display = window.getComputedStyle(gd).display;\n",
       "        if (!display || display === 'none') {{\n",
       "            console.log([gd, 'removed!']);\n",
       "            Plotly.purge(gd);\n",
       "            observer.disconnect();\n",
       "        }}\n",
       "}});\n",
       "\n",
       "// Listen for the removal of the full notebook cells\n",
       "var notebookContainer = gd.closest('#notebook-container');\n",
       "if (notebookContainer) {{\n",
       "    x.observe(notebookContainer, {childList: true});\n",
       "}}\n",
       "\n",
       "// Listen for the clearing of the current output cell\n",
       "var outputEl = gd.closest('.output');\n",
       "if (outputEl) {{\n",
       "    x.observe(outputEl, {childList: true});\n",
       "}}\n",
       "\n",
       "                        })                };                });            </script>        </div>"
      ]
     },
     "metadata": {},
     "output_type": "display_data"
    }
   ],
   "source": [
    "import plotly.graph_objects as go\n",
    "\n",
    "# categories = ['processing cost','mechanical properties','chemical stability',\n",
    "#               'thermal stability', 'device integration']\n",
    "categories = re_action_number\n",
    "\n",
    "fig = go.Figure()\n",
    "\n",
    "fig.add_trace(go.Scatterpolar(\n",
    "      r=re_A,\n",
    "      theta=categories,\n",
    "      fill='toself',\n",
    "      name='Group A'\n",
    "))\n",
    "fig.add_trace(go.Scatterpolar(\n",
    "      r=re_B,\n",
    "      theta=categories,\n",
    "      fill='toself',\n",
    "      name='Group B'\n",
    "))\n",
    "\n",
    "fig.update_layout(\n",
    "  polar=dict(\n",
    "    radialaxis=dict(\n",
    "      visible=True,\n",
    "      range=[0, 300]\n",
    "    )),\n",
    "  showlegend=False\n",
    ")\n",
    "\n",
    "fig.show()"
   ]
  },
  {
   "cell_type": "markdown",
   "id": "bd4a0558",
   "metadata": {},
   "source": [
    "## Group A"
   ]
  },
  {
   "cell_type": "code",
   "execution_count": 124,
   "id": "16d959df",
   "metadata": {},
   "outputs": [
    {
     "name": "stdout",
     "output_type": "stream",
     "text": [
      "15 15\n"
     ]
    }
   ],
   "source": [
    "A = action_listG[0]\n",
    "re_action_number, re_A = [], []\n",
    "for j in range(len(action_number)):\n",
    "    if A[j] != 0:\n",
    "        re_A.append(A[j])\n",
    "        re_action_number.append(action_number[j])\n",
    "        \n",
    "print(len(re_action_number), len(re_A))"
   ]
  },
  {
   "cell_type": "code",
   "execution_count": 125,
   "id": "14cf573e",
   "metadata": {},
   "outputs": [
    {
     "data": {
      "application/vnd.plotly.v1+json": {
       "config": {
        "plotlyServerURL": "https://plot.ly"
       },
       "data": [
        {
         "fill": "toself",
         "r": [
          5,
          15,
          2781,
          53,
          8,
          199,
          253,
          2,
          1,
          162,
          57,
          58,
          16,
          2,
          2
         ],
         "theta": [
          "Action-146",
          "Action-152",
          "Action-218",
          "Action-222",
          "Action-223",
          "Action-224",
          "Action-362",
          "Action-366",
          "Action-367",
          "Action-368",
          "Action-434",
          "Action-438",
          "Action-440",
          "Action-512",
          "Action-576"
         ],
         "type": "scatterpolar"
        }
       ],
       "layout": {
        "polar": {
         "radialaxis": {
          "visible": true
         }
        },
        "showlegend": false,
        "template": {
         "data": {
          "bar": [
           {
            "error_x": {
             "color": "#2a3f5f"
            },
            "error_y": {
             "color": "#2a3f5f"
            },
            "marker": {
             "line": {
              "color": "#E5ECF6",
              "width": 0.5
             },
             "pattern": {
              "fillmode": "overlay",
              "size": 10,
              "solidity": 0.2
             }
            },
            "type": "bar"
           }
          ],
          "barpolar": [
           {
            "marker": {
             "line": {
              "color": "#E5ECF6",
              "width": 0.5
             },
             "pattern": {
              "fillmode": "overlay",
              "size": 10,
              "solidity": 0.2
             }
            },
            "type": "barpolar"
           }
          ],
          "carpet": [
           {
            "aaxis": {
             "endlinecolor": "#2a3f5f",
             "gridcolor": "white",
             "linecolor": "white",
             "minorgridcolor": "white",
             "startlinecolor": "#2a3f5f"
            },
            "baxis": {
             "endlinecolor": "#2a3f5f",
             "gridcolor": "white",
             "linecolor": "white",
             "minorgridcolor": "white",
             "startlinecolor": "#2a3f5f"
            },
            "type": "carpet"
           }
          ],
          "choropleth": [
           {
            "colorbar": {
             "outlinewidth": 0,
             "ticks": ""
            },
            "type": "choropleth"
           }
          ],
          "contour": [
           {
            "colorbar": {
             "outlinewidth": 0,
             "ticks": ""
            },
            "colorscale": [
             [
              0,
              "#0d0887"
             ],
             [
              0.1111111111111111,
              "#46039f"
             ],
             [
              0.2222222222222222,
              "#7201a8"
             ],
             [
              0.3333333333333333,
              "#9c179e"
             ],
             [
              0.4444444444444444,
              "#bd3786"
             ],
             [
              0.5555555555555556,
              "#d8576b"
             ],
             [
              0.6666666666666666,
              "#ed7953"
             ],
             [
              0.7777777777777778,
              "#fb9f3a"
             ],
             [
              0.8888888888888888,
              "#fdca26"
             ],
             [
              1,
              "#f0f921"
             ]
            ],
            "type": "contour"
           }
          ],
          "contourcarpet": [
           {
            "colorbar": {
             "outlinewidth": 0,
             "ticks": ""
            },
            "type": "contourcarpet"
           }
          ],
          "heatmap": [
           {
            "colorbar": {
             "outlinewidth": 0,
             "ticks": ""
            },
            "colorscale": [
             [
              0,
              "#0d0887"
             ],
             [
              0.1111111111111111,
              "#46039f"
             ],
             [
              0.2222222222222222,
              "#7201a8"
             ],
             [
              0.3333333333333333,
              "#9c179e"
             ],
             [
              0.4444444444444444,
              "#bd3786"
             ],
             [
              0.5555555555555556,
              "#d8576b"
             ],
             [
              0.6666666666666666,
              "#ed7953"
             ],
             [
              0.7777777777777778,
              "#fb9f3a"
             ],
             [
              0.8888888888888888,
              "#fdca26"
             ],
             [
              1,
              "#f0f921"
             ]
            ],
            "type": "heatmap"
           }
          ],
          "heatmapgl": [
           {
            "colorbar": {
             "outlinewidth": 0,
             "ticks": ""
            },
            "colorscale": [
             [
              0,
              "#0d0887"
             ],
             [
              0.1111111111111111,
              "#46039f"
             ],
             [
              0.2222222222222222,
              "#7201a8"
             ],
             [
              0.3333333333333333,
              "#9c179e"
             ],
             [
              0.4444444444444444,
              "#bd3786"
             ],
             [
              0.5555555555555556,
              "#d8576b"
             ],
             [
              0.6666666666666666,
              "#ed7953"
             ],
             [
              0.7777777777777778,
              "#fb9f3a"
             ],
             [
              0.8888888888888888,
              "#fdca26"
             ],
             [
              1,
              "#f0f921"
             ]
            ],
            "type": "heatmapgl"
           }
          ],
          "histogram": [
           {
            "marker": {
             "pattern": {
              "fillmode": "overlay",
              "size": 10,
              "solidity": 0.2
             }
            },
            "type": "histogram"
           }
          ],
          "histogram2d": [
           {
            "colorbar": {
             "outlinewidth": 0,
             "ticks": ""
            },
            "colorscale": [
             [
              0,
              "#0d0887"
             ],
             [
              0.1111111111111111,
              "#46039f"
             ],
             [
              0.2222222222222222,
              "#7201a8"
             ],
             [
              0.3333333333333333,
              "#9c179e"
             ],
             [
              0.4444444444444444,
              "#bd3786"
             ],
             [
              0.5555555555555556,
              "#d8576b"
             ],
             [
              0.6666666666666666,
              "#ed7953"
             ],
             [
              0.7777777777777778,
              "#fb9f3a"
             ],
             [
              0.8888888888888888,
              "#fdca26"
             ],
             [
              1,
              "#f0f921"
             ]
            ],
            "type": "histogram2d"
           }
          ],
          "histogram2dcontour": [
           {
            "colorbar": {
             "outlinewidth": 0,
             "ticks": ""
            },
            "colorscale": [
             [
              0,
              "#0d0887"
             ],
             [
              0.1111111111111111,
              "#46039f"
             ],
             [
              0.2222222222222222,
              "#7201a8"
             ],
             [
              0.3333333333333333,
              "#9c179e"
             ],
             [
              0.4444444444444444,
              "#bd3786"
             ],
             [
              0.5555555555555556,
              "#d8576b"
             ],
             [
              0.6666666666666666,
              "#ed7953"
             ],
             [
              0.7777777777777778,
              "#fb9f3a"
             ],
             [
              0.8888888888888888,
              "#fdca26"
             ],
             [
              1,
              "#f0f921"
             ]
            ],
            "type": "histogram2dcontour"
           }
          ],
          "mesh3d": [
           {
            "colorbar": {
             "outlinewidth": 0,
             "ticks": ""
            },
            "type": "mesh3d"
           }
          ],
          "parcoords": [
           {
            "line": {
             "colorbar": {
              "outlinewidth": 0,
              "ticks": ""
             }
            },
            "type": "parcoords"
           }
          ],
          "pie": [
           {
            "automargin": true,
            "type": "pie"
           }
          ],
          "scatter": [
           {
            "fillpattern": {
             "fillmode": "overlay",
             "size": 10,
             "solidity": 0.2
            },
            "type": "scatter"
           }
          ],
          "scatter3d": [
           {
            "line": {
             "colorbar": {
              "outlinewidth": 0,
              "ticks": ""
             }
            },
            "marker": {
             "colorbar": {
              "outlinewidth": 0,
              "ticks": ""
             }
            },
            "type": "scatter3d"
           }
          ],
          "scattercarpet": [
           {
            "marker": {
             "colorbar": {
              "outlinewidth": 0,
              "ticks": ""
             }
            },
            "type": "scattercarpet"
           }
          ],
          "scattergeo": [
           {
            "marker": {
             "colorbar": {
              "outlinewidth": 0,
              "ticks": ""
             }
            },
            "type": "scattergeo"
           }
          ],
          "scattergl": [
           {
            "marker": {
             "colorbar": {
              "outlinewidth": 0,
              "ticks": ""
             }
            },
            "type": "scattergl"
           }
          ],
          "scattermapbox": [
           {
            "marker": {
             "colorbar": {
              "outlinewidth": 0,
              "ticks": ""
             }
            },
            "type": "scattermapbox"
           }
          ],
          "scatterpolar": [
           {
            "marker": {
             "colorbar": {
              "outlinewidth": 0,
              "ticks": ""
             }
            },
            "type": "scatterpolar"
           }
          ],
          "scatterpolargl": [
           {
            "marker": {
             "colorbar": {
              "outlinewidth": 0,
              "ticks": ""
             }
            },
            "type": "scatterpolargl"
           }
          ],
          "scatterternary": [
           {
            "marker": {
             "colorbar": {
              "outlinewidth": 0,
              "ticks": ""
             }
            },
            "type": "scatterternary"
           }
          ],
          "surface": [
           {
            "colorbar": {
             "outlinewidth": 0,
             "ticks": ""
            },
            "colorscale": [
             [
              0,
              "#0d0887"
             ],
             [
              0.1111111111111111,
              "#46039f"
             ],
             [
              0.2222222222222222,
              "#7201a8"
             ],
             [
              0.3333333333333333,
              "#9c179e"
             ],
             [
              0.4444444444444444,
              "#bd3786"
             ],
             [
              0.5555555555555556,
              "#d8576b"
             ],
             [
              0.6666666666666666,
              "#ed7953"
             ],
             [
              0.7777777777777778,
              "#fb9f3a"
             ],
             [
              0.8888888888888888,
              "#fdca26"
             ],
             [
              1,
              "#f0f921"
             ]
            ],
            "type": "surface"
           }
          ],
          "table": [
           {
            "cells": {
             "fill": {
              "color": "#EBF0F8"
             },
             "line": {
              "color": "white"
             }
            },
            "header": {
             "fill": {
              "color": "#C8D4E3"
             },
             "line": {
              "color": "white"
             }
            },
            "type": "table"
           }
          ]
         },
         "layout": {
          "annotationdefaults": {
           "arrowcolor": "#2a3f5f",
           "arrowhead": 0,
           "arrowwidth": 1
          },
          "autotypenumbers": "strict",
          "coloraxis": {
           "colorbar": {
            "outlinewidth": 0,
            "ticks": ""
           }
          },
          "colorscale": {
           "diverging": [
            [
             0,
             "#8e0152"
            ],
            [
             0.1,
             "#c51b7d"
            ],
            [
             0.2,
             "#de77ae"
            ],
            [
             0.3,
             "#f1b6da"
            ],
            [
             0.4,
             "#fde0ef"
            ],
            [
             0.5,
             "#f7f7f7"
            ],
            [
             0.6,
             "#e6f5d0"
            ],
            [
             0.7,
             "#b8e186"
            ],
            [
             0.8,
             "#7fbc41"
            ],
            [
             0.9,
             "#4d9221"
            ],
            [
             1,
             "#276419"
            ]
           ],
           "sequential": [
            [
             0,
             "#0d0887"
            ],
            [
             0.1111111111111111,
             "#46039f"
            ],
            [
             0.2222222222222222,
             "#7201a8"
            ],
            [
             0.3333333333333333,
             "#9c179e"
            ],
            [
             0.4444444444444444,
             "#bd3786"
            ],
            [
             0.5555555555555556,
             "#d8576b"
            ],
            [
             0.6666666666666666,
             "#ed7953"
            ],
            [
             0.7777777777777778,
             "#fb9f3a"
            ],
            [
             0.8888888888888888,
             "#fdca26"
            ],
            [
             1,
             "#f0f921"
            ]
           ],
           "sequentialminus": [
            [
             0,
             "#0d0887"
            ],
            [
             0.1111111111111111,
             "#46039f"
            ],
            [
             0.2222222222222222,
             "#7201a8"
            ],
            [
             0.3333333333333333,
             "#9c179e"
            ],
            [
             0.4444444444444444,
             "#bd3786"
            ],
            [
             0.5555555555555556,
             "#d8576b"
            ],
            [
             0.6666666666666666,
             "#ed7953"
            ],
            [
             0.7777777777777778,
             "#fb9f3a"
            ],
            [
             0.8888888888888888,
             "#fdca26"
            ],
            [
             1,
             "#f0f921"
            ]
           ]
          },
          "colorway": [
           "#636efa",
           "#EF553B",
           "#00cc96",
           "#ab63fa",
           "#FFA15A",
           "#19d3f3",
           "#FF6692",
           "#B6E880",
           "#FF97FF",
           "#FECB52"
          ],
          "font": {
           "color": "#2a3f5f"
          },
          "geo": {
           "bgcolor": "white",
           "lakecolor": "white",
           "landcolor": "#E5ECF6",
           "showlakes": true,
           "showland": true,
           "subunitcolor": "white"
          },
          "hoverlabel": {
           "align": "left"
          },
          "hovermode": "closest",
          "mapbox": {
           "style": "light"
          },
          "paper_bgcolor": "white",
          "plot_bgcolor": "#E5ECF6",
          "polar": {
           "angularaxis": {
            "gridcolor": "white",
            "linecolor": "white",
            "ticks": ""
           },
           "bgcolor": "#E5ECF6",
           "radialaxis": {
            "gridcolor": "white",
            "linecolor": "white",
            "ticks": ""
           }
          },
          "scene": {
           "xaxis": {
            "backgroundcolor": "#E5ECF6",
            "gridcolor": "white",
            "gridwidth": 2,
            "linecolor": "white",
            "showbackground": true,
            "ticks": "",
            "zerolinecolor": "white"
           },
           "yaxis": {
            "backgroundcolor": "#E5ECF6",
            "gridcolor": "white",
            "gridwidth": 2,
            "linecolor": "white",
            "showbackground": true,
            "ticks": "",
            "zerolinecolor": "white"
           },
           "zaxis": {
            "backgroundcolor": "#E5ECF6",
            "gridcolor": "white",
            "gridwidth": 2,
            "linecolor": "white",
            "showbackground": true,
            "ticks": "",
            "zerolinecolor": "white"
           }
          },
          "shapedefaults": {
           "line": {
            "color": "#2a3f5f"
           }
          },
          "ternary": {
           "aaxis": {
            "gridcolor": "white",
            "linecolor": "white",
            "ticks": ""
           },
           "baxis": {
            "gridcolor": "white",
            "linecolor": "white",
            "ticks": ""
           },
           "bgcolor": "#E5ECF6",
           "caxis": {
            "gridcolor": "white",
            "linecolor": "white",
            "ticks": ""
           }
          },
          "title": {
           "x": 0.05
          },
          "xaxis": {
           "automargin": true,
           "gridcolor": "white",
           "linecolor": "white",
           "ticks": "",
           "title": {
            "standoff": 15
           },
           "zerolinecolor": "white",
           "zerolinewidth": 2
          },
          "yaxis": {
           "automargin": true,
           "gridcolor": "white",
           "linecolor": "white",
           "ticks": "",
           "title": {
            "standoff": 15
           },
           "zerolinecolor": "white",
           "zerolinewidth": 2
          }
         }
        }
       }
      },
      "text/html": [
       "<div>                            <div id=\"97862f78-60ba-4bcf-96a6-fe3b311503cc\" class=\"plotly-graph-div\" style=\"height:525px; width:100%;\"></div>            <script type=\"text/javascript\">                require([\"plotly\"], function(Plotly) {                    window.PLOTLYENV=window.PLOTLYENV || {};                                    if (document.getElementById(\"97862f78-60ba-4bcf-96a6-fe3b311503cc\")) {                    Plotly.newPlot(                        \"97862f78-60ba-4bcf-96a6-fe3b311503cc\",                        [{\"fill\":\"toself\",\"r\":[5,15,2781,53,8,199,253,2,1,162,57,58,16,2,2],\"theta\":[\"Action-146\",\"Action-152\",\"Action-218\",\"Action-222\",\"Action-223\",\"Action-224\",\"Action-362\",\"Action-366\",\"Action-367\",\"Action-368\",\"Action-434\",\"Action-438\",\"Action-440\",\"Action-512\",\"Action-576\"],\"type\":\"scatterpolar\"}],                        {\"template\":{\"data\":{\"histogram2dcontour\":[{\"type\":\"histogram2dcontour\",\"colorbar\":{\"outlinewidth\":0,\"ticks\":\"\"},\"colorscale\":[[0.0,\"#0d0887\"],[0.1111111111111111,\"#46039f\"],[0.2222222222222222,\"#7201a8\"],[0.3333333333333333,\"#9c179e\"],[0.4444444444444444,\"#bd3786\"],[0.5555555555555556,\"#d8576b\"],[0.6666666666666666,\"#ed7953\"],[0.7777777777777778,\"#fb9f3a\"],[0.8888888888888888,\"#fdca26\"],[1.0,\"#f0f921\"]]}],\"choropleth\":[{\"type\":\"choropleth\",\"colorbar\":{\"outlinewidth\":0,\"ticks\":\"\"}}],\"histogram2d\":[{\"type\":\"histogram2d\",\"colorbar\":{\"outlinewidth\":0,\"ticks\":\"\"},\"colorscale\":[[0.0,\"#0d0887\"],[0.1111111111111111,\"#46039f\"],[0.2222222222222222,\"#7201a8\"],[0.3333333333333333,\"#9c179e\"],[0.4444444444444444,\"#bd3786\"],[0.5555555555555556,\"#d8576b\"],[0.6666666666666666,\"#ed7953\"],[0.7777777777777778,\"#fb9f3a\"],[0.8888888888888888,\"#fdca26\"],[1.0,\"#f0f921\"]]}],\"heatmap\":[{\"type\":\"heatmap\",\"colorbar\":{\"outlinewidth\":0,\"ticks\":\"\"},\"colorscale\":[[0.0,\"#0d0887\"],[0.1111111111111111,\"#46039f\"],[0.2222222222222222,\"#7201a8\"],[0.3333333333333333,\"#9c179e\"],[0.4444444444444444,\"#bd3786\"],[0.5555555555555556,\"#d8576b\"],[0.6666666666666666,\"#ed7953\"],[0.7777777777777778,\"#fb9f3a\"],[0.8888888888888888,\"#fdca26\"],[1.0,\"#f0f921\"]]}],\"heatmapgl\":[{\"type\":\"heatmapgl\",\"colorbar\":{\"outlinewidth\":0,\"ticks\":\"\"},\"colorscale\":[[0.0,\"#0d0887\"],[0.1111111111111111,\"#46039f\"],[0.2222222222222222,\"#7201a8\"],[0.3333333333333333,\"#9c179e\"],[0.4444444444444444,\"#bd3786\"],[0.5555555555555556,\"#d8576b\"],[0.6666666666666666,\"#ed7953\"],[0.7777777777777778,\"#fb9f3a\"],[0.8888888888888888,\"#fdca26\"],[1.0,\"#f0f921\"]]}],\"contourcarpet\":[{\"type\":\"contourcarpet\",\"colorbar\":{\"outlinewidth\":0,\"ticks\":\"\"}}],\"contour\":[{\"type\":\"contour\",\"colorbar\":{\"outlinewidth\":0,\"ticks\":\"\"},\"colorscale\":[[0.0,\"#0d0887\"],[0.1111111111111111,\"#46039f\"],[0.2222222222222222,\"#7201a8\"],[0.3333333333333333,\"#9c179e\"],[0.4444444444444444,\"#bd3786\"],[0.5555555555555556,\"#d8576b\"],[0.6666666666666666,\"#ed7953\"],[0.7777777777777778,\"#fb9f3a\"],[0.8888888888888888,\"#fdca26\"],[1.0,\"#f0f921\"]]}],\"surface\":[{\"type\":\"surface\",\"colorbar\":{\"outlinewidth\":0,\"ticks\":\"\"},\"colorscale\":[[0.0,\"#0d0887\"],[0.1111111111111111,\"#46039f\"],[0.2222222222222222,\"#7201a8\"],[0.3333333333333333,\"#9c179e\"],[0.4444444444444444,\"#bd3786\"],[0.5555555555555556,\"#d8576b\"],[0.6666666666666666,\"#ed7953\"],[0.7777777777777778,\"#fb9f3a\"],[0.8888888888888888,\"#fdca26\"],[1.0,\"#f0f921\"]]}],\"mesh3d\":[{\"type\":\"mesh3d\",\"colorbar\":{\"outlinewidth\":0,\"ticks\":\"\"}}],\"scatter\":[{\"fillpattern\":{\"fillmode\":\"overlay\",\"size\":10,\"solidity\":0.2},\"type\":\"scatter\"}],\"parcoords\":[{\"type\":\"parcoords\",\"line\":{\"colorbar\":{\"outlinewidth\":0,\"ticks\":\"\"}}}],\"scatterpolargl\":[{\"type\":\"scatterpolargl\",\"marker\":{\"colorbar\":{\"outlinewidth\":0,\"ticks\":\"\"}}}],\"bar\":[{\"error_x\":{\"color\":\"#2a3f5f\"},\"error_y\":{\"color\":\"#2a3f5f\"},\"marker\":{\"line\":{\"color\":\"#E5ECF6\",\"width\":0.5},\"pattern\":{\"fillmode\":\"overlay\",\"size\":10,\"solidity\":0.2}},\"type\":\"bar\"}],\"scattergeo\":[{\"type\":\"scattergeo\",\"marker\":{\"colorbar\":{\"outlinewidth\":0,\"ticks\":\"\"}}}],\"scatterpolar\":[{\"type\":\"scatterpolar\",\"marker\":{\"colorbar\":{\"outlinewidth\":0,\"ticks\":\"\"}}}],\"histogram\":[{\"marker\":{\"pattern\":{\"fillmode\":\"overlay\",\"size\":10,\"solidity\":0.2}},\"type\":\"histogram\"}],\"scattergl\":[{\"type\":\"scattergl\",\"marker\":{\"colorbar\":{\"outlinewidth\":0,\"ticks\":\"\"}}}],\"scatter3d\":[{\"type\":\"scatter3d\",\"line\":{\"colorbar\":{\"outlinewidth\":0,\"ticks\":\"\"}},\"marker\":{\"colorbar\":{\"outlinewidth\":0,\"ticks\":\"\"}}}],\"scattermapbox\":[{\"type\":\"scattermapbox\",\"marker\":{\"colorbar\":{\"outlinewidth\":0,\"ticks\":\"\"}}}],\"scatterternary\":[{\"type\":\"scatterternary\",\"marker\":{\"colorbar\":{\"outlinewidth\":0,\"ticks\":\"\"}}}],\"scattercarpet\":[{\"type\":\"scattercarpet\",\"marker\":{\"colorbar\":{\"outlinewidth\":0,\"ticks\":\"\"}}}],\"carpet\":[{\"aaxis\":{\"endlinecolor\":\"#2a3f5f\",\"gridcolor\":\"white\",\"linecolor\":\"white\",\"minorgridcolor\":\"white\",\"startlinecolor\":\"#2a3f5f\"},\"baxis\":{\"endlinecolor\":\"#2a3f5f\",\"gridcolor\":\"white\",\"linecolor\":\"white\",\"minorgridcolor\":\"white\",\"startlinecolor\":\"#2a3f5f\"},\"type\":\"carpet\"}],\"table\":[{\"cells\":{\"fill\":{\"color\":\"#EBF0F8\"},\"line\":{\"color\":\"white\"}},\"header\":{\"fill\":{\"color\":\"#C8D4E3\"},\"line\":{\"color\":\"white\"}},\"type\":\"table\"}],\"barpolar\":[{\"marker\":{\"line\":{\"color\":\"#E5ECF6\",\"width\":0.5},\"pattern\":{\"fillmode\":\"overlay\",\"size\":10,\"solidity\":0.2}},\"type\":\"barpolar\"}],\"pie\":[{\"automargin\":true,\"type\":\"pie\"}]},\"layout\":{\"autotypenumbers\":\"strict\",\"colorway\":[\"#636efa\",\"#EF553B\",\"#00cc96\",\"#ab63fa\",\"#FFA15A\",\"#19d3f3\",\"#FF6692\",\"#B6E880\",\"#FF97FF\",\"#FECB52\"],\"font\":{\"color\":\"#2a3f5f\"},\"hovermode\":\"closest\",\"hoverlabel\":{\"align\":\"left\"},\"paper_bgcolor\":\"white\",\"plot_bgcolor\":\"#E5ECF6\",\"polar\":{\"bgcolor\":\"#E5ECF6\",\"angularaxis\":{\"gridcolor\":\"white\",\"linecolor\":\"white\",\"ticks\":\"\"},\"radialaxis\":{\"gridcolor\":\"white\",\"linecolor\":\"white\",\"ticks\":\"\"}},\"ternary\":{\"bgcolor\":\"#E5ECF6\",\"aaxis\":{\"gridcolor\":\"white\",\"linecolor\":\"white\",\"ticks\":\"\"},\"baxis\":{\"gridcolor\":\"white\",\"linecolor\":\"white\",\"ticks\":\"\"},\"caxis\":{\"gridcolor\":\"white\",\"linecolor\":\"white\",\"ticks\":\"\"}},\"coloraxis\":{\"colorbar\":{\"outlinewidth\":0,\"ticks\":\"\"}},\"colorscale\":{\"sequential\":[[0.0,\"#0d0887\"],[0.1111111111111111,\"#46039f\"],[0.2222222222222222,\"#7201a8\"],[0.3333333333333333,\"#9c179e\"],[0.4444444444444444,\"#bd3786\"],[0.5555555555555556,\"#d8576b\"],[0.6666666666666666,\"#ed7953\"],[0.7777777777777778,\"#fb9f3a\"],[0.8888888888888888,\"#fdca26\"],[1.0,\"#f0f921\"]],\"sequentialminus\":[[0.0,\"#0d0887\"],[0.1111111111111111,\"#46039f\"],[0.2222222222222222,\"#7201a8\"],[0.3333333333333333,\"#9c179e\"],[0.4444444444444444,\"#bd3786\"],[0.5555555555555556,\"#d8576b\"],[0.6666666666666666,\"#ed7953\"],[0.7777777777777778,\"#fb9f3a\"],[0.8888888888888888,\"#fdca26\"],[1.0,\"#f0f921\"]],\"diverging\":[[0,\"#8e0152\"],[0.1,\"#c51b7d\"],[0.2,\"#de77ae\"],[0.3,\"#f1b6da\"],[0.4,\"#fde0ef\"],[0.5,\"#f7f7f7\"],[0.6,\"#e6f5d0\"],[0.7,\"#b8e186\"],[0.8,\"#7fbc41\"],[0.9,\"#4d9221\"],[1,\"#276419\"]]},\"xaxis\":{\"gridcolor\":\"white\",\"linecolor\":\"white\",\"ticks\":\"\",\"title\":{\"standoff\":15},\"zerolinecolor\":\"white\",\"automargin\":true,\"zerolinewidth\":2},\"yaxis\":{\"gridcolor\":\"white\",\"linecolor\":\"white\",\"ticks\":\"\",\"title\":{\"standoff\":15},\"zerolinecolor\":\"white\",\"automargin\":true,\"zerolinewidth\":2},\"scene\":{\"xaxis\":{\"backgroundcolor\":\"#E5ECF6\",\"gridcolor\":\"white\",\"linecolor\":\"white\",\"showbackground\":true,\"ticks\":\"\",\"zerolinecolor\":\"white\",\"gridwidth\":2},\"yaxis\":{\"backgroundcolor\":\"#E5ECF6\",\"gridcolor\":\"white\",\"linecolor\":\"white\",\"showbackground\":true,\"ticks\":\"\",\"zerolinecolor\":\"white\",\"gridwidth\":2},\"zaxis\":{\"backgroundcolor\":\"#E5ECF6\",\"gridcolor\":\"white\",\"linecolor\":\"white\",\"showbackground\":true,\"ticks\":\"\",\"zerolinecolor\":\"white\",\"gridwidth\":2}},\"shapedefaults\":{\"line\":{\"color\":\"#2a3f5f\"}},\"annotationdefaults\":{\"arrowcolor\":\"#2a3f5f\",\"arrowhead\":0,\"arrowwidth\":1},\"geo\":{\"bgcolor\":\"white\",\"landcolor\":\"#E5ECF6\",\"subunitcolor\":\"white\",\"showland\":true,\"showlakes\":true,\"lakecolor\":\"white\"},\"title\":{\"x\":0.05},\"mapbox\":{\"style\":\"light\"}}},\"polar\":{\"radialaxis\":{\"visible\":true}},\"showlegend\":false},                        {\"responsive\": true}                    ).then(function(){\n",
       "                            \n",
       "var gd = document.getElementById('97862f78-60ba-4bcf-96a6-fe3b311503cc');\n",
       "var x = new MutationObserver(function (mutations, observer) {{\n",
       "        var display = window.getComputedStyle(gd).display;\n",
       "        if (!display || display === 'none') {{\n",
       "            console.log([gd, 'removed!']);\n",
       "            Plotly.purge(gd);\n",
       "            observer.disconnect();\n",
       "        }}\n",
       "}});\n",
       "\n",
       "// Listen for the removal of the full notebook cells\n",
       "var notebookContainer = gd.closest('#notebook-container');\n",
       "if (notebookContainer) {{\n",
       "    x.observe(notebookContainer, {childList: true});\n",
       "}}\n",
       "\n",
       "// Listen for the clearing of the current output cell\n",
       "var outputEl = gd.closest('.output');\n",
       "if (outputEl) {{\n",
       "    x.observe(outputEl, {childList: true});\n",
       "}}\n",
       "\n",
       "                        })                };                });            </script>        </div>"
      ]
     },
     "metadata": {},
     "output_type": "display_data"
    }
   ],
   "source": [
    "import plotly.graph_objects as go\n",
    "\n",
    "fig = go.Figure(data=go.Scatterpolar(\n",
    "  r=re_A,\n",
    "  theta=re_action_number,\n",
    "  fill='toself'\n",
    "))\n",
    "\n",
    "fig.update_layout(\n",
    "  polar=dict(\n",
    "    radialaxis=dict(\n",
    "      visible=True\n",
    "    ),\n",
    "  ),\n",
    "  showlegend=False\n",
    ")\n",
    "\n",
    "fig.show()"
   ]
  },
  {
   "cell_type": "markdown",
   "id": "d4d5687c",
   "metadata": {},
   "source": [
    "## Group B"
   ]
  },
  {
   "cell_type": "code",
   "execution_count": 126,
   "id": "778abb5b",
   "metadata": {},
   "outputs": [
    {
     "name": "stdout",
     "output_type": "stream",
     "text": [
      "14 14\n"
     ]
    }
   ],
   "source": [
    "B = action_listG[1]\n",
    "re_action_number, re_B = [], []\n",
    "for j in range(len(action_number)):\n",
    "    if B[j] != 0:\n",
    "        re_B.append(B[j])\n",
    "        re_action_number.append(action_number[j])\n",
    "        \n",
    "print(len(re_action_number), len(re_B))"
   ]
  },
  {
   "cell_type": "code",
   "execution_count": 127,
   "id": "d273012d",
   "metadata": {},
   "outputs": [
    {
     "data": {
      "application/vnd.plotly.v1+json": {
       "config": {
        "plotlyServerURL": "https://plot.ly"
       },
       "data": [
        {
         "fill": "toself",
         "r": [
          197,
          4,
          18,
          6,
          18,
          2,
          2,
          1,
          4,
          5,
          22,
          31,
          22,
          31
         ],
         "theta": [
          "Action-218",
          "Action-222",
          "Action-223",
          "Action-224",
          "Action-362",
          "Action-366",
          "Action-367",
          "Action-368",
          "Action-434",
          "Action-438",
          "Action-506",
          "Action-511",
          "Action-570",
          "Action-575"
         ],
         "type": "scatterpolar"
        }
       ],
       "layout": {
        "polar": {
         "radialaxis": {
          "visible": true
         }
        },
        "showlegend": false,
        "template": {
         "data": {
          "bar": [
           {
            "error_x": {
             "color": "#2a3f5f"
            },
            "error_y": {
             "color": "#2a3f5f"
            },
            "marker": {
             "line": {
              "color": "#E5ECF6",
              "width": 0.5
             },
             "pattern": {
              "fillmode": "overlay",
              "size": 10,
              "solidity": 0.2
             }
            },
            "type": "bar"
           }
          ],
          "barpolar": [
           {
            "marker": {
             "line": {
              "color": "#E5ECF6",
              "width": 0.5
             },
             "pattern": {
              "fillmode": "overlay",
              "size": 10,
              "solidity": 0.2
             }
            },
            "type": "barpolar"
           }
          ],
          "carpet": [
           {
            "aaxis": {
             "endlinecolor": "#2a3f5f",
             "gridcolor": "white",
             "linecolor": "white",
             "minorgridcolor": "white",
             "startlinecolor": "#2a3f5f"
            },
            "baxis": {
             "endlinecolor": "#2a3f5f",
             "gridcolor": "white",
             "linecolor": "white",
             "minorgridcolor": "white",
             "startlinecolor": "#2a3f5f"
            },
            "type": "carpet"
           }
          ],
          "choropleth": [
           {
            "colorbar": {
             "outlinewidth": 0,
             "ticks": ""
            },
            "type": "choropleth"
           }
          ],
          "contour": [
           {
            "colorbar": {
             "outlinewidth": 0,
             "ticks": ""
            },
            "colorscale": [
             [
              0,
              "#0d0887"
             ],
             [
              0.1111111111111111,
              "#46039f"
             ],
             [
              0.2222222222222222,
              "#7201a8"
             ],
             [
              0.3333333333333333,
              "#9c179e"
             ],
             [
              0.4444444444444444,
              "#bd3786"
             ],
             [
              0.5555555555555556,
              "#d8576b"
             ],
             [
              0.6666666666666666,
              "#ed7953"
             ],
             [
              0.7777777777777778,
              "#fb9f3a"
             ],
             [
              0.8888888888888888,
              "#fdca26"
             ],
             [
              1,
              "#f0f921"
             ]
            ],
            "type": "contour"
           }
          ],
          "contourcarpet": [
           {
            "colorbar": {
             "outlinewidth": 0,
             "ticks": ""
            },
            "type": "contourcarpet"
           }
          ],
          "heatmap": [
           {
            "colorbar": {
             "outlinewidth": 0,
             "ticks": ""
            },
            "colorscale": [
             [
              0,
              "#0d0887"
             ],
             [
              0.1111111111111111,
              "#46039f"
             ],
             [
              0.2222222222222222,
              "#7201a8"
             ],
             [
              0.3333333333333333,
              "#9c179e"
             ],
             [
              0.4444444444444444,
              "#bd3786"
             ],
             [
              0.5555555555555556,
              "#d8576b"
             ],
             [
              0.6666666666666666,
              "#ed7953"
             ],
             [
              0.7777777777777778,
              "#fb9f3a"
             ],
             [
              0.8888888888888888,
              "#fdca26"
             ],
             [
              1,
              "#f0f921"
             ]
            ],
            "type": "heatmap"
           }
          ],
          "heatmapgl": [
           {
            "colorbar": {
             "outlinewidth": 0,
             "ticks": ""
            },
            "colorscale": [
             [
              0,
              "#0d0887"
             ],
             [
              0.1111111111111111,
              "#46039f"
             ],
             [
              0.2222222222222222,
              "#7201a8"
             ],
             [
              0.3333333333333333,
              "#9c179e"
             ],
             [
              0.4444444444444444,
              "#bd3786"
             ],
             [
              0.5555555555555556,
              "#d8576b"
             ],
             [
              0.6666666666666666,
              "#ed7953"
             ],
             [
              0.7777777777777778,
              "#fb9f3a"
             ],
             [
              0.8888888888888888,
              "#fdca26"
             ],
             [
              1,
              "#f0f921"
             ]
            ],
            "type": "heatmapgl"
           }
          ],
          "histogram": [
           {
            "marker": {
             "pattern": {
              "fillmode": "overlay",
              "size": 10,
              "solidity": 0.2
             }
            },
            "type": "histogram"
           }
          ],
          "histogram2d": [
           {
            "colorbar": {
             "outlinewidth": 0,
             "ticks": ""
            },
            "colorscale": [
             [
              0,
              "#0d0887"
             ],
             [
              0.1111111111111111,
              "#46039f"
             ],
             [
              0.2222222222222222,
              "#7201a8"
             ],
             [
              0.3333333333333333,
              "#9c179e"
             ],
             [
              0.4444444444444444,
              "#bd3786"
             ],
             [
              0.5555555555555556,
              "#d8576b"
             ],
             [
              0.6666666666666666,
              "#ed7953"
             ],
             [
              0.7777777777777778,
              "#fb9f3a"
             ],
             [
              0.8888888888888888,
              "#fdca26"
             ],
             [
              1,
              "#f0f921"
             ]
            ],
            "type": "histogram2d"
           }
          ],
          "histogram2dcontour": [
           {
            "colorbar": {
             "outlinewidth": 0,
             "ticks": ""
            },
            "colorscale": [
             [
              0,
              "#0d0887"
             ],
             [
              0.1111111111111111,
              "#46039f"
             ],
             [
              0.2222222222222222,
              "#7201a8"
             ],
             [
              0.3333333333333333,
              "#9c179e"
             ],
             [
              0.4444444444444444,
              "#bd3786"
             ],
             [
              0.5555555555555556,
              "#d8576b"
             ],
             [
              0.6666666666666666,
              "#ed7953"
             ],
             [
              0.7777777777777778,
              "#fb9f3a"
             ],
             [
              0.8888888888888888,
              "#fdca26"
             ],
             [
              1,
              "#f0f921"
             ]
            ],
            "type": "histogram2dcontour"
           }
          ],
          "mesh3d": [
           {
            "colorbar": {
             "outlinewidth": 0,
             "ticks": ""
            },
            "type": "mesh3d"
           }
          ],
          "parcoords": [
           {
            "line": {
             "colorbar": {
              "outlinewidth": 0,
              "ticks": ""
             }
            },
            "type": "parcoords"
           }
          ],
          "pie": [
           {
            "automargin": true,
            "type": "pie"
           }
          ],
          "scatter": [
           {
            "fillpattern": {
             "fillmode": "overlay",
             "size": 10,
             "solidity": 0.2
            },
            "type": "scatter"
           }
          ],
          "scatter3d": [
           {
            "line": {
             "colorbar": {
              "outlinewidth": 0,
              "ticks": ""
             }
            },
            "marker": {
             "colorbar": {
              "outlinewidth": 0,
              "ticks": ""
             }
            },
            "type": "scatter3d"
           }
          ],
          "scattercarpet": [
           {
            "marker": {
             "colorbar": {
              "outlinewidth": 0,
              "ticks": ""
             }
            },
            "type": "scattercarpet"
           }
          ],
          "scattergeo": [
           {
            "marker": {
             "colorbar": {
              "outlinewidth": 0,
              "ticks": ""
             }
            },
            "type": "scattergeo"
           }
          ],
          "scattergl": [
           {
            "marker": {
             "colorbar": {
              "outlinewidth": 0,
              "ticks": ""
             }
            },
            "type": "scattergl"
           }
          ],
          "scattermapbox": [
           {
            "marker": {
             "colorbar": {
              "outlinewidth": 0,
              "ticks": ""
             }
            },
            "type": "scattermapbox"
           }
          ],
          "scatterpolar": [
           {
            "marker": {
             "colorbar": {
              "outlinewidth": 0,
              "ticks": ""
             }
            },
            "type": "scatterpolar"
           }
          ],
          "scatterpolargl": [
           {
            "marker": {
             "colorbar": {
              "outlinewidth": 0,
              "ticks": ""
             }
            },
            "type": "scatterpolargl"
           }
          ],
          "scatterternary": [
           {
            "marker": {
             "colorbar": {
              "outlinewidth": 0,
              "ticks": ""
             }
            },
            "type": "scatterternary"
           }
          ],
          "surface": [
           {
            "colorbar": {
             "outlinewidth": 0,
             "ticks": ""
            },
            "colorscale": [
             [
              0,
              "#0d0887"
             ],
             [
              0.1111111111111111,
              "#46039f"
             ],
             [
              0.2222222222222222,
              "#7201a8"
             ],
             [
              0.3333333333333333,
              "#9c179e"
             ],
             [
              0.4444444444444444,
              "#bd3786"
             ],
             [
              0.5555555555555556,
              "#d8576b"
             ],
             [
              0.6666666666666666,
              "#ed7953"
             ],
             [
              0.7777777777777778,
              "#fb9f3a"
             ],
             [
              0.8888888888888888,
              "#fdca26"
             ],
             [
              1,
              "#f0f921"
             ]
            ],
            "type": "surface"
           }
          ],
          "table": [
           {
            "cells": {
             "fill": {
              "color": "#EBF0F8"
             },
             "line": {
              "color": "white"
             }
            },
            "header": {
             "fill": {
              "color": "#C8D4E3"
             },
             "line": {
              "color": "white"
             }
            },
            "type": "table"
           }
          ]
         },
         "layout": {
          "annotationdefaults": {
           "arrowcolor": "#2a3f5f",
           "arrowhead": 0,
           "arrowwidth": 1
          },
          "autotypenumbers": "strict",
          "coloraxis": {
           "colorbar": {
            "outlinewidth": 0,
            "ticks": ""
           }
          },
          "colorscale": {
           "diverging": [
            [
             0,
             "#8e0152"
            ],
            [
             0.1,
             "#c51b7d"
            ],
            [
             0.2,
             "#de77ae"
            ],
            [
             0.3,
             "#f1b6da"
            ],
            [
             0.4,
             "#fde0ef"
            ],
            [
             0.5,
             "#f7f7f7"
            ],
            [
             0.6,
             "#e6f5d0"
            ],
            [
             0.7,
             "#b8e186"
            ],
            [
             0.8,
             "#7fbc41"
            ],
            [
             0.9,
             "#4d9221"
            ],
            [
             1,
             "#276419"
            ]
           ],
           "sequential": [
            [
             0,
             "#0d0887"
            ],
            [
             0.1111111111111111,
             "#46039f"
            ],
            [
             0.2222222222222222,
             "#7201a8"
            ],
            [
             0.3333333333333333,
             "#9c179e"
            ],
            [
             0.4444444444444444,
             "#bd3786"
            ],
            [
             0.5555555555555556,
             "#d8576b"
            ],
            [
             0.6666666666666666,
             "#ed7953"
            ],
            [
             0.7777777777777778,
             "#fb9f3a"
            ],
            [
             0.8888888888888888,
             "#fdca26"
            ],
            [
             1,
             "#f0f921"
            ]
           ],
           "sequentialminus": [
            [
             0,
             "#0d0887"
            ],
            [
             0.1111111111111111,
             "#46039f"
            ],
            [
             0.2222222222222222,
             "#7201a8"
            ],
            [
             0.3333333333333333,
             "#9c179e"
            ],
            [
             0.4444444444444444,
             "#bd3786"
            ],
            [
             0.5555555555555556,
             "#d8576b"
            ],
            [
             0.6666666666666666,
             "#ed7953"
            ],
            [
             0.7777777777777778,
             "#fb9f3a"
            ],
            [
             0.8888888888888888,
             "#fdca26"
            ],
            [
             1,
             "#f0f921"
            ]
           ]
          },
          "colorway": [
           "#636efa",
           "#EF553B",
           "#00cc96",
           "#ab63fa",
           "#FFA15A",
           "#19d3f3",
           "#FF6692",
           "#B6E880",
           "#FF97FF",
           "#FECB52"
          ],
          "font": {
           "color": "#2a3f5f"
          },
          "geo": {
           "bgcolor": "white",
           "lakecolor": "white",
           "landcolor": "#E5ECF6",
           "showlakes": true,
           "showland": true,
           "subunitcolor": "white"
          },
          "hoverlabel": {
           "align": "left"
          },
          "hovermode": "closest",
          "mapbox": {
           "style": "light"
          },
          "paper_bgcolor": "white",
          "plot_bgcolor": "#E5ECF6",
          "polar": {
           "angularaxis": {
            "gridcolor": "white",
            "linecolor": "white",
            "ticks": ""
           },
           "bgcolor": "#E5ECF6",
           "radialaxis": {
            "gridcolor": "white",
            "linecolor": "white",
            "ticks": ""
           }
          },
          "scene": {
           "xaxis": {
            "backgroundcolor": "#E5ECF6",
            "gridcolor": "white",
            "gridwidth": 2,
            "linecolor": "white",
            "showbackground": true,
            "ticks": "",
            "zerolinecolor": "white"
           },
           "yaxis": {
            "backgroundcolor": "#E5ECF6",
            "gridcolor": "white",
            "gridwidth": 2,
            "linecolor": "white",
            "showbackground": true,
            "ticks": "",
            "zerolinecolor": "white"
           },
           "zaxis": {
            "backgroundcolor": "#E5ECF6",
            "gridcolor": "white",
            "gridwidth": 2,
            "linecolor": "white",
            "showbackground": true,
            "ticks": "",
            "zerolinecolor": "white"
           }
          },
          "shapedefaults": {
           "line": {
            "color": "#2a3f5f"
           }
          },
          "ternary": {
           "aaxis": {
            "gridcolor": "white",
            "linecolor": "white",
            "ticks": ""
           },
           "baxis": {
            "gridcolor": "white",
            "linecolor": "white",
            "ticks": ""
           },
           "bgcolor": "#E5ECF6",
           "caxis": {
            "gridcolor": "white",
            "linecolor": "white",
            "ticks": ""
           }
          },
          "title": {
           "x": 0.05
          },
          "xaxis": {
           "automargin": true,
           "gridcolor": "white",
           "linecolor": "white",
           "ticks": "",
           "title": {
            "standoff": 15
           },
           "zerolinecolor": "white",
           "zerolinewidth": 2
          },
          "yaxis": {
           "automargin": true,
           "gridcolor": "white",
           "linecolor": "white",
           "ticks": "",
           "title": {
            "standoff": 15
           },
           "zerolinecolor": "white",
           "zerolinewidth": 2
          }
         }
        }
       }
      },
      "text/html": [
       "<div>                            <div id=\"c98c8047-c774-4502-a2c9-c5a0ab282c4a\" class=\"plotly-graph-div\" style=\"height:525px; width:100%;\"></div>            <script type=\"text/javascript\">                require([\"plotly\"], function(Plotly) {                    window.PLOTLYENV=window.PLOTLYENV || {};                                    if (document.getElementById(\"c98c8047-c774-4502-a2c9-c5a0ab282c4a\")) {                    Plotly.newPlot(                        \"c98c8047-c774-4502-a2c9-c5a0ab282c4a\",                        [{\"fill\":\"toself\",\"r\":[197,4,18,6,18,2,2,1,4,5,22,31,22,31],\"theta\":[\"Action-218\",\"Action-222\",\"Action-223\",\"Action-224\",\"Action-362\",\"Action-366\",\"Action-367\",\"Action-368\",\"Action-434\",\"Action-438\",\"Action-506\",\"Action-511\",\"Action-570\",\"Action-575\"],\"type\":\"scatterpolar\"}],                        {\"template\":{\"data\":{\"histogram2dcontour\":[{\"type\":\"histogram2dcontour\",\"colorbar\":{\"outlinewidth\":0,\"ticks\":\"\"},\"colorscale\":[[0.0,\"#0d0887\"],[0.1111111111111111,\"#46039f\"],[0.2222222222222222,\"#7201a8\"],[0.3333333333333333,\"#9c179e\"],[0.4444444444444444,\"#bd3786\"],[0.5555555555555556,\"#d8576b\"],[0.6666666666666666,\"#ed7953\"],[0.7777777777777778,\"#fb9f3a\"],[0.8888888888888888,\"#fdca26\"],[1.0,\"#f0f921\"]]}],\"choropleth\":[{\"type\":\"choropleth\",\"colorbar\":{\"outlinewidth\":0,\"ticks\":\"\"}}],\"histogram2d\":[{\"type\":\"histogram2d\",\"colorbar\":{\"outlinewidth\":0,\"ticks\":\"\"},\"colorscale\":[[0.0,\"#0d0887\"],[0.1111111111111111,\"#46039f\"],[0.2222222222222222,\"#7201a8\"],[0.3333333333333333,\"#9c179e\"],[0.4444444444444444,\"#bd3786\"],[0.5555555555555556,\"#d8576b\"],[0.6666666666666666,\"#ed7953\"],[0.7777777777777778,\"#fb9f3a\"],[0.8888888888888888,\"#fdca26\"],[1.0,\"#f0f921\"]]}],\"heatmap\":[{\"type\":\"heatmap\",\"colorbar\":{\"outlinewidth\":0,\"ticks\":\"\"},\"colorscale\":[[0.0,\"#0d0887\"],[0.1111111111111111,\"#46039f\"],[0.2222222222222222,\"#7201a8\"],[0.3333333333333333,\"#9c179e\"],[0.4444444444444444,\"#bd3786\"],[0.5555555555555556,\"#d8576b\"],[0.6666666666666666,\"#ed7953\"],[0.7777777777777778,\"#fb9f3a\"],[0.8888888888888888,\"#fdca26\"],[1.0,\"#f0f921\"]]}],\"heatmapgl\":[{\"type\":\"heatmapgl\",\"colorbar\":{\"outlinewidth\":0,\"ticks\":\"\"},\"colorscale\":[[0.0,\"#0d0887\"],[0.1111111111111111,\"#46039f\"],[0.2222222222222222,\"#7201a8\"],[0.3333333333333333,\"#9c179e\"],[0.4444444444444444,\"#bd3786\"],[0.5555555555555556,\"#d8576b\"],[0.6666666666666666,\"#ed7953\"],[0.7777777777777778,\"#fb9f3a\"],[0.8888888888888888,\"#fdca26\"],[1.0,\"#f0f921\"]]}],\"contourcarpet\":[{\"type\":\"contourcarpet\",\"colorbar\":{\"outlinewidth\":0,\"ticks\":\"\"}}],\"contour\":[{\"type\":\"contour\",\"colorbar\":{\"outlinewidth\":0,\"ticks\":\"\"},\"colorscale\":[[0.0,\"#0d0887\"],[0.1111111111111111,\"#46039f\"],[0.2222222222222222,\"#7201a8\"],[0.3333333333333333,\"#9c179e\"],[0.4444444444444444,\"#bd3786\"],[0.5555555555555556,\"#d8576b\"],[0.6666666666666666,\"#ed7953\"],[0.7777777777777778,\"#fb9f3a\"],[0.8888888888888888,\"#fdca26\"],[1.0,\"#f0f921\"]]}],\"surface\":[{\"type\":\"surface\",\"colorbar\":{\"outlinewidth\":0,\"ticks\":\"\"},\"colorscale\":[[0.0,\"#0d0887\"],[0.1111111111111111,\"#46039f\"],[0.2222222222222222,\"#7201a8\"],[0.3333333333333333,\"#9c179e\"],[0.4444444444444444,\"#bd3786\"],[0.5555555555555556,\"#d8576b\"],[0.6666666666666666,\"#ed7953\"],[0.7777777777777778,\"#fb9f3a\"],[0.8888888888888888,\"#fdca26\"],[1.0,\"#f0f921\"]]}],\"mesh3d\":[{\"type\":\"mesh3d\",\"colorbar\":{\"outlinewidth\":0,\"ticks\":\"\"}}],\"scatter\":[{\"fillpattern\":{\"fillmode\":\"overlay\",\"size\":10,\"solidity\":0.2},\"type\":\"scatter\"}],\"parcoords\":[{\"type\":\"parcoords\",\"line\":{\"colorbar\":{\"outlinewidth\":0,\"ticks\":\"\"}}}],\"scatterpolargl\":[{\"type\":\"scatterpolargl\",\"marker\":{\"colorbar\":{\"outlinewidth\":0,\"ticks\":\"\"}}}],\"bar\":[{\"error_x\":{\"color\":\"#2a3f5f\"},\"error_y\":{\"color\":\"#2a3f5f\"},\"marker\":{\"line\":{\"color\":\"#E5ECF6\",\"width\":0.5},\"pattern\":{\"fillmode\":\"overlay\",\"size\":10,\"solidity\":0.2}},\"type\":\"bar\"}],\"scattergeo\":[{\"type\":\"scattergeo\",\"marker\":{\"colorbar\":{\"outlinewidth\":0,\"ticks\":\"\"}}}],\"scatterpolar\":[{\"type\":\"scatterpolar\",\"marker\":{\"colorbar\":{\"outlinewidth\":0,\"ticks\":\"\"}}}],\"histogram\":[{\"marker\":{\"pattern\":{\"fillmode\":\"overlay\",\"size\":10,\"solidity\":0.2}},\"type\":\"histogram\"}],\"scattergl\":[{\"type\":\"scattergl\",\"marker\":{\"colorbar\":{\"outlinewidth\":0,\"ticks\":\"\"}}}],\"scatter3d\":[{\"type\":\"scatter3d\",\"line\":{\"colorbar\":{\"outlinewidth\":0,\"ticks\":\"\"}},\"marker\":{\"colorbar\":{\"outlinewidth\":0,\"ticks\":\"\"}}}],\"scattermapbox\":[{\"type\":\"scattermapbox\",\"marker\":{\"colorbar\":{\"outlinewidth\":0,\"ticks\":\"\"}}}],\"scatterternary\":[{\"type\":\"scatterternary\",\"marker\":{\"colorbar\":{\"outlinewidth\":0,\"ticks\":\"\"}}}],\"scattercarpet\":[{\"type\":\"scattercarpet\",\"marker\":{\"colorbar\":{\"outlinewidth\":0,\"ticks\":\"\"}}}],\"carpet\":[{\"aaxis\":{\"endlinecolor\":\"#2a3f5f\",\"gridcolor\":\"white\",\"linecolor\":\"white\",\"minorgridcolor\":\"white\",\"startlinecolor\":\"#2a3f5f\"},\"baxis\":{\"endlinecolor\":\"#2a3f5f\",\"gridcolor\":\"white\",\"linecolor\":\"white\",\"minorgridcolor\":\"white\",\"startlinecolor\":\"#2a3f5f\"},\"type\":\"carpet\"}],\"table\":[{\"cells\":{\"fill\":{\"color\":\"#EBF0F8\"},\"line\":{\"color\":\"white\"}},\"header\":{\"fill\":{\"color\":\"#C8D4E3\"},\"line\":{\"color\":\"white\"}},\"type\":\"table\"}],\"barpolar\":[{\"marker\":{\"line\":{\"color\":\"#E5ECF6\",\"width\":0.5},\"pattern\":{\"fillmode\":\"overlay\",\"size\":10,\"solidity\":0.2}},\"type\":\"barpolar\"}],\"pie\":[{\"automargin\":true,\"type\":\"pie\"}]},\"layout\":{\"autotypenumbers\":\"strict\",\"colorway\":[\"#636efa\",\"#EF553B\",\"#00cc96\",\"#ab63fa\",\"#FFA15A\",\"#19d3f3\",\"#FF6692\",\"#B6E880\",\"#FF97FF\",\"#FECB52\"],\"font\":{\"color\":\"#2a3f5f\"},\"hovermode\":\"closest\",\"hoverlabel\":{\"align\":\"left\"},\"paper_bgcolor\":\"white\",\"plot_bgcolor\":\"#E5ECF6\",\"polar\":{\"bgcolor\":\"#E5ECF6\",\"angularaxis\":{\"gridcolor\":\"white\",\"linecolor\":\"white\",\"ticks\":\"\"},\"radialaxis\":{\"gridcolor\":\"white\",\"linecolor\":\"white\",\"ticks\":\"\"}},\"ternary\":{\"bgcolor\":\"#E5ECF6\",\"aaxis\":{\"gridcolor\":\"white\",\"linecolor\":\"white\",\"ticks\":\"\"},\"baxis\":{\"gridcolor\":\"white\",\"linecolor\":\"white\",\"ticks\":\"\"},\"caxis\":{\"gridcolor\":\"white\",\"linecolor\":\"white\",\"ticks\":\"\"}},\"coloraxis\":{\"colorbar\":{\"outlinewidth\":0,\"ticks\":\"\"}},\"colorscale\":{\"sequential\":[[0.0,\"#0d0887\"],[0.1111111111111111,\"#46039f\"],[0.2222222222222222,\"#7201a8\"],[0.3333333333333333,\"#9c179e\"],[0.4444444444444444,\"#bd3786\"],[0.5555555555555556,\"#d8576b\"],[0.6666666666666666,\"#ed7953\"],[0.7777777777777778,\"#fb9f3a\"],[0.8888888888888888,\"#fdca26\"],[1.0,\"#f0f921\"]],\"sequentialminus\":[[0.0,\"#0d0887\"],[0.1111111111111111,\"#46039f\"],[0.2222222222222222,\"#7201a8\"],[0.3333333333333333,\"#9c179e\"],[0.4444444444444444,\"#bd3786\"],[0.5555555555555556,\"#d8576b\"],[0.6666666666666666,\"#ed7953\"],[0.7777777777777778,\"#fb9f3a\"],[0.8888888888888888,\"#fdca26\"],[1.0,\"#f0f921\"]],\"diverging\":[[0,\"#8e0152\"],[0.1,\"#c51b7d\"],[0.2,\"#de77ae\"],[0.3,\"#f1b6da\"],[0.4,\"#fde0ef\"],[0.5,\"#f7f7f7\"],[0.6,\"#e6f5d0\"],[0.7,\"#b8e186\"],[0.8,\"#7fbc41\"],[0.9,\"#4d9221\"],[1,\"#276419\"]]},\"xaxis\":{\"gridcolor\":\"white\",\"linecolor\":\"white\",\"ticks\":\"\",\"title\":{\"standoff\":15},\"zerolinecolor\":\"white\",\"automargin\":true,\"zerolinewidth\":2},\"yaxis\":{\"gridcolor\":\"white\",\"linecolor\":\"white\",\"ticks\":\"\",\"title\":{\"standoff\":15},\"zerolinecolor\":\"white\",\"automargin\":true,\"zerolinewidth\":2},\"scene\":{\"xaxis\":{\"backgroundcolor\":\"#E5ECF6\",\"gridcolor\":\"white\",\"linecolor\":\"white\",\"showbackground\":true,\"ticks\":\"\",\"zerolinecolor\":\"white\",\"gridwidth\":2},\"yaxis\":{\"backgroundcolor\":\"#E5ECF6\",\"gridcolor\":\"white\",\"linecolor\":\"white\",\"showbackground\":true,\"ticks\":\"\",\"zerolinecolor\":\"white\",\"gridwidth\":2},\"zaxis\":{\"backgroundcolor\":\"#E5ECF6\",\"gridcolor\":\"white\",\"linecolor\":\"white\",\"showbackground\":true,\"ticks\":\"\",\"zerolinecolor\":\"white\",\"gridwidth\":2}},\"shapedefaults\":{\"line\":{\"color\":\"#2a3f5f\"}},\"annotationdefaults\":{\"arrowcolor\":\"#2a3f5f\",\"arrowhead\":0,\"arrowwidth\":1},\"geo\":{\"bgcolor\":\"white\",\"landcolor\":\"#E5ECF6\",\"subunitcolor\":\"white\",\"showland\":true,\"showlakes\":true,\"lakecolor\":\"white\"},\"title\":{\"x\":0.05},\"mapbox\":{\"style\":\"light\"}}},\"polar\":{\"radialaxis\":{\"visible\":true}},\"showlegend\":false},                        {\"responsive\": true}                    ).then(function(){\n",
       "                            \n",
       "var gd = document.getElementById('c98c8047-c774-4502-a2c9-c5a0ab282c4a');\n",
       "var x = new MutationObserver(function (mutations, observer) {{\n",
       "        var display = window.getComputedStyle(gd).display;\n",
       "        if (!display || display === 'none') {{\n",
       "            console.log([gd, 'removed!']);\n",
       "            Plotly.purge(gd);\n",
       "            observer.disconnect();\n",
       "        }}\n",
       "}});\n",
       "\n",
       "// Listen for the removal of the full notebook cells\n",
       "var notebookContainer = gd.closest('#notebook-container');\n",
       "if (notebookContainer) {{\n",
       "    x.observe(notebookContainer, {childList: true});\n",
       "}}\n",
       "\n",
       "// Listen for the clearing of the current output cell\n",
       "var outputEl = gd.closest('.output');\n",
       "if (outputEl) {{\n",
       "    x.observe(outputEl, {childList: true});\n",
       "}}\n",
       "\n",
       "                        })                };                });            </script>        </div>"
      ]
     },
     "metadata": {},
     "output_type": "display_data"
    }
   ],
   "source": [
    "import plotly.graph_objects as go\n",
    "\n",
    "fig = go.Figure(data=go.Scatterpolar(\n",
    "  r=re_B,\n",
    "  theta=re_action_number,\n",
    "  fill='toself'\n",
    "))\n",
    "\n",
    "fig.update_layout(\n",
    "  polar=dict(\n",
    "    radialaxis=dict(\n",
    "      visible=True\n",
    "    ),\n",
    "  ),\n",
    "  showlegend=False\n",
    ")\n",
    "\n",
    "fig.show()"
   ]
  },
  {
   "cell_type": "code",
   "execution_count": null,
   "id": "62ee1601",
   "metadata": {},
   "outputs": [],
   "source": []
  },
  {
   "cell_type": "code",
   "execution_count": null,
   "id": "8c613fe1",
   "metadata": {},
   "outputs": [],
   "source": []
  },
  {
   "cell_type": "code",
   "execution_count": null,
   "id": "f1aa4f35",
   "metadata": {},
   "outputs": [],
   "source": []
  },
  {
   "cell_type": "code",
   "execution_count": 133,
   "id": "edd20b5f",
   "metadata": {},
   "outputs": [
    {
     "data": {
      "application/vnd.plotly.v1+json": {
       "config": {
        "plotlyServerURL": "https://plot.ly"
       },
       "data": [
        {
         "fill": "toself",
         "name": "Group A",
         "r": [
          0,
          0,
          0,
          0,
          5,
          0,
          0,
          15,
          0,
          0,
          0,
          0,
          0,
          0,
          0,
          0,
          0,
          0,
          0,
          0,
          0,
          0,
          0,
          0,
          0,
          0,
          0,
          0,
          0,
          0,
          0,
          0,
          0,
          0,
          0,
          0,
          0,
          0,
          0,
          0,
          2781,
          53,
          8,
          199,
          0,
          0,
          0,
          0,
          0,
          0,
          0,
          0,
          0,
          0,
          0,
          0,
          0,
          0,
          0,
          0,
          0,
          0,
          0,
          0,
          0,
          0,
          0,
          0,
          0,
          0,
          0,
          0,
          0,
          0,
          0,
          0,
          0,
          0,
          0,
          0,
          253,
          2,
          1,
          162,
          0,
          0,
          0,
          0,
          0,
          0,
          0,
          0,
          0,
          0,
          0,
          0,
          0,
          0,
          0,
          0,
          0,
          0,
          0,
          0,
          0,
          0,
          0,
          0,
          0,
          0,
          0,
          0,
          0,
          0,
          0,
          0,
          57,
          58,
          0,
          16,
          0,
          0,
          0,
          0,
          0,
          0,
          0,
          0,
          0,
          0,
          0,
          0,
          0,
          0,
          0,
          0,
          0,
          0,
          0,
          0,
          0,
          0,
          0,
          0,
          0,
          0,
          0,
          0,
          0,
          0,
          0,
          0,
          0,
          0,
          0,
          2,
          0,
          0,
          0,
          0,
          0,
          0,
          0,
          0,
          0,
          0,
          0,
          0,
          0,
          0,
          0,
          0,
          0,
          0,
          0,
          0,
          0,
          0,
          0,
          0,
          0,
          0,
          0,
          0,
          0,
          0,
          0,
          2,
          0,
          0,
          0,
          0
         ],
         "theta": [
          "Action-218",
          "Action-222",
          "Action-223",
          "Action-224",
          "Action-362",
          "Action-366",
          "Action-367",
          "Action-368",
          "Action-434",
          "Action-438",
          "Action-506",
          "Action-511",
          "Action-570",
          "Action-575"
         ],
         "type": "scatterpolar"
        },
        {
         "fill": "toself",
         "name": "Group B",
         "r": [
          0,
          0,
          0,
          0,
          0,
          0,
          0,
          0,
          0,
          0,
          0,
          0,
          0,
          0,
          0,
          0,
          0,
          0,
          0,
          0,
          0,
          0,
          0,
          0,
          0,
          0,
          0,
          0,
          0,
          0,
          0,
          0,
          0,
          0,
          0,
          0,
          0,
          0,
          0,
          0,
          197,
          4,
          18,
          6,
          0,
          0,
          0,
          0,
          0,
          0,
          0,
          0,
          0,
          0,
          0,
          0,
          0,
          0,
          0,
          0,
          0,
          0,
          0,
          0,
          0,
          0,
          0,
          0,
          0,
          0,
          0,
          0,
          0,
          0,
          0,
          0,
          0,
          0,
          0,
          0,
          18,
          2,
          2,
          1,
          0,
          0,
          0,
          0,
          0,
          0,
          0,
          0,
          0,
          0,
          0,
          0,
          0,
          0,
          0,
          0,
          0,
          0,
          0,
          0,
          0,
          0,
          0,
          0,
          0,
          0,
          0,
          0,
          0,
          0,
          0,
          0,
          4,
          5,
          0,
          0,
          0,
          0,
          0,
          0,
          0,
          0,
          0,
          0,
          0,
          0,
          0,
          0,
          0,
          0,
          0,
          0,
          0,
          0,
          0,
          0,
          0,
          0,
          0,
          0,
          0,
          0,
          0,
          0,
          0,
          0,
          0,
          0,
          22,
          0,
          31,
          0,
          0,
          0,
          0,
          0,
          0,
          0,
          0,
          0,
          0,
          0,
          0,
          0,
          0,
          0,
          0,
          0,
          0,
          0,
          0,
          0,
          0,
          0,
          0,
          0,
          0,
          0,
          0,
          0,
          22,
          0,
          31,
          0,
          0,
          0,
          0,
          0
         ],
         "theta": [
          "Action-218",
          "Action-222",
          "Action-223",
          "Action-224",
          "Action-362",
          "Action-366",
          "Action-367",
          "Action-368",
          "Action-434",
          "Action-438",
          "Action-506",
          "Action-511",
          "Action-570",
          "Action-575"
         ],
         "type": "scatterpolar"
        }
       ],
       "layout": {
        "polar": {
         "radialaxis": {
          "visible": true
         }
        },
        "showlegend": false,
        "template": {
         "data": {
          "bar": [
           {
            "error_x": {
             "color": "#2a3f5f"
            },
            "error_y": {
             "color": "#2a3f5f"
            },
            "marker": {
             "line": {
              "color": "#E5ECF6",
              "width": 0.5
             },
             "pattern": {
              "fillmode": "overlay",
              "size": 10,
              "solidity": 0.2
             }
            },
            "type": "bar"
           }
          ],
          "barpolar": [
           {
            "marker": {
             "line": {
              "color": "#E5ECF6",
              "width": 0.5
             },
             "pattern": {
              "fillmode": "overlay",
              "size": 10,
              "solidity": 0.2
             }
            },
            "type": "barpolar"
           }
          ],
          "carpet": [
           {
            "aaxis": {
             "endlinecolor": "#2a3f5f",
             "gridcolor": "white",
             "linecolor": "white",
             "minorgridcolor": "white",
             "startlinecolor": "#2a3f5f"
            },
            "baxis": {
             "endlinecolor": "#2a3f5f",
             "gridcolor": "white",
             "linecolor": "white",
             "minorgridcolor": "white",
             "startlinecolor": "#2a3f5f"
            },
            "type": "carpet"
           }
          ],
          "choropleth": [
           {
            "colorbar": {
             "outlinewidth": 0,
             "ticks": ""
            },
            "type": "choropleth"
           }
          ],
          "contour": [
           {
            "colorbar": {
             "outlinewidth": 0,
             "ticks": ""
            },
            "colorscale": [
             [
              0,
              "#0d0887"
             ],
             [
              0.1111111111111111,
              "#46039f"
             ],
             [
              0.2222222222222222,
              "#7201a8"
             ],
             [
              0.3333333333333333,
              "#9c179e"
             ],
             [
              0.4444444444444444,
              "#bd3786"
             ],
             [
              0.5555555555555556,
              "#d8576b"
             ],
             [
              0.6666666666666666,
              "#ed7953"
             ],
             [
              0.7777777777777778,
              "#fb9f3a"
             ],
             [
              0.8888888888888888,
              "#fdca26"
             ],
             [
              1,
              "#f0f921"
             ]
            ],
            "type": "contour"
           }
          ],
          "contourcarpet": [
           {
            "colorbar": {
             "outlinewidth": 0,
             "ticks": ""
            },
            "type": "contourcarpet"
           }
          ],
          "heatmap": [
           {
            "colorbar": {
             "outlinewidth": 0,
             "ticks": ""
            },
            "colorscale": [
             [
              0,
              "#0d0887"
             ],
             [
              0.1111111111111111,
              "#46039f"
             ],
             [
              0.2222222222222222,
              "#7201a8"
             ],
             [
              0.3333333333333333,
              "#9c179e"
             ],
             [
              0.4444444444444444,
              "#bd3786"
             ],
             [
              0.5555555555555556,
              "#d8576b"
             ],
             [
              0.6666666666666666,
              "#ed7953"
             ],
             [
              0.7777777777777778,
              "#fb9f3a"
             ],
             [
              0.8888888888888888,
              "#fdca26"
             ],
             [
              1,
              "#f0f921"
             ]
            ],
            "type": "heatmap"
           }
          ],
          "heatmapgl": [
           {
            "colorbar": {
             "outlinewidth": 0,
             "ticks": ""
            },
            "colorscale": [
             [
              0,
              "#0d0887"
             ],
             [
              0.1111111111111111,
              "#46039f"
             ],
             [
              0.2222222222222222,
              "#7201a8"
             ],
             [
              0.3333333333333333,
              "#9c179e"
             ],
             [
              0.4444444444444444,
              "#bd3786"
             ],
             [
              0.5555555555555556,
              "#d8576b"
             ],
             [
              0.6666666666666666,
              "#ed7953"
             ],
             [
              0.7777777777777778,
              "#fb9f3a"
             ],
             [
              0.8888888888888888,
              "#fdca26"
             ],
             [
              1,
              "#f0f921"
             ]
            ],
            "type": "heatmapgl"
           }
          ],
          "histogram": [
           {
            "marker": {
             "pattern": {
              "fillmode": "overlay",
              "size": 10,
              "solidity": 0.2
             }
            },
            "type": "histogram"
           }
          ],
          "histogram2d": [
           {
            "colorbar": {
             "outlinewidth": 0,
             "ticks": ""
            },
            "colorscale": [
             [
              0,
              "#0d0887"
             ],
             [
              0.1111111111111111,
              "#46039f"
             ],
             [
              0.2222222222222222,
              "#7201a8"
             ],
             [
              0.3333333333333333,
              "#9c179e"
             ],
             [
              0.4444444444444444,
              "#bd3786"
             ],
             [
              0.5555555555555556,
              "#d8576b"
             ],
             [
              0.6666666666666666,
              "#ed7953"
             ],
             [
              0.7777777777777778,
              "#fb9f3a"
             ],
             [
              0.8888888888888888,
              "#fdca26"
             ],
             [
              1,
              "#f0f921"
             ]
            ],
            "type": "histogram2d"
           }
          ],
          "histogram2dcontour": [
           {
            "colorbar": {
             "outlinewidth": 0,
             "ticks": ""
            },
            "colorscale": [
             [
              0,
              "#0d0887"
             ],
             [
              0.1111111111111111,
              "#46039f"
             ],
             [
              0.2222222222222222,
              "#7201a8"
             ],
             [
              0.3333333333333333,
              "#9c179e"
             ],
             [
              0.4444444444444444,
              "#bd3786"
             ],
             [
              0.5555555555555556,
              "#d8576b"
             ],
             [
              0.6666666666666666,
              "#ed7953"
             ],
             [
              0.7777777777777778,
              "#fb9f3a"
             ],
             [
              0.8888888888888888,
              "#fdca26"
             ],
             [
              1,
              "#f0f921"
             ]
            ],
            "type": "histogram2dcontour"
           }
          ],
          "mesh3d": [
           {
            "colorbar": {
             "outlinewidth": 0,
             "ticks": ""
            },
            "type": "mesh3d"
           }
          ],
          "parcoords": [
           {
            "line": {
             "colorbar": {
              "outlinewidth": 0,
              "ticks": ""
             }
            },
            "type": "parcoords"
           }
          ],
          "pie": [
           {
            "automargin": true,
            "type": "pie"
           }
          ],
          "scatter": [
           {
            "fillpattern": {
             "fillmode": "overlay",
             "size": 10,
             "solidity": 0.2
            },
            "type": "scatter"
           }
          ],
          "scatter3d": [
           {
            "line": {
             "colorbar": {
              "outlinewidth": 0,
              "ticks": ""
             }
            },
            "marker": {
             "colorbar": {
              "outlinewidth": 0,
              "ticks": ""
             }
            },
            "type": "scatter3d"
           }
          ],
          "scattercarpet": [
           {
            "marker": {
             "colorbar": {
              "outlinewidth": 0,
              "ticks": ""
             }
            },
            "type": "scattercarpet"
           }
          ],
          "scattergeo": [
           {
            "marker": {
             "colorbar": {
              "outlinewidth": 0,
              "ticks": ""
             }
            },
            "type": "scattergeo"
           }
          ],
          "scattergl": [
           {
            "marker": {
             "colorbar": {
              "outlinewidth": 0,
              "ticks": ""
             }
            },
            "type": "scattergl"
           }
          ],
          "scattermapbox": [
           {
            "marker": {
             "colorbar": {
              "outlinewidth": 0,
              "ticks": ""
             }
            },
            "type": "scattermapbox"
           }
          ],
          "scatterpolar": [
           {
            "marker": {
             "colorbar": {
              "outlinewidth": 0,
              "ticks": ""
             }
            },
            "type": "scatterpolar"
           }
          ],
          "scatterpolargl": [
           {
            "marker": {
             "colorbar": {
              "outlinewidth": 0,
              "ticks": ""
             }
            },
            "type": "scatterpolargl"
           }
          ],
          "scatterternary": [
           {
            "marker": {
             "colorbar": {
              "outlinewidth": 0,
              "ticks": ""
             }
            },
            "type": "scatterternary"
           }
          ],
          "surface": [
           {
            "colorbar": {
             "outlinewidth": 0,
             "ticks": ""
            },
            "colorscale": [
             [
              0,
              "#0d0887"
             ],
             [
              0.1111111111111111,
              "#46039f"
             ],
             [
              0.2222222222222222,
              "#7201a8"
             ],
             [
              0.3333333333333333,
              "#9c179e"
             ],
             [
              0.4444444444444444,
              "#bd3786"
             ],
             [
              0.5555555555555556,
              "#d8576b"
             ],
             [
              0.6666666666666666,
              "#ed7953"
             ],
             [
              0.7777777777777778,
              "#fb9f3a"
             ],
             [
              0.8888888888888888,
              "#fdca26"
             ],
             [
              1,
              "#f0f921"
             ]
            ],
            "type": "surface"
           }
          ],
          "table": [
           {
            "cells": {
             "fill": {
              "color": "#EBF0F8"
             },
             "line": {
              "color": "white"
             }
            },
            "header": {
             "fill": {
              "color": "#C8D4E3"
             },
             "line": {
              "color": "white"
             }
            },
            "type": "table"
           }
          ]
         },
         "layout": {
          "annotationdefaults": {
           "arrowcolor": "#2a3f5f",
           "arrowhead": 0,
           "arrowwidth": 1
          },
          "autotypenumbers": "strict",
          "coloraxis": {
           "colorbar": {
            "outlinewidth": 0,
            "ticks": ""
           }
          },
          "colorscale": {
           "diverging": [
            [
             0,
             "#8e0152"
            ],
            [
             0.1,
             "#c51b7d"
            ],
            [
             0.2,
             "#de77ae"
            ],
            [
             0.3,
             "#f1b6da"
            ],
            [
             0.4,
             "#fde0ef"
            ],
            [
             0.5,
             "#f7f7f7"
            ],
            [
             0.6,
             "#e6f5d0"
            ],
            [
             0.7,
             "#b8e186"
            ],
            [
             0.8,
             "#7fbc41"
            ],
            [
             0.9,
             "#4d9221"
            ],
            [
             1,
             "#276419"
            ]
           ],
           "sequential": [
            [
             0,
             "#0d0887"
            ],
            [
             0.1111111111111111,
             "#46039f"
            ],
            [
             0.2222222222222222,
             "#7201a8"
            ],
            [
             0.3333333333333333,
             "#9c179e"
            ],
            [
             0.4444444444444444,
             "#bd3786"
            ],
            [
             0.5555555555555556,
             "#d8576b"
            ],
            [
             0.6666666666666666,
             "#ed7953"
            ],
            [
             0.7777777777777778,
             "#fb9f3a"
            ],
            [
             0.8888888888888888,
             "#fdca26"
            ],
            [
             1,
             "#f0f921"
            ]
           ],
           "sequentialminus": [
            [
             0,
             "#0d0887"
            ],
            [
             0.1111111111111111,
             "#46039f"
            ],
            [
             0.2222222222222222,
             "#7201a8"
            ],
            [
             0.3333333333333333,
             "#9c179e"
            ],
            [
             0.4444444444444444,
             "#bd3786"
            ],
            [
             0.5555555555555556,
             "#d8576b"
            ],
            [
             0.6666666666666666,
             "#ed7953"
            ],
            [
             0.7777777777777778,
             "#fb9f3a"
            ],
            [
             0.8888888888888888,
             "#fdca26"
            ],
            [
             1,
             "#f0f921"
            ]
           ]
          },
          "colorway": [
           "#636efa",
           "#EF553B",
           "#00cc96",
           "#ab63fa",
           "#FFA15A",
           "#19d3f3",
           "#FF6692",
           "#B6E880",
           "#FF97FF",
           "#FECB52"
          ],
          "font": {
           "color": "#2a3f5f"
          },
          "geo": {
           "bgcolor": "white",
           "lakecolor": "white",
           "landcolor": "#E5ECF6",
           "showlakes": true,
           "showland": true,
           "subunitcolor": "white"
          },
          "hoverlabel": {
           "align": "left"
          },
          "hovermode": "closest",
          "mapbox": {
           "style": "light"
          },
          "paper_bgcolor": "white",
          "plot_bgcolor": "#E5ECF6",
          "polar": {
           "angularaxis": {
            "gridcolor": "white",
            "linecolor": "white",
            "ticks": ""
           },
           "bgcolor": "#E5ECF6",
           "radialaxis": {
            "gridcolor": "white",
            "linecolor": "white",
            "ticks": ""
           }
          },
          "scene": {
           "xaxis": {
            "backgroundcolor": "#E5ECF6",
            "gridcolor": "white",
            "gridwidth": 2,
            "linecolor": "white",
            "showbackground": true,
            "ticks": "",
            "zerolinecolor": "white"
           },
           "yaxis": {
            "backgroundcolor": "#E5ECF6",
            "gridcolor": "white",
            "gridwidth": 2,
            "linecolor": "white",
            "showbackground": true,
            "ticks": "",
            "zerolinecolor": "white"
           },
           "zaxis": {
            "backgroundcolor": "#E5ECF6",
            "gridcolor": "white",
            "gridwidth": 2,
            "linecolor": "white",
            "showbackground": true,
            "ticks": "",
            "zerolinecolor": "white"
           }
          },
          "shapedefaults": {
           "line": {
            "color": "#2a3f5f"
           }
          },
          "ternary": {
           "aaxis": {
            "gridcolor": "white",
            "linecolor": "white",
            "ticks": ""
           },
           "baxis": {
            "gridcolor": "white",
            "linecolor": "white",
            "ticks": ""
           },
           "bgcolor": "#E5ECF6",
           "caxis": {
            "gridcolor": "white",
            "linecolor": "white",
            "ticks": ""
           }
          },
          "title": {
           "x": 0.05
          },
          "xaxis": {
           "automargin": true,
           "gridcolor": "white",
           "linecolor": "white",
           "ticks": "",
           "title": {
            "standoff": 15
           },
           "zerolinecolor": "white",
           "zerolinewidth": 2
          },
          "yaxis": {
           "automargin": true,
           "gridcolor": "white",
           "linecolor": "white",
           "ticks": "",
           "title": {
            "standoff": 15
           },
           "zerolinecolor": "white",
           "zerolinewidth": 2
          }
         }
        }
       }
      },
      "text/html": [
       "<div>                            <div id=\"b2af9a7e-aaa1-46ce-99e7-746047c114e1\" class=\"plotly-graph-div\" style=\"height:525px; width:100%;\"></div>            <script type=\"text/javascript\">                require([\"plotly\"], function(Plotly) {                    window.PLOTLYENV=window.PLOTLYENV || {};                                    if (document.getElementById(\"b2af9a7e-aaa1-46ce-99e7-746047c114e1\")) {                    Plotly.newPlot(                        \"b2af9a7e-aaa1-46ce-99e7-746047c114e1\",                        [{\"fill\":\"toself\",\"name\":\"Group A\",\"r\":[0,0,0,0,5,0,0,15,0,0,0,0,0,0,0,0,0,0,0,0,0,0,0,0,0,0,0,0,0,0,0,0,0,0,0,0,0,0,0,0,2781,53,8,199,0,0,0,0,0,0,0,0,0,0,0,0,0,0,0,0,0,0,0,0,0,0,0,0,0,0,0,0,0,0,0,0,0,0,0,0,253,2,1,162,0,0,0,0,0,0,0,0,0,0,0,0,0,0,0,0,0,0,0,0,0,0,0,0,0,0,0,0,0,0,0,0,57,58,0,16,0,0,0,0,0,0,0,0,0,0,0,0,0,0,0,0,0,0,0,0,0,0,0,0,0,0,0,0,0,0,0,0,0,0,0,2,0,0,0,0,0,0,0,0,0,0,0,0,0,0,0,0,0,0,0,0,0,0,0,0,0,0,0,0,0,0,0,2,0,0,0,0],\"theta\":[\"Action-218\",\"Action-222\",\"Action-223\",\"Action-224\",\"Action-362\",\"Action-366\",\"Action-367\",\"Action-368\",\"Action-434\",\"Action-438\",\"Action-506\",\"Action-511\",\"Action-570\",\"Action-575\"],\"type\":\"scatterpolar\"},{\"fill\":\"toself\",\"name\":\"Group B\",\"r\":[0,0,0,0,0,0,0,0,0,0,0,0,0,0,0,0,0,0,0,0,0,0,0,0,0,0,0,0,0,0,0,0,0,0,0,0,0,0,0,0,197,4,18,6,0,0,0,0,0,0,0,0,0,0,0,0,0,0,0,0,0,0,0,0,0,0,0,0,0,0,0,0,0,0,0,0,0,0,0,0,18,2,2,1,0,0,0,0,0,0,0,0,0,0,0,0,0,0,0,0,0,0,0,0,0,0,0,0,0,0,0,0,0,0,0,0,4,5,0,0,0,0,0,0,0,0,0,0,0,0,0,0,0,0,0,0,0,0,0,0,0,0,0,0,0,0,0,0,0,0,0,0,22,0,31,0,0,0,0,0,0,0,0,0,0,0,0,0,0,0,0,0,0,0,0,0,0,0,0,0,0,0,0,0,22,0,31,0,0,0,0,0],\"theta\":[\"Action-218\",\"Action-222\",\"Action-223\",\"Action-224\",\"Action-362\",\"Action-366\",\"Action-367\",\"Action-368\",\"Action-434\",\"Action-438\",\"Action-506\",\"Action-511\",\"Action-570\",\"Action-575\"],\"type\":\"scatterpolar\"}],                        {\"template\":{\"data\":{\"histogram2dcontour\":[{\"type\":\"histogram2dcontour\",\"colorbar\":{\"outlinewidth\":0,\"ticks\":\"\"},\"colorscale\":[[0.0,\"#0d0887\"],[0.1111111111111111,\"#46039f\"],[0.2222222222222222,\"#7201a8\"],[0.3333333333333333,\"#9c179e\"],[0.4444444444444444,\"#bd3786\"],[0.5555555555555556,\"#d8576b\"],[0.6666666666666666,\"#ed7953\"],[0.7777777777777778,\"#fb9f3a\"],[0.8888888888888888,\"#fdca26\"],[1.0,\"#f0f921\"]]}],\"choropleth\":[{\"type\":\"choropleth\",\"colorbar\":{\"outlinewidth\":0,\"ticks\":\"\"}}],\"histogram2d\":[{\"type\":\"histogram2d\",\"colorbar\":{\"outlinewidth\":0,\"ticks\":\"\"},\"colorscale\":[[0.0,\"#0d0887\"],[0.1111111111111111,\"#46039f\"],[0.2222222222222222,\"#7201a8\"],[0.3333333333333333,\"#9c179e\"],[0.4444444444444444,\"#bd3786\"],[0.5555555555555556,\"#d8576b\"],[0.6666666666666666,\"#ed7953\"],[0.7777777777777778,\"#fb9f3a\"],[0.8888888888888888,\"#fdca26\"],[1.0,\"#f0f921\"]]}],\"heatmap\":[{\"type\":\"heatmap\",\"colorbar\":{\"outlinewidth\":0,\"ticks\":\"\"},\"colorscale\":[[0.0,\"#0d0887\"],[0.1111111111111111,\"#46039f\"],[0.2222222222222222,\"#7201a8\"],[0.3333333333333333,\"#9c179e\"],[0.4444444444444444,\"#bd3786\"],[0.5555555555555556,\"#d8576b\"],[0.6666666666666666,\"#ed7953\"],[0.7777777777777778,\"#fb9f3a\"],[0.8888888888888888,\"#fdca26\"],[1.0,\"#f0f921\"]]}],\"heatmapgl\":[{\"type\":\"heatmapgl\",\"colorbar\":{\"outlinewidth\":0,\"ticks\":\"\"},\"colorscale\":[[0.0,\"#0d0887\"],[0.1111111111111111,\"#46039f\"],[0.2222222222222222,\"#7201a8\"],[0.3333333333333333,\"#9c179e\"],[0.4444444444444444,\"#bd3786\"],[0.5555555555555556,\"#d8576b\"],[0.6666666666666666,\"#ed7953\"],[0.7777777777777778,\"#fb9f3a\"],[0.8888888888888888,\"#fdca26\"],[1.0,\"#f0f921\"]]}],\"contourcarpet\":[{\"type\":\"contourcarpet\",\"colorbar\":{\"outlinewidth\":0,\"ticks\":\"\"}}],\"contour\":[{\"type\":\"contour\",\"colorbar\":{\"outlinewidth\":0,\"ticks\":\"\"},\"colorscale\":[[0.0,\"#0d0887\"],[0.1111111111111111,\"#46039f\"],[0.2222222222222222,\"#7201a8\"],[0.3333333333333333,\"#9c179e\"],[0.4444444444444444,\"#bd3786\"],[0.5555555555555556,\"#d8576b\"],[0.6666666666666666,\"#ed7953\"],[0.7777777777777778,\"#fb9f3a\"],[0.8888888888888888,\"#fdca26\"],[1.0,\"#f0f921\"]]}],\"surface\":[{\"type\":\"surface\",\"colorbar\":{\"outlinewidth\":0,\"ticks\":\"\"},\"colorscale\":[[0.0,\"#0d0887\"],[0.1111111111111111,\"#46039f\"],[0.2222222222222222,\"#7201a8\"],[0.3333333333333333,\"#9c179e\"],[0.4444444444444444,\"#bd3786\"],[0.5555555555555556,\"#d8576b\"],[0.6666666666666666,\"#ed7953\"],[0.7777777777777778,\"#fb9f3a\"],[0.8888888888888888,\"#fdca26\"],[1.0,\"#f0f921\"]]}],\"mesh3d\":[{\"type\":\"mesh3d\",\"colorbar\":{\"outlinewidth\":0,\"ticks\":\"\"}}],\"scatter\":[{\"fillpattern\":{\"fillmode\":\"overlay\",\"size\":10,\"solidity\":0.2},\"type\":\"scatter\"}],\"parcoords\":[{\"type\":\"parcoords\",\"line\":{\"colorbar\":{\"outlinewidth\":0,\"ticks\":\"\"}}}],\"scatterpolargl\":[{\"type\":\"scatterpolargl\",\"marker\":{\"colorbar\":{\"outlinewidth\":0,\"ticks\":\"\"}}}],\"bar\":[{\"error_x\":{\"color\":\"#2a3f5f\"},\"error_y\":{\"color\":\"#2a3f5f\"},\"marker\":{\"line\":{\"color\":\"#E5ECF6\",\"width\":0.5},\"pattern\":{\"fillmode\":\"overlay\",\"size\":10,\"solidity\":0.2}},\"type\":\"bar\"}],\"scattergeo\":[{\"type\":\"scattergeo\",\"marker\":{\"colorbar\":{\"outlinewidth\":0,\"ticks\":\"\"}}}],\"scatterpolar\":[{\"type\":\"scatterpolar\",\"marker\":{\"colorbar\":{\"outlinewidth\":0,\"ticks\":\"\"}}}],\"histogram\":[{\"marker\":{\"pattern\":{\"fillmode\":\"overlay\",\"size\":10,\"solidity\":0.2}},\"type\":\"histogram\"}],\"scattergl\":[{\"type\":\"scattergl\",\"marker\":{\"colorbar\":{\"outlinewidth\":0,\"ticks\":\"\"}}}],\"scatter3d\":[{\"type\":\"scatter3d\",\"line\":{\"colorbar\":{\"outlinewidth\":0,\"ticks\":\"\"}},\"marker\":{\"colorbar\":{\"outlinewidth\":0,\"ticks\":\"\"}}}],\"scattermapbox\":[{\"type\":\"scattermapbox\",\"marker\":{\"colorbar\":{\"outlinewidth\":0,\"ticks\":\"\"}}}],\"scatterternary\":[{\"type\":\"scatterternary\",\"marker\":{\"colorbar\":{\"outlinewidth\":0,\"ticks\":\"\"}}}],\"scattercarpet\":[{\"type\":\"scattercarpet\",\"marker\":{\"colorbar\":{\"outlinewidth\":0,\"ticks\":\"\"}}}],\"carpet\":[{\"aaxis\":{\"endlinecolor\":\"#2a3f5f\",\"gridcolor\":\"white\",\"linecolor\":\"white\",\"minorgridcolor\":\"white\",\"startlinecolor\":\"#2a3f5f\"},\"baxis\":{\"endlinecolor\":\"#2a3f5f\",\"gridcolor\":\"white\",\"linecolor\":\"white\",\"minorgridcolor\":\"white\",\"startlinecolor\":\"#2a3f5f\"},\"type\":\"carpet\"}],\"table\":[{\"cells\":{\"fill\":{\"color\":\"#EBF0F8\"},\"line\":{\"color\":\"white\"}},\"header\":{\"fill\":{\"color\":\"#C8D4E3\"},\"line\":{\"color\":\"white\"}},\"type\":\"table\"}],\"barpolar\":[{\"marker\":{\"line\":{\"color\":\"#E5ECF6\",\"width\":0.5},\"pattern\":{\"fillmode\":\"overlay\",\"size\":10,\"solidity\":0.2}},\"type\":\"barpolar\"}],\"pie\":[{\"automargin\":true,\"type\":\"pie\"}]},\"layout\":{\"autotypenumbers\":\"strict\",\"colorway\":[\"#636efa\",\"#EF553B\",\"#00cc96\",\"#ab63fa\",\"#FFA15A\",\"#19d3f3\",\"#FF6692\",\"#B6E880\",\"#FF97FF\",\"#FECB52\"],\"font\":{\"color\":\"#2a3f5f\"},\"hovermode\":\"closest\",\"hoverlabel\":{\"align\":\"left\"},\"paper_bgcolor\":\"white\",\"plot_bgcolor\":\"#E5ECF6\",\"polar\":{\"bgcolor\":\"#E5ECF6\",\"angularaxis\":{\"gridcolor\":\"white\",\"linecolor\":\"white\",\"ticks\":\"\"},\"radialaxis\":{\"gridcolor\":\"white\",\"linecolor\":\"white\",\"ticks\":\"\"}},\"ternary\":{\"bgcolor\":\"#E5ECF6\",\"aaxis\":{\"gridcolor\":\"white\",\"linecolor\":\"white\",\"ticks\":\"\"},\"baxis\":{\"gridcolor\":\"white\",\"linecolor\":\"white\",\"ticks\":\"\"},\"caxis\":{\"gridcolor\":\"white\",\"linecolor\":\"white\",\"ticks\":\"\"}},\"coloraxis\":{\"colorbar\":{\"outlinewidth\":0,\"ticks\":\"\"}},\"colorscale\":{\"sequential\":[[0.0,\"#0d0887\"],[0.1111111111111111,\"#46039f\"],[0.2222222222222222,\"#7201a8\"],[0.3333333333333333,\"#9c179e\"],[0.4444444444444444,\"#bd3786\"],[0.5555555555555556,\"#d8576b\"],[0.6666666666666666,\"#ed7953\"],[0.7777777777777778,\"#fb9f3a\"],[0.8888888888888888,\"#fdca26\"],[1.0,\"#f0f921\"]],\"sequentialminus\":[[0.0,\"#0d0887\"],[0.1111111111111111,\"#46039f\"],[0.2222222222222222,\"#7201a8\"],[0.3333333333333333,\"#9c179e\"],[0.4444444444444444,\"#bd3786\"],[0.5555555555555556,\"#d8576b\"],[0.6666666666666666,\"#ed7953\"],[0.7777777777777778,\"#fb9f3a\"],[0.8888888888888888,\"#fdca26\"],[1.0,\"#f0f921\"]],\"diverging\":[[0,\"#8e0152\"],[0.1,\"#c51b7d\"],[0.2,\"#de77ae\"],[0.3,\"#f1b6da\"],[0.4,\"#fde0ef\"],[0.5,\"#f7f7f7\"],[0.6,\"#e6f5d0\"],[0.7,\"#b8e186\"],[0.8,\"#7fbc41\"],[0.9,\"#4d9221\"],[1,\"#276419\"]]},\"xaxis\":{\"gridcolor\":\"white\",\"linecolor\":\"white\",\"ticks\":\"\",\"title\":{\"standoff\":15},\"zerolinecolor\":\"white\",\"automargin\":true,\"zerolinewidth\":2},\"yaxis\":{\"gridcolor\":\"white\",\"linecolor\":\"white\",\"ticks\":\"\",\"title\":{\"standoff\":15},\"zerolinecolor\":\"white\",\"automargin\":true,\"zerolinewidth\":2},\"scene\":{\"xaxis\":{\"backgroundcolor\":\"#E5ECF6\",\"gridcolor\":\"white\",\"linecolor\":\"white\",\"showbackground\":true,\"ticks\":\"\",\"zerolinecolor\":\"white\",\"gridwidth\":2},\"yaxis\":{\"backgroundcolor\":\"#E5ECF6\",\"gridcolor\":\"white\",\"linecolor\":\"white\",\"showbackground\":true,\"ticks\":\"\",\"zerolinecolor\":\"white\",\"gridwidth\":2},\"zaxis\":{\"backgroundcolor\":\"#E5ECF6\",\"gridcolor\":\"white\",\"linecolor\":\"white\",\"showbackground\":true,\"ticks\":\"\",\"zerolinecolor\":\"white\",\"gridwidth\":2}},\"shapedefaults\":{\"line\":{\"color\":\"#2a3f5f\"}},\"annotationdefaults\":{\"arrowcolor\":\"#2a3f5f\",\"arrowhead\":0,\"arrowwidth\":1},\"geo\":{\"bgcolor\":\"white\",\"landcolor\":\"#E5ECF6\",\"subunitcolor\":\"white\",\"showland\":true,\"showlakes\":true,\"lakecolor\":\"white\"},\"title\":{\"x\":0.05},\"mapbox\":{\"style\":\"light\"}}},\"polar\":{\"radialaxis\":{\"visible\":true}},\"showlegend\":false},                        {\"responsive\": true}                    ).then(function(){\n",
       "                            \n",
       "var gd = document.getElementById('b2af9a7e-aaa1-46ce-99e7-746047c114e1');\n",
       "var x = new MutationObserver(function (mutations, observer) {{\n",
       "        var display = window.getComputedStyle(gd).display;\n",
       "        if (!display || display === 'none') {{\n",
       "            console.log([gd, 'removed!']);\n",
       "            Plotly.purge(gd);\n",
       "            observer.disconnect();\n",
       "        }}\n",
       "}});\n",
       "\n",
       "// Listen for the removal of the full notebook cells\n",
       "var notebookContainer = gd.closest('#notebook-container');\n",
       "if (notebookContainer) {{\n",
       "    x.observe(notebookContainer, {childList: true});\n",
       "}}\n",
       "\n",
       "// Listen for the clearing of the current output cell\n",
       "var outputEl = gd.closest('.output');\n",
       "if (outputEl) {{\n",
       "    x.observe(outputEl, {childList: true});\n",
       "}}\n",
       "\n",
       "                        })                };                });            </script>        </div>"
      ]
     },
     "metadata": {},
     "output_type": "display_data"
    }
   ],
   "source": [
    "import plotly.graph_objects as go\n",
    "\n",
    "# categories = ['processing cost','mechanical properties','chemical stability',\n",
    "#               'thermal stability', 'device integration']\n",
    "categories = re_action_number\n",
    "\n",
    "fig = go.Figure()\n",
    "\n",
    "fig.add_trace(go.Scatterpolar(\n",
    "      r=action_listG[0],\n",
    "      theta=categories,\n",
    "      fill='toself',\n",
    "      name='Group A'\n",
    "))\n",
    "fig.add_trace(go.Scatterpolar(\n",
    "      r=action_listG[1],\n",
    "      theta=categories,\n",
    "      fill='toself',\n",
    "      name='Group B'\n",
    "))\n",
    "\n",
    "fig.update_layout(\n",
    "  polar=dict(\n",
    "    radialaxis=dict(\n",
    "      visible=True,\n",
    "      \n",
    "    )),\n",
    "  showlegend=False\n",
    ")\n",
    "\n",
    "fig.show()"
   ]
  },
  {
   "cell_type": "code",
   "execution_count": 129,
   "id": "0d008f07",
   "metadata": {},
   "outputs": [
    {
     "data": {
      "application/vnd.plotly.v1+json": {
       "config": {
        "plotlyServerURL": "https://plot.ly"
       },
       "data": [
        {
         "fill": "toself",
         "name": "Group A",
         "r": [
          0,
          0,
          0,
          0,
          5,
          0,
          0,
          15,
          0,
          0,
          0,
          0,
          0,
          0,
          0,
          0,
          0,
          0,
          0,
          0,
          0,
          0,
          0,
          0,
          0,
          0,
          0,
          0,
          0,
          0,
          0,
          0,
          0,
          0,
          0,
          0,
          0,
          0,
          0,
          0,
          2781,
          53,
          8,
          199,
          0,
          0,
          0,
          0,
          0,
          0,
          0,
          0,
          0,
          0,
          0,
          0,
          0,
          0,
          0,
          0,
          0,
          0,
          0,
          0,
          0,
          0,
          0,
          0,
          0,
          0,
          0,
          0,
          0,
          0,
          0,
          0,
          0,
          0,
          0,
          0,
          253,
          2,
          1,
          162,
          0,
          0,
          0,
          0,
          0,
          0,
          0,
          0,
          0,
          0,
          0,
          0,
          0,
          0,
          0,
          0,
          0,
          0,
          0,
          0,
          0,
          0,
          0,
          0,
          0,
          0,
          0,
          0,
          0,
          0,
          0,
          0,
          57,
          58,
          0,
          16,
          0,
          0,
          0,
          0,
          0,
          0,
          0,
          0,
          0,
          0,
          0,
          0,
          0,
          0,
          0,
          0,
          0,
          0,
          0,
          0,
          0,
          0,
          0,
          0,
          0,
          0,
          0,
          0,
          0,
          0,
          0,
          0,
          0,
          0,
          0,
          2,
          0,
          0,
          0,
          0,
          0,
          0,
          0,
          0,
          0,
          0,
          0,
          0,
          0,
          0,
          0,
          0,
          0,
          0,
          0,
          0,
          0,
          0,
          0,
          0,
          0,
          0,
          0,
          0,
          0,
          0,
          0,
          2,
          0,
          0,
          0,
          0
         ],
         "theta": [
          "Action-138",
          "Action-142",
          "Action-143",
          "Action-144",
          "Action-146",
          "Action-150",
          "Action-151",
          "Action-152",
          "Action-154",
          "Action-158",
          "Action-159",
          "Action-160",
          "Action-162",
          "Action-166",
          "Action-167",
          "Action-168",
          "Action-170",
          "Action-174",
          "Action-175",
          "Action-176",
          "Action-178",
          "Action-182",
          "Action-183",
          "Action-184",
          "Action-186",
          "Action-190",
          "Action-191",
          "Action-192",
          "Action-194",
          "Action-198",
          "Action-199",
          "Action-200",
          "Action-202",
          "Action-206",
          "Action-207",
          "Action-208",
          "Action-210",
          "Action-214",
          "Action-215",
          "Action-216",
          "Action-218",
          "Action-222",
          "Action-223",
          "Action-224",
          "Action-226",
          "Action-230",
          "Action-231",
          "Action-232",
          "Action-234",
          "Action-238",
          "Action-239",
          "Action-240",
          "Action-242",
          "Action-246",
          "Action-247",
          "Action-248",
          "Action-250",
          "Action-254",
          "Action-255",
          "Action-256",
          "Action-258",
          "Action-262",
          "Action-263",
          "Action-264",
          "Action-330",
          "Action-334",
          "Action-335",
          "Action-336",
          "Action-338",
          "Action-342",
          "Action-343",
          "Action-344",
          "Action-346",
          "Action-350",
          "Action-351",
          "Action-352",
          "Action-354",
          "Action-358",
          "Action-359",
          "Action-360",
          "Action-362",
          "Action-366",
          "Action-367",
          "Action-368",
          "Action-370",
          "Action-374",
          "Action-375",
          "Action-376",
          "Action-378",
          "Action-382",
          "Action-383",
          "Action-384",
          "Action-386",
          "Action-390",
          "Action-391",
          "Action-392",
          "Action-394",
          "Action-398",
          "Action-399",
          "Action-400",
          "Action-402",
          "Action-406",
          "Action-407",
          "Action-408",
          "Action-410",
          "Action-414",
          "Action-415",
          "Action-416",
          "Action-418",
          "Action-422",
          "Action-423",
          "Action-424",
          "Action-426",
          "Action-430",
          "Action-431",
          "Action-432",
          "Action-434",
          "Action-438",
          "Action-439",
          "Action-440",
          "Action-442",
          "Action-446",
          "Action-447",
          "Action-448",
          "Action-450",
          "Action-454",
          "Action-455",
          "Action-456",
          "Action-458",
          "Action-462",
          "Action-463",
          "Action-464",
          "Action-466",
          "Action-470",
          "Action-471",
          "Action-472",
          "Action-474",
          "Action-478",
          "Action-479",
          "Action-480",
          "Action-482",
          "Action-486",
          "Action-487",
          "Action-488",
          "Action-490",
          "Action-494",
          "Action-495",
          "Action-496",
          "Action-498",
          "Action-502",
          "Action-503",
          "Action-504",
          "Action-506",
          "Action-510",
          "Action-511",
          "Action-512",
          "Action-514",
          "Action-518",
          "Action-519",
          "Action-520",
          "Action-522",
          "Action-526",
          "Action-527",
          "Action-528",
          "Action-530",
          "Action-534",
          "Action-535",
          "Action-536",
          "Action-538",
          "Action-542",
          "Action-543",
          "Action-544",
          "Action-546",
          "Action-550",
          "Action-551",
          "Action-552",
          "Action-554",
          "Action-558",
          "Action-559",
          "Action-560",
          "Action-562",
          "Action-566",
          "Action-567",
          "Action-568",
          "Action-570",
          "Action-574",
          "Action-575",
          "Action-576",
          "Action-578",
          "Action-582",
          "Action-583",
          "Action-584"
         ],
         "type": "scatterpolar"
        },
        {
         "fill": "toself",
         "name": "Group B",
         "r": [
          0,
          0,
          0,
          0,
          0,
          0,
          0,
          0,
          0,
          0,
          0,
          0,
          0,
          0,
          0,
          0,
          0,
          0,
          0,
          0,
          0,
          0,
          0,
          0,
          0,
          0,
          0,
          0,
          0,
          0,
          0,
          0,
          0,
          0,
          0,
          0,
          0,
          0,
          0,
          0,
          197,
          4,
          18,
          6,
          0,
          0,
          0,
          0,
          0,
          0,
          0,
          0,
          0,
          0,
          0,
          0,
          0,
          0,
          0,
          0,
          0,
          0,
          0,
          0,
          0,
          0,
          0,
          0,
          0,
          0,
          0,
          0,
          0,
          0,
          0,
          0,
          0,
          0,
          0,
          0,
          18,
          2,
          2,
          1,
          0,
          0,
          0,
          0,
          0,
          0,
          0,
          0,
          0,
          0,
          0,
          0,
          0,
          0,
          0,
          0,
          0,
          0,
          0,
          0,
          0,
          0,
          0,
          0,
          0,
          0,
          0,
          0,
          0,
          0,
          0,
          0,
          4,
          5,
          0,
          0,
          0,
          0,
          0,
          0,
          0,
          0,
          0,
          0,
          0,
          0,
          0,
          0,
          0,
          0,
          0,
          0,
          0,
          0,
          0,
          0,
          0,
          0,
          0,
          0,
          0,
          0,
          0,
          0,
          0,
          0,
          0,
          0,
          22,
          0,
          31,
          0,
          0,
          0,
          0,
          0,
          0,
          0,
          0,
          0,
          0,
          0,
          0,
          0,
          0,
          0,
          0,
          0,
          0,
          0,
          0,
          0,
          0,
          0,
          0,
          0,
          0,
          0,
          0,
          0,
          22,
          0,
          31,
          0,
          0,
          0,
          0,
          0
         ],
         "theta": [
          "Action-138",
          "Action-142",
          "Action-143",
          "Action-144",
          "Action-146",
          "Action-150",
          "Action-151",
          "Action-152",
          "Action-154",
          "Action-158",
          "Action-159",
          "Action-160",
          "Action-162",
          "Action-166",
          "Action-167",
          "Action-168",
          "Action-170",
          "Action-174",
          "Action-175",
          "Action-176",
          "Action-178",
          "Action-182",
          "Action-183",
          "Action-184",
          "Action-186",
          "Action-190",
          "Action-191",
          "Action-192",
          "Action-194",
          "Action-198",
          "Action-199",
          "Action-200",
          "Action-202",
          "Action-206",
          "Action-207",
          "Action-208",
          "Action-210",
          "Action-214",
          "Action-215",
          "Action-216",
          "Action-218",
          "Action-222",
          "Action-223",
          "Action-224",
          "Action-226",
          "Action-230",
          "Action-231",
          "Action-232",
          "Action-234",
          "Action-238",
          "Action-239",
          "Action-240",
          "Action-242",
          "Action-246",
          "Action-247",
          "Action-248",
          "Action-250",
          "Action-254",
          "Action-255",
          "Action-256",
          "Action-258",
          "Action-262",
          "Action-263",
          "Action-264",
          "Action-330",
          "Action-334",
          "Action-335",
          "Action-336",
          "Action-338",
          "Action-342",
          "Action-343",
          "Action-344",
          "Action-346",
          "Action-350",
          "Action-351",
          "Action-352",
          "Action-354",
          "Action-358",
          "Action-359",
          "Action-360",
          "Action-362",
          "Action-366",
          "Action-367",
          "Action-368",
          "Action-370",
          "Action-374",
          "Action-375",
          "Action-376",
          "Action-378",
          "Action-382",
          "Action-383",
          "Action-384",
          "Action-386",
          "Action-390",
          "Action-391",
          "Action-392",
          "Action-394",
          "Action-398",
          "Action-399",
          "Action-400",
          "Action-402",
          "Action-406",
          "Action-407",
          "Action-408",
          "Action-410",
          "Action-414",
          "Action-415",
          "Action-416",
          "Action-418",
          "Action-422",
          "Action-423",
          "Action-424",
          "Action-426",
          "Action-430",
          "Action-431",
          "Action-432",
          "Action-434",
          "Action-438",
          "Action-439",
          "Action-440",
          "Action-442",
          "Action-446",
          "Action-447",
          "Action-448",
          "Action-450",
          "Action-454",
          "Action-455",
          "Action-456",
          "Action-458",
          "Action-462",
          "Action-463",
          "Action-464",
          "Action-466",
          "Action-470",
          "Action-471",
          "Action-472",
          "Action-474",
          "Action-478",
          "Action-479",
          "Action-480",
          "Action-482",
          "Action-486",
          "Action-487",
          "Action-488",
          "Action-490",
          "Action-494",
          "Action-495",
          "Action-496",
          "Action-498",
          "Action-502",
          "Action-503",
          "Action-504",
          "Action-506",
          "Action-510",
          "Action-511",
          "Action-512",
          "Action-514",
          "Action-518",
          "Action-519",
          "Action-520",
          "Action-522",
          "Action-526",
          "Action-527",
          "Action-528",
          "Action-530",
          "Action-534",
          "Action-535",
          "Action-536",
          "Action-538",
          "Action-542",
          "Action-543",
          "Action-544",
          "Action-546",
          "Action-550",
          "Action-551",
          "Action-552",
          "Action-554",
          "Action-558",
          "Action-559",
          "Action-560",
          "Action-562",
          "Action-566",
          "Action-567",
          "Action-568",
          "Action-570",
          "Action-574",
          "Action-575",
          "Action-576",
          "Action-578",
          "Action-582",
          "Action-583",
          "Action-584"
         ],
         "type": "scatterpolar"
        }
       ],
       "layout": {
        "polar": {
         "radialaxis": {
          "visible": true
         }
        },
        "showlegend": false,
        "template": {
         "data": {
          "bar": [
           {
            "error_x": {
             "color": "#2a3f5f"
            },
            "error_y": {
             "color": "#2a3f5f"
            },
            "marker": {
             "line": {
              "color": "#E5ECF6",
              "width": 0.5
             },
             "pattern": {
              "fillmode": "overlay",
              "size": 10,
              "solidity": 0.2
             }
            },
            "type": "bar"
           }
          ],
          "barpolar": [
           {
            "marker": {
             "line": {
              "color": "#E5ECF6",
              "width": 0.5
             },
             "pattern": {
              "fillmode": "overlay",
              "size": 10,
              "solidity": 0.2
             }
            },
            "type": "barpolar"
           }
          ],
          "carpet": [
           {
            "aaxis": {
             "endlinecolor": "#2a3f5f",
             "gridcolor": "white",
             "linecolor": "white",
             "minorgridcolor": "white",
             "startlinecolor": "#2a3f5f"
            },
            "baxis": {
             "endlinecolor": "#2a3f5f",
             "gridcolor": "white",
             "linecolor": "white",
             "minorgridcolor": "white",
             "startlinecolor": "#2a3f5f"
            },
            "type": "carpet"
           }
          ],
          "choropleth": [
           {
            "colorbar": {
             "outlinewidth": 0,
             "ticks": ""
            },
            "type": "choropleth"
           }
          ],
          "contour": [
           {
            "colorbar": {
             "outlinewidth": 0,
             "ticks": ""
            },
            "colorscale": [
             [
              0,
              "#0d0887"
             ],
             [
              0.1111111111111111,
              "#46039f"
             ],
             [
              0.2222222222222222,
              "#7201a8"
             ],
             [
              0.3333333333333333,
              "#9c179e"
             ],
             [
              0.4444444444444444,
              "#bd3786"
             ],
             [
              0.5555555555555556,
              "#d8576b"
             ],
             [
              0.6666666666666666,
              "#ed7953"
             ],
             [
              0.7777777777777778,
              "#fb9f3a"
             ],
             [
              0.8888888888888888,
              "#fdca26"
             ],
             [
              1,
              "#f0f921"
             ]
            ],
            "type": "contour"
           }
          ],
          "contourcarpet": [
           {
            "colorbar": {
             "outlinewidth": 0,
             "ticks": ""
            },
            "type": "contourcarpet"
           }
          ],
          "heatmap": [
           {
            "colorbar": {
             "outlinewidth": 0,
             "ticks": ""
            },
            "colorscale": [
             [
              0,
              "#0d0887"
             ],
             [
              0.1111111111111111,
              "#46039f"
             ],
             [
              0.2222222222222222,
              "#7201a8"
             ],
             [
              0.3333333333333333,
              "#9c179e"
             ],
             [
              0.4444444444444444,
              "#bd3786"
             ],
             [
              0.5555555555555556,
              "#d8576b"
             ],
             [
              0.6666666666666666,
              "#ed7953"
             ],
             [
              0.7777777777777778,
              "#fb9f3a"
             ],
             [
              0.8888888888888888,
              "#fdca26"
             ],
             [
              1,
              "#f0f921"
             ]
            ],
            "type": "heatmap"
           }
          ],
          "heatmapgl": [
           {
            "colorbar": {
             "outlinewidth": 0,
             "ticks": ""
            },
            "colorscale": [
             [
              0,
              "#0d0887"
             ],
             [
              0.1111111111111111,
              "#46039f"
             ],
             [
              0.2222222222222222,
              "#7201a8"
             ],
             [
              0.3333333333333333,
              "#9c179e"
             ],
             [
              0.4444444444444444,
              "#bd3786"
             ],
             [
              0.5555555555555556,
              "#d8576b"
             ],
             [
              0.6666666666666666,
              "#ed7953"
             ],
             [
              0.7777777777777778,
              "#fb9f3a"
             ],
             [
              0.8888888888888888,
              "#fdca26"
             ],
             [
              1,
              "#f0f921"
             ]
            ],
            "type": "heatmapgl"
           }
          ],
          "histogram": [
           {
            "marker": {
             "pattern": {
              "fillmode": "overlay",
              "size": 10,
              "solidity": 0.2
             }
            },
            "type": "histogram"
           }
          ],
          "histogram2d": [
           {
            "colorbar": {
             "outlinewidth": 0,
             "ticks": ""
            },
            "colorscale": [
             [
              0,
              "#0d0887"
             ],
             [
              0.1111111111111111,
              "#46039f"
             ],
             [
              0.2222222222222222,
              "#7201a8"
             ],
             [
              0.3333333333333333,
              "#9c179e"
             ],
             [
              0.4444444444444444,
              "#bd3786"
             ],
             [
              0.5555555555555556,
              "#d8576b"
             ],
             [
              0.6666666666666666,
              "#ed7953"
             ],
             [
              0.7777777777777778,
              "#fb9f3a"
             ],
             [
              0.8888888888888888,
              "#fdca26"
             ],
             [
              1,
              "#f0f921"
             ]
            ],
            "type": "histogram2d"
           }
          ],
          "histogram2dcontour": [
           {
            "colorbar": {
             "outlinewidth": 0,
             "ticks": ""
            },
            "colorscale": [
             [
              0,
              "#0d0887"
             ],
             [
              0.1111111111111111,
              "#46039f"
             ],
             [
              0.2222222222222222,
              "#7201a8"
             ],
             [
              0.3333333333333333,
              "#9c179e"
             ],
             [
              0.4444444444444444,
              "#bd3786"
             ],
             [
              0.5555555555555556,
              "#d8576b"
             ],
             [
              0.6666666666666666,
              "#ed7953"
             ],
             [
              0.7777777777777778,
              "#fb9f3a"
             ],
             [
              0.8888888888888888,
              "#fdca26"
             ],
             [
              1,
              "#f0f921"
             ]
            ],
            "type": "histogram2dcontour"
           }
          ],
          "mesh3d": [
           {
            "colorbar": {
             "outlinewidth": 0,
             "ticks": ""
            },
            "type": "mesh3d"
           }
          ],
          "parcoords": [
           {
            "line": {
             "colorbar": {
              "outlinewidth": 0,
              "ticks": ""
             }
            },
            "type": "parcoords"
           }
          ],
          "pie": [
           {
            "automargin": true,
            "type": "pie"
           }
          ],
          "scatter": [
           {
            "fillpattern": {
             "fillmode": "overlay",
             "size": 10,
             "solidity": 0.2
            },
            "type": "scatter"
           }
          ],
          "scatter3d": [
           {
            "line": {
             "colorbar": {
              "outlinewidth": 0,
              "ticks": ""
             }
            },
            "marker": {
             "colorbar": {
              "outlinewidth": 0,
              "ticks": ""
             }
            },
            "type": "scatter3d"
           }
          ],
          "scattercarpet": [
           {
            "marker": {
             "colorbar": {
              "outlinewidth": 0,
              "ticks": ""
             }
            },
            "type": "scattercarpet"
           }
          ],
          "scattergeo": [
           {
            "marker": {
             "colorbar": {
              "outlinewidth": 0,
              "ticks": ""
             }
            },
            "type": "scattergeo"
           }
          ],
          "scattergl": [
           {
            "marker": {
             "colorbar": {
              "outlinewidth": 0,
              "ticks": ""
             }
            },
            "type": "scattergl"
           }
          ],
          "scattermapbox": [
           {
            "marker": {
             "colorbar": {
              "outlinewidth": 0,
              "ticks": ""
             }
            },
            "type": "scattermapbox"
           }
          ],
          "scatterpolar": [
           {
            "marker": {
             "colorbar": {
              "outlinewidth": 0,
              "ticks": ""
             }
            },
            "type": "scatterpolar"
           }
          ],
          "scatterpolargl": [
           {
            "marker": {
             "colorbar": {
              "outlinewidth": 0,
              "ticks": ""
             }
            },
            "type": "scatterpolargl"
           }
          ],
          "scatterternary": [
           {
            "marker": {
             "colorbar": {
              "outlinewidth": 0,
              "ticks": ""
             }
            },
            "type": "scatterternary"
           }
          ],
          "surface": [
           {
            "colorbar": {
             "outlinewidth": 0,
             "ticks": ""
            },
            "colorscale": [
             [
              0,
              "#0d0887"
             ],
             [
              0.1111111111111111,
              "#46039f"
             ],
             [
              0.2222222222222222,
              "#7201a8"
             ],
             [
              0.3333333333333333,
              "#9c179e"
             ],
             [
              0.4444444444444444,
              "#bd3786"
             ],
             [
              0.5555555555555556,
              "#d8576b"
             ],
             [
              0.6666666666666666,
              "#ed7953"
             ],
             [
              0.7777777777777778,
              "#fb9f3a"
             ],
             [
              0.8888888888888888,
              "#fdca26"
             ],
             [
              1,
              "#f0f921"
             ]
            ],
            "type": "surface"
           }
          ],
          "table": [
           {
            "cells": {
             "fill": {
              "color": "#EBF0F8"
             },
             "line": {
              "color": "white"
             }
            },
            "header": {
             "fill": {
              "color": "#C8D4E3"
             },
             "line": {
              "color": "white"
             }
            },
            "type": "table"
           }
          ]
         },
         "layout": {
          "annotationdefaults": {
           "arrowcolor": "#2a3f5f",
           "arrowhead": 0,
           "arrowwidth": 1
          },
          "autotypenumbers": "strict",
          "coloraxis": {
           "colorbar": {
            "outlinewidth": 0,
            "ticks": ""
           }
          },
          "colorscale": {
           "diverging": [
            [
             0,
             "#8e0152"
            ],
            [
             0.1,
             "#c51b7d"
            ],
            [
             0.2,
             "#de77ae"
            ],
            [
             0.3,
             "#f1b6da"
            ],
            [
             0.4,
             "#fde0ef"
            ],
            [
             0.5,
             "#f7f7f7"
            ],
            [
             0.6,
             "#e6f5d0"
            ],
            [
             0.7,
             "#b8e186"
            ],
            [
             0.8,
             "#7fbc41"
            ],
            [
             0.9,
             "#4d9221"
            ],
            [
             1,
             "#276419"
            ]
           ],
           "sequential": [
            [
             0,
             "#0d0887"
            ],
            [
             0.1111111111111111,
             "#46039f"
            ],
            [
             0.2222222222222222,
             "#7201a8"
            ],
            [
             0.3333333333333333,
             "#9c179e"
            ],
            [
             0.4444444444444444,
             "#bd3786"
            ],
            [
             0.5555555555555556,
             "#d8576b"
            ],
            [
             0.6666666666666666,
             "#ed7953"
            ],
            [
             0.7777777777777778,
             "#fb9f3a"
            ],
            [
             0.8888888888888888,
             "#fdca26"
            ],
            [
             1,
             "#f0f921"
            ]
           ],
           "sequentialminus": [
            [
             0,
             "#0d0887"
            ],
            [
             0.1111111111111111,
             "#46039f"
            ],
            [
             0.2222222222222222,
             "#7201a8"
            ],
            [
             0.3333333333333333,
             "#9c179e"
            ],
            [
             0.4444444444444444,
             "#bd3786"
            ],
            [
             0.5555555555555556,
             "#d8576b"
            ],
            [
             0.6666666666666666,
             "#ed7953"
            ],
            [
             0.7777777777777778,
             "#fb9f3a"
            ],
            [
             0.8888888888888888,
             "#fdca26"
            ],
            [
             1,
             "#f0f921"
            ]
           ]
          },
          "colorway": [
           "#636efa",
           "#EF553B",
           "#00cc96",
           "#ab63fa",
           "#FFA15A",
           "#19d3f3",
           "#FF6692",
           "#B6E880",
           "#FF97FF",
           "#FECB52"
          ],
          "font": {
           "color": "#2a3f5f"
          },
          "geo": {
           "bgcolor": "white",
           "lakecolor": "white",
           "landcolor": "#E5ECF6",
           "showlakes": true,
           "showland": true,
           "subunitcolor": "white"
          },
          "hoverlabel": {
           "align": "left"
          },
          "hovermode": "closest",
          "mapbox": {
           "style": "light"
          },
          "paper_bgcolor": "white",
          "plot_bgcolor": "#E5ECF6",
          "polar": {
           "angularaxis": {
            "gridcolor": "white",
            "linecolor": "white",
            "ticks": ""
           },
           "bgcolor": "#E5ECF6",
           "radialaxis": {
            "gridcolor": "white",
            "linecolor": "white",
            "ticks": ""
           }
          },
          "scene": {
           "xaxis": {
            "backgroundcolor": "#E5ECF6",
            "gridcolor": "white",
            "gridwidth": 2,
            "linecolor": "white",
            "showbackground": true,
            "ticks": "",
            "zerolinecolor": "white"
           },
           "yaxis": {
            "backgroundcolor": "#E5ECF6",
            "gridcolor": "white",
            "gridwidth": 2,
            "linecolor": "white",
            "showbackground": true,
            "ticks": "",
            "zerolinecolor": "white"
           },
           "zaxis": {
            "backgroundcolor": "#E5ECF6",
            "gridcolor": "white",
            "gridwidth": 2,
            "linecolor": "white",
            "showbackground": true,
            "ticks": "",
            "zerolinecolor": "white"
           }
          },
          "shapedefaults": {
           "line": {
            "color": "#2a3f5f"
           }
          },
          "ternary": {
           "aaxis": {
            "gridcolor": "white",
            "linecolor": "white",
            "ticks": ""
           },
           "baxis": {
            "gridcolor": "white",
            "linecolor": "white",
            "ticks": ""
           },
           "bgcolor": "#E5ECF6",
           "caxis": {
            "gridcolor": "white",
            "linecolor": "white",
            "ticks": ""
           }
          },
          "title": {
           "x": 0.05
          },
          "xaxis": {
           "automargin": true,
           "gridcolor": "white",
           "linecolor": "white",
           "ticks": "",
           "title": {
            "standoff": 15
           },
           "zerolinecolor": "white",
           "zerolinewidth": 2
          },
          "yaxis": {
           "automargin": true,
           "gridcolor": "white",
           "linecolor": "white",
           "ticks": "",
           "title": {
            "standoff": 15
           },
           "zerolinecolor": "white",
           "zerolinewidth": 2
          }
         }
        }
       }
      },
      "text/html": [
       "<div>                            <div id=\"92211cfb-eb90-415d-9225-27c064a3d3a0\" class=\"plotly-graph-div\" style=\"height:525px; width:100%;\"></div>            <script type=\"text/javascript\">                require([\"plotly\"], function(Plotly) {                    window.PLOTLYENV=window.PLOTLYENV || {};                                    if (document.getElementById(\"92211cfb-eb90-415d-9225-27c064a3d3a0\")) {                    Plotly.newPlot(                        \"92211cfb-eb90-415d-9225-27c064a3d3a0\",                        [{\"fill\":\"toself\",\"name\":\"Group A\",\"r\":[0,0,0,0,5,0,0,15,0,0,0,0,0,0,0,0,0,0,0,0,0,0,0,0,0,0,0,0,0,0,0,0,0,0,0,0,0,0,0,0,2781,53,8,199,0,0,0,0,0,0,0,0,0,0,0,0,0,0,0,0,0,0,0,0,0,0,0,0,0,0,0,0,0,0,0,0,0,0,0,0,253,2,1,162,0,0,0,0,0,0,0,0,0,0,0,0,0,0,0,0,0,0,0,0,0,0,0,0,0,0,0,0,0,0,0,0,57,58,0,16,0,0,0,0,0,0,0,0,0,0,0,0,0,0,0,0,0,0,0,0,0,0,0,0,0,0,0,0,0,0,0,0,0,0,0,2,0,0,0,0,0,0,0,0,0,0,0,0,0,0,0,0,0,0,0,0,0,0,0,0,0,0,0,0,0,0,0,2,0,0,0,0],\"theta\":[\"Action-138\",\"Action-142\",\"Action-143\",\"Action-144\",\"Action-146\",\"Action-150\",\"Action-151\",\"Action-152\",\"Action-154\",\"Action-158\",\"Action-159\",\"Action-160\",\"Action-162\",\"Action-166\",\"Action-167\",\"Action-168\",\"Action-170\",\"Action-174\",\"Action-175\",\"Action-176\",\"Action-178\",\"Action-182\",\"Action-183\",\"Action-184\",\"Action-186\",\"Action-190\",\"Action-191\",\"Action-192\",\"Action-194\",\"Action-198\",\"Action-199\",\"Action-200\",\"Action-202\",\"Action-206\",\"Action-207\",\"Action-208\",\"Action-210\",\"Action-214\",\"Action-215\",\"Action-216\",\"Action-218\",\"Action-222\",\"Action-223\",\"Action-224\",\"Action-226\",\"Action-230\",\"Action-231\",\"Action-232\",\"Action-234\",\"Action-238\",\"Action-239\",\"Action-240\",\"Action-242\",\"Action-246\",\"Action-247\",\"Action-248\",\"Action-250\",\"Action-254\",\"Action-255\",\"Action-256\",\"Action-258\",\"Action-262\",\"Action-263\",\"Action-264\",\"Action-330\",\"Action-334\",\"Action-335\",\"Action-336\",\"Action-338\",\"Action-342\",\"Action-343\",\"Action-344\",\"Action-346\",\"Action-350\",\"Action-351\",\"Action-352\",\"Action-354\",\"Action-358\",\"Action-359\",\"Action-360\",\"Action-362\",\"Action-366\",\"Action-367\",\"Action-368\",\"Action-370\",\"Action-374\",\"Action-375\",\"Action-376\",\"Action-378\",\"Action-382\",\"Action-383\",\"Action-384\",\"Action-386\",\"Action-390\",\"Action-391\",\"Action-392\",\"Action-394\",\"Action-398\",\"Action-399\",\"Action-400\",\"Action-402\",\"Action-406\",\"Action-407\",\"Action-408\",\"Action-410\",\"Action-414\",\"Action-415\",\"Action-416\",\"Action-418\",\"Action-422\",\"Action-423\",\"Action-424\",\"Action-426\",\"Action-430\",\"Action-431\",\"Action-432\",\"Action-434\",\"Action-438\",\"Action-439\",\"Action-440\",\"Action-442\",\"Action-446\",\"Action-447\",\"Action-448\",\"Action-450\",\"Action-454\",\"Action-455\",\"Action-456\",\"Action-458\",\"Action-462\",\"Action-463\",\"Action-464\",\"Action-466\",\"Action-470\",\"Action-471\",\"Action-472\",\"Action-474\",\"Action-478\",\"Action-479\",\"Action-480\",\"Action-482\",\"Action-486\",\"Action-487\",\"Action-488\",\"Action-490\",\"Action-494\",\"Action-495\",\"Action-496\",\"Action-498\",\"Action-502\",\"Action-503\",\"Action-504\",\"Action-506\",\"Action-510\",\"Action-511\",\"Action-512\",\"Action-514\",\"Action-518\",\"Action-519\",\"Action-520\",\"Action-522\",\"Action-526\",\"Action-527\",\"Action-528\",\"Action-530\",\"Action-534\",\"Action-535\",\"Action-536\",\"Action-538\",\"Action-542\",\"Action-543\",\"Action-544\",\"Action-546\",\"Action-550\",\"Action-551\",\"Action-552\",\"Action-554\",\"Action-558\",\"Action-559\",\"Action-560\",\"Action-562\",\"Action-566\",\"Action-567\",\"Action-568\",\"Action-570\",\"Action-574\",\"Action-575\",\"Action-576\",\"Action-578\",\"Action-582\",\"Action-583\",\"Action-584\"],\"type\":\"scatterpolar\"},{\"fill\":\"toself\",\"name\":\"Group B\",\"r\":[0,0,0,0,0,0,0,0,0,0,0,0,0,0,0,0,0,0,0,0,0,0,0,0,0,0,0,0,0,0,0,0,0,0,0,0,0,0,0,0,197,4,18,6,0,0,0,0,0,0,0,0,0,0,0,0,0,0,0,0,0,0,0,0,0,0,0,0,0,0,0,0,0,0,0,0,0,0,0,0,18,2,2,1,0,0,0,0,0,0,0,0,0,0,0,0,0,0,0,0,0,0,0,0,0,0,0,0,0,0,0,0,0,0,0,0,4,5,0,0,0,0,0,0,0,0,0,0,0,0,0,0,0,0,0,0,0,0,0,0,0,0,0,0,0,0,0,0,0,0,0,0,22,0,31,0,0,0,0,0,0,0,0,0,0,0,0,0,0,0,0,0,0,0,0,0,0,0,0,0,0,0,0,0,22,0,31,0,0,0,0,0],\"theta\":[\"Action-138\",\"Action-142\",\"Action-143\",\"Action-144\",\"Action-146\",\"Action-150\",\"Action-151\",\"Action-152\",\"Action-154\",\"Action-158\",\"Action-159\",\"Action-160\",\"Action-162\",\"Action-166\",\"Action-167\",\"Action-168\",\"Action-170\",\"Action-174\",\"Action-175\",\"Action-176\",\"Action-178\",\"Action-182\",\"Action-183\",\"Action-184\",\"Action-186\",\"Action-190\",\"Action-191\",\"Action-192\",\"Action-194\",\"Action-198\",\"Action-199\",\"Action-200\",\"Action-202\",\"Action-206\",\"Action-207\",\"Action-208\",\"Action-210\",\"Action-214\",\"Action-215\",\"Action-216\",\"Action-218\",\"Action-222\",\"Action-223\",\"Action-224\",\"Action-226\",\"Action-230\",\"Action-231\",\"Action-232\",\"Action-234\",\"Action-238\",\"Action-239\",\"Action-240\",\"Action-242\",\"Action-246\",\"Action-247\",\"Action-248\",\"Action-250\",\"Action-254\",\"Action-255\",\"Action-256\",\"Action-258\",\"Action-262\",\"Action-263\",\"Action-264\",\"Action-330\",\"Action-334\",\"Action-335\",\"Action-336\",\"Action-338\",\"Action-342\",\"Action-343\",\"Action-344\",\"Action-346\",\"Action-350\",\"Action-351\",\"Action-352\",\"Action-354\",\"Action-358\",\"Action-359\",\"Action-360\",\"Action-362\",\"Action-366\",\"Action-367\",\"Action-368\",\"Action-370\",\"Action-374\",\"Action-375\",\"Action-376\",\"Action-378\",\"Action-382\",\"Action-383\",\"Action-384\",\"Action-386\",\"Action-390\",\"Action-391\",\"Action-392\",\"Action-394\",\"Action-398\",\"Action-399\",\"Action-400\",\"Action-402\",\"Action-406\",\"Action-407\",\"Action-408\",\"Action-410\",\"Action-414\",\"Action-415\",\"Action-416\",\"Action-418\",\"Action-422\",\"Action-423\",\"Action-424\",\"Action-426\",\"Action-430\",\"Action-431\",\"Action-432\",\"Action-434\",\"Action-438\",\"Action-439\",\"Action-440\",\"Action-442\",\"Action-446\",\"Action-447\",\"Action-448\",\"Action-450\",\"Action-454\",\"Action-455\",\"Action-456\",\"Action-458\",\"Action-462\",\"Action-463\",\"Action-464\",\"Action-466\",\"Action-470\",\"Action-471\",\"Action-472\",\"Action-474\",\"Action-478\",\"Action-479\",\"Action-480\",\"Action-482\",\"Action-486\",\"Action-487\",\"Action-488\",\"Action-490\",\"Action-494\",\"Action-495\",\"Action-496\",\"Action-498\",\"Action-502\",\"Action-503\",\"Action-504\",\"Action-506\",\"Action-510\",\"Action-511\",\"Action-512\",\"Action-514\",\"Action-518\",\"Action-519\",\"Action-520\",\"Action-522\",\"Action-526\",\"Action-527\",\"Action-528\",\"Action-530\",\"Action-534\",\"Action-535\",\"Action-536\",\"Action-538\",\"Action-542\",\"Action-543\",\"Action-544\",\"Action-546\",\"Action-550\",\"Action-551\",\"Action-552\",\"Action-554\",\"Action-558\",\"Action-559\",\"Action-560\",\"Action-562\",\"Action-566\",\"Action-567\",\"Action-568\",\"Action-570\",\"Action-574\",\"Action-575\",\"Action-576\",\"Action-578\",\"Action-582\",\"Action-583\",\"Action-584\"],\"type\":\"scatterpolar\"}],                        {\"template\":{\"data\":{\"histogram2dcontour\":[{\"type\":\"histogram2dcontour\",\"colorbar\":{\"outlinewidth\":0,\"ticks\":\"\"},\"colorscale\":[[0.0,\"#0d0887\"],[0.1111111111111111,\"#46039f\"],[0.2222222222222222,\"#7201a8\"],[0.3333333333333333,\"#9c179e\"],[0.4444444444444444,\"#bd3786\"],[0.5555555555555556,\"#d8576b\"],[0.6666666666666666,\"#ed7953\"],[0.7777777777777778,\"#fb9f3a\"],[0.8888888888888888,\"#fdca26\"],[1.0,\"#f0f921\"]]}],\"choropleth\":[{\"type\":\"choropleth\",\"colorbar\":{\"outlinewidth\":0,\"ticks\":\"\"}}],\"histogram2d\":[{\"type\":\"histogram2d\",\"colorbar\":{\"outlinewidth\":0,\"ticks\":\"\"},\"colorscale\":[[0.0,\"#0d0887\"],[0.1111111111111111,\"#46039f\"],[0.2222222222222222,\"#7201a8\"],[0.3333333333333333,\"#9c179e\"],[0.4444444444444444,\"#bd3786\"],[0.5555555555555556,\"#d8576b\"],[0.6666666666666666,\"#ed7953\"],[0.7777777777777778,\"#fb9f3a\"],[0.8888888888888888,\"#fdca26\"],[1.0,\"#f0f921\"]]}],\"heatmap\":[{\"type\":\"heatmap\",\"colorbar\":{\"outlinewidth\":0,\"ticks\":\"\"},\"colorscale\":[[0.0,\"#0d0887\"],[0.1111111111111111,\"#46039f\"],[0.2222222222222222,\"#7201a8\"],[0.3333333333333333,\"#9c179e\"],[0.4444444444444444,\"#bd3786\"],[0.5555555555555556,\"#d8576b\"],[0.6666666666666666,\"#ed7953\"],[0.7777777777777778,\"#fb9f3a\"],[0.8888888888888888,\"#fdca26\"],[1.0,\"#f0f921\"]]}],\"heatmapgl\":[{\"type\":\"heatmapgl\",\"colorbar\":{\"outlinewidth\":0,\"ticks\":\"\"},\"colorscale\":[[0.0,\"#0d0887\"],[0.1111111111111111,\"#46039f\"],[0.2222222222222222,\"#7201a8\"],[0.3333333333333333,\"#9c179e\"],[0.4444444444444444,\"#bd3786\"],[0.5555555555555556,\"#d8576b\"],[0.6666666666666666,\"#ed7953\"],[0.7777777777777778,\"#fb9f3a\"],[0.8888888888888888,\"#fdca26\"],[1.0,\"#f0f921\"]]}],\"contourcarpet\":[{\"type\":\"contourcarpet\",\"colorbar\":{\"outlinewidth\":0,\"ticks\":\"\"}}],\"contour\":[{\"type\":\"contour\",\"colorbar\":{\"outlinewidth\":0,\"ticks\":\"\"},\"colorscale\":[[0.0,\"#0d0887\"],[0.1111111111111111,\"#46039f\"],[0.2222222222222222,\"#7201a8\"],[0.3333333333333333,\"#9c179e\"],[0.4444444444444444,\"#bd3786\"],[0.5555555555555556,\"#d8576b\"],[0.6666666666666666,\"#ed7953\"],[0.7777777777777778,\"#fb9f3a\"],[0.8888888888888888,\"#fdca26\"],[1.0,\"#f0f921\"]]}],\"surface\":[{\"type\":\"surface\",\"colorbar\":{\"outlinewidth\":0,\"ticks\":\"\"},\"colorscale\":[[0.0,\"#0d0887\"],[0.1111111111111111,\"#46039f\"],[0.2222222222222222,\"#7201a8\"],[0.3333333333333333,\"#9c179e\"],[0.4444444444444444,\"#bd3786\"],[0.5555555555555556,\"#d8576b\"],[0.6666666666666666,\"#ed7953\"],[0.7777777777777778,\"#fb9f3a\"],[0.8888888888888888,\"#fdca26\"],[1.0,\"#f0f921\"]]}],\"mesh3d\":[{\"type\":\"mesh3d\",\"colorbar\":{\"outlinewidth\":0,\"ticks\":\"\"}}],\"scatter\":[{\"fillpattern\":{\"fillmode\":\"overlay\",\"size\":10,\"solidity\":0.2},\"type\":\"scatter\"}],\"parcoords\":[{\"type\":\"parcoords\",\"line\":{\"colorbar\":{\"outlinewidth\":0,\"ticks\":\"\"}}}],\"scatterpolargl\":[{\"type\":\"scatterpolargl\",\"marker\":{\"colorbar\":{\"outlinewidth\":0,\"ticks\":\"\"}}}],\"bar\":[{\"error_x\":{\"color\":\"#2a3f5f\"},\"error_y\":{\"color\":\"#2a3f5f\"},\"marker\":{\"line\":{\"color\":\"#E5ECF6\",\"width\":0.5},\"pattern\":{\"fillmode\":\"overlay\",\"size\":10,\"solidity\":0.2}},\"type\":\"bar\"}],\"scattergeo\":[{\"type\":\"scattergeo\",\"marker\":{\"colorbar\":{\"outlinewidth\":0,\"ticks\":\"\"}}}],\"scatterpolar\":[{\"type\":\"scatterpolar\",\"marker\":{\"colorbar\":{\"outlinewidth\":0,\"ticks\":\"\"}}}],\"histogram\":[{\"marker\":{\"pattern\":{\"fillmode\":\"overlay\",\"size\":10,\"solidity\":0.2}},\"type\":\"histogram\"}],\"scattergl\":[{\"type\":\"scattergl\",\"marker\":{\"colorbar\":{\"outlinewidth\":0,\"ticks\":\"\"}}}],\"scatter3d\":[{\"type\":\"scatter3d\",\"line\":{\"colorbar\":{\"outlinewidth\":0,\"ticks\":\"\"}},\"marker\":{\"colorbar\":{\"outlinewidth\":0,\"ticks\":\"\"}}}],\"scattermapbox\":[{\"type\":\"scattermapbox\",\"marker\":{\"colorbar\":{\"outlinewidth\":0,\"ticks\":\"\"}}}],\"scatterternary\":[{\"type\":\"scatterternary\",\"marker\":{\"colorbar\":{\"outlinewidth\":0,\"ticks\":\"\"}}}],\"scattercarpet\":[{\"type\":\"scattercarpet\",\"marker\":{\"colorbar\":{\"outlinewidth\":0,\"ticks\":\"\"}}}],\"carpet\":[{\"aaxis\":{\"endlinecolor\":\"#2a3f5f\",\"gridcolor\":\"white\",\"linecolor\":\"white\",\"minorgridcolor\":\"white\",\"startlinecolor\":\"#2a3f5f\"},\"baxis\":{\"endlinecolor\":\"#2a3f5f\",\"gridcolor\":\"white\",\"linecolor\":\"white\",\"minorgridcolor\":\"white\",\"startlinecolor\":\"#2a3f5f\"},\"type\":\"carpet\"}],\"table\":[{\"cells\":{\"fill\":{\"color\":\"#EBF0F8\"},\"line\":{\"color\":\"white\"}},\"header\":{\"fill\":{\"color\":\"#C8D4E3\"},\"line\":{\"color\":\"white\"}},\"type\":\"table\"}],\"barpolar\":[{\"marker\":{\"line\":{\"color\":\"#E5ECF6\",\"width\":0.5},\"pattern\":{\"fillmode\":\"overlay\",\"size\":10,\"solidity\":0.2}},\"type\":\"barpolar\"}],\"pie\":[{\"automargin\":true,\"type\":\"pie\"}]},\"layout\":{\"autotypenumbers\":\"strict\",\"colorway\":[\"#636efa\",\"#EF553B\",\"#00cc96\",\"#ab63fa\",\"#FFA15A\",\"#19d3f3\",\"#FF6692\",\"#B6E880\",\"#FF97FF\",\"#FECB52\"],\"font\":{\"color\":\"#2a3f5f\"},\"hovermode\":\"closest\",\"hoverlabel\":{\"align\":\"left\"},\"paper_bgcolor\":\"white\",\"plot_bgcolor\":\"#E5ECF6\",\"polar\":{\"bgcolor\":\"#E5ECF6\",\"angularaxis\":{\"gridcolor\":\"white\",\"linecolor\":\"white\",\"ticks\":\"\"},\"radialaxis\":{\"gridcolor\":\"white\",\"linecolor\":\"white\",\"ticks\":\"\"}},\"ternary\":{\"bgcolor\":\"#E5ECF6\",\"aaxis\":{\"gridcolor\":\"white\",\"linecolor\":\"white\",\"ticks\":\"\"},\"baxis\":{\"gridcolor\":\"white\",\"linecolor\":\"white\",\"ticks\":\"\"},\"caxis\":{\"gridcolor\":\"white\",\"linecolor\":\"white\",\"ticks\":\"\"}},\"coloraxis\":{\"colorbar\":{\"outlinewidth\":0,\"ticks\":\"\"}},\"colorscale\":{\"sequential\":[[0.0,\"#0d0887\"],[0.1111111111111111,\"#46039f\"],[0.2222222222222222,\"#7201a8\"],[0.3333333333333333,\"#9c179e\"],[0.4444444444444444,\"#bd3786\"],[0.5555555555555556,\"#d8576b\"],[0.6666666666666666,\"#ed7953\"],[0.7777777777777778,\"#fb9f3a\"],[0.8888888888888888,\"#fdca26\"],[1.0,\"#f0f921\"]],\"sequentialminus\":[[0.0,\"#0d0887\"],[0.1111111111111111,\"#46039f\"],[0.2222222222222222,\"#7201a8\"],[0.3333333333333333,\"#9c179e\"],[0.4444444444444444,\"#bd3786\"],[0.5555555555555556,\"#d8576b\"],[0.6666666666666666,\"#ed7953\"],[0.7777777777777778,\"#fb9f3a\"],[0.8888888888888888,\"#fdca26\"],[1.0,\"#f0f921\"]],\"diverging\":[[0,\"#8e0152\"],[0.1,\"#c51b7d\"],[0.2,\"#de77ae\"],[0.3,\"#f1b6da\"],[0.4,\"#fde0ef\"],[0.5,\"#f7f7f7\"],[0.6,\"#e6f5d0\"],[0.7,\"#b8e186\"],[0.8,\"#7fbc41\"],[0.9,\"#4d9221\"],[1,\"#276419\"]]},\"xaxis\":{\"gridcolor\":\"white\",\"linecolor\":\"white\",\"ticks\":\"\",\"title\":{\"standoff\":15},\"zerolinecolor\":\"white\",\"automargin\":true,\"zerolinewidth\":2},\"yaxis\":{\"gridcolor\":\"white\",\"linecolor\":\"white\",\"ticks\":\"\",\"title\":{\"standoff\":15},\"zerolinecolor\":\"white\",\"automargin\":true,\"zerolinewidth\":2},\"scene\":{\"xaxis\":{\"backgroundcolor\":\"#E5ECF6\",\"gridcolor\":\"white\",\"linecolor\":\"white\",\"showbackground\":true,\"ticks\":\"\",\"zerolinecolor\":\"white\",\"gridwidth\":2},\"yaxis\":{\"backgroundcolor\":\"#E5ECF6\",\"gridcolor\":\"white\",\"linecolor\":\"white\",\"showbackground\":true,\"ticks\":\"\",\"zerolinecolor\":\"white\",\"gridwidth\":2},\"zaxis\":{\"backgroundcolor\":\"#E5ECF6\",\"gridcolor\":\"white\",\"linecolor\":\"white\",\"showbackground\":true,\"ticks\":\"\",\"zerolinecolor\":\"white\",\"gridwidth\":2}},\"shapedefaults\":{\"line\":{\"color\":\"#2a3f5f\"}},\"annotationdefaults\":{\"arrowcolor\":\"#2a3f5f\",\"arrowhead\":0,\"arrowwidth\":1},\"geo\":{\"bgcolor\":\"white\",\"landcolor\":\"#E5ECF6\",\"subunitcolor\":\"white\",\"showland\":true,\"showlakes\":true,\"lakecolor\":\"white\"},\"title\":{\"x\":0.05},\"mapbox\":{\"style\":\"light\"}}},\"polar\":{\"radialaxis\":{\"visible\":true}},\"showlegend\":false},                        {\"responsive\": true}                    ).then(function(){\n",
       "                            \n",
       "var gd = document.getElementById('92211cfb-eb90-415d-9225-27c064a3d3a0');\n",
       "var x = new MutationObserver(function (mutations, observer) {{\n",
       "        var display = window.getComputedStyle(gd).display;\n",
       "        if (!display || display === 'none') {{\n",
       "            console.log([gd, 'removed!']);\n",
       "            Plotly.purge(gd);\n",
       "            observer.disconnect();\n",
       "        }}\n",
       "}});\n",
       "\n",
       "// Listen for the removal of the full notebook cells\n",
       "var notebookContainer = gd.closest('#notebook-container');\n",
       "if (notebookContainer) {{\n",
       "    x.observe(notebookContainer, {childList: true});\n",
       "}}\n",
       "\n",
       "// Listen for the clearing of the current output cell\n",
       "var outputEl = gd.closest('.output');\n",
       "if (outputEl) {{\n",
       "    x.observe(outputEl, {childList: true});\n",
       "}}\n",
       "\n",
       "                        })                };                });            </script>        </div>"
      ]
     },
     "metadata": {},
     "output_type": "display_data"
    }
   ],
   "source": [
    "import plotly.graph_objects as go\n",
    "\n",
    "# categories = ['processing cost','mechanical properties','chemical stability',\n",
    "#               'thermal stability', 'device integration']\n",
    "categories = action_number\n",
    "\n",
    "fig = go.Figure()\n",
    "\n",
    "fig.add_trace(go.Scatterpolar(\n",
    "      r=action_listG[0],\n",
    "      theta=categories,\n",
    "      fill='toself',\n",
    "      name='Group A'\n",
    "))\n",
    "fig.add_trace(go.Scatterpolar(\n",
    "      r=action_listG[1],\n",
    "      theta=categories,\n",
    "      fill='toself',\n",
    "      name='Group B'\n",
    "))\n",
    "\n",
    "fig.update_layout(\n",
    "  polar=dict(\n",
    "    radialaxis=dict(\n",
    "      visible=True\n",
    "    )),\n",
    "  showlegend=False\n",
    ")\n",
    "\n",
    "fig.show()"
   ]
  },
  {
   "cell_type": "code",
   "execution_count": 97,
   "id": "7da14447",
   "metadata": {},
   "outputs": [
    {
     "data": {
      "application/vnd.plotly.v1+json": {
       "config": {
        "plotlyServerURL": "https://plot.ly"
       },
       "data": [
        {
         "fill": "toself",
         "name": "Group A",
         "r": [
          3360,
          56,
          1175,
          1431,
          401,
          77,
          109,
          220,
          9,
          385,
          454,
          185,
          2147,
          25,
          29,
          49,
          33,
          5,
          6,
          4,
          5,
          0,
          0,
          2,
          1,
          503,
          163,
          36,
          384,
          13,
          25,
          22,
          1,
          154,
          653,
          74,
          448,
          8,
          20,
          45,
          8,
          67,
          65,
          95,
          139,
          3,
          3,
          13,
          0,
          13,
          16,
          2,
          21,
          24,
          0,
          0,
          0,
          18,
          17,
          5,
          35,
          0,
          31,
          2,
          4,
          21,
          33,
          0,
          70,
          1,
          1,
          80,
          9,
          385,
          454,
          185,
          2147,
          25,
          29,
          49,
          0,
          0,
          0,
          0,
          0,
          0,
          0,
          0,
          0,
          0,
          0,
          0,
          0,
          0,
          0,
          0,
          0,
          0,
          0,
          0,
          0,
          0,
          0,
          0,
          0,
          0,
          0,
          0,
          0,
          0,
          0,
          0,
          0,
          0,
          0,
          0,
          0,
          0,
          0,
          0,
          0,
          0,
          0,
          0,
          0,
          0,
          0,
          0,
          0,
          0,
          0,
          0,
          0,
          0,
          0,
          0,
          0,
          0,
          0,
          0,
          0,
          0,
          0,
          0,
          33,
          5,
          6,
          4,
          5,
          0,
          0,
          2,
          0,
          0,
          0,
          0,
          0,
          0,
          0,
          0,
          0,
          0,
          0,
          0,
          0,
          0,
          0,
          0,
          0,
          0,
          0,
          0,
          0,
          0,
          0,
          0,
          0,
          0,
          0,
          0,
          0,
          0,
          0,
          0,
          0,
          0,
          0,
          0,
          0,
          0,
          0,
          0,
          0,
          0,
          0,
          0,
          0,
          0,
          0,
          0,
          0,
          0,
          0,
          0,
          0,
          0,
          0,
          0,
          0,
          0,
          0,
          0,
          0,
          0,
          0,
          0,
          1,
          503,
          163,
          36,
          384,
          13,
          25,
          22,
          0,
          0,
          0,
          0,
          0,
          0,
          0,
          0,
          0,
          0,
          0,
          0,
          0,
          0,
          0,
          0,
          0,
          0,
          0,
          0,
          0,
          0,
          0,
          0,
          0,
          0,
          0,
          0,
          0,
          0,
          0,
          0,
          0,
          0,
          0,
          0,
          0,
          0,
          0,
          0,
          0,
          0,
          0,
          0,
          0,
          0,
          0,
          0,
          0,
          0,
          0,
          0,
          0,
          0,
          0,
          0,
          0,
          0,
          0,
          0,
          0,
          0,
          0,
          0,
          1,
          154,
          653,
          74,
          448,
          8,
          20,
          45,
          0,
          0,
          0,
          0,
          0,
          0,
          0,
          0,
          0,
          0,
          0,
          0,
          0,
          0,
          0,
          0,
          0,
          0,
          0,
          0,
          0,
          0,
          0,
          0,
          0,
          0,
          0,
          0,
          0,
          0,
          0,
          0,
          0,
          0,
          0,
          0,
          0,
          0,
          0,
          0,
          0,
          0,
          0,
          0,
          0,
          0,
          0,
          0,
          0,
          0,
          0,
          0,
          0,
          0,
          0,
          0,
          0,
          0,
          0,
          0,
          0,
          0,
          0,
          0,
          8,
          67,
          65,
          95,
          139,
          3,
          3,
          13,
          0,
          0,
          0,
          0,
          0,
          0,
          0,
          0,
          0,
          0,
          0,
          0,
          0,
          0,
          0,
          0,
          0,
          0,
          0,
          0,
          0,
          0,
          0,
          0,
          0,
          0,
          0,
          0,
          0,
          0,
          0,
          0,
          0,
          0,
          0,
          0,
          0,
          0,
          0,
          0,
          0,
          0,
          0,
          0,
          0,
          0,
          0,
          0,
          0,
          0,
          0,
          0,
          0,
          0,
          0,
          0,
          0,
          0,
          0,
          0,
          0,
          0,
          0,
          0,
          0,
          13,
          16,
          2,
          21,
          24,
          0,
          0,
          0,
          0,
          0,
          0,
          0,
          0,
          0,
          0,
          0,
          0,
          0,
          0,
          0,
          0,
          0,
          0,
          0,
          0,
          0,
          0,
          0,
          0,
          0,
          0,
          0,
          0,
          0,
          0,
          0,
          0,
          0,
          0,
          0,
          0,
          0,
          0,
          0,
          0,
          0,
          0,
          0,
          0,
          0,
          0,
          0,
          0,
          0,
          0,
          0,
          0,
          0,
          0,
          0,
          0,
          0,
          0,
          0,
          0,
          0,
          0,
          0,
          0,
          0,
          0,
          0,
          18,
          17,
          5,
          35,
          0,
          31,
          2,
          0,
          0,
          0,
          0,
          0,
          0,
          0,
          0,
          0,
          0,
          0,
          0,
          0,
          0,
          0,
          0,
          0,
          0,
          0,
          0,
          0,
          0,
          0,
          0,
          0,
          0,
          0,
          0,
          0,
          0,
          0,
          0,
          0,
          0,
          0,
          0,
          0,
          0,
          0,
          0,
          0,
          0,
          0,
          0,
          0,
          0,
          0,
          0,
          0,
          0,
          0,
          0,
          0,
          0,
          0,
          0,
          0,
          18,
          17,
          5,
          35,
          0,
          31,
          2,
          0,
          0,
          0,
          0,
          0,
          0,
          0,
          0
         ],
         "theta": [
          "Action-1",
          "Action-2",
          "Action-3",
          "Action-4",
          "Action-5",
          "Action-6",
          "Action-7",
          "Action-8",
          "Action-9",
          "Action-10",
          "Action-11",
          "Action-12",
          "Action-13",
          "Action-14",
          "Action-15",
          "Action-16",
          "Action-17",
          "Action-18",
          "Action-19",
          "Action-20",
          "Action-21",
          "Action-22",
          "Action-23",
          "Action-24",
          "Action-25",
          "Action-26",
          "Action-27",
          "Action-28",
          "Action-29",
          "Action-30",
          "Action-31",
          "Action-32",
          "Action-33",
          "Action-34",
          "Action-35",
          "Action-36",
          "Action-37",
          "Action-38",
          "Action-39",
          "Action-40",
          "Action-41",
          "Action-42",
          "Action-43",
          "Action-44",
          "Action-45",
          "Action-46",
          "Action-47",
          "Action-48",
          "Action-49",
          "Action-50",
          "Action-51",
          "Action-52",
          "Action-53",
          "Action-54",
          "Action-55",
          "Action-56",
          "Action-57",
          "Action-58",
          "Action-59",
          "Action-60",
          "Action-61",
          "Action-62",
          "Action-63",
          "Action-64",
          "Action-65",
          "Action-66",
          "Action-67",
          "Action-68",
          "Action-69",
          "Action-70",
          "Action-71",
          "Action-72",
          "Action-73",
          "Action-74",
          "Action-75",
          "Action-76",
          "Action-77",
          "Action-78",
          "Action-79",
          "Action-80",
          "Action-81",
          "Action-82",
          "Action-83",
          "Action-84",
          "Action-85",
          "Action-86",
          "Action-87",
          "Action-88",
          "Action-89",
          "Action-90",
          "Action-91",
          "Action-92",
          "Action-93",
          "Action-94",
          "Action-95",
          "Action-96",
          "Action-97",
          "Action-98",
          "Action-99",
          "Action-100",
          "Action-101",
          "Action-102",
          "Action-103",
          "Action-104",
          "Action-105",
          "Action-106",
          "Action-107",
          "Action-108",
          "Action-109",
          "Action-110",
          "Action-111",
          "Action-112",
          "Action-113",
          "Action-114",
          "Action-115",
          "Action-116",
          "Action-117",
          "Action-118",
          "Action-119",
          "Action-120",
          "Action-121",
          "Action-122",
          "Action-123",
          "Action-124",
          "Action-125",
          "Action-126",
          "Action-127",
          "Action-128",
          "Action-129",
          "Action-130",
          "Action-131",
          "Action-132",
          "Action-133",
          "Action-134",
          "Action-135",
          "Action-136",
          "Action-137",
          "Action-138",
          "Action-139",
          "Action-140",
          "Action-141",
          "Action-142",
          "Action-143",
          "Action-144",
          "Action-145",
          "Action-146",
          "Action-147",
          "Action-148",
          "Action-149",
          "Action-150",
          "Action-151",
          "Action-152",
          "Action-153",
          "Action-154",
          "Action-155",
          "Action-156",
          "Action-157",
          "Action-158",
          "Action-159",
          "Action-160",
          "Action-161",
          "Action-162",
          "Action-163",
          "Action-164",
          "Action-165",
          "Action-166",
          "Action-167",
          "Action-168",
          "Action-169",
          "Action-170",
          "Action-171",
          "Action-172",
          "Action-173",
          "Action-174",
          "Action-175",
          "Action-176",
          "Action-177",
          "Action-178",
          "Action-179",
          "Action-180",
          "Action-181",
          "Action-182",
          "Action-183",
          "Action-184",
          "Action-185",
          "Action-186",
          "Action-187",
          "Action-188",
          "Action-189",
          "Action-190",
          "Action-191",
          "Action-192",
          "Action-193",
          "Action-194",
          "Action-195",
          "Action-196",
          "Action-197",
          "Action-198",
          "Action-199",
          "Action-200",
          "Action-201",
          "Action-202",
          "Action-203",
          "Action-204",
          "Action-205",
          "Action-206",
          "Action-207",
          "Action-208",
          "Action-209",
          "Action-210",
          "Action-211",
          "Action-212",
          "Action-213",
          "Action-214",
          "Action-215",
          "Action-216",
          "Action-217",
          "Action-218",
          "Action-219",
          "Action-220",
          "Action-221",
          "Action-222",
          "Action-223",
          "Action-224",
          "Action-225",
          "Action-226",
          "Action-227",
          "Action-228",
          "Action-229",
          "Action-230",
          "Action-231",
          "Action-232",
          "Action-233",
          "Action-234",
          "Action-235",
          "Action-236",
          "Action-237",
          "Action-238",
          "Action-239",
          "Action-240",
          "Action-241",
          "Action-242",
          "Action-243",
          "Action-244",
          "Action-245",
          "Action-246",
          "Action-247",
          "Action-248",
          "Action-249",
          "Action-250",
          "Action-251",
          "Action-252",
          "Action-253",
          "Action-254",
          "Action-255",
          "Action-256",
          "Action-257",
          "Action-258",
          "Action-259",
          "Action-260",
          "Action-261",
          "Action-262",
          "Action-263",
          "Action-264",
          "Action-265",
          "Action-266",
          "Action-267",
          "Action-268",
          "Action-269",
          "Action-270",
          "Action-271",
          "Action-272",
          "Action-273",
          "Action-274",
          "Action-275",
          "Action-276",
          "Action-277",
          "Action-278",
          "Action-279",
          "Action-280",
          "Action-281",
          "Action-282",
          "Action-283",
          "Action-284",
          "Action-285",
          "Action-286",
          "Action-287",
          "Action-288",
          "Action-289",
          "Action-290",
          "Action-291",
          "Action-292",
          "Action-293",
          "Action-294",
          "Action-295",
          "Action-296",
          "Action-297",
          "Action-298",
          "Action-299",
          "Action-300",
          "Action-301",
          "Action-302",
          "Action-303",
          "Action-304",
          "Action-305",
          "Action-306",
          "Action-307",
          "Action-308",
          "Action-309",
          "Action-310",
          "Action-311",
          "Action-312",
          "Action-313",
          "Action-314",
          "Action-315",
          "Action-316",
          "Action-317",
          "Action-318",
          "Action-319",
          "Action-320",
          "Action-321",
          "Action-322",
          "Action-323",
          "Action-324",
          "Action-325",
          "Action-326",
          "Action-327",
          "Action-328",
          "Action-329",
          "Action-330",
          "Action-331",
          "Action-332",
          "Action-333",
          "Action-334",
          "Action-335",
          "Action-336",
          "Action-337",
          "Action-338",
          "Action-339",
          "Action-340",
          "Action-341",
          "Action-342",
          "Action-343",
          "Action-344",
          "Action-345",
          "Action-346",
          "Action-347",
          "Action-348",
          "Action-349",
          "Action-350",
          "Action-351",
          "Action-352",
          "Action-353",
          "Action-354",
          "Action-355",
          "Action-356",
          "Action-357",
          "Action-358",
          "Action-359",
          "Action-360",
          "Action-361",
          "Action-362",
          "Action-363",
          "Action-364",
          "Action-365",
          "Action-366",
          "Action-367",
          "Action-368",
          "Action-369",
          "Action-370",
          "Action-371",
          "Action-372",
          "Action-373",
          "Action-374",
          "Action-375",
          "Action-376",
          "Action-377",
          "Action-378",
          "Action-379",
          "Action-380",
          "Action-381",
          "Action-382",
          "Action-383",
          "Action-384",
          "Action-385",
          "Action-386",
          "Action-387",
          "Action-388",
          "Action-389",
          "Action-390",
          "Action-391",
          "Action-392",
          "Action-393",
          "Action-394",
          "Action-395",
          "Action-396",
          "Action-397",
          "Action-398",
          "Action-399",
          "Action-400",
          "Action-401",
          "Action-402",
          "Action-403",
          "Action-404",
          "Action-405",
          "Action-406",
          "Action-407",
          "Action-408",
          "Action-409",
          "Action-410",
          "Action-411",
          "Action-412",
          "Action-413",
          "Action-414",
          "Action-415",
          "Action-416",
          "Action-417",
          "Action-418",
          "Action-419",
          "Action-420",
          "Action-421",
          "Action-422",
          "Action-423",
          "Action-424",
          "Action-425",
          "Action-426",
          "Action-427",
          "Action-428",
          "Action-429",
          "Action-430",
          "Action-431",
          "Action-432",
          "Action-433",
          "Action-434",
          "Action-435",
          "Action-436",
          "Action-437",
          "Action-438",
          "Action-439",
          "Action-440",
          "Action-441",
          "Action-442",
          "Action-443",
          "Action-444",
          "Action-445",
          "Action-446",
          "Action-447",
          "Action-448",
          "Action-449",
          "Action-450",
          "Action-451",
          "Action-452",
          "Action-453",
          "Action-454",
          "Action-455",
          "Action-456",
          "Action-457",
          "Action-458",
          "Action-459",
          "Action-460",
          "Action-461",
          "Action-462",
          "Action-463",
          "Action-464",
          "Action-465",
          "Action-466",
          "Action-467",
          "Action-468",
          "Action-469",
          "Action-470",
          "Action-471",
          "Action-472",
          "Action-473",
          "Action-474",
          "Action-475",
          "Action-476",
          "Action-477",
          "Action-478",
          "Action-479",
          "Action-480",
          "Action-481",
          "Action-482",
          "Action-483",
          "Action-484",
          "Action-485",
          "Action-486",
          "Action-487",
          "Action-488",
          "Action-489",
          "Action-490",
          "Action-491",
          "Action-492",
          "Action-493",
          "Action-494",
          "Action-495",
          "Action-496",
          "Action-497",
          "Action-498",
          "Action-499",
          "Action-500",
          "Action-501",
          "Action-502",
          "Action-503",
          "Action-504",
          "Action-505",
          "Action-506",
          "Action-507",
          "Action-508",
          "Action-509",
          "Action-510",
          "Action-511",
          "Action-512",
          "Action-513",
          "Action-514",
          "Action-515",
          "Action-516",
          "Action-517",
          "Action-518",
          "Action-519",
          "Action-520",
          "Action-521",
          "Action-522",
          "Action-523",
          "Action-524",
          "Action-525",
          "Action-526",
          "Action-527",
          "Action-528",
          "Action-529",
          "Action-530",
          "Action-531",
          "Action-532",
          "Action-533",
          "Action-534",
          "Action-535",
          "Action-536",
          "Action-537",
          "Action-538",
          "Action-539",
          "Action-540",
          "Action-541",
          "Action-542",
          "Action-543",
          "Action-544",
          "Action-545",
          "Action-546",
          "Action-547",
          "Action-548",
          "Action-549",
          "Action-550",
          "Action-551",
          "Action-552",
          "Action-553",
          "Action-554",
          "Action-555",
          "Action-556",
          "Action-557",
          "Action-558",
          "Action-559",
          "Action-560",
          "Action-561",
          "Action-562",
          "Action-563",
          "Action-564",
          "Action-565",
          "Action-566",
          "Action-567",
          "Action-568",
          "Action-569",
          "Action-570",
          "Action-571",
          "Action-572",
          "Action-573",
          "Action-574",
          "Action-575",
          "Action-576",
          "Action-577",
          "Action-578",
          "Action-579",
          "Action-580",
          "Action-581",
          "Action-582",
          "Action-583",
          "Action-584"
         ],
         "type": "scatterpolar"
        },
        {
         "fill": "toself",
         "name": "Group B",
         "r": [
          3202,
          43,
          4847,
          12005,
          1025,
          170,
          12,
          3057,
          3,
          388,
          1111,
          74,
          1259,
          8,
          5,
          214,
          17,
          0,
          6,
          0,
          4,
          0,
          0,
          13,
          4,
          2475,
          1529,
          204,
          285,
          44,
          1,
          183,
          5,
          1527,
          8001,
          437,
          974,
          59,
          6,
          702,
          2,
          204,
          371,
          217,
          72,
          1,
          0,
          150,
          0,
          48,
          46,
          2,
          13,
          39,
          0,
          16,
          0,
          4,
          8,
          0,
          0,
          0,
          0,
          0,
          12,
          174,
          656,
          90,
          276,
          17,
          0,
          1764,
          3,
          388,
          1111,
          74,
          1259,
          8,
          5,
          214,
          0,
          0,
          0,
          0,
          0,
          0,
          0,
          0,
          0,
          0,
          0,
          0,
          0,
          0,
          0,
          0,
          0,
          0,
          0,
          0,
          0,
          0,
          0,
          0,
          0,
          0,
          0,
          0,
          0,
          0,
          0,
          0,
          0,
          0,
          0,
          0,
          0,
          0,
          0,
          0,
          0,
          0,
          0,
          0,
          0,
          0,
          0,
          0,
          0,
          0,
          0,
          0,
          0,
          0,
          0,
          0,
          0,
          0,
          0,
          0,
          0,
          0,
          0,
          0,
          17,
          0,
          6,
          0,
          4,
          0,
          0,
          13,
          0,
          0,
          0,
          0,
          0,
          0,
          0,
          0,
          0,
          0,
          0,
          0,
          0,
          0,
          0,
          0,
          0,
          0,
          0,
          0,
          0,
          0,
          0,
          0,
          0,
          0,
          0,
          0,
          0,
          0,
          0,
          0,
          0,
          0,
          0,
          0,
          0,
          0,
          0,
          0,
          0,
          0,
          0,
          0,
          0,
          0,
          0,
          0,
          0,
          0,
          0,
          0,
          0,
          0,
          0,
          0,
          0,
          0,
          0,
          0,
          0,
          0,
          0,
          0,
          4,
          2475,
          1529,
          204,
          285,
          44,
          1,
          183,
          0,
          0,
          0,
          0,
          0,
          0,
          0,
          0,
          0,
          0,
          0,
          0,
          0,
          0,
          0,
          0,
          0,
          0,
          0,
          0,
          0,
          0,
          0,
          0,
          0,
          0,
          0,
          0,
          0,
          0,
          0,
          0,
          0,
          0,
          0,
          0,
          0,
          0,
          0,
          0,
          0,
          0,
          0,
          0,
          0,
          0,
          0,
          0,
          0,
          0,
          0,
          0,
          0,
          0,
          0,
          0,
          0,
          0,
          0,
          0,
          0,
          0,
          0,
          0,
          5,
          1527,
          8001,
          437,
          974,
          59,
          6,
          702,
          0,
          0,
          0,
          0,
          0,
          0,
          0,
          0,
          0,
          0,
          0,
          0,
          0,
          0,
          0,
          0,
          0,
          0,
          0,
          0,
          0,
          0,
          0,
          0,
          0,
          0,
          0,
          0,
          0,
          0,
          0,
          0,
          0,
          0,
          0,
          0,
          0,
          0,
          0,
          0,
          0,
          0,
          0,
          0,
          0,
          0,
          0,
          0,
          0,
          0,
          0,
          0,
          0,
          0,
          0,
          0,
          0,
          0,
          0,
          0,
          0,
          0,
          0,
          0,
          2,
          204,
          371,
          217,
          72,
          1,
          0,
          150,
          0,
          0,
          0,
          0,
          0,
          0,
          0,
          0,
          0,
          0,
          0,
          0,
          0,
          0,
          0,
          0,
          0,
          0,
          0,
          0,
          0,
          0,
          0,
          0,
          0,
          0,
          0,
          0,
          0,
          0,
          0,
          0,
          0,
          0,
          0,
          0,
          0,
          0,
          0,
          0,
          0,
          0,
          0,
          0,
          0,
          0,
          0,
          0,
          0,
          0,
          0,
          0,
          0,
          0,
          0,
          0,
          0,
          0,
          0,
          0,
          0,
          0,
          0,
          0,
          0,
          48,
          46,
          2,
          13,
          39,
          0,
          16,
          0,
          0,
          0,
          0,
          0,
          0,
          0,
          0,
          0,
          0,
          0,
          0,
          0,
          0,
          0,
          0,
          0,
          0,
          0,
          0,
          0,
          0,
          0,
          0,
          0,
          0,
          0,
          0,
          0,
          0,
          0,
          0,
          0,
          0,
          0,
          0,
          0,
          0,
          0,
          0,
          0,
          0,
          0,
          0,
          0,
          0,
          0,
          0,
          0,
          0,
          0,
          0,
          0,
          0,
          0,
          0,
          0,
          0,
          0,
          0,
          0,
          0,
          0,
          0,
          0,
          4,
          8,
          0,
          0,
          0,
          0,
          0,
          0,
          0,
          0,
          0,
          0,
          0,
          0,
          0,
          0,
          0,
          0,
          0,
          0,
          0,
          0,
          0,
          0,
          0,
          0,
          0,
          0,
          0,
          0,
          0,
          0,
          0,
          0,
          0,
          0,
          0,
          0,
          0,
          0,
          0,
          0,
          0,
          0,
          0,
          0,
          0,
          0,
          0,
          0,
          0,
          0,
          0,
          0,
          0,
          0,
          0,
          0,
          0,
          0,
          0,
          0,
          0,
          0,
          4,
          8,
          0,
          0,
          0,
          0,
          0,
          0,
          0,
          0,
          0,
          0,
          0,
          0,
          0
         ],
         "theta": [
          "Action-1",
          "Action-2",
          "Action-3",
          "Action-4",
          "Action-5",
          "Action-6",
          "Action-7",
          "Action-8",
          "Action-9",
          "Action-10",
          "Action-11",
          "Action-12",
          "Action-13",
          "Action-14",
          "Action-15",
          "Action-16",
          "Action-17",
          "Action-18",
          "Action-19",
          "Action-20",
          "Action-21",
          "Action-22",
          "Action-23",
          "Action-24",
          "Action-25",
          "Action-26",
          "Action-27",
          "Action-28",
          "Action-29",
          "Action-30",
          "Action-31",
          "Action-32",
          "Action-33",
          "Action-34",
          "Action-35",
          "Action-36",
          "Action-37",
          "Action-38",
          "Action-39",
          "Action-40",
          "Action-41",
          "Action-42",
          "Action-43",
          "Action-44",
          "Action-45",
          "Action-46",
          "Action-47",
          "Action-48",
          "Action-49",
          "Action-50",
          "Action-51",
          "Action-52",
          "Action-53",
          "Action-54",
          "Action-55",
          "Action-56",
          "Action-57",
          "Action-58",
          "Action-59",
          "Action-60",
          "Action-61",
          "Action-62",
          "Action-63",
          "Action-64",
          "Action-65",
          "Action-66",
          "Action-67",
          "Action-68",
          "Action-69",
          "Action-70",
          "Action-71",
          "Action-72",
          "Action-73",
          "Action-74",
          "Action-75",
          "Action-76",
          "Action-77",
          "Action-78",
          "Action-79",
          "Action-80",
          "Action-81",
          "Action-82",
          "Action-83",
          "Action-84",
          "Action-85",
          "Action-86",
          "Action-87",
          "Action-88",
          "Action-89",
          "Action-90",
          "Action-91",
          "Action-92",
          "Action-93",
          "Action-94",
          "Action-95",
          "Action-96",
          "Action-97",
          "Action-98",
          "Action-99",
          "Action-100",
          "Action-101",
          "Action-102",
          "Action-103",
          "Action-104",
          "Action-105",
          "Action-106",
          "Action-107",
          "Action-108",
          "Action-109",
          "Action-110",
          "Action-111",
          "Action-112",
          "Action-113",
          "Action-114",
          "Action-115",
          "Action-116",
          "Action-117",
          "Action-118",
          "Action-119",
          "Action-120",
          "Action-121",
          "Action-122",
          "Action-123",
          "Action-124",
          "Action-125",
          "Action-126",
          "Action-127",
          "Action-128",
          "Action-129",
          "Action-130",
          "Action-131",
          "Action-132",
          "Action-133",
          "Action-134",
          "Action-135",
          "Action-136",
          "Action-137",
          "Action-138",
          "Action-139",
          "Action-140",
          "Action-141",
          "Action-142",
          "Action-143",
          "Action-144",
          "Action-145",
          "Action-146",
          "Action-147",
          "Action-148",
          "Action-149",
          "Action-150",
          "Action-151",
          "Action-152",
          "Action-153",
          "Action-154",
          "Action-155",
          "Action-156",
          "Action-157",
          "Action-158",
          "Action-159",
          "Action-160",
          "Action-161",
          "Action-162",
          "Action-163",
          "Action-164",
          "Action-165",
          "Action-166",
          "Action-167",
          "Action-168",
          "Action-169",
          "Action-170",
          "Action-171",
          "Action-172",
          "Action-173",
          "Action-174",
          "Action-175",
          "Action-176",
          "Action-177",
          "Action-178",
          "Action-179",
          "Action-180",
          "Action-181",
          "Action-182",
          "Action-183",
          "Action-184",
          "Action-185",
          "Action-186",
          "Action-187",
          "Action-188",
          "Action-189",
          "Action-190",
          "Action-191",
          "Action-192",
          "Action-193",
          "Action-194",
          "Action-195",
          "Action-196",
          "Action-197",
          "Action-198",
          "Action-199",
          "Action-200",
          "Action-201",
          "Action-202",
          "Action-203",
          "Action-204",
          "Action-205",
          "Action-206",
          "Action-207",
          "Action-208",
          "Action-209",
          "Action-210",
          "Action-211",
          "Action-212",
          "Action-213",
          "Action-214",
          "Action-215",
          "Action-216",
          "Action-217",
          "Action-218",
          "Action-219",
          "Action-220",
          "Action-221",
          "Action-222",
          "Action-223",
          "Action-224",
          "Action-225",
          "Action-226",
          "Action-227",
          "Action-228",
          "Action-229",
          "Action-230",
          "Action-231",
          "Action-232",
          "Action-233",
          "Action-234",
          "Action-235",
          "Action-236",
          "Action-237",
          "Action-238",
          "Action-239",
          "Action-240",
          "Action-241",
          "Action-242",
          "Action-243",
          "Action-244",
          "Action-245",
          "Action-246",
          "Action-247",
          "Action-248",
          "Action-249",
          "Action-250",
          "Action-251",
          "Action-252",
          "Action-253",
          "Action-254",
          "Action-255",
          "Action-256",
          "Action-257",
          "Action-258",
          "Action-259",
          "Action-260",
          "Action-261",
          "Action-262",
          "Action-263",
          "Action-264",
          "Action-265",
          "Action-266",
          "Action-267",
          "Action-268",
          "Action-269",
          "Action-270",
          "Action-271",
          "Action-272",
          "Action-273",
          "Action-274",
          "Action-275",
          "Action-276",
          "Action-277",
          "Action-278",
          "Action-279",
          "Action-280",
          "Action-281",
          "Action-282",
          "Action-283",
          "Action-284",
          "Action-285",
          "Action-286",
          "Action-287",
          "Action-288",
          "Action-289",
          "Action-290",
          "Action-291",
          "Action-292",
          "Action-293",
          "Action-294",
          "Action-295",
          "Action-296",
          "Action-297",
          "Action-298",
          "Action-299",
          "Action-300",
          "Action-301",
          "Action-302",
          "Action-303",
          "Action-304",
          "Action-305",
          "Action-306",
          "Action-307",
          "Action-308",
          "Action-309",
          "Action-310",
          "Action-311",
          "Action-312",
          "Action-313",
          "Action-314",
          "Action-315",
          "Action-316",
          "Action-317",
          "Action-318",
          "Action-319",
          "Action-320",
          "Action-321",
          "Action-322",
          "Action-323",
          "Action-324",
          "Action-325",
          "Action-326",
          "Action-327",
          "Action-328",
          "Action-329",
          "Action-330",
          "Action-331",
          "Action-332",
          "Action-333",
          "Action-334",
          "Action-335",
          "Action-336",
          "Action-337",
          "Action-338",
          "Action-339",
          "Action-340",
          "Action-341",
          "Action-342",
          "Action-343",
          "Action-344",
          "Action-345",
          "Action-346",
          "Action-347",
          "Action-348",
          "Action-349",
          "Action-350",
          "Action-351",
          "Action-352",
          "Action-353",
          "Action-354",
          "Action-355",
          "Action-356",
          "Action-357",
          "Action-358",
          "Action-359",
          "Action-360",
          "Action-361",
          "Action-362",
          "Action-363",
          "Action-364",
          "Action-365",
          "Action-366",
          "Action-367",
          "Action-368",
          "Action-369",
          "Action-370",
          "Action-371",
          "Action-372",
          "Action-373",
          "Action-374",
          "Action-375",
          "Action-376",
          "Action-377",
          "Action-378",
          "Action-379",
          "Action-380",
          "Action-381",
          "Action-382",
          "Action-383",
          "Action-384",
          "Action-385",
          "Action-386",
          "Action-387",
          "Action-388",
          "Action-389",
          "Action-390",
          "Action-391",
          "Action-392",
          "Action-393",
          "Action-394",
          "Action-395",
          "Action-396",
          "Action-397",
          "Action-398",
          "Action-399",
          "Action-400",
          "Action-401",
          "Action-402",
          "Action-403",
          "Action-404",
          "Action-405",
          "Action-406",
          "Action-407",
          "Action-408",
          "Action-409",
          "Action-410",
          "Action-411",
          "Action-412",
          "Action-413",
          "Action-414",
          "Action-415",
          "Action-416",
          "Action-417",
          "Action-418",
          "Action-419",
          "Action-420",
          "Action-421",
          "Action-422",
          "Action-423",
          "Action-424",
          "Action-425",
          "Action-426",
          "Action-427",
          "Action-428",
          "Action-429",
          "Action-430",
          "Action-431",
          "Action-432",
          "Action-433",
          "Action-434",
          "Action-435",
          "Action-436",
          "Action-437",
          "Action-438",
          "Action-439",
          "Action-440",
          "Action-441",
          "Action-442",
          "Action-443",
          "Action-444",
          "Action-445",
          "Action-446",
          "Action-447",
          "Action-448",
          "Action-449",
          "Action-450",
          "Action-451",
          "Action-452",
          "Action-453",
          "Action-454",
          "Action-455",
          "Action-456",
          "Action-457",
          "Action-458",
          "Action-459",
          "Action-460",
          "Action-461",
          "Action-462",
          "Action-463",
          "Action-464",
          "Action-465",
          "Action-466",
          "Action-467",
          "Action-468",
          "Action-469",
          "Action-470",
          "Action-471",
          "Action-472",
          "Action-473",
          "Action-474",
          "Action-475",
          "Action-476",
          "Action-477",
          "Action-478",
          "Action-479",
          "Action-480",
          "Action-481",
          "Action-482",
          "Action-483",
          "Action-484",
          "Action-485",
          "Action-486",
          "Action-487",
          "Action-488",
          "Action-489",
          "Action-490",
          "Action-491",
          "Action-492",
          "Action-493",
          "Action-494",
          "Action-495",
          "Action-496",
          "Action-497",
          "Action-498",
          "Action-499",
          "Action-500",
          "Action-501",
          "Action-502",
          "Action-503",
          "Action-504",
          "Action-505",
          "Action-506",
          "Action-507",
          "Action-508",
          "Action-509",
          "Action-510",
          "Action-511",
          "Action-512",
          "Action-513",
          "Action-514",
          "Action-515",
          "Action-516",
          "Action-517",
          "Action-518",
          "Action-519",
          "Action-520",
          "Action-521",
          "Action-522",
          "Action-523",
          "Action-524",
          "Action-525",
          "Action-526",
          "Action-527",
          "Action-528",
          "Action-529",
          "Action-530",
          "Action-531",
          "Action-532",
          "Action-533",
          "Action-534",
          "Action-535",
          "Action-536",
          "Action-537",
          "Action-538",
          "Action-539",
          "Action-540",
          "Action-541",
          "Action-542",
          "Action-543",
          "Action-544",
          "Action-545",
          "Action-546",
          "Action-547",
          "Action-548",
          "Action-549",
          "Action-550",
          "Action-551",
          "Action-552",
          "Action-553",
          "Action-554",
          "Action-555",
          "Action-556",
          "Action-557",
          "Action-558",
          "Action-559",
          "Action-560",
          "Action-561",
          "Action-562",
          "Action-563",
          "Action-564",
          "Action-565",
          "Action-566",
          "Action-567",
          "Action-568",
          "Action-569",
          "Action-570",
          "Action-571",
          "Action-572",
          "Action-573",
          "Action-574",
          "Action-575",
          "Action-576",
          "Action-577",
          "Action-578",
          "Action-579",
          "Action-580",
          "Action-581",
          "Action-582",
          "Action-583",
          "Action-584"
         ],
         "type": "scatterpolar"
        }
       ],
       "layout": {
        "polar": {
         "radialaxis": {
          "range": [
           0,
           1000
          ],
          "visible": true
         }
        },
        "showlegend": false,
        "template": {
         "data": {
          "bar": [
           {
            "error_x": {
             "color": "#2a3f5f"
            },
            "error_y": {
             "color": "#2a3f5f"
            },
            "marker": {
             "line": {
              "color": "#E5ECF6",
              "width": 0.5
             },
             "pattern": {
              "fillmode": "overlay",
              "size": 10,
              "solidity": 0.2
             }
            },
            "type": "bar"
           }
          ],
          "barpolar": [
           {
            "marker": {
             "line": {
              "color": "#E5ECF6",
              "width": 0.5
             },
             "pattern": {
              "fillmode": "overlay",
              "size": 10,
              "solidity": 0.2
             }
            },
            "type": "barpolar"
           }
          ],
          "carpet": [
           {
            "aaxis": {
             "endlinecolor": "#2a3f5f",
             "gridcolor": "white",
             "linecolor": "white",
             "minorgridcolor": "white",
             "startlinecolor": "#2a3f5f"
            },
            "baxis": {
             "endlinecolor": "#2a3f5f",
             "gridcolor": "white",
             "linecolor": "white",
             "minorgridcolor": "white",
             "startlinecolor": "#2a3f5f"
            },
            "type": "carpet"
           }
          ],
          "choropleth": [
           {
            "colorbar": {
             "outlinewidth": 0,
             "ticks": ""
            },
            "type": "choropleth"
           }
          ],
          "contour": [
           {
            "colorbar": {
             "outlinewidth": 0,
             "ticks": ""
            },
            "colorscale": [
             [
              0,
              "#0d0887"
             ],
             [
              0.1111111111111111,
              "#46039f"
             ],
             [
              0.2222222222222222,
              "#7201a8"
             ],
             [
              0.3333333333333333,
              "#9c179e"
             ],
             [
              0.4444444444444444,
              "#bd3786"
             ],
             [
              0.5555555555555556,
              "#d8576b"
             ],
             [
              0.6666666666666666,
              "#ed7953"
             ],
             [
              0.7777777777777778,
              "#fb9f3a"
             ],
             [
              0.8888888888888888,
              "#fdca26"
             ],
             [
              1,
              "#f0f921"
             ]
            ],
            "type": "contour"
           }
          ],
          "contourcarpet": [
           {
            "colorbar": {
             "outlinewidth": 0,
             "ticks": ""
            },
            "type": "contourcarpet"
           }
          ],
          "heatmap": [
           {
            "colorbar": {
             "outlinewidth": 0,
             "ticks": ""
            },
            "colorscale": [
             [
              0,
              "#0d0887"
             ],
             [
              0.1111111111111111,
              "#46039f"
             ],
             [
              0.2222222222222222,
              "#7201a8"
             ],
             [
              0.3333333333333333,
              "#9c179e"
             ],
             [
              0.4444444444444444,
              "#bd3786"
             ],
             [
              0.5555555555555556,
              "#d8576b"
             ],
             [
              0.6666666666666666,
              "#ed7953"
             ],
             [
              0.7777777777777778,
              "#fb9f3a"
             ],
             [
              0.8888888888888888,
              "#fdca26"
             ],
             [
              1,
              "#f0f921"
             ]
            ],
            "type": "heatmap"
           }
          ],
          "heatmapgl": [
           {
            "colorbar": {
             "outlinewidth": 0,
             "ticks": ""
            },
            "colorscale": [
             [
              0,
              "#0d0887"
             ],
             [
              0.1111111111111111,
              "#46039f"
             ],
             [
              0.2222222222222222,
              "#7201a8"
             ],
             [
              0.3333333333333333,
              "#9c179e"
             ],
             [
              0.4444444444444444,
              "#bd3786"
             ],
             [
              0.5555555555555556,
              "#d8576b"
             ],
             [
              0.6666666666666666,
              "#ed7953"
             ],
             [
              0.7777777777777778,
              "#fb9f3a"
             ],
             [
              0.8888888888888888,
              "#fdca26"
             ],
             [
              1,
              "#f0f921"
             ]
            ],
            "type": "heatmapgl"
           }
          ],
          "histogram": [
           {
            "marker": {
             "pattern": {
              "fillmode": "overlay",
              "size": 10,
              "solidity": 0.2
             }
            },
            "type": "histogram"
           }
          ],
          "histogram2d": [
           {
            "colorbar": {
             "outlinewidth": 0,
             "ticks": ""
            },
            "colorscale": [
             [
              0,
              "#0d0887"
             ],
             [
              0.1111111111111111,
              "#46039f"
             ],
             [
              0.2222222222222222,
              "#7201a8"
             ],
             [
              0.3333333333333333,
              "#9c179e"
             ],
             [
              0.4444444444444444,
              "#bd3786"
             ],
             [
              0.5555555555555556,
              "#d8576b"
             ],
             [
              0.6666666666666666,
              "#ed7953"
             ],
             [
              0.7777777777777778,
              "#fb9f3a"
             ],
             [
              0.8888888888888888,
              "#fdca26"
             ],
             [
              1,
              "#f0f921"
             ]
            ],
            "type": "histogram2d"
           }
          ],
          "histogram2dcontour": [
           {
            "colorbar": {
             "outlinewidth": 0,
             "ticks": ""
            },
            "colorscale": [
             [
              0,
              "#0d0887"
             ],
             [
              0.1111111111111111,
              "#46039f"
             ],
             [
              0.2222222222222222,
              "#7201a8"
             ],
             [
              0.3333333333333333,
              "#9c179e"
             ],
             [
              0.4444444444444444,
              "#bd3786"
             ],
             [
              0.5555555555555556,
              "#d8576b"
             ],
             [
              0.6666666666666666,
              "#ed7953"
             ],
             [
              0.7777777777777778,
              "#fb9f3a"
             ],
             [
              0.8888888888888888,
              "#fdca26"
             ],
             [
              1,
              "#f0f921"
             ]
            ],
            "type": "histogram2dcontour"
           }
          ],
          "mesh3d": [
           {
            "colorbar": {
             "outlinewidth": 0,
             "ticks": ""
            },
            "type": "mesh3d"
           }
          ],
          "parcoords": [
           {
            "line": {
             "colorbar": {
              "outlinewidth": 0,
              "ticks": ""
             }
            },
            "type": "parcoords"
           }
          ],
          "pie": [
           {
            "automargin": true,
            "type": "pie"
           }
          ],
          "scatter": [
           {
            "fillpattern": {
             "fillmode": "overlay",
             "size": 10,
             "solidity": 0.2
            },
            "type": "scatter"
           }
          ],
          "scatter3d": [
           {
            "line": {
             "colorbar": {
              "outlinewidth": 0,
              "ticks": ""
             }
            },
            "marker": {
             "colorbar": {
              "outlinewidth": 0,
              "ticks": ""
             }
            },
            "type": "scatter3d"
           }
          ],
          "scattercarpet": [
           {
            "marker": {
             "colorbar": {
              "outlinewidth": 0,
              "ticks": ""
             }
            },
            "type": "scattercarpet"
           }
          ],
          "scattergeo": [
           {
            "marker": {
             "colorbar": {
              "outlinewidth": 0,
              "ticks": ""
             }
            },
            "type": "scattergeo"
           }
          ],
          "scattergl": [
           {
            "marker": {
             "colorbar": {
              "outlinewidth": 0,
              "ticks": ""
             }
            },
            "type": "scattergl"
           }
          ],
          "scattermapbox": [
           {
            "marker": {
             "colorbar": {
              "outlinewidth": 0,
              "ticks": ""
             }
            },
            "type": "scattermapbox"
           }
          ],
          "scatterpolar": [
           {
            "marker": {
             "colorbar": {
              "outlinewidth": 0,
              "ticks": ""
             }
            },
            "type": "scatterpolar"
           }
          ],
          "scatterpolargl": [
           {
            "marker": {
             "colorbar": {
              "outlinewidth": 0,
              "ticks": ""
             }
            },
            "type": "scatterpolargl"
           }
          ],
          "scatterternary": [
           {
            "marker": {
             "colorbar": {
              "outlinewidth": 0,
              "ticks": ""
             }
            },
            "type": "scatterternary"
           }
          ],
          "surface": [
           {
            "colorbar": {
             "outlinewidth": 0,
             "ticks": ""
            },
            "colorscale": [
             [
              0,
              "#0d0887"
             ],
             [
              0.1111111111111111,
              "#46039f"
             ],
             [
              0.2222222222222222,
              "#7201a8"
             ],
             [
              0.3333333333333333,
              "#9c179e"
             ],
             [
              0.4444444444444444,
              "#bd3786"
             ],
             [
              0.5555555555555556,
              "#d8576b"
             ],
             [
              0.6666666666666666,
              "#ed7953"
             ],
             [
              0.7777777777777778,
              "#fb9f3a"
             ],
             [
              0.8888888888888888,
              "#fdca26"
             ],
             [
              1,
              "#f0f921"
             ]
            ],
            "type": "surface"
           }
          ],
          "table": [
           {
            "cells": {
             "fill": {
              "color": "#EBF0F8"
             },
             "line": {
              "color": "white"
             }
            },
            "header": {
             "fill": {
              "color": "#C8D4E3"
             },
             "line": {
              "color": "white"
             }
            },
            "type": "table"
           }
          ]
         },
         "layout": {
          "annotationdefaults": {
           "arrowcolor": "#2a3f5f",
           "arrowhead": 0,
           "arrowwidth": 1
          },
          "autotypenumbers": "strict",
          "coloraxis": {
           "colorbar": {
            "outlinewidth": 0,
            "ticks": ""
           }
          },
          "colorscale": {
           "diverging": [
            [
             0,
             "#8e0152"
            ],
            [
             0.1,
             "#c51b7d"
            ],
            [
             0.2,
             "#de77ae"
            ],
            [
             0.3,
             "#f1b6da"
            ],
            [
             0.4,
             "#fde0ef"
            ],
            [
             0.5,
             "#f7f7f7"
            ],
            [
             0.6,
             "#e6f5d0"
            ],
            [
             0.7,
             "#b8e186"
            ],
            [
             0.8,
             "#7fbc41"
            ],
            [
             0.9,
             "#4d9221"
            ],
            [
             1,
             "#276419"
            ]
           ],
           "sequential": [
            [
             0,
             "#0d0887"
            ],
            [
             0.1111111111111111,
             "#46039f"
            ],
            [
             0.2222222222222222,
             "#7201a8"
            ],
            [
             0.3333333333333333,
             "#9c179e"
            ],
            [
             0.4444444444444444,
             "#bd3786"
            ],
            [
             0.5555555555555556,
             "#d8576b"
            ],
            [
             0.6666666666666666,
             "#ed7953"
            ],
            [
             0.7777777777777778,
             "#fb9f3a"
            ],
            [
             0.8888888888888888,
             "#fdca26"
            ],
            [
             1,
             "#f0f921"
            ]
           ],
           "sequentialminus": [
            [
             0,
             "#0d0887"
            ],
            [
             0.1111111111111111,
             "#46039f"
            ],
            [
             0.2222222222222222,
             "#7201a8"
            ],
            [
             0.3333333333333333,
             "#9c179e"
            ],
            [
             0.4444444444444444,
             "#bd3786"
            ],
            [
             0.5555555555555556,
             "#d8576b"
            ],
            [
             0.6666666666666666,
             "#ed7953"
            ],
            [
             0.7777777777777778,
             "#fb9f3a"
            ],
            [
             0.8888888888888888,
             "#fdca26"
            ],
            [
             1,
             "#f0f921"
            ]
           ]
          },
          "colorway": [
           "#636efa",
           "#EF553B",
           "#00cc96",
           "#ab63fa",
           "#FFA15A",
           "#19d3f3",
           "#FF6692",
           "#B6E880",
           "#FF97FF",
           "#FECB52"
          ],
          "font": {
           "color": "#2a3f5f"
          },
          "geo": {
           "bgcolor": "white",
           "lakecolor": "white",
           "landcolor": "#E5ECF6",
           "showlakes": true,
           "showland": true,
           "subunitcolor": "white"
          },
          "hoverlabel": {
           "align": "left"
          },
          "hovermode": "closest",
          "mapbox": {
           "style": "light"
          },
          "paper_bgcolor": "white",
          "plot_bgcolor": "#E5ECF6",
          "polar": {
           "angularaxis": {
            "gridcolor": "white",
            "linecolor": "white",
            "ticks": ""
           },
           "bgcolor": "#E5ECF6",
           "radialaxis": {
            "gridcolor": "white",
            "linecolor": "white",
            "ticks": ""
           }
          },
          "scene": {
           "xaxis": {
            "backgroundcolor": "#E5ECF6",
            "gridcolor": "white",
            "gridwidth": 2,
            "linecolor": "white",
            "showbackground": true,
            "ticks": "",
            "zerolinecolor": "white"
           },
           "yaxis": {
            "backgroundcolor": "#E5ECF6",
            "gridcolor": "white",
            "gridwidth": 2,
            "linecolor": "white",
            "showbackground": true,
            "ticks": "",
            "zerolinecolor": "white"
           },
           "zaxis": {
            "backgroundcolor": "#E5ECF6",
            "gridcolor": "white",
            "gridwidth": 2,
            "linecolor": "white",
            "showbackground": true,
            "ticks": "",
            "zerolinecolor": "white"
           }
          },
          "shapedefaults": {
           "line": {
            "color": "#2a3f5f"
           }
          },
          "ternary": {
           "aaxis": {
            "gridcolor": "white",
            "linecolor": "white",
            "ticks": ""
           },
           "baxis": {
            "gridcolor": "white",
            "linecolor": "white",
            "ticks": ""
           },
           "bgcolor": "#E5ECF6",
           "caxis": {
            "gridcolor": "white",
            "linecolor": "white",
            "ticks": ""
           }
          },
          "title": {
           "x": 0.05
          },
          "xaxis": {
           "automargin": true,
           "gridcolor": "white",
           "linecolor": "white",
           "ticks": "",
           "title": {
            "standoff": 15
           },
           "zerolinecolor": "white",
           "zerolinewidth": 2
          },
          "yaxis": {
           "automargin": true,
           "gridcolor": "white",
           "linecolor": "white",
           "ticks": "",
           "title": {
            "standoff": 15
           },
           "zerolinecolor": "white",
           "zerolinewidth": 2
          }
         }
        }
       }
      },
      "text/html": [
       "<div>                            <div id=\"ffac5a6a-17c9-4508-9ff8-498bdb744ae6\" class=\"plotly-graph-div\" style=\"height:525px; width:100%;\"></div>            <script type=\"text/javascript\">                require([\"plotly\"], function(Plotly) {                    window.PLOTLYENV=window.PLOTLYENV || {};                                    if (document.getElementById(\"ffac5a6a-17c9-4508-9ff8-498bdb744ae6\")) {                    Plotly.newPlot(                        \"ffac5a6a-17c9-4508-9ff8-498bdb744ae6\",                        [{\"fill\":\"toself\",\"name\":\"Group A\",\"r\":[3360,56,1175,1431,401,77,109,220,9,385,454,185,2147,25,29,49,33,5,6,4,5,0,0,2,1,503,163,36,384,13,25,22,1,154,653,74,448,8,20,45,8,67,65,95,139,3,3,13,0,13,16,2,21,24,0,0,0,18,17,5,35,0,31,2,4,21,33,0,70,1,1,80,9,385,454,185,2147,25,29,49,0,0,0,0,0,0,0,0,0,0,0,0,0,0,0,0,0,0,0,0,0,0,0,0,0,0,0,0,0,0,0,0,0,0,0,0,0,0,0,0,0,0,0,0,0,0,0,0,0,0,0,0,0,0,0,0,0,0,0,0,0,0,0,0,33,5,6,4,5,0,0,2,0,0,0,0,0,0,0,0,0,0,0,0,0,0,0,0,0,0,0,0,0,0,0,0,0,0,0,0,0,0,0,0,0,0,0,0,0,0,0,0,0,0,0,0,0,0,0,0,0,0,0,0,0,0,0,0,0,0,0,0,0,0,0,0,1,503,163,36,384,13,25,22,0,0,0,0,0,0,0,0,0,0,0,0,0,0,0,0,0,0,0,0,0,0,0,0,0,0,0,0,0,0,0,0,0,0,0,0,0,0,0,0,0,0,0,0,0,0,0,0,0,0,0,0,0,0,0,0,0,0,0,0,0,0,0,0,1,154,653,74,448,8,20,45,0,0,0,0,0,0,0,0,0,0,0,0,0,0,0,0,0,0,0,0,0,0,0,0,0,0,0,0,0,0,0,0,0,0,0,0,0,0,0,0,0,0,0,0,0,0,0,0,0,0,0,0,0,0,0,0,0,0,0,0,0,0,0,0,8,67,65,95,139,3,3,13,0,0,0,0,0,0,0,0,0,0,0,0,0,0,0,0,0,0,0,0,0,0,0,0,0,0,0,0,0,0,0,0,0,0,0,0,0,0,0,0,0,0,0,0,0,0,0,0,0,0,0,0,0,0,0,0,0,0,0,0,0,0,0,0,0,13,16,2,21,24,0,0,0,0,0,0,0,0,0,0,0,0,0,0,0,0,0,0,0,0,0,0,0,0,0,0,0,0,0,0,0,0,0,0,0,0,0,0,0,0,0,0,0,0,0,0,0,0,0,0,0,0,0,0,0,0,0,0,0,0,0,0,0,0,0,0,0,18,17,5,35,0,31,2,0,0,0,0,0,0,0,0,0,0,0,0,0,0,0,0,0,0,0,0,0,0,0,0,0,0,0,0,0,0,0,0,0,0,0,0,0,0,0,0,0,0,0,0,0,0,0,0,0,0,0,0,0,0,0,0,0,18,17,5,35,0,31,2,0,0,0,0,0,0,0,0],\"theta\":[\"Action-1\",\"Action-2\",\"Action-3\",\"Action-4\",\"Action-5\",\"Action-6\",\"Action-7\",\"Action-8\",\"Action-9\",\"Action-10\",\"Action-11\",\"Action-12\",\"Action-13\",\"Action-14\",\"Action-15\",\"Action-16\",\"Action-17\",\"Action-18\",\"Action-19\",\"Action-20\",\"Action-21\",\"Action-22\",\"Action-23\",\"Action-24\",\"Action-25\",\"Action-26\",\"Action-27\",\"Action-28\",\"Action-29\",\"Action-30\",\"Action-31\",\"Action-32\",\"Action-33\",\"Action-34\",\"Action-35\",\"Action-36\",\"Action-37\",\"Action-38\",\"Action-39\",\"Action-40\",\"Action-41\",\"Action-42\",\"Action-43\",\"Action-44\",\"Action-45\",\"Action-46\",\"Action-47\",\"Action-48\",\"Action-49\",\"Action-50\",\"Action-51\",\"Action-52\",\"Action-53\",\"Action-54\",\"Action-55\",\"Action-56\",\"Action-57\",\"Action-58\",\"Action-59\",\"Action-60\",\"Action-61\",\"Action-62\",\"Action-63\",\"Action-64\",\"Action-65\",\"Action-66\",\"Action-67\",\"Action-68\",\"Action-69\",\"Action-70\",\"Action-71\",\"Action-72\",\"Action-73\",\"Action-74\",\"Action-75\",\"Action-76\",\"Action-77\",\"Action-78\",\"Action-79\",\"Action-80\",\"Action-81\",\"Action-82\",\"Action-83\",\"Action-84\",\"Action-85\",\"Action-86\",\"Action-87\",\"Action-88\",\"Action-89\",\"Action-90\",\"Action-91\",\"Action-92\",\"Action-93\",\"Action-94\",\"Action-95\",\"Action-96\",\"Action-97\",\"Action-98\",\"Action-99\",\"Action-100\",\"Action-101\",\"Action-102\",\"Action-103\",\"Action-104\",\"Action-105\",\"Action-106\",\"Action-107\",\"Action-108\",\"Action-109\",\"Action-110\",\"Action-111\",\"Action-112\",\"Action-113\",\"Action-114\",\"Action-115\",\"Action-116\",\"Action-117\",\"Action-118\",\"Action-119\",\"Action-120\",\"Action-121\",\"Action-122\",\"Action-123\",\"Action-124\",\"Action-125\",\"Action-126\",\"Action-127\",\"Action-128\",\"Action-129\",\"Action-130\",\"Action-131\",\"Action-132\",\"Action-133\",\"Action-134\",\"Action-135\",\"Action-136\",\"Action-137\",\"Action-138\",\"Action-139\",\"Action-140\",\"Action-141\",\"Action-142\",\"Action-143\",\"Action-144\",\"Action-145\",\"Action-146\",\"Action-147\",\"Action-148\",\"Action-149\",\"Action-150\",\"Action-151\",\"Action-152\",\"Action-153\",\"Action-154\",\"Action-155\",\"Action-156\",\"Action-157\",\"Action-158\",\"Action-159\",\"Action-160\",\"Action-161\",\"Action-162\",\"Action-163\",\"Action-164\",\"Action-165\",\"Action-166\",\"Action-167\",\"Action-168\",\"Action-169\",\"Action-170\",\"Action-171\",\"Action-172\",\"Action-173\",\"Action-174\",\"Action-175\",\"Action-176\",\"Action-177\",\"Action-178\",\"Action-179\",\"Action-180\",\"Action-181\",\"Action-182\",\"Action-183\",\"Action-184\",\"Action-185\",\"Action-186\",\"Action-187\",\"Action-188\",\"Action-189\",\"Action-190\",\"Action-191\",\"Action-192\",\"Action-193\",\"Action-194\",\"Action-195\",\"Action-196\",\"Action-197\",\"Action-198\",\"Action-199\",\"Action-200\",\"Action-201\",\"Action-202\",\"Action-203\",\"Action-204\",\"Action-205\",\"Action-206\",\"Action-207\",\"Action-208\",\"Action-209\",\"Action-210\",\"Action-211\",\"Action-212\",\"Action-213\",\"Action-214\",\"Action-215\",\"Action-216\",\"Action-217\",\"Action-218\",\"Action-219\",\"Action-220\",\"Action-221\",\"Action-222\",\"Action-223\",\"Action-224\",\"Action-225\",\"Action-226\",\"Action-227\",\"Action-228\",\"Action-229\",\"Action-230\",\"Action-231\",\"Action-232\",\"Action-233\",\"Action-234\",\"Action-235\",\"Action-236\",\"Action-237\",\"Action-238\",\"Action-239\",\"Action-240\",\"Action-241\",\"Action-242\",\"Action-243\",\"Action-244\",\"Action-245\",\"Action-246\",\"Action-247\",\"Action-248\",\"Action-249\",\"Action-250\",\"Action-251\",\"Action-252\",\"Action-253\",\"Action-254\",\"Action-255\",\"Action-256\",\"Action-257\",\"Action-258\",\"Action-259\",\"Action-260\",\"Action-261\",\"Action-262\",\"Action-263\",\"Action-264\",\"Action-265\",\"Action-266\",\"Action-267\",\"Action-268\",\"Action-269\",\"Action-270\",\"Action-271\",\"Action-272\",\"Action-273\",\"Action-274\",\"Action-275\",\"Action-276\",\"Action-277\",\"Action-278\",\"Action-279\",\"Action-280\",\"Action-281\",\"Action-282\",\"Action-283\",\"Action-284\",\"Action-285\",\"Action-286\",\"Action-287\",\"Action-288\",\"Action-289\",\"Action-290\",\"Action-291\",\"Action-292\",\"Action-293\",\"Action-294\",\"Action-295\",\"Action-296\",\"Action-297\",\"Action-298\",\"Action-299\",\"Action-300\",\"Action-301\",\"Action-302\",\"Action-303\",\"Action-304\",\"Action-305\",\"Action-306\",\"Action-307\",\"Action-308\",\"Action-309\",\"Action-310\",\"Action-311\",\"Action-312\",\"Action-313\",\"Action-314\",\"Action-315\",\"Action-316\",\"Action-317\",\"Action-318\",\"Action-319\",\"Action-320\",\"Action-321\",\"Action-322\",\"Action-323\",\"Action-324\",\"Action-325\",\"Action-326\",\"Action-327\",\"Action-328\",\"Action-329\",\"Action-330\",\"Action-331\",\"Action-332\",\"Action-333\",\"Action-334\",\"Action-335\",\"Action-336\",\"Action-337\",\"Action-338\",\"Action-339\",\"Action-340\",\"Action-341\",\"Action-342\",\"Action-343\",\"Action-344\",\"Action-345\",\"Action-346\",\"Action-347\",\"Action-348\",\"Action-349\",\"Action-350\",\"Action-351\",\"Action-352\",\"Action-353\",\"Action-354\",\"Action-355\",\"Action-356\",\"Action-357\",\"Action-358\",\"Action-359\",\"Action-360\",\"Action-361\",\"Action-362\",\"Action-363\",\"Action-364\",\"Action-365\",\"Action-366\",\"Action-367\",\"Action-368\",\"Action-369\",\"Action-370\",\"Action-371\",\"Action-372\",\"Action-373\",\"Action-374\",\"Action-375\",\"Action-376\",\"Action-377\",\"Action-378\",\"Action-379\",\"Action-380\",\"Action-381\",\"Action-382\",\"Action-383\",\"Action-384\",\"Action-385\",\"Action-386\",\"Action-387\",\"Action-388\",\"Action-389\",\"Action-390\",\"Action-391\",\"Action-392\",\"Action-393\",\"Action-394\",\"Action-395\",\"Action-396\",\"Action-397\",\"Action-398\",\"Action-399\",\"Action-400\",\"Action-401\",\"Action-402\",\"Action-403\",\"Action-404\",\"Action-405\",\"Action-406\",\"Action-407\",\"Action-408\",\"Action-409\",\"Action-410\",\"Action-411\",\"Action-412\",\"Action-413\",\"Action-414\",\"Action-415\",\"Action-416\",\"Action-417\",\"Action-418\",\"Action-419\",\"Action-420\",\"Action-421\",\"Action-422\",\"Action-423\",\"Action-424\",\"Action-425\",\"Action-426\",\"Action-427\",\"Action-428\",\"Action-429\",\"Action-430\",\"Action-431\",\"Action-432\",\"Action-433\",\"Action-434\",\"Action-435\",\"Action-436\",\"Action-437\",\"Action-438\",\"Action-439\",\"Action-440\",\"Action-441\",\"Action-442\",\"Action-443\",\"Action-444\",\"Action-445\",\"Action-446\",\"Action-447\",\"Action-448\",\"Action-449\",\"Action-450\",\"Action-451\",\"Action-452\",\"Action-453\",\"Action-454\",\"Action-455\",\"Action-456\",\"Action-457\",\"Action-458\",\"Action-459\",\"Action-460\",\"Action-461\",\"Action-462\",\"Action-463\",\"Action-464\",\"Action-465\",\"Action-466\",\"Action-467\",\"Action-468\",\"Action-469\",\"Action-470\",\"Action-471\",\"Action-472\",\"Action-473\",\"Action-474\",\"Action-475\",\"Action-476\",\"Action-477\",\"Action-478\",\"Action-479\",\"Action-480\",\"Action-481\",\"Action-482\",\"Action-483\",\"Action-484\",\"Action-485\",\"Action-486\",\"Action-487\",\"Action-488\",\"Action-489\",\"Action-490\",\"Action-491\",\"Action-492\",\"Action-493\",\"Action-494\",\"Action-495\",\"Action-496\",\"Action-497\",\"Action-498\",\"Action-499\",\"Action-500\",\"Action-501\",\"Action-502\",\"Action-503\",\"Action-504\",\"Action-505\",\"Action-506\",\"Action-507\",\"Action-508\",\"Action-509\",\"Action-510\",\"Action-511\",\"Action-512\",\"Action-513\",\"Action-514\",\"Action-515\",\"Action-516\",\"Action-517\",\"Action-518\",\"Action-519\",\"Action-520\",\"Action-521\",\"Action-522\",\"Action-523\",\"Action-524\",\"Action-525\",\"Action-526\",\"Action-527\",\"Action-528\",\"Action-529\",\"Action-530\",\"Action-531\",\"Action-532\",\"Action-533\",\"Action-534\",\"Action-535\",\"Action-536\",\"Action-537\",\"Action-538\",\"Action-539\",\"Action-540\",\"Action-541\",\"Action-542\",\"Action-543\",\"Action-544\",\"Action-545\",\"Action-546\",\"Action-547\",\"Action-548\",\"Action-549\",\"Action-550\",\"Action-551\",\"Action-552\",\"Action-553\",\"Action-554\",\"Action-555\",\"Action-556\",\"Action-557\",\"Action-558\",\"Action-559\",\"Action-560\",\"Action-561\",\"Action-562\",\"Action-563\",\"Action-564\",\"Action-565\",\"Action-566\",\"Action-567\",\"Action-568\",\"Action-569\",\"Action-570\",\"Action-571\",\"Action-572\",\"Action-573\",\"Action-574\",\"Action-575\",\"Action-576\",\"Action-577\",\"Action-578\",\"Action-579\",\"Action-580\",\"Action-581\",\"Action-582\",\"Action-583\",\"Action-584\"],\"type\":\"scatterpolar\"},{\"fill\":\"toself\",\"name\":\"Group B\",\"r\":[3202,43,4847,12005,1025,170,12,3057,3,388,1111,74,1259,8,5,214,17,0,6,0,4,0,0,13,4,2475,1529,204,285,44,1,183,5,1527,8001,437,974,59,6,702,2,204,371,217,72,1,0,150,0,48,46,2,13,39,0,16,0,4,8,0,0,0,0,0,12,174,656,90,276,17,0,1764,3,388,1111,74,1259,8,5,214,0,0,0,0,0,0,0,0,0,0,0,0,0,0,0,0,0,0,0,0,0,0,0,0,0,0,0,0,0,0,0,0,0,0,0,0,0,0,0,0,0,0,0,0,0,0,0,0,0,0,0,0,0,0,0,0,0,0,0,0,0,0,0,0,17,0,6,0,4,0,0,13,0,0,0,0,0,0,0,0,0,0,0,0,0,0,0,0,0,0,0,0,0,0,0,0,0,0,0,0,0,0,0,0,0,0,0,0,0,0,0,0,0,0,0,0,0,0,0,0,0,0,0,0,0,0,0,0,0,0,0,0,0,0,0,0,4,2475,1529,204,285,44,1,183,0,0,0,0,0,0,0,0,0,0,0,0,0,0,0,0,0,0,0,0,0,0,0,0,0,0,0,0,0,0,0,0,0,0,0,0,0,0,0,0,0,0,0,0,0,0,0,0,0,0,0,0,0,0,0,0,0,0,0,0,0,0,0,0,5,1527,8001,437,974,59,6,702,0,0,0,0,0,0,0,0,0,0,0,0,0,0,0,0,0,0,0,0,0,0,0,0,0,0,0,0,0,0,0,0,0,0,0,0,0,0,0,0,0,0,0,0,0,0,0,0,0,0,0,0,0,0,0,0,0,0,0,0,0,0,0,0,2,204,371,217,72,1,0,150,0,0,0,0,0,0,0,0,0,0,0,0,0,0,0,0,0,0,0,0,0,0,0,0,0,0,0,0,0,0,0,0,0,0,0,0,0,0,0,0,0,0,0,0,0,0,0,0,0,0,0,0,0,0,0,0,0,0,0,0,0,0,0,0,0,48,46,2,13,39,0,16,0,0,0,0,0,0,0,0,0,0,0,0,0,0,0,0,0,0,0,0,0,0,0,0,0,0,0,0,0,0,0,0,0,0,0,0,0,0,0,0,0,0,0,0,0,0,0,0,0,0,0,0,0,0,0,0,0,0,0,0,0,0,0,0,0,4,8,0,0,0,0,0,0,0,0,0,0,0,0,0,0,0,0,0,0,0,0,0,0,0,0,0,0,0,0,0,0,0,0,0,0,0,0,0,0,0,0,0,0,0,0,0,0,0,0,0,0,0,0,0,0,0,0,0,0,0,0,0,0,4,8,0,0,0,0,0,0,0,0,0,0,0,0,0],\"theta\":[\"Action-1\",\"Action-2\",\"Action-3\",\"Action-4\",\"Action-5\",\"Action-6\",\"Action-7\",\"Action-8\",\"Action-9\",\"Action-10\",\"Action-11\",\"Action-12\",\"Action-13\",\"Action-14\",\"Action-15\",\"Action-16\",\"Action-17\",\"Action-18\",\"Action-19\",\"Action-20\",\"Action-21\",\"Action-22\",\"Action-23\",\"Action-24\",\"Action-25\",\"Action-26\",\"Action-27\",\"Action-28\",\"Action-29\",\"Action-30\",\"Action-31\",\"Action-32\",\"Action-33\",\"Action-34\",\"Action-35\",\"Action-36\",\"Action-37\",\"Action-38\",\"Action-39\",\"Action-40\",\"Action-41\",\"Action-42\",\"Action-43\",\"Action-44\",\"Action-45\",\"Action-46\",\"Action-47\",\"Action-48\",\"Action-49\",\"Action-50\",\"Action-51\",\"Action-52\",\"Action-53\",\"Action-54\",\"Action-55\",\"Action-56\",\"Action-57\",\"Action-58\",\"Action-59\",\"Action-60\",\"Action-61\",\"Action-62\",\"Action-63\",\"Action-64\",\"Action-65\",\"Action-66\",\"Action-67\",\"Action-68\",\"Action-69\",\"Action-70\",\"Action-71\",\"Action-72\",\"Action-73\",\"Action-74\",\"Action-75\",\"Action-76\",\"Action-77\",\"Action-78\",\"Action-79\",\"Action-80\",\"Action-81\",\"Action-82\",\"Action-83\",\"Action-84\",\"Action-85\",\"Action-86\",\"Action-87\",\"Action-88\",\"Action-89\",\"Action-90\",\"Action-91\",\"Action-92\",\"Action-93\",\"Action-94\",\"Action-95\",\"Action-96\",\"Action-97\",\"Action-98\",\"Action-99\",\"Action-100\",\"Action-101\",\"Action-102\",\"Action-103\",\"Action-104\",\"Action-105\",\"Action-106\",\"Action-107\",\"Action-108\",\"Action-109\",\"Action-110\",\"Action-111\",\"Action-112\",\"Action-113\",\"Action-114\",\"Action-115\",\"Action-116\",\"Action-117\",\"Action-118\",\"Action-119\",\"Action-120\",\"Action-121\",\"Action-122\",\"Action-123\",\"Action-124\",\"Action-125\",\"Action-126\",\"Action-127\",\"Action-128\",\"Action-129\",\"Action-130\",\"Action-131\",\"Action-132\",\"Action-133\",\"Action-134\",\"Action-135\",\"Action-136\",\"Action-137\",\"Action-138\",\"Action-139\",\"Action-140\",\"Action-141\",\"Action-142\",\"Action-143\",\"Action-144\",\"Action-145\",\"Action-146\",\"Action-147\",\"Action-148\",\"Action-149\",\"Action-150\",\"Action-151\",\"Action-152\",\"Action-153\",\"Action-154\",\"Action-155\",\"Action-156\",\"Action-157\",\"Action-158\",\"Action-159\",\"Action-160\",\"Action-161\",\"Action-162\",\"Action-163\",\"Action-164\",\"Action-165\",\"Action-166\",\"Action-167\",\"Action-168\",\"Action-169\",\"Action-170\",\"Action-171\",\"Action-172\",\"Action-173\",\"Action-174\",\"Action-175\",\"Action-176\",\"Action-177\",\"Action-178\",\"Action-179\",\"Action-180\",\"Action-181\",\"Action-182\",\"Action-183\",\"Action-184\",\"Action-185\",\"Action-186\",\"Action-187\",\"Action-188\",\"Action-189\",\"Action-190\",\"Action-191\",\"Action-192\",\"Action-193\",\"Action-194\",\"Action-195\",\"Action-196\",\"Action-197\",\"Action-198\",\"Action-199\",\"Action-200\",\"Action-201\",\"Action-202\",\"Action-203\",\"Action-204\",\"Action-205\",\"Action-206\",\"Action-207\",\"Action-208\",\"Action-209\",\"Action-210\",\"Action-211\",\"Action-212\",\"Action-213\",\"Action-214\",\"Action-215\",\"Action-216\",\"Action-217\",\"Action-218\",\"Action-219\",\"Action-220\",\"Action-221\",\"Action-222\",\"Action-223\",\"Action-224\",\"Action-225\",\"Action-226\",\"Action-227\",\"Action-228\",\"Action-229\",\"Action-230\",\"Action-231\",\"Action-232\",\"Action-233\",\"Action-234\",\"Action-235\",\"Action-236\",\"Action-237\",\"Action-238\",\"Action-239\",\"Action-240\",\"Action-241\",\"Action-242\",\"Action-243\",\"Action-244\",\"Action-245\",\"Action-246\",\"Action-247\",\"Action-248\",\"Action-249\",\"Action-250\",\"Action-251\",\"Action-252\",\"Action-253\",\"Action-254\",\"Action-255\",\"Action-256\",\"Action-257\",\"Action-258\",\"Action-259\",\"Action-260\",\"Action-261\",\"Action-262\",\"Action-263\",\"Action-264\",\"Action-265\",\"Action-266\",\"Action-267\",\"Action-268\",\"Action-269\",\"Action-270\",\"Action-271\",\"Action-272\",\"Action-273\",\"Action-274\",\"Action-275\",\"Action-276\",\"Action-277\",\"Action-278\",\"Action-279\",\"Action-280\",\"Action-281\",\"Action-282\",\"Action-283\",\"Action-284\",\"Action-285\",\"Action-286\",\"Action-287\",\"Action-288\",\"Action-289\",\"Action-290\",\"Action-291\",\"Action-292\",\"Action-293\",\"Action-294\",\"Action-295\",\"Action-296\",\"Action-297\",\"Action-298\",\"Action-299\",\"Action-300\",\"Action-301\",\"Action-302\",\"Action-303\",\"Action-304\",\"Action-305\",\"Action-306\",\"Action-307\",\"Action-308\",\"Action-309\",\"Action-310\",\"Action-311\",\"Action-312\",\"Action-313\",\"Action-314\",\"Action-315\",\"Action-316\",\"Action-317\",\"Action-318\",\"Action-319\",\"Action-320\",\"Action-321\",\"Action-322\",\"Action-323\",\"Action-324\",\"Action-325\",\"Action-326\",\"Action-327\",\"Action-328\",\"Action-329\",\"Action-330\",\"Action-331\",\"Action-332\",\"Action-333\",\"Action-334\",\"Action-335\",\"Action-336\",\"Action-337\",\"Action-338\",\"Action-339\",\"Action-340\",\"Action-341\",\"Action-342\",\"Action-343\",\"Action-344\",\"Action-345\",\"Action-346\",\"Action-347\",\"Action-348\",\"Action-349\",\"Action-350\",\"Action-351\",\"Action-352\",\"Action-353\",\"Action-354\",\"Action-355\",\"Action-356\",\"Action-357\",\"Action-358\",\"Action-359\",\"Action-360\",\"Action-361\",\"Action-362\",\"Action-363\",\"Action-364\",\"Action-365\",\"Action-366\",\"Action-367\",\"Action-368\",\"Action-369\",\"Action-370\",\"Action-371\",\"Action-372\",\"Action-373\",\"Action-374\",\"Action-375\",\"Action-376\",\"Action-377\",\"Action-378\",\"Action-379\",\"Action-380\",\"Action-381\",\"Action-382\",\"Action-383\",\"Action-384\",\"Action-385\",\"Action-386\",\"Action-387\",\"Action-388\",\"Action-389\",\"Action-390\",\"Action-391\",\"Action-392\",\"Action-393\",\"Action-394\",\"Action-395\",\"Action-396\",\"Action-397\",\"Action-398\",\"Action-399\",\"Action-400\",\"Action-401\",\"Action-402\",\"Action-403\",\"Action-404\",\"Action-405\",\"Action-406\",\"Action-407\",\"Action-408\",\"Action-409\",\"Action-410\",\"Action-411\",\"Action-412\",\"Action-413\",\"Action-414\",\"Action-415\",\"Action-416\",\"Action-417\",\"Action-418\",\"Action-419\",\"Action-420\",\"Action-421\",\"Action-422\",\"Action-423\",\"Action-424\",\"Action-425\",\"Action-426\",\"Action-427\",\"Action-428\",\"Action-429\",\"Action-430\",\"Action-431\",\"Action-432\",\"Action-433\",\"Action-434\",\"Action-435\",\"Action-436\",\"Action-437\",\"Action-438\",\"Action-439\",\"Action-440\",\"Action-441\",\"Action-442\",\"Action-443\",\"Action-444\",\"Action-445\",\"Action-446\",\"Action-447\",\"Action-448\",\"Action-449\",\"Action-450\",\"Action-451\",\"Action-452\",\"Action-453\",\"Action-454\",\"Action-455\",\"Action-456\",\"Action-457\",\"Action-458\",\"Action-459\",\"Action-460\",\"Action-461\",\"Action-462\",\"Action-463\",\"Action-464\",\"Action-465\",\"Action-466\",\"Action-467\",\"Action-468\",\"Action-469\",\"Action-470\",\"Action-471\",\"Action-472\",\"Action-473\",\"Action-474\",\"Action-475\",\"Action-476\",\"Action-477\",\"Action-478\",\"Action-479\",\"Action-480\",\"Action-481\",\"Action-482\",\"Action-483\",\"Action-484\",\"Action-485\",\"Action-486\",\"Action-487\",\"Action-488\",\"Action-489\",\"Action-490\",\"Action-491\",\"Action-492\",\"Action-493\",\"Action-494\",\"Action-495\",\"Action-496\",\"Action-497\",\"Action-498\",\"Action-499\",\"Action-500\",\"Action-501\",\"Action-502\",\"Action-503\",\"Action-504\",\"Action-505\",\"Action-506\",\"Action-507\",\"Action-508\",\"Action-509\",\"Action-510\",\"Action-511\",\"Action-512\",\"Action-513\",\"Action-514\",\"Action-515\",\"Action-516\",\"Action-517\",\"Action-518\",\"Action-519\",\"Action-520\",\"Action-521\",\"Action-522\",\"Action-523\",\"Action-524\",\"Action-525\",\"Action-526\",\"Action-527\",\"Action-528\",\"Action-529\",\"Action-530\",\"Action-531\",\"Action-532\",\"Action-533\",\"Action-534\",\"Action-535\",\"Action-536\",\"Action-537\",\"Action-538\",\"Action-539\",\"Action-540\",\"Action-541\",\"Action-542\",\"Action-543\",\"Action-544\",\"Action-545\",\"Action-546\",\"Action-547\",\"Action-548\",\"Action-549\",\"Action-550\",\"Action-551\",\"Action-552\",\"Action-553\",\"Action-554\",\"Action-555\",\"Action-556\",\"Action-557\",\"Action-558\",\"Action-559\",\"Action-560\",\"Action-561\",\"Action-562\",\"Action-563\",\"Action-564\",\"Action-565\",\"Action-566\",\"Action-567\",\"Action-568\",\"Action-569\",\"Action-570\",\"Action-571\",\"Action-572\",\"Action-573\",\"Action-574\",\"Action-575\",\"Action-576\",\"Action-577\",\"Action-578\",\"Action-579\",\"Action-580\",\"Action-581\",\"Action-582\",\"Action-583\",\"Action-584\"],\"type\":\"scatterpolar\"}],                        {\"template\":{\"data\":{\"histogram2dcontour\":[{\"type\":\"histogram2dcontour\",\"colorbar\":{\"outlinewidth\":0,\"ticks\":\"\"},\"colorscale\":[[0.0,\"#0d0887\"],[0.1111111111111111,\"#46039f\"],[0.2222222222222222,\"#7201a8\"],[0.3333333333333333,\"#9c179e\"],[0.4444444444444444,\"#bd3786\"],[0.5555555555555556,\"#d8576b\"],[0.6666666666666666,\"#ed7953\"],[0.7777777777777778,\"#fb9f3a\"],[0.8888888888888888,\"#fdca26\"],[1.0,\"#f0f921\"]]}],\"choropleth\":[{\"type\":\"choropleth\",\"colorbar\":{\"outlinewidth\":0,\"ticks\":\"\"}}],\"histogram2d\":[{\"type\":\"histogram2d\",\"colorbar\":{\"outlinewidth\":0,\"ticks\":\"\"},\"colorscale\":[[0.0,\"#0d0887\"],[0.1111111111111111,\"#46039f\"],[0.2222222222222222,\"#7201a8\"],[0.3333333333333333,\"#9c179e\"],[0.4444444444444444,\"#bd3786\"],[0.5555555555555556,\"#d8576b\"],[0.6666666666666666,\"#ed7953\"],[0.7777777777777778,\"#fb9f3a\"],[0.8888888888888888,\"#fdca26\"],[1.0,\"#f0f921\"]]}],\"heatmap\":[{\"type\":\"heatmap\",\"colorbar\":{\"outlinewidth\":0,\"ticks\":\"\"},\"colorscale\":[[0.0,\"#0d0887\"],[0.1111111111111111,\"#46039f\"],[0.2222222222222222,\"#7201a8\"],[0.3333333333333333,\"#9c179e\"],[0.4444444444444444,\"#bd3786\"],[0.5555555555555556,\"#d8576b\"],[0.6666666666666666,\"#ed7953\"],[0.7777777777777778,\"#fb9f3a\"],[0.8888888888888888,\"#fdca26\"],[1.0,\"#f0f921\"]]}],\"heatmapgl\":[{\"type\":\"heatmapgl\",\"colorbar\":{\"outlinewidth\":0,\"ticks\":\"\"},\"colorscale\":[[0.0,\"#0d0887\"],[0.1111111111111111,\"#46039f\"],[0.2222222222222222,\"#7201a8\"],[0.3333333333333333,\"#9c179e\"],[0.4444444444444444,\"#bd3786\"],[0.5555555555555556,\"#d8576b\"],[0.6666666666666666,\"#ed7953\"],[0.7777777777777778,\"#fb9f3a\"],[0.8888888888888888,\"#fdca26\"],[1.0,\"#f0f921\"]]}],\"contourcarpet\":[{\"type\":\"contourcarpet\",\"colorbar\":{\"outlinewidth\":0,\"ticks\":\"\"}}],\"contour\":[{\"type\":\"contour\",\"colorbar\":{\"outlinewidth\":0,\"ticks\":\"\"},\"colorscale\":[[0.0,\"#0d0887\"],[0.1111111111111111,\"#46039f\"],[0.2222222222222222,\"#7201a8\"],[0.3333333333333333,\"#9c179e\"],[0.4444444444444444,\"#bd3786\"],[0.5555555555555556,\"#d8576b\"],[0.6666666666666666,\"#ed7953\"],[0.7777777777777778,\"#fb9f3a\"],[0.8888888888888888,\"#fdca26\"],[1.0,\"#f0f921\"]]}],\"surface\":[{\"type\":\"surface\",\"colorbar\":{\"outlinewidth\":0,\"ticks\":\"\"},\"colorscale\":[[0.0,\"#0d0887\"],[0.1111111111111111,\"#46039f\"],[0.2222222222222222,\"#7201a8\"],[0.3333333333333333,\"#9c179e\"],[0.4444444444444444,\"#bd3786\"],[0.5555555555555556,\"#d8576b\"],[0.6666666666666666,\"#ed7953\"],[0.7777777777777778,\"#fb9f3a\"],[0.8888888888888888,\"#fdca26\"],[1.0,\"#f0f921\"]]}],\"mesh3d\":[{\"type\":\"mesh3d\",\"colorbar\":{\"outlinewidth\":0,\"ticks\":\"\"}}],\"scatter\":[{\"fillpattern\":{\"fillmode\":\"overlay\",\"size\":10,\"solidity\":0.2},\"type\":\"scatter\"}],\"parcoords\":[{\"type\":\"parcoords\",\"line\":{\"colorbar\":{\"outlinewidth\":0,\"ticks\":\"\"}}}],\"scatterpolargl\":[{\"type\":\"scatterpolargl\",\"marker\":{\"colorbar\":{\"outlinewidth\":0,\"ticks\":\"\"}}}],\"bar\":[{\"error_x\":{\"color\":\"#2a3f5f\"},\"error_y\":{\"color\":\"#2a3f5f\"},\"marker\":{\"line\":{\"color\":\"#E5ECF6\",\"width\":0.5},\"pattern\":{\"fillmode\":\"overlay\",\"size\":10,\"solidity\":0.2}},\"type\":\"bar\"}],\"scattergeo\":[{\"type\":\"scattergeo\",\"marker\":{\"colorbar\":{\"outlinewidth\":0,\"ticks\":\"\"}}}],\"scatterpolar\":[{\"type\":\"scatterpolar\",\"marker\":{\"colorbar\":{\"outlinewidth\":0,\"ticks\":\"\"}}}],\"histogram\":[{\"marker\":{\"pattern\":{\"fillmode\":\"overlay\",\"size\":10,\"solidity\":0.2}},\"type\":\"histogram\"}],\"scattergl\":[{\"type\":\"scattergl\",\"marker\":{\"colorbar\":{\"outlinewidth\":0,\"ticks\":\"\"}}}],\"scatter3d\":[{\"type\":\"scatter3d\",\"line\":{\"colorbar\":{\"outlinewidth\":0,\"ticks\":\"\"}},\"marker\":{\"colorbar\":{\"outlinewidth\":0,\"ticks\":\"\"}}}],\"scattermapbox\":[{\"type\":\"scattermapbox\",\"marker\":{\"colorbar\":{\"outlinewidth\":0,\"ticks\":\"\"}}}],\"scatterternary\":[{\"type\":\"scatterternary\",\"marker\":{\"colorbar\":{\"outlinewidth\":0,\"ticks\":\"\"}}}],\"scattercarpet\":[{\"type\":\"scattercarpet\",\"marker\":{\"colorbar\":{\"outlinewidth\":0,\"ticks\":\"\"}}}],\"carpet\":[{\"aaxis\":{\"endlinecolor\":\"#2a3f5f\",\"gridcolor\":\"white\",\"linecolor\":\"white\",\"minorgridcolor\":\"white\",\"startlinecolor\":\"#2a3f5f\"},\"baxis\":{\"endlinecolor\":\"#2a3f5f\",\"gridcolor\":\"white\",\"linecolor\":\"white\",\"minorgridcolor\":\"white\",\"startlinecolor\":\"#2a3f5f\"},\"type\":\"carpet\"}],\"table\":[{\"cells\":{\"fill\":{\"color\":\"#EBF0F8\"},\"line\":{\"color\":\"white\"}},\"header\":{\"fill\":{\"color\":\"#C8D4E3\"},\"line\":{\"color\":\"white\"}},\"type\":\"table\"}],\"barpolar\":[{\"marker\":{\"line\":{\"color\":\"#E5ECF6\",\"width\":0.5},\"pattern\":{\"fillmode\":\"overlay\",\"size\":10,\"solidity\":0.2}},\"type\":\"barpolar\"}],\"pie\":[{\"automargin\":true,\"type\":\"pie\"}]},\"layout\":{\"autotypenumbers\":\"strict\",\"colorway\":[\"#636efa\",\"#EF553B\",\"#00cc96\",\"#ab63fa\",\"#FFA15A\",\"#19d3f3\",\"#FF6692\",\"#B6E880\",\"#FF97FF\",\"#FECB52\"],\"font\":{\"color\":\"#2a3f5f\"},\"hovermode\":\"closest\",\"hoverlabel\":{\"align\":\"left\"},\"paper_bgcolor\":\"white\",\"plot_bgcolor\":\"#E5ECF6\",\"polar\":{\"bgcolor\":\"#E5ECF6\",\"angularaxis\":{\"gridcolor\":\"white\",\"linecolor\":\"white\",\"ticks\":\"\"},\"radialaxis\":{\"gridcolor\":\"white\",\"linecolor\":\"white\",\"ticks\":\"\"}},\"ternary\":{\"bgcolor\":\"#E5ECF6\",\"aaxis\":{\"gridcolor\":\"white\",\"linecolor\":\"white\",\"ticks\":\"\"},\"baxis\":{\"gridcolor\":\"white\",\"linecolor\":\"white\",\"ticks\":\"\"},\"caxis\":{\"gridcolor\":\"white\",\"linecolor\":\"white\",\"ticks\":\"\"}},\"coloraxis\":{\"colorbar\":{\"outlinewidth\":0,\"ticks\":\"\"}},\"colorscale\":{\"sequential\":[[0.0,\"#0d0887\"],[0.1111111111111111,\"#46039f\"],[0.2222222222222222,\"#7201a8\"],[0.3333333333333333,\"#9c179e\"],[0.4444444444444444,\"#bd3786\"],[0.5555555555555556,\"#d8576b\"],[0.6666666666666666,\"#ed7953\"],[0.7777777777777778,\"#fb9f3a\"],[0.8888888888888888,\"#fdca26\"],[1.0,\"#f0f921\"]],\"sequentialminus\":[[0.0,\"#0d0887\"],[0.1111111111111111,\"#46039f\"],[0.2222222222222222,\"#7201a8\"],[0.3333333333333333,\"#9c179e\"],[0.4444444444444444,\"#bd3786\"],[0.5555555555555556,\"#d8576b\"],[0.6666666666666666,\"#ed7953\"],[0.7777777777777778,\"#fb9f3a\"],[0.8888888888888888,\"#fdca26\"],[1.0,\"#f0f921\"]],\"diverging\":[[0,\"#8e0152\"],[0.1,\"#c51b7d\"],[0.2,\"#de77ae\"],[0.3,\"#f1b6da\"],[0.4,\"#fde0ef\"],[0.5,\"#f7f7f7\"],[0.6,\"#e6f5d0\"],[0.7,\"#b8e186\"],[0.8,\"#7fbc41\"],[0.9,\"#4d9221\"],[1,\"#276419\"]]},\"xaxis\":{\"gridcolor\":\"white\",\"linecolor\":\"white\",\"ticks\":\"\",\"title\":{\"standoff\":15},\"zerolinecolor\":\"white\",\"automargin\":true,\"zerolinewidth\":2},\"yaxis\":{\"gridcolor\":\"white\",\"linecolor\":\"white\",\"ticks\":\"\",\"title\":{\"standoff\":15},\"zerolinecolor\":\"white\",\"automargin\":true,\"zerolinewidth\":2},\"scene\":{\"xaxis\":{\"backgroundcolor\":\"#E5ECF6\",\"gridcolor\":\"white\",\"linecolor\":\"white\",\"showbackground\":true,\"ticks\":\"\",\"zerolinecolor\":\"white\",\"gridwidth\":2},\"yaxis\":{\"backgroundcolor\":\"#E5ECF6\",\"gridcolor\":\"white\",\"linecolor\":\"white\",\"showbackground\":true,\"ticks\":\"\",\"zerolinecolor\":\"white\",\"gridwidth\":2},\"zaxis\":{\"backgroundcolor\":\"#E5ECF6\",\"gridcolor\":\"white\",\"linecolor\":\"white\",\"showbackground\":true,\"ticks\":\"\",\"zerolinecolor\":\"white\",\"gridwidth\":2}},\"shapedefaults\":{\"line\":{\"color\":\"#2a3f5f\"}},\"annotationdefaults\":{\"arrowcolor\":\"#2a3f5f\",\"arrowhead\":0,\"arrowwidth\":1},\"geo\":{\"bgcolor\":\"white\",\"landcolor\":\"#E5ECF6\",\"subunitcolor\":\"white\",\"showland\":true,\"showlakes\":true,\"lakecolor\":\"white\"},\"title\":{\"x\":0.05},\"mapbox\":{\"style\":\"light\"}}},\"polar\":{\"radialaxis\":{\"visible\":true,\"range\":[0,1000]}},\"showlegend\":false},                        {\"responsive\": true}                    ).then(function(){\n",
       "                            \n",
       "var gd = document.getElementById('ffac5a6a-17c9-4508-9ff8-498bdb744ae6');\n",
       "var x = new MutationObserver(function (mutations, observer) {{\n",
       "        var display = window.getComputedStyle(gd).display;\n",
       "        if (!display || display === 'none') {{\n",
       "            console.log([gd, 'removed!']);\n",
       "            Plotly.purge(gd);\n",
       "            observer.disconnect();\n",
       "        }}\n",
       "}});\n",
       "\n",
       "// Listen for the removal of the full notebook cells\n",
       "var notebookContainer = gd.closest('#notebook-container');\n",
       "if (notebookContainer) {{\n",
       "    x.observe(notebookContainer, {childList: true});\n",
       "}}\n",
       "\n",
       "// Listen for the clearing of the current output cell\n",
       "var outputEl = gd.closest('.output');\n",
       "if (outputEl) {{\n",
       "    x.observe(outputEl, {childList: true});\n",
       "}}\n",
       "\n",
       "                        })                };                });            </script>        </div>"
      ]
     },
     "metadata": {},
     "output_type": "display_data"
    }
   ],
   "source": [
    "import plotly.graph_objects as go\n",
    "\n",
    "# categories = ['processing cost','mechanical properties','chemical stability',\n",
    "#               'thermal stability', 'device integration']\n",
    "categories = action_number\n",
    "\n",
    "fig = go.Figure()\n",
    "\n",
    "fig.add_trace(go.Scatterpolar(\n",
    "      r=action_listG[0],\n",
    "      theta=categories,\n",
    "      fill='toself',\n",
    "      name='Group A'\n",
    "))\n",
    "fig.add_trace(go.Scatterpolar(\n",
    "      r=action_listG[1],\n",
    "      theta=categories,\n",
    "      fill='toself',\n",
    "      name='Group B'\n",
    "))\n",
    "\n",
    "fig.update_layout(\n",
    "  polar=dict(\n",
    "    radialaxis=dict(\n",
    "      visible=True,\n",
    "      range=[0, 1000]\n",
    "    )),\n",
    "  showlegend=False\n",
    ")\n",
    "\n",
    "fig.show()"
   ]
  },
  {
   "cell_type": "code",
   "execution_count": null,
   "id": "b0ba2aa6",
   "metadata": {},
   "outputs": [],
   "source": []
  },
  {
   "cell_type": "code",
   "execution_count": null,
   "id": "3874c529",
   "metadata": {},
   "outputs": [],
   "source": []
  },
  {
   "cell_type": "code",
   "execution_count": null,
   "id": "8b92618f",
   "metadata": {},
   "outputs": [],
   "source": []
  },
  {
   "cell_type": "code",
   "execution_count": null,
   "id": "083ea2b2",
   "metadata": {},
   "outputs": [],
   "source": []
  }
 ],
 "metadata": {
  "kernelspec": {
   "display_name": "tfNetV2py37",
   "language": "python",
   "name": "tfnetv2py37"
  },
  "language_info": {
   "codemirror_mode": {
    "name": "ipython",
    "version": 3
   },
   "file_extension": ".py",
   "mimetype": "text/x-python",
   "name": "python",
   "nbconvert_exporter": "python",
   "pygments_lexer": "ipython3",
   "version": "3.7.15"
  }
 },
 "nbformat": 4,
 "nbformat_minor": 5
}
